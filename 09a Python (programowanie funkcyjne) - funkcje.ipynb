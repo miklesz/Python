{
 "cells": [
  {
   "cell_type": "markdown",
   "metadata": {
    "slideshow": {
     "slide_type": "slide"
    }
   },
   "source": [
    "# Python (programowanie funkcyjne) - funkcje\n",
    "_Mikołaj Leszczuk_\n",
    "<!--![](https://memegenerator.net/img/instances/68550956.jpg)-->\n",
    "![](https://i.creativecommons.org/l/by/4.0/88x31.png)"
   ]
  },
  {
   "cell_type": "markdown",
   "metadata": {
    "slideshow": {
     "slide_type": "slide"
    }
   },
   "source": [
    "## Konspekt"
   ]
  },
  {
   "cell_type": "markdown",
   "metadata": {
    "slideshow": {
     "slide_type": "fragment"
    }
   },
   "source": [
    "* **Programowanie funkcyjne** jest paradygmatem programowania, gdzie pierwsze skrzypce należą do funkcji\n",
    "* W tym module poznamy podstawy programowania w tej technice w języku Python"
   ]
  },
  {
   "cell_type": "markdown",
   "metadata": {
    "slideshow": {
     "slide_type": "slide"
    }
   },
   "source": [
    "## Programowanie funkcyjne"
   ]
  },
  {
   "cell_type": "markdown",
   "metadata": {
    "slideshow": {
     "slide_type": "fragment"
    }
   },
   "source": [
    "* Filozofia i metodyka programowania będąca odmianą programowania deklaratywnego, w której:\n",
    "  * Funkcje należą do wartości podstawowych, a \n",
    "  * Nacisk kładzie się:\n",
    "    * Na wartościowanie (często rekurencyjnych) funkcji, a \n",
    "    * Nie na wykonywanie poleceń\n",
    "* W czystym programowaniu funkcyjnym, raz zdefiniowana funkcja zwraca zawsze tę samą wartość dla danych wartości argumentów, tak jak funkcje matematyczne\n",
    "* Duży nacisk kładzie się także na niezmienność danych"
   ]
  },
  {
   "cell_type": "markdown",
   "metadata": {
    "slideshow": {
     "slide_type": "slide"
    }
   },
   "source": [
    "## Historia"
   ]
  },
  {
   "cell_type": "markdown",
   "metadata": {
    "slideshow": {
     "slide_type": "fragment"
    }
   },
   "source": [
    "* Podstawą teoretyczną programowania funkcyjnego jest opracowany w latach 30. XX wieku przez **Alonzo Churcha rachunek lambda**, a dokładnie rachunek lambda z typami\n",
    "* Nazwa paradygmatu, po raz pierwszy pojawiła się w pracy **Johna Backusa** „Can Programming Be Liberated From the von Neumann Style? A Functional Style and Its Algebra of Programs” w roku 1977, dzięki której Backus dostał **nagrodę Turinga**, mimo że programowanie funkcyjne było znane już wcześniej"
   ]
  },
  {
   "cell_type": "markdown",
   "metadata": {
    "slideshow": {
     "slide_type": "subslide"
    }
   },
   "source": [
    "* Pierwszym funkcyjnym językiem programowania był **Information Processing Language** (IPL) opracowany w połowie lat 50. XX wieku dla maszyny JOHNNIAC przez:\n",
    "  * Allena Newella,\n",
    "  * Cliffa Shawa, i\n",
    "  * Herberta Simona\n",
    "* Jednakże przełom dla programowania funkcyjnego stanowiło opracowanie przez Johna McCarthy pod koniec lat 50. języka **LISP** dla maszyn IBM 700/7000\n",
    "* **LISP** wprowadził wiele cech spotykanych we współczesnych językach programowania\n",
    "* Opracowany w latach 70. język **Scheme** miał za zadanie uproszczenie i poprawienie języka LISP"
   ]
  },
  {
   "cell_type": "markdown",
   "metadata": {
    "slideshow": {
     "slide_type": "subslide"
    }
   },
   "source": [
    "* W latach 70. powstały dwa kolejne funkcyjne języki programowania: \n",
    "  * Język **ML** opracowany przez Robina Milnera na Uniwersytecie w Edynburgu, oraz \n",
    "  * Język **Miranda** opracowany przez Davida Turnera na Uniwersytecie w Kent\n",
    "* Język ML dał początek kilku dialektom, z których najpopularniejsze obecnie to:\n",
    "  * **Objective Caml**, oraz\n",
    "  * **Standard ML**\n",
    "* Pod koniec lat 80. został opracowany i ustandaryzowany język programowania **Haskell**, wywodzący się z języka Miranda\n",
    "* Jednym z najnowszych języków funkcyjnych jest rozwijany przez firmę **Microsoft** język **F#**\n",
    "* Jest to przeniesienie języka **Objective Caml** na platformę **.NET**"
   ]
  },
  {
   "cell_type": "markdown",
   "metadata": {
    "slideshow": {
     "slide_type": "slide"
    }
   },
   "source": [
    "## Podział języków funkcyjnych"
   ]
  },
  {
   "cell_type": "markdown",
   "metadata": {
    "slideshow": {
     "slide_type": "fragment"
    }
   },
   "source": [
    "* Języki funkcyjne można podzielić na dwie grupy:\n",
    "  * Języki czysto funkcyjne\n",
    "  * Języki mieszane"
   ]
  },
  {
   "cell_type": "markdown",
   "metadata": {
    "slideshow": {
     "slide_type": "slide"
    }
   },
   "source": [
    "## Języki czysto funkcyjne"
   ]
  },
  {
   "cell_type": "markdown",
   "metadata": {
    "slideshow": {
     "slide_type": "fragment"
    }
   },
   "source": [
    "* Do tej grupy należą języki, w których nie występują zmienne ani **efekty uboczne**\n",
    "* Wejście/wyjście w takich językach musi się odbywać jakimś alternatywnym mechanizmem, np. za pomocą **monad**\n",
    "* Przedstawiciele tej podgrupy to **Haskell** oraz **Clean**"
   ]
  },
  {
   "cell_type": "markdown",
   "metadata": {
    "slideshow": {
     "slide_type": "slide"
    }
   },
   "source": [
    "## Języki mieszane"
   ]
  },
  {
   "cell_type": "markdown",
   "metadata": {
    "slideshow": {
     "slide_type": "fragment"
    }
   },
   "source": [
    "* Języki tej grupy są popularniejsze niż języki czysto funkcyjne, gdyż:\n",
    "  * Umożliwiają one stosowanie zmiennych\n",
    "  * Pozwalają na:\n",
    "    * Efekty uboczne,\n",
    "    * Tradycyjne wejście/wyjście, i\n",
    "    * Mieszanie stylu funkcyjnego z:\n",
    "      * **Imperatywnym**, bądź\n",
    "      * **Obiektowym**\n",
    "* Wartościowanie w nich jest przeważnie **zachłanne**"
   ]
  },
  {
   "cell_type": "markdown",
   "metadata": {
    "slideshow": {
     "slide_type": "subslide"
    }
   },
   "source": [
    "* Do grupy tej należą:\n",
    "  * **Lisp** z wszystkimi pochodnymi (np. **Clojure**, **Scheme**), **Erlang**, **Scala**\n",
    "  * Języki grupy **ML** (**Standard ML**, **OCaml**, więc i oparty na nim **F#**)\n",
    "  * Język **Nemerle** (tworzony przez polskich studentów)\n",
    "* Ponadto elementy programowania funkcyjnego występują również w językach takich jak **Java** (od wersji 8), **Python**, **Ruby**\n",
    "* A nawet do pewnego stopnia **Perl**, **JavaScript**, **D**"
   ]
  },
  {
   "cell_type": "code",
   "execution_count": null,
   "metadata": {
    "slideshow": {
     "slide_type": "skip"
    }
   },
   "outputs": [],
   "source": []
  }
 ],
 "metadata": {
  "celltoolbar": "Slideshow",
  "kernelspec": {
   "display_name": "Python 3 (ipykernel)",
   "language": "python",
   "name": "python3"
  },
  "language_info": {
   "codemirror_mode": {
    "name": "ipython",
    "version": 3
   },
   "file_extension": ".py",
   "mimetype": "text/x-python",
   "name": "python",
   "nbconvert_exporter": "python",
   "pygments_lexer": "ipython3",
   "version": "3.11.5"
  }
 },
 "nbformat": 4,
 "nbformat_minor": 4
}
