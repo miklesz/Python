{
 "cells": [
  {
   "cell_type": "markdown",
   "metadata": {
    "slideshow": {
     "slide_type": "slide"
    }
   },
   "source": [
    "# Python (OOP) - modelowanie (powtórka)\n",
    "_Mikołaj Leszczuk_\n",
    "![](https://y.yarn.co/b6d7d748-9254-4a93-8467-02e13eebcc7d_text.gif)\n",
    "![](https://i.creativecommons.org/l/by/4.0/88x31.png)"
   ]
  },
  {
   "cell_type": "markdown",
   "metadata": {
    "slideshow": {
     "slide_type": "slide"
    }
   },
   "source": [
    "## Psy"
   ]
  },
  {
   "cell_type": "markdown",
   "metadata": {
    "slideshow": {
     "slide_type": "slide"
    }
   },
   "source": [
    "### Zdefiniuj klasę w Pythonie"
   ]
  },
  {
   "cell_type": "markdown",
   "metadata": {
    "slideshow": {
     "slide_type": "fragment"
    }
   },
   "source": [
    "Utwórz przykładową klasę `Dog`, która w przyszłości będzie zawierała informacje o cechach i zachowaniach, jakie może mieć pojedynczy pies."
   ]
  },
  {
   "cell_type": "markdown",
   "metadata": {},
   "source": [
    "---"
   ]
  },
  {
   "cell_type": "code",
   "execution_count": 1,
   "metadata": {
    "slideshow": {
     "slide_type": "fragment"
    }
   },
   "outputs": [],
   "source": [
    "class Dog:\n",
    "    pass"
   ]
  },
  {
   "cell_type": "markdown",
   "metadata": {
    "slideshow": {
     "slide_type": "subslide"
    }
   },
   "source": [
    "Zaktualizujmy klasę `Dog` metodą `.__init__()`, która tworzy atrybuty `.name` i `.age`:"
   ]
  },
  {
   "cell_type": "markdown",
   "metadata": {
    "slideshow": {
     "slide_type": "-"
    }
   },
   "source": [
    "---"
   ]
  },
  {
   "cell_type": "code",
   "execution_count": 2,
   "metadata": {
    "slideshow": {
     "slide_type": "fragment"
    }
   },
   "outputs": [],
   "source": [
    "class Dog:\n",
    "    def __init__(self, name, age):\n",
    "        self.name = name\n",
    "        self.age = age"
   ]
  },
  {
   "cell_type": "markdown",
   "metadata": {
    "slideshow": {
     "slide_type": "subslide"
    }
   },
   "source": [
    "Niech nasza klasa `Dog` ma atrybut klasy o nazwie gatunku (nazwany `species`) z wartością \"Pies domowy\" (`\"Canis familiaris\"`):"
   ]
  },
  {
   "cell_type": "markdown",
   "metadata": {},
   "source": [
    "---"
   ]
  },
  {
   "cell_type": "code",
   "execution_count": 3,
   "metadata": {
    "slideshow": {
     "slide_type": "fragment"
    }
   },
   "outputs": [],
   "source": [
    "class Dog:\n",
    "    # Atrybut klasy\n",
    "    species = \"Canis familiaris\"\n",
    "\n",
    "    def __init__(self, name, age):\n",
    "        self.name = name\n",
    "        self.age = age"
   ]
  },
  {
   "cell_type": "markdown",
   "metadata": {
    "slideshow": {
     "slide_type": "fragment"
    }
   },
   "source": [
    "Teraz, gdy mamy klasę `Dog`, stwórzmy kilka psów!"
   ]
  },
  {
   "cell_type": "markdown",
   "metadata": {
    "slideshow": {
     "slide_type": "slide"
    }
   },
   "source": [
    "### Utwórz wystąpienie obiektu w Pythonie"
   ]
  },
  {
   "cell_type": "markdown",
   "metadata": {
    "slideshow": {
     "slide_type": "fragment"
    }
   },
   "source": [
    "Utwórz nową klasę Dog ponownie bez atrybutów ani metod.\n",
    "\n",
    "Wydrukuj instancję nowego obiektu `Dog`, wpisując nazwę klasy, a następnie otwierając i zamykając nawiasy.\n",
    "\n",
    "A następnie wydrukuj instancję drugiego obiektu `Dog`."
   ]
  },
  {
   "cell_type": "markdown",
   "metadata": {},
   "source": [
    "---"
   ]
  },
  {
   "cell_type": "code",
   "execution_count": 4,
   "metadata": {
    "slideshow": {
     "slide_type": "fragment"
    }
   },
   "outputs": [
    {
     "name": "stdout",
     "output_type": "stream",
     "text": [
      "<__main__.Dog object at 0x1201e03d0>\n",
      "<__main__.Dog object at 0x1201e1690>\n"
     ]
    }
   ],
   "source": [
    "class Dog:\n",
    "    pass\n",
    "\n",
    "\n",
    "print(Dog())\n",
    "print(Dog())"
   ]
  },
  {
   "cell_type": "markdown",
   "metadata": {
    "slideshow": {
     "slide_type": "subslide"
    }
   },
   "source": [
    "Dwie instancje `Dog` znajdują się pod innym adresem pamięci. Aby zobaczyć to w inny sposób, utwórz dwa nowe obiekty `Dog` i przypisz je do zmiennych `a` i `b`. Następnie porównaj `a` i `b` za pomocą operatora `==`."
   ]
  },
  {
   "cell_type": "markdown",
   "metadata": {},
   "source": [
    "---"
   ]
  },
  {
   "cell_type": "code",
   "execution_count": 5,
   "metadata": {
    "slideshow": {
     "slide_type": "fragment"
    }
   },
   "outputs": [
    {
     "name": "stdout",
     "output_type": "stream",
     "text": [
      "False\n"
     ]
    }
   ],
   "source": [
    "a = Dog()\n",
    "b = Dog()\n",
    "print(a == b)"
   ]
  },
  {
   "cell_type": "markdown",
   "metadata": {
    "slideshow": {
     "slide_type": "slide"
    }
   },
   "source": [
    "#### Atrybuty klas i instancji"
   ]
  },
  {
   "cell_type": "markdown",
   "metadata": {
    "slideshow": {
     "slide_type": "subslide"
    }
   },
   "source": [
    "Teraz odtwórz nową klasę `Dog` z atrybutem klasy o nazwie `.species` i dwoma atrybutami instancji o nazwach `.name` i `.age`.\n",
    "\n",
    "Wydrukuj utworzoną instancję obiektu tej klasy `Dog`."
   ]
  },
  {
   "cell_type": "markdown",
   "metadata": {},
   "source": [
    "---"
   ]
  },
  {
   "cell_type": "code",
   "execution_count": 6,
   "metadata": {
    "slideshow": {
     "slide_type": "fragment"
    }
   },
   "outputs": [
    {
     "ename": "TypeError",
     "evalue": "Dog.__init__() missing 2 required positional arguments: 'name' and 'age'",
     "output_type": "error",
     "traceback": [
      "\u001b[0;31m---------------------------------------------------------------------------\u001b[0m",
      "\u001b[0;31mTypeError\u001b[0m                                 Traceback (most recent call last)",
      "Cell \u001b[0;32mIn[6], line 8\u001b[0m\n\u001b[1;32m      4\u001b[0m         \u001b[38;5;28mself\u001b[39m\u001b[38;5;241m.\u001b[39mname \u001b[38;5;241m=\u001b[39m name\n\u001b[1;32m      5\u001b[0m         \u001b[38;5;28mself\u001b[39m\u001b[38;5;241m.\u001b[39mage \u001b[38;5;241m=\u001b[39m age\n\u001b[0;32m----> 8\u001b[0m \u001b[38;5;28mprint\u001b[39m(\u001b[43mDog\u001b[49m\u001b[43m(\u001b[49m\u001b[43m)\u001b[49m)\n",
      "\u001b[0;31mTypeError\u001b[0m: Dog.__init__() missing 2 required positional arguments: 'name' and 'age'"
     ]
    }
   ],
   "source": [
    "class Dog:\n",
    "    species = \"Canis familiaris\"\n",
    "    def __init__(self, name, age):\n",
    "        self.name = name\n",
    "        self.age = age\n",
    "\n",
    "        \n",
    "print(Dog())"
   ]
  },
  {
   "cell_type": "markdown",
   "metadata": {
    "slideshow": {
     "slide_type": "subslide"
    }
   },
   "source": [
    "Aby utworzyć instancje obiektu tej klasy `Dog`, musisz podać wartości dla `name` i `age`. Jeśli tego nie zrobisz, Python zgłosi błąd `TypeError`."
   ]
  },
  {
   "cell_type": "markdown",
   "metadata": {
    "slideshow": {
     "slide_type": "subslide"
    }
   },
   "source": [
    "Utwórz dwie nowe instancje `Dog` - jedną `burek` dla dziewięcioletniego psa o imieniu Burek i jedną `mentos` dla czteroletniego psa o imieniu Mentos."
   ]
  },
  {
   "cell_type": "markdown",
   "metadata": {},
   "source": [
    "---"
   ]
  },
  {
   "cell_type": "code",
   "execution_count": 7,
   "metadata": {
    "slideshow": {
     "slide_type": "fragment"
    }
   },
   "outputs": [],
   "source": [
    "burek = Dog(\"Burek\", 9)\n",
    "mentos = Dog(\"Mentos\", 4)"
   ]
  },
  {
   "cell_type": "markdown",
   "metadata": {
    "slideshow": {
     "slide_type": "subslide"
    }
   },
   "source": [
    "Po utworzeniu instancji `Dog` wydrukuj ich atrybuty przy użyciu **notacji kropkowej**."
   ]
  },
  {
   "cell_type": "markdown",
   "metadata": {},
   "source": [
    "---"
   ]
  },
  {
   "cell_type": "code",
   "execution_count": 8,
   "metadata": {
    "slideshow": {
     "slide_type": "fragment"
    }
   },
   "outputs": [
    {
     "name": "stdout",
     "output_type": "stream",
     "text": [
      "Burek\n",
      "9\n",
      "Mentos\n",
      "4\n"
     ]
    }
   ],
   "source": [
    "print(burek.name)\n",
    "print(burek.age)\n",
    "print(mentos.name)\n",
    "print(mentos.age)"
   ]
  },
  {
   "cell_type": "markdown",
   "metadata": {
    "slideshow": {
     "slide_type": "subslide"
    }
   },
   "source": [
    "Wydrukuj atrybut klasy Burka w ten sam sposób."
   ]
  },
  {
   "cell_type": "markdown",
   "metadata": {},
   "source": [
    "---"
   ]
  },
  {
   "cell_type": "code",
   "execution_count": 9,
   "metadata": {
    "slideshow": {
     "slide_type": "fragment"
    }
   },
   "outputs": [
    {
     "name": "stdout",
     "output_type": "stream",
     "text": [
      "Canis familiaris\n"
     ]
    }
   ],
   "source": [
    "print(burek.species)"
   ]
  },
  {
   "cell_type": "markdown",
   "metadata": {
    "slideshow": {
     "slide_type": "subslide"
    }
   },
   "source": [
    "Zmień atrybut i wydrukuj `.age` obiektu `burek` na `10`. Następnie zmień i wydrukuj atrybut `.species` obiektu `mentos` na \"Żbik europejski\" (`\"Felis silvestris\"`), czyli gatunek kota. To sprawia, że Mentos jest dość dziwnym psem, ale jest to poprawne w Pythonie!"
   ]
  },
  {
   "cell_type": "markdown",
   "metadata": {},
   "source": [
    "---"
   ]
  },
  {
   "cell_type": "code",
   "execution_count": 10,
   "metadata": {
    "slideshow": {
     "slide_type": "fragment"
    }
   },
   "outputs": [
    {
     "name": "stdout",
     "output_type": "stream",
     "text": [
      "10\n",
      "Felis silvestris\n"
     ]
    }
   ],
   "source": [
    "burek.age = 10\n",
    "print(burek.age)\n",
    "mentos.species = \"Felis silvestris\"\n",
    "print(mentos.species)"
   ]
  },
  {
   "cell_type": "markdown",
   "metadata": {
    "slideshow": {
     "slide_type": "slide"
    }
   },
   "source": [
    "#### Metody instancji"
   ]
  },
  {
   "cell_type": "markdown",
   "metadata": {
    "slideshow": {
     "slide_type": "fragment"
    }
   },
   "source": [
    "Wpisz definicję klasy `Dog`, która ma dwie metody instancji:\n",
    "1. **`.description()`** zwraca łańcuch zawierający imię (`name`) i wiek (`age`) psa.\n",
    "1. **`.speak()`** ma jeden parametr o nazwie dźwięk (`sound`) i zwraca ciąg znaków zawierający imię (`name`) psa oraz dźwięk (`sound`), który wydaje pies."
   ]
  },
  {
   "cell_type": "markdown",
   "metadata": {},
   "source": [
    "---"
   ]
  },
  {
   "cell_type": "code",
   "execution_count": 11,
   "metadata": {
    "slideshow": {
     "slide_type": "subslide"
    }
   },
   "outputs": [],
   "source": [
    "class Dog:\n",
    "    species = \"Canis familiaris\"\n",
    "\n",
    "    def __init__(self, name, age):\n",
    "        self.name = name\n",
    "        self.age = age\n",
    "\n",
    "    # Metoda instancji\n",
    "    def description(self):\n",
    "        return f\"{self.name} ma {self.age} lata\"\n",
    "\n",
    "    # Inna metoda instancji\n",
    "    def speak(self, sound):\n",
    "        return f\"{self.name} mówi {sound}\""
   ]
  },
  {
   "cell_type": "markdown",
   "metadata": {
    "slideshow": {
     "slide_type": "subslide"
    }
   },
   "source": [
    "Wypróbuj swoje metody instancji."
   ]
  },
  {
   "cell_type": "markdown",
   "metadata": {},
   "source": [
    "---"
   ]
  },
  {
   "cell_type": "code",
   "execution_count": 12,
   "metadata": {
    "slideshow": {
     "slide_type": "fragment"
    }
   },
   "outputs": [
    {
     "name": "stdout",
     "output_type": "stream",
     "text": [
      "Mentos ma 4 lata\n",
      "Mentos mówi Hau Hau\n",
      "Mentos mówi Wrrr\n"
     ]
    }
   ],
   "source": [
    "mentos = Dog(\"Mentos\", 4)\n",
    "print(mentos.description())\n",
    "print(mentos.speak(\"Hau Hau\"))\n",
    "print(mentos.speak(\"Wrrr\"))"
   ]
  },
  {
   "cell_type": "markdown",
   "metadata": {
    "slideshow": {
     "slide_type": "fragment"
    }
   },
   "source": [
    "W powyższej klasie `Dog` `.description()` zwraca ciąg znaków zawierający informacje o instancji `Dog` `mentos`. Podczas pisania własnych klas warto mieć metodę zwracającą ciąg znaków zawierający przydatne informacje o instancji klasy. Jednak `.description()` nie jest najbardziej Pythonowym sposobem na zrobienie tego."
   ]
  },
  {
   "cell_type": "markdown",
   "metadata": {
    "slideshow": {
     "slide_type": "subslide"
    }
   },
   "source": [
    "Spróbuj utworzyć obiekt listy, a następnie użyć `print()` do wyświetlenia ciągu."
   ]
  },
  {
   "cell_type": "markdown",
   "metadata": {},
   "source": [
    "---"
   ]
  },
  {
   "cell_type": "code",
   "execution_count": 13,
   "metadata": {
    "slideshow": {
     "slide_type": "fragment"
    }
   },
   "outputs": [
    {
     "name": "stdout",
     "output_type": "stream",
     "text": [
      "<class 'list'>\n",
      "['Franciszek', 'Dawid', 'Daniel']\n"
     ]
    }
   ],
   "source": [
    "names = [\"Franciszek\", \"Dawid\", \"Daniel\"]\n",
    "print(type(names))\n",
    "print(names)"
   ]
  },
  {
   "cell_type": "markdown",
   "metadata": {
    "slideshow": {
     "slide_type": "subslide"
    }
   },
   "source": [
    "Zobacz, co się stanie, gdy wydrukujesz (`print()`) obiekt `mentos`."
   ]
  },
  {
   "cell_type": "markdown",
   "metadata": {},
   "source": [
    "---"
   ]
  },
  {
   "cell_type": "code",
   "execution_count": 14,
   "metadata": {
    "slideshow": {
     "slide_type": "fragment"
    }
   },
   "outputs": [
    {
     "name": "stdout",
     "output_type": "stream",
     "text": [
      "<class '__main__.Dog'>\n",
      "<__main__.Dog object at 0x1201e2ad0>\n"
     ]
    }
   ],
   "source": [
    "print(type(mentos))\n",
    "print(mentos)"
   ]
  },
  {
   "cell_type": "markdown",
   "metadata": {
    "slideshow": {
     "slide_type": "fragment"
    }
   },
   "source": [
    "Kiedy drukujesz Mentosa (`print(mentos)`), otrzymujesz tajemniczo wyglądający komunikat informujący, że `mentos` to obiekt typu `Dog` pod adresem pamięci `0x...`. Ta wiadomość nie jest zbyt pomocna. Możesz zmienić to, co jest drukowane, definiując specjalną metodę instancji o nazwie `.__str__()`."
   ]
  },
  {
   "cell_type": "markdown",
   "metadata": {
    "slideshow": {
     "slide_type": "subslide"
    }
   },
   "source": [
    "Zmień nazwę metody klasy `Dog` `.description()` na `.__str__()`."
   ]
  },
  {
   "cell_type": "markdown",
   "metadata": {},
   "source": [
    "---"
   ]
  },
  {
   "cell_type": "code",
   "execution_count": 15,
   "metadata": {
    "slideshow": {
     "slide_type": "fragment"
    }
   },
   "outputs": [],
   "source": [
    "class Dog:\n",
    "    # Zastąp .description() __str__()\n",
    "    def __str__(self):\n",
    "        return f\"{self.name} ma {self.age} lata\"\n",
    "\n",
    "    # Pozostałe części klasy Dog pozostaw bez zmian\n",
    "    species = \"Canis familiaris\"\n",
    "\n",
    "    def __init__(self, name, age):\n",
    "        self.name = name\n",
    "        self.age = age\n",
    "\n",
    "    # Inna metoda instancji\n",
    "    def speak(self, sound):\n",
    "        return f\"{self.name} mówi {sound}\""
   ]
  },
  {
   "cell_type": "markdown",
   "metadata": {
    "slideshow": {
     "slide_type": "subslide"
    }
   },
   "source": [
    "Teraz wydrukuj Mentosa (`print(mentos)`), uzyskując dużo bardziej przyjazny wynik:"
   ]
  },
  {
   "cell_type": "markdown",
   "metadata": {},
   "source": [
    "---"
   ]
  },
  {
   "cell_type": "code",
   "execution_count": 16,
   "metadata": {
    "slideshow": {
     "slide_type": "fragment"
    }
   },
   "outputs": [
    {
     "name": "stdout",
     "output_type": "stream",
     "text": [
      "Mentos ma 4 lata\n"
     ]
    }
   ],
   "source": [
    "miles = Dog(\"Mentos\", 4)\n",
    "print(miles)"
   ]
  },
  {
   "cell_type": "markdown",
   "metadata": {
    "slideshow": {
     "slide_type": "fragment"
    }
   },
   "source": [
    "Metody takie jak `.__init__()` i `.__str__()` nazywane są **metodami dunder**, ponieważ zaczynają się i kończą podwójnym podkreśleniem."
   ]
  },
  {
   "cell_type": "markdown",
   "metadata": {
    "slideshow": {
     "slide_type": "slide"
    }
   },
   "source": [
    "### Dziedziczenie z innych klas w Pythonie"
   ]
  },
  {
   "cell_type": "markdown",
   "metadata": {
    "slideshow": {
     "slide_type": "slide"
    }
   },
   "source": [
    "#### Przykład wybiegu dla psów"
   ]
  },
  {
   "cell_type": "markdown",
   "metadata": {
    "slideshow": {
     "slide_type": "fragment"
    }
   },
   "source": [
    "Wyobraź sobie przez chwilę, że jesteś na wybiegu dla psów. Na wybiegu jest wiele psów różnych ras, wszystkie angażują się w różne zachowania psów.\n",
    "\n",
    "Załóżmy teraz, że chcesz modelować wybieg dla psów za pomocą klas Pythona. Klasa `Dog`, którą napisałaś/napisałeś w poprzedniej sekcji, może rozróżniać psy według imienia i wieku, ale nie według rasy.\n",
    "\n",
    "Zmodyfikuj klasę `Dog`, dodając atrybut `.breed`."
   ]
  },
  {
   "cell_type": "markdown",
   "metadata": {},
   "source": [
    "---"
   ]
  },
  {
   "cell_type": "code",
   "execution_count": 17,
   "metadata": {
    "slideshow": {
     "slide_type": "subslide"
    }
   },
   "outputs": [],
   "source": [
    "class Dog:\n",
    "    species = \"Canis familiaris\"\n",
    "\n",
    "    def __init__(self, name, age, breed):\n",
    "        self.name = name\n",
    "        self.age = age\n",
    "        self.breed = breed\n",
    "\n",
    "    def __str__(self):\n",
    "        return f\"{self.name} ma {self.age} lata\"\n",
    "\n",
    "    def speak(self, sound):\n",
    "        return f\"{self.name} mówi {sound}\""
   ]
  },
  {
   "cell_type": "markdown",
   "metadata": {
    "slideshow": {
     "slide_type": "subslide"
    }
   },
   "source": [
    "Zamodeluj wybieg dla psów, tworząc instancję kilku różnych psów, różnych ras.\n",
    "\n",
    "Rasy mają być różne, gdyż każda rasa psa ma mieć potem nieco inne zachowania. Na przykład buldogi mają mieć niski głos, który brzmi jak _Hau_, ale jamnik ma wyższe szczekanie, które brzmi bardziej jak _Jauk_."
   ]
  },
  {
   "cell_type": "markdown",
   "metadata": {},
   "source": [
    "---"
   ]
  },
  {
   "cell_type": "code",
   "execution_count": 18,
   "metadata": {
    "slideshow": {
     "slide_type": "fragment"
    }
   },
   "outputs": [
    {
     "name": "stdout",
     "output_type": "stream",
     "text": [
      "Burek mówi Jauk\n",
      "Johny mówi Hau\n",
      "Jerry mówi Hau\n"
     ]
    }
   ],
   "source": [
    "mentos = Dog(\"Mentos\", 4, \"Terrier\")\n",
    "burek = Dog(\"Burek\", 9, \"Jamnik\")\n",
    "johny = Dog(\"Johny\", 3, \"Buldog\")\n",
    "jerry = Dog(\"Jerry\", 5, \"Buldog\")\n",
    "print(burek.speak(\"Jauk\"))\n",
    "print(johny.speak(\"Hau\"))\n",
    "print(jerry.speak(\"Hau\"))"
   ]
  },
  {
   "cell_type": "markdown",
   "metadata": {
    "slideshow": {
     "slide_type": "subslide"
    }
   },
   "source": [
    "Przekazywanie ciągu znaków do każdego wywołania `.speak()` jest powtarzalne i niewygodne. Co więcej, ciąg reprezentujący dźwięk, który wydaje każda instancja `Dog`, powinien być określony przez jej atrybut `.breed`, ale tutaj musisz ręcznie przekazać poprawny ciąg do `.speak()` za każdym razem, gdy jest wywoływany.\n",
    "\n",
    "Możesz uprościć pracę z klasą `Dog`, tworząc klasę podrzędną dla każdej rasy psów. Pozwala to na rozszerzenie funkcjonalności dziedziczonej przez każdą klasę potomną, w tym określenie domyślnego argumentu dla `.speak()`."
   ]
  },
  {
   "cell_type": "markdown",
   "metadata": {
    "slideshow": {
     "slide_type": "slide"
    }
   },
   "source": [
    "#### Klasy rodzicielskie a klasy podrzędne"
   ]
  },
  {
   "cell_type": "markdown",
   "metadata": {
    "slideshow": {
     "slide_type": "fragment"
    }
   },
   "source": [
    "Utwórzmy (póki co - puste) klasy-dzieci dla każdej z trzech wymienionych powyżej ras: terrier, jamnik i buldog.\n",
    "\n",
    "Dla porównania, oto pełna definicja poprzedniej klasy `Dog` (bez ras):"
   ]
  },
  {
   "cell_type": "code",
   "execution_count": 19,
   "metadata": {
    "slideshow": {
     "slide_type": "fragment"
    }
   },
   "outputs": [],
   "source": [
    "class Dog:\n",
    "    species = \"Canis familiaris\"\n",
    "\n",
    "    def __init__(self, name, age):\n",
    "        self.name = name\n",
    "        self.age = age\n",
    "\n",
    "    def __str__(self):\n",
    "        return f\"{self.name} ma {self.age} lata\"\n",
    "\n",
    "    def speak(self, sound):\n",
    "        return f\"{self.name} mówi {sound}\""
   ]
  },
  {
   "cell_type": "markdown",
   "metadata": {
    "slideshow": {
     "slide_type": "subslide"
    }
   },
   "source": [
    "Pamiętaj, aby utworzyć klasę podrzędną, tworzysz nową klasę z własną nazwą, a następnie umieszczasz nazwę klasy nadrzędnej w nawiasach. Spróbuj utworzyć trzy nowe klasy potomne klasy `Dog`."
   ]
  },
  {
   "cell_type": "code",
   "execution_count": 20,
   "metadata": {
    "slideshow": {
     "slide_type": "fragment"
    }
   },
   "outputs": [],
   "source": [
    "class Terier(Dog):\n",
    "    pass\n",
    "\n",
    "class Jamnik(Dog):\n",
    "    pass\n",
    "\n",
    "class Buldog(Dog):\n",
    "    pass"
   ]
  },
  {
   "cell_type": "markdown",
   "metadata": {
    "slideshow": {
     "slide_type": "subslide"
    }
   },
   "source": [
    "Po zdefiniowaniu klas potomnych utwórz teraz instancje niektórych psów określonych ras."
   ]
  },
  {
   "cell_type": "markdown",
   "metadata": {},
   "source": [
    "---"
   ]
  },
  {
   "cell_type": "code",
   "execution_count": 21,
   "metadata": {
    "slideshow": {
     "slide_type": "fragment"
    }
   },
   "outputs": [],
   "source": [
    "mentos = Terier(\"Mentos\", 4)\n",
    "burek = Jamnik(\"Burek\", 9)\n",
    "johny = Buldog(\"Johny\", 3)\n",
    "jerry = Buldog(\"Jerry\", 5)"
   ]
  },
  {
   "cell_type": "markdown",
   "metadata": {
    "slideshow": {
     "slide_type": "subslide"
    }
   },
   "source": [
    "Sprawdź, czy instancje klas podrzędnych dziedziczą wszystkie atrybuty i metody klasy nadrzędnej."
   ]
  },
  {
   "cell_type": "markdown",
   "metadata": {},
   "source": [
    "---"
   ]
  },
  {
   "cell_type": "code",
   "execution_count": 22,
   "metadata": {
    "slideshow": {
     "slide_type": "fragment"
    }
   },
   "outputs": [
    {
     "name": "stdout",
     "output_type": "stream",
     "text": [
      "Canis familiaris\n",
      "Burek\n",
      "Johny ma 3 lata\n",
      "Jerry mówi Hau\n"
     ]
    }
   ],
   "source": [
    "print(mentos.species)\n",
    "print(burek.name)\n",
    "print(johny)\n",
    "print(jerry.speak(\"Hau\"))"
   ]
  },
  {
   "cell_type": "markdown",
   "metadata": {
    "slideshow": {
     "slide_type": "subslide"
    }
   },
   "source": [
    "Określ, do której klasy należy dany obiekt `mentos`, używając wbudowanej funkcji `type()`."
   ]
  },
  {
   "cell_type": "markdown",
   "metadata": {},
   "source": [
    "---"
   ]
  },
  {
   "cell_type": "code",
   "execution_count": 23,
   "metadata": {
    "slideshow": {
     "slide_type": "fragment"
    }
   },
   "outputs": [
    {
     "name": "stdout",
     "output_type": "stream",
     "text": [
      "<class '__main__.Terier'>\n"
     ]
    }
   ],
   "source": [
    "print(type(mentos))"
   ]
  },
  {
   "cell_type": "markdown",
   "metadata": {
    "slideshow": {
     "slide_type": "fragment"
    }
   },
   "source": [
    "A co jeśli chcesz ustalić, czy `mentos` jest również instancją klasy `Dog`? Zrób to za pomocą wbudowanej funkcji `isinstance()`."
   ]
  },
  {
   "cell_type": "markdown",
   "metadata": {},
   "source": [
    "---"
   ]
  },
  {
   "cell_type": "code",
   "execution_count": 24,
   "metadata": {
    "slideshow": {
     "slide_type": "fragment"
    }
   },
   "outputs": [
    {
     "name": "stdout",
     "output_type": "stream",
     "text": [
      "True\n"
     ]
    }
   ],
   "source": [
    "print(isinstance(mentos, Dog))"
   ]
  },
  {
   "cell_type": "markdown",
   "metadata": {
    "slideshow": {
     "slide_type": "subslide"
    }
   },
   "source": [
    "Sprawdź, czy `mentos` to instancja `Buldog`, a `johny` to instancja `Jamnik`."
   ]
  },
  {
   "cell_type": "markdown",
   "metadata": {},
   "source": [
    "---"
   ]
  },
  {
   "cell_type": "code",
   "execution_count": 25,
   "metadata": {
    "slideshow": {
     "slide_type": "fragment"
    }
   },
   "outputs": [
    {
     "name": "stdout",
     "output_type": "stream",
     "text": [
      "False\n",
      "False\n"
     ]
    }
   ],
   "source": [
    "print(isinstance(mentos, Buldog))\n",
    "print(isinstance(johny, Jamnik))"
   ]
  },
  {
   "cell_type": "markdown",
   "metadata": {
    "slideshow": {
     "slide_type": "slide"
    }
   },
   "source": [
    "#### Rozszerz funkcjonalność klasy nadrzędnej"
   ]
  },
  {
   "cell_type": "markdown",
   "metadata": {
    "slideshow": {
     "slide_type": "subslide"
    }
   },
   "source": [
    "Ponieważ różne rasy psów mają nieco inne szczekanie, podaj domyślną wartość argumentu dźwiękowego odpowiednich metod `.speak()`. Aby to zrobić, zastąp `.speak()` w definicji klasy dla każdej rasy.\n",
    "\n",
    "Aby przesłonić metodę zdefiniowaną w klasie nadrzędnej, zdefiniuj metodę o tej samej nazwie w klasie podrzędnej. \n",
    "\n",
    "Przykładowo, w przypadku klasy Terier, niech teraz `.speak()` będzie zdefiniowana w klasie Terier z domyślnym argumentem dla dźwięku ustawionym na `\"Wrrr\"`."
   ]
  },
  {
   "cell_type": "markdown",
   "metadata": {},
   "source": [
    "---"
   ]
  },
  {
   "cell_type": "code",
   "execution_count": 26,
   "metadata": {
    "slideshow": {
     "slide_type": "fragment"
    }
   },
   "outputs": [],
   "source": [
    "class Terier(Dog):\n",
    "    def speak(self, sound=\"Wrrr\"):\n",
    "        return f\"{self.name} mówi {sound}\""
   ]
  },
  {
   "cell_type": "markdown",
   "metadata": {
    "slideshow": {
     "slide_type": "subslide"
    }
   },
   "source": [
    "Teraz wywołaj `.speak()` na instancji `Terier` bez przekazywania argumentu do `sound`."
   ]
  },
  {
   "cell_type": "markdown",
   "metadata": {},
   "source": [
    "---"
   ]
  },
  {
   "cell_type": "code",
   "execution_count": 27,
   "metadata": {
    "slideshow": {
     "slide_type": "fragment"
    }
   },
   "outputs": [
    {
     "name": "stdout",
     "output_type": "stream",
     "text": [
      "Mentos mówi Wrrr\n"
     ]
    }
   ],
   "source": [
    "mentos = Terier(\"Mentos\", 4)\n",
    "print(mentos.speak())"
   ]
  },
  {
   "cell_type": "markdown",
   "metadata": {
    "slideshow": {
     "slide_type": "fragment"
    }
   },
   "source": [
    "Czasami psy szczekają inaczej, więc jeśli Mentos się złości i warczy (`\"Grrr\"`), wywołaj `.speak()` z innym dźwiękiem."
   ]
  },
  {
   "cell_type": "markdown",
   "metadata": {},
   "source": [
    "---"
   ]
  },
  {
   "cell_type": "code",
   "execution_count": 28,
   "metadata": {
    "slideshow": {
     "slide_type": "fragment"
    }
   },
   "outputs": [
    {
     "name": "stdout",
     "output_type": "stream",
     "text": [
      "Mentos mówi Grrr\n"
     ]
    }
   ],
   "source": [
    "print(mentos.speak(\"Grrr\"))"
   ]
  },
  {
   "cell_type": "markdown",
   "metadata": {
    "slideshow": {
     "slide_type": "skip"
    }
   },
   "source": [
    "## Zaimplementuj zwięrzątko Tamagotchi"
   ]
  },
  {
   "cell_type": "markdown",
   "metadata": {
    "slideshow": {
     "slide_type": "skip"
    }
   },
   "source": [
    "### Ćwiczenie"
   ]
  },
  {
   "cell_type": "markdown",
   "metadata": {
    "slideshow": {
     "slide_type": "skip"
    }
   },
   "source": [
    "[Tamagotchi](https://pl.wikipedia.org/wiki/Tamagotchi) to mała, elektroniczna zabawka pozwalająca \"opiekować się\" zwierzakiem. Tamagotchi wymaga karmienia, zabawy, czy sprzątania po nim.\n",
    "\n",
    "Zasady Tamagotchi:\n",
    "\n",
    "1. humor określa się na podstawie licznika głodu i znudzenia; dopóki głód jest poniżej określonego poziomu, i dopóki znudzenie jest poniżej określonego poziomu, dopóty Tamagotchi jest szczęśliwy\n",
    "1. karmienie zmniejsza poziom głodu o określoną liczbę punktów\n",
    "1. nauka nowych słówek lub przywitanie się z Tamagotchi zmniejsza poziom znudzenia o określoną liczbę punktów\n",
    "1. znane słówka są listą wyrażeń, które Tamagotchi może wypowiedzieć (np. \"Mmmmrrp\" albo \"Hrrp\")\n",
    "1. można wywołać metodę, która odpowiada \"tyknięciu\" zegara - w jej wyniku nuda i głód rosną o jedną jednostkę\n",
    "\n",
    "Implementacja Tamagotchi:\n",
    "\n",
    "1. pola klasy: `imie`, `prog_nudy`, `prog_glodu`, `malenie_nudy`, `malenie_glodu`, `poziom_nudy`, `poziom_glodu`, `slowa` (lista)\n",
    "1. metoda `humor()` musi zwracać, na podstawie `prog_nudy`, `prog_glodu`, `poziom_nudy` i `poziom_glodu`, czy Tamagotchi jest szczęśliwy, głodny lub znudzony\n",
    "1. metoda `__str__()` musi zwracać imię Tamagotchi i jego humor (np. \"Jestem Tobi. Czuję się szczęśliwy.\")\n",
    "1. metoda `zegar()` musi zwiększać poziom znudzenia i głodu o jedną jednostkę\n",
    "1. metody `zmniejsz_glod()` i `zmniejsz_nude()` mają zmniejszać odpowiednio `poziom_glodu` i `poziom_nudy` o `malenie_glodu` i `malenie_nudy`; **uwaga**: oba poziomy nie mogą spaść poniżej zera\n",
    "1. metoda `przywitaj_sie()` musi wylosować element z listy `slowa`, zmniejszyć nudę i wypisać na ekranie \"{Imię} mówi {słowo}.\"\n",
    "1. metoda `naucz_slowo(slowo)` dodaje słowo do listy `slowa` i zmniejsza nudę\n",
    "1. metoda `karm()` zmniejsza głód\n",
    "1. metody `karm()`, `naucz_slowo()`, `przywitaj_sie()` oraz `__str__()` wywołują `zegar()`.\n",
    "\n",
    "Do losowania elementu z listy `slowa` użyj funkcji `random.choice`.\n",
    "\n",
    "Za wartości początkowe możesz przyjąć:\n",
    "\n",
    "| Pole            | Wartość               |\n",
    "|-----------------|-----------------------|\n",
    "| `prog_nudy`     | 5                     |\n",
    "| `prog_glodu`    | 10                    |\n",
    "| `malenie_nudy`  | 4                     |\n",
    "| `malenie_glodu` | 6                     |\n",
    "| `słowa`         | `[\"Mmmmrrp\", \"Hrrp\"]` |"
   ]
  },
  {
   "cell_type": "markdown",
   "metadata": {
    "slideshow": {
     "slide_type": "skip"
    }
   },
   "source": [
    "### Rozwiązanie"
   ]
  },
  {
   "cell_type": "code",
   "execution_count": 29,
   "metadata": {
    "slideshow": {
     "slide_type": "skip"
    }
   },
   "outputs": [],
   "source": [
    "import random\n",
    "\n",
    "\n",
    "class Tamagotchi:\n",
    "    prog_nudy = 5\n",
    "    prog_glodu = 10\n",
    "    malenie_nudy = 4\n",
    "    malenie_glodu = 6\n",
    "\n",
    "    def __init__(self, imie):\n",
    "        self.imie = imie\n",
    "        self.slowa = [\"Mmmmrrp\", \"Hrrp\"]\n",
    "        self.poziom_glodu = 0\n",
    "        self.poziom_nudy = 0\n",
    "\n",
    "    def humor(self):\n",
    "        if self.poziom_glodu > self.prog_glodu:\n",
    "            return \"głodny\"\n",
    "        elif self.poziom_nudy > self.prog_nudy:\n",
    "            return \"znudzony\"\n",
    "        else:\n",
    "            return \"szczęśliwy\"\n",
    "\n",
    "    def __str__(self):\n",
    "        # kolejność jest ważna!\n",
    "        # ponieważ self.zegar() może zmienić stan (głodny/znudzony) zwierzaka,\n",
    "        # dlatego fajnie jeśli ten stan wyświetlimy\n",
    "        self.zegar()\n",
    "        return \"Jestem {}. Czuję się {}.\".format(self.imie, self.humor())\n",
    "\n",
    "    def zegar(self):\n",
    "        self.poziom_glodu += 1\n",
    "        self.poziom_nudy += 1\n",
    "\n",
    "    def zmniejsz_glod(self):\n",
    "        self.poziom_glodu -= self.malenie_glodu\n",
    "        if self.poziom_glodu < 0:\n",
    "            self.poziom_glodu = 0\n",
    "\n",
    "    def zmniejsz_nude(self):\n",
    "        self.poziom_nudy -= self.malenie_nudy\n",
    "        if self.poziom_nudy < 0:\n",
    "            self.poziom_nudy = 0\n",
    "\n",
    "    def przywitaj_sie(self):\n",
    "        slowo = random.choice(self.slowa)\n",
    "        print(\"{} mówi {}.\".format(self.imie, slowo))\n",
    "        self.zmniejsz_nude()\n",
    "        self.zegar()\n",
    "\n",
    "    def naucz_slowo(self, slowo):\n",
    "        self.slowa.append(slowo)\n",
    "        self.zmniejsz_nude()\n",
    "        self.zegar()\n",
    "\n",
    "    def karm(self):\n",
    "        self.zmniejsz_glod()\n",
    "        self.zegar()"
   ]
  },
  {
   "cell_type": "code",
   "execution_count": null,
   "metadata": {
    "slideshow": {
     "slide_type": "skip"
    }
   },
   "outputs": [],
   "source": []
  }
 ],
 "metadata": {
  "celltoolbar": "Slideshow",
  "kernelspec": {
   "display_name": "Python 3 (ipykernel)",
   "language": "python",
   "name": "python3"
  },
  "language_info": {
   "codemirror_mode": {
    "name": "ipython",
    "version": 3
   },
   "file_extension": ".py",
   "mimetype": "text/x-python",
   "name": "python",
   "nbconvert_exporter": "python",
   "pygments_lexer": "ipython3",
   "version": "3.11.5"
  }
 },
 "nbformat": 4,
 "nbformat_minor": 4
}
