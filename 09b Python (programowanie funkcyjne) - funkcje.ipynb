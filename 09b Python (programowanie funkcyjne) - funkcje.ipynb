{
 "cells": [
  {
   "cell_type": "markdown",
   "metadata": {
    "slideshow": {
     "slide_type": "slide"
    }
   },
   "source": [
    "# Python (programowanie funkcyjne) - funkcje\n",
    "_Mikołaj Leszczuk_\n",
    "<!--![](https://memegenerator.net/img/instances/68550956.jpg)-->\n",
    "![](https://i.creativecommons.org/l/by/4.0/88x31.png)"
   ]
  },
  {
   "cell_type": "markdown",
   "metadata": {
    "slideshow": {
     "slide_type": "slide"
    }
   },
   "source": [
    "## Konspekt"
   ]
  },
  {
   "cell_type": "markdown",
   "metadata": {
    "slideshow": {
     "slide_type": "fragment"
    }
   },
   "source": [
    "* **Programowanie funkcyjne** jest paradygmatem programowania, gdzie pierwsze skrzypce należą do funkcji\n",
    "* W tym module poznamy podstawy programowania w tej technice w języku Python"
   ]
  },
  {
   "cell_type": "markdown",
   "metadata": {
    "slideshow": {
     "slide_type": "slide"
    }
   },
   "source": [
    "## Funkcje anonimowe (lambda)"
   ]
  },
  {
   "cell_type": "markdown",
   "metadata": {
    "slideshow": {
     "slide_type": "fragment"
    }
   },
   "source": [
    "* Python umożliwia tworzenie funkcji w miejscu, bez osobnego deklarowania ich\n",
    "* Takie funkcje nazywane są „anonimowe”, bo:\n",
    "  * Nie muszą przyjmować nazw, a\n",
    "  * Wykorzystuje się je często jako np. argumenty do „normalnych” funkcji\n",
    "* Podstawowa składania funkcji anonimowej jest następująca:\n",
    "\n",
    "```\n",
    "lambda arg1, arg2: arg1 ** arg2\n",
    "       \\--------/  \\----------/\n",
    "        argumenty   operacja, której wynik zwraca funkcja\n",
    "```"
   ]
  },
  {
   "cell_type": "markdown",
   "metadata": {
    "slideshow": {
     "slide_type": "slide"
    }
   },
   "source": [
    "#### Podobieństwo do Excela"
   ]
  },
  {
   "cell_type": "markdown",
   "metadata": {
    "slideshow": {
     "slide_type": "fragment"
    }
   },
   "source": [
    "* **Operacja funkcji `lambda` jest niemal identyczna jak zawartość funkcji w komórce w Excelu**\n",
    "* **Różnicą jest jedynie odwoływanie do:**\n",
    "  * **Zmiennych (Python), i**\n",
    "  * **Nazw komórek (Excel)**"
   ]
  },
  {
   "cell_type": "markdown",
   "metadata": {
    "slideshow": {
     "slide_type": "slide"
    }
   },
   "source": [
    "#### Przykład funkcji anonimowej"
   ]
  },
  {
   "cell_type": "markdown",
   "metadata": {
    "slideshow": {
     "slide_type": "fragment"
    }
   },
   "source": [
    "* Przykład funkcji anonimowej obliczającej przeciwprostokątną w trójkącie prostokątnym (twierdzenie Pitagorasa)\n",
    "* Przypomnienie:\n",
    "  * Twierdzenie Pitagorasa: `c*c = a*a + b*b`\n",
    "  * Operator `**` to podnoszenie do potęgi\n",
    "  * Jeśli wykładnik potęgi ma postać `1/n` (przykładowo: `1/2`), to takie potęgowanie zamienia się w pierwiastkowanie o stopniu `n`"
   ]
  },
  {
   "cell_type": "markdown",
   "metadata": {
    "slideshow": {
     "slide_type": "fragment"
    }
   },
   "source": [
    "```python\n",
    "lambda a, b:  ((a * a) + (b * b)) ** 0.5\n",
    "```"
   ]
  },
  {
   "cell_type": "markdown",
   "metadata": {
    "slideshow": {
     "slide_type": "subslide"
    }
   },
   "source": [
    "* Funkcje anonimowe są obiektami w Pythonie\n",
    "* Dzięki temu możemy je przypisać w taki sam sposób, jak przypisanie wartości do zmiennej"
   ]
  },
  {
   "cell_type": "markdown",
   "metadata": {
    "slideshow": {
     "slide_type": "fragment"
    }
   },
   "source": [
    "```python\n",
    "pitagoras = lambda a, b: ((a * a) + (b * b)) ** 0.5\n",
    "```"
   ]
  },
  {
   "cell_type": "markdown",
   "metadata": {
    "slideshow": {
     "slide_type": "fragment"
    }
   },
   "source": [
    "* Pozwala to w dalszym kodzie np. wywoływać taką funkcję anonimową po jej, de facto, nazwie:"
   ]
  },
  {
   "cell_type": "code",
   "execution_count": 1,
   "metadata": {
    "slideshow": {
     "slide_type": "fragment"
    }
   },
   "outputs": [
    {
     "name": "stdout",
     "output_type": "stream",
     "text": [
      "5.0\n"
     ]
    }
   ],
   "source": [
    "pitagoras = lambda a, b:  ((a * a) + (b * b)) ** 0.5\n",
    "print(pitagoras(3, 4))"
   ]
  },
  {
   "cell_type": "markdown",
   "metadata": {
    "slideshow": {
     "slide_type": "slide"
    }
   },
   "source": [
    "#### Funkcje konwencjonalne vs. lambda"
   ]
  },
  {
   "cell_type": "markdown",
   "metadata": {
    "slideshow": {
     "slide_type": "fragment"
    }
   },
   "source": [
    "* Funkcja `lambda` może wyglądać jak zabawka dla matematyka \n",
    "* Formalizm, który zamienia łatwą do zrozumienia kwestię w abstrakcyjny, trudniejszy do uchwycenia formalizm\n",
    "* Przede wszystkim mogliśmy osiągnąć ten sam efekt, używając po prostu następującej definicji funkcji konwencjonalnej"
   ]
  },
  {
   "cell_type": "code",
   "execution_count": 2,
   "metadata": {
    "slideshow": {
     "slide_type": "fragment"
    }
   },
   "outputs": [],
   "source": [
    "def c_sum(x, y):\n",
    "    return x + y"
   ]
  },
  {
   "cell_type": "code",
   "execution_count": 3,
   "metadata": {
    "slideshow": {
     "slide_type": "fragment"
    }
   },
   "outputs": [],
   "source": [
    "l_sum = lambda x, y: x + y"
   ]
  },
  {
   "cell_type": "code",
   "execution_count": 4,
   "metadata": {
    "slideshow": {
     "slide_type": "fragment"
    }
   },
   "outputs": [
    {
     "name": "stdout",
     "output_type": "stream",
     "text": [
      "7\n",
      "7\n"
     ]
    }
   ],
   "source": [
    "print(c_sum(3, 4))\n",
    "print(l_sum(3, 4))"
   ]
  },
  {
   "cell_type": "markdown",
   "metadata": {
    "slideshow": {
     "slide_type": "subslide"
    }
   },
   "source": [
    "* Mogę Was zapewnić, że zalety tego podejścia (`lambda`) będą widoczne, gdy nauczycie się (później) używać funkcji `map()`"
   ]
  },
  {
   "cell_type": "markdown",
   "metadata": {
    "slideshow": {
     "slide_type": "slide"
    }
   },
   "source": [
    "## Filtrowanie, aplikowanie, redukowanie"
   ]
  },
  {
   "cell_type": "markdown",
   "metadata": {
    "slideshow": {
     "slide_type": "fragment"
    }
   },
   "source": [
    "* W Pythonie istnieje kilka przydatnych funkcji korzystających z funkcji anonimowe i pracujących na zbiorach danych:\n",
    "  * `filter(funkcja, iterator)`: zwraca tylko te wartości ze zbioru danych, dla których `funkcja(wartość)` zwróciła `True`\n",
    "  * `map(funkcja, iterator)`: aplikuje funkcję dla każdej wartości\n",
    "  * `reduce(funkcja, iterator)`: służy do zredukowania całego zbioru danych do jednej wartości"
   ]
  },
  {
   "cell_type": "markdown",
   "metadata": {
    "slideshow": {
     "slide_type": "slide"
    }
   },
   "source": [
    "### Filtrowanie"
   ]
  },
  {
   "cell_type": "markdown",
   "metadata": {
    "slideshow": {
     "slide_type": "fragment"
    }
   },
   "source": [
    "* Dla przykładów użyjemy prostego zbioru danych temperatury:"
   ]
  },
  {
   "cell_type": "code",
   "execution_count": 5,
   "metadata": {
    "slideshow": {
     "slide_type": "fragment"
    }
   },
   "outputs": [],
   "source": [
    "temperatury = [\n",
    "    37.6, 35.8, 37.6, 33.4, 34.1, 37.1, 35.9, 34.1, 37.1, 40.5, 38.5, 37.6,\n",
    "    35.8, 34.5, 36.4, 38.3, 37.5, 37.7, 34.0, 35.3, 35.7, 38.9, 34.8, 34.1,\n",
    "    39.6, 35.4, 34.7, 37.6, 38.4, 36.4, 39.8, 39.1, 37.1, 35.6, 36.8, 37.6,\n",
    "    36.7, 40.0, 38.0, 34.1, 35.5, 38.5, 36.1, 32.6, 32.9, 34.5, 41.0, 38.3,\n",
    "    33.7, 38.7, 36.9, 36.2, 33.7, 38.3, 35.3, 38.3, 40.1, 39.3, 38.2, 37.6,\n",
    "    39.1, 37.1, 34.4, 38.7, 35.8, 38.2, 38.2, 33.1, 37.8, 36.5, 37.6, 37.4,\n",
    "    34.3, 37.7, 36.0, 37.5, 37.6, 36.5, 31.3, 37.7, 40.3, 39.5, 35.7, 38.1,\n",
    "    34.7, 36.5, 34.3, 38.0, 37.0, 38.5, 39.4, 37.6, 41.7, 40.0, 38.4, 38.9,\n",
    "    34.2, 40.2, 34.3, 35.3\n",
    "]"
   ]
  },
  {
   "cell_type": "markdown",
   "metadata": {
    "slideshow": {
     "slide_type": "subslide"
    }
   },
   "source": [
    "* Użyjmy teraz funkcji filtrującej, żeby znaleźć wszystkie wartości większe lub równe `40.0`:"
   ]
  },
  {
   "cell_type": "code",
   "execution_count": 6,
   "metadata": {
    "slideshow": {
     "slide_type": "fragment"
    }
   },
   "outputs": [
    {
     "name": "stdout",
     "output_type": "stream",
     "text": [
      "[40.5, 40.0, 41.0, 40.1, 40.3, 41.7, 40.0, 40.2]\n",
      "[40.0, 40.0, 40.1, 40.2, 40.3, 40.5, 41.0, 41.7]\n"
     ]
    }
   ],
   "source": [
    "wynik = list(filter(lambda x: x >= 40.0, temperatury))\n",
    "print(wynik)\n",
    "wynik_sort = sorted(wynik)\n",
    "print(wynik_sort)"
   ]
  },
  {
   "cell_type": "code",
   "execution_count": 7,
   "metadata": {
    "slideshow": {
     "slide_type": "subslide"
    }
   },
   "outputs": [
    {
     "name": "stdout",
     "output_type": "stream",
     "text": [
      "['Maria']\n"
     ]
    }
   ],
   "source": [
    "ludzie = {'Jan': 40, 'Maria': 20}\n",
    "print(list(filter(lambda x: ludzie[x] < 30, ludzie)))"
   ]
  },
  {
   "cell_type": "markdown",
   "metadata": {
    "slideshow": {
     "slide_type": "slide"
    }
   },
   "source": [
    "### Aplikowanie"
   ]
  },
  {
   "cell_type": "code",
   "execution_count": 8,
   "metadata": {
    "slideshow": {
     "slide_type": "subslide"
    }
   },
   "outputs": [
    {
     "name": "stdout",
     "output_type": "stream",
     "text": [
      "[37.6, 35.8, 37.6, 33.4, 34.1, 37.1, 35.9, 34.1, 37.1, 40.5, 38.5, 37.6, 35.8, 34.5, 36.4, 38.3, 37.5, 37.7, 34.0, 35.3, 35.7, 38.9, 34.8, 34.1, 39.6, 35.4, 34.7, 37.6, 38.4, 36.4, 39.8, 39.1, 37.1, 35.6, 36.8, 37.6, 36.7, 40.0, 38.0, 34.1, 35.5, 38.5, 36.1, 32.6, 32.9, 34.5, 41.0, 38.3, 33.7, 38.7, 36.9, 36.2, 33.7, 38.3, 35.3, 38.3, 40.1, 39.3, 38.2, 37.6, 39.1, 37.1, 34.4, 38.7, 35.8, 38.2, 38.2, 33.1, 37.8, 36.5, 37.6, 37.4, 34.3, 37.7, 36.0, 37.5, 37.6, 36.5, 31.3, 37.7, 40.3, 39.5, 35.7, 38.1, 34.7, 36.5, 34.3, 38.0, 37.0, 38.5, 39.4, 37.6, 41.7, 40.0, 38.4, 38.9, 34.2, 40.2, 34.3, 35.3]\n"
     ]
    }
   ],
   "source": [
    "print(temperatury)"
   ]
  },
  {
   "cell_type": "code",
   "execution_count": 9,
   "metadata": {
    "slideshow": {
     "slide_type": "subslide"
    }
   },
   "outputs": [
    {
     "name": "stdout",
     "output_type": "stream",
     "text": [
      "36.9\n"
     ]
    }
   ],
   "source": [
    "from statistics import mean\n",
    "sr_temp = mean(temperatury)\n",
    "print(sr_temp)"
   ]
  },
  {
   "cell_type": "code",
   "execution_count": 10,
   "metadata": {
    "scrolled": true,
    "slideshow": {
     "slide_type": "fragment"
    }
   },
   "outputs": [
    {
     "name": "stdout",
     "output_type": "stream",
     "text": [
      "[0.7000000000000028, -1.1000000000000014, 0.7000000000000028, -3.5, -2.799999999999997, 0.20000000000000284, -1.0, -2.799999999999997, 0.20000000000000284, 3.6000000000000014, 1.6000000000000014, 0.7000000000000028, -1.1000000000000014, -2.3999999999999986, -0.5, 1.3999999999999986, 0.6000000000000014, 0.8000000000000043, -2.8999999999999986, -1.6000000000000014, -1.1999999999999957, 2.0, -2.1000000000000014, -2.799999999999997, 2.700000000000003, -1.5, -2.1999999999999957, 0.7000000000000028, 1.5, -0.5, 2.8999999999999986, 2.200000000000003, 0.20000000000000284, -1.2999999999999972, -0.10000000000000142, 0.7000000000000028, -0.19999999999999574, 3.1000000000000014, 1.1000000000000014, -2.799999999999997, -1.3999999999999986, 1.6000000000000014, -0.7999999999999972, -4.299999999999997, -4.0, -2.3999999999999986, 4.100000000000001, 1.3999999999999986, -3.1999999999999957, 1.8000000000000043, 0.0, -0.6999999999999957, -3.1999999999999957, 1.3999999999999986, -1.6000000000000014, 1.3999999999999986, 3.200000000000003, 2.3999999999999986, 1.3000000000000043, 0.7000000000000028, 2.200000000000003, 0.20000000000000284, -2.5, 1.8000000000000043, -1.1000000000000014, 1.3000000000000043, 1.3000000000000043, -3.799999999999997, 0.8999999999999986, -0.3999999999999986, 0.7000000000000028, 0.5, -2.6000000000000014, 0.8000000000000043, -0.8999999999999986, 0.6000000000000014, 0.7000000000000028, -0.3999999999999986, -5.599999999999998, 0.8000000000000043, 3.3999999999999986, 2.6000000000000014, -1.1999999999999957, 1.2000000000000028, -2.1999999999999957, -0.3999999999999986, -2.6000000000000014, 1.1000000000000014, 0.10000000000000142, 1.6000000000000014, 2.5, 0.7000000000000028, 4.800000000000004, 3.1000000000000014, 1.5, 2.0, -2.6999999999999957, 3.3000000000000043, -2.6000000000000014, -1.6000000000000014]\n"
     ]
    }
   ],
   "source": [
    "odch = list(map(lambda x: x - sr_temp, temperatury))\n",
    "print(odch)"
   ]
  },
  {
   "cell_type": "markdown",
   "metadata": {
    "slideshow": {
     "slide_type": "slide"
    }
   },
   "source": [
    "#### Format liczb zmiennoprzecinkowych"
   ]
  },
  {
   "cell_type": "markdown",
   "metadata": {
    "slideshow": {
     "slide_type": "fragment"
    }
   },
   "source": [
    "* **Podczas testów powyższego kodu, Python potrafił zamiast wartości `0.7` zwrócić `0.7000000000000028`**\n",
    "* **Dlatego dla uproszczonego zapisu wszystkie wartości warto zaokrąglić do jednego miejsca po przecinku**"
   ]
  },
  {
   "cell_type": "code",
   "execution_count": 15,
   "metadata": {
    "slideshow": {
     "slide_type": "fragment"
    }
   },
   "outputs": [
    {
     "name": "stdout",
     "output_type": "stream",
     "text": [
      "[0.7, -1.1, 0.7, -3.5, -2.8, 0.2, -1.0, -2.8, 0.2, 3.6, 1.6, 0.7, -1.1, -2.4, -0.5, 1.4, 0.6, 0.8, -2.9, -1.6, -1.2, 2.0, -2.1, -2.8, 2.7, -1.5, -2.2, 0.7, 1.5, -0.5, 2.9, 2.2, 0.2, -1.3, -0.1, 0.7, -0.2, 3.1, 1.1, -2.8, -1.4, 1.6, -0.8, -4.3, -4.0, -2.4, 4.1, 1.4, -3.2, 1.8, 0.0, -0.7, -3.2, 1.4, -1.6, 1.4, 3.2, 2.4, 1.3, 0.7, 2.2, 0.2, -2.5, 1.8, -1.1, 1.3, 1.3, -3.8, 0.9, -0.4, 0.7, 0.5, -2.6, 0.8, -0.9, 0.6, 0.7, -0.4, -5.6, 0.8, 3.4, 2.6, -1.2, 1.2, -2.2, -0.4, -2.6, 1.1, 0.1, 1.6, 2.5, 0.7, 4.8, 3.1, 1.5, 2.0, -2.7, 3.3, -2.6, -1.6]\n"
     ]
    }
   ],
   "source": [
    "odch = list(map(lambda x: round(x - sr_temp, 1), temperatury))\n",
    "print(odch)"
   ]
  },
  {
   "cell_type": "markdown",
   "metadata": {
    "slideshow": {
     "slide_type": "slide"
    }
   },
   "source": [
    "### Redukowanie"
   ]
  },
  {
   "cell_type": "markdown",
   "metadata": {
    "slideshow": {
     "slide_type": "fragment"
    }
   },
   "source": [
    "* Funkcja `reduce` z modułu `functools` pomaga w iteratywnym redukowaniu zbioru wartości do jednej wartości\n",
    "* Żeby to lepiej zobrazować, pokażmy dwa przykłady użycia `reduce` do obliczenia:\n",
    "  * Sumy wartości, i\n",
    "  * Ich iloczynu"
   ]
  },
  {
   "cell_type": "markdown",
   "metadata": {
    "slideshow": {
     "slide_type": "slide"
    }
   },
   "source": [
    "#### Przykład 1: obliczenie sumy"
   ]
  },
  {
   "cell_type": "code",
   "execution_count": 16,
   "metadata": {
    "slideshow": {
     "slide_type": "fragment"
    }
   },
   "outputs": [
    {
     "name": "stdout",
     "output_type": "stream",
     "text": [
      "15\n"
     ]
    }
   ],
   "source": [
    "from functools import reduce\n",
    "nums = [1, 2, 3, 4, 5]\n",
    "print(reduce(lambda a, b: a + b, nums))"
   ]
  },
  {
   "cell_type": "markdown",
   "metadata": {
    "slideshow": {
     "slide_type": "fragment"
    }
   },
   "source": [
    "* Użycie funkcji `reduce` w powyższym przykładzie sprowadza się tak naprawdę do:"
   ]
  },
  {
   "cell_type": "code",
   "execution_count": 17,
   "metadata": {
    "slideshow": {
     "slide_type": "fragment"
    }
   },
   "outputs": [
    {
     "name": "stdout",
     "output_type": "stream",
     "text": [
      "15\n"
     ]
    }
   ],
   "source": [
    "print((((1 + 2) + 3) + 4) + 5)"
   ]
  },
  {
   "cell_type": "markdown",
   "metadata": {
    "slideshow": {
     "slide_type": "slide"
    }
   },
   "source": [
    "#### Przykład 2: obliczenie iloczynu"
   ]
  },
  {
   "cell_type": "code",
   "execution_count": 18,
   "metadata": {
    "slideshow": {
     "slide_type": "fragment"
    }
   },
   "outputs": [
    {
     "name": "stdout",
     "output_type": "stream",
     "text": [
      "24\n"
     ]
    }
   ],
   "source": [
    "print(reduce(lambda a, b: a * b, [1, 2, 3, 4]))"
   ]
  },
  {
   "cell_type": "markdown",
   "metadata": {
    "slideshow": {
     "slide_type": "fragment"
    }
   },
   "source": [
    "* Sprowadza się to do:"
   ]
  },
  {
   "cell_type": "code",
   "execution_count": 19,
   "metadata": {
    "slideshow": {
     "slide_type": "fragment"
    }
   },
   "outputs": [
    {
     "name": "stdout",
     "output_type": "stream",
     "text": [
      "24\n"
     ]
    }
   ],
   "source": [
    "print(((1 * 2) * 3) * 4)"
   ]
  },
  {
   "cell_type": "markdown",
   "metadata": {
    "slideshow": {
     "slide_type": "slide"
    }
   },
   "source": [
    "## Tworzenie zbiorów danych w locie"
   ]
  },
  {
   "cell_type": "markdown",
   "metadata": {
    "slideshow": {
     "slide_type": "slide"
    }
   },
   "source": [
    "### Tworzenie list – ang. *list comprehension*"
   ]
  },
  {
   "cell_type": "markdown",
   "metadata": {
    "slideshow": {
     "slide_type": "fragment"
    }
   },
   "source": [
    "* Dzięki generowaniu list w locie możemy:\n",
    "  * Nawet dość skomplikowane pętle, zamienić na\n",
    "  * Pojedyncze linijki kodu"
   ]
  },
  {
   "cell_type": "markdown",
   "metadata": {
    "slideshow": {
     "slide_type": "fragment"
    }
   },
   "source": [
    "* Przykładowo 3 linijki kodu generujące listę sześcianów:"
   ]
  },
  {
   "cell_type": "code",
   "execution_count": 20,
   "metadata": {
    "slideshow": {
     "slide_type": "fragment"
    }
   },
   "outputs": [],
   "source": [
    "szesciany = []\n",
    "for x in range(10):\n",
    "    szesciany.append(x**3)"
   ]
  },
  {
   "cell_type": "code",
   "execution_count": 21,
   "metadata": {
    "scrolled": true,
    "slideshow": {
     "slide_type": "fragment"
    }
   },
   "outputs": [
    {
     "name": "stdout",
     "output_type": "stream",
     "text": [
      "[0, 1, 8, 27, 64, 125, 216, 343, 512, 729]\n"
     ]
    }
   ],
   "source": [
    "print(szesciany)"
   ]
  },
  {
   "cell_type": "markdown",
   "metadata": {
    "slideshow": {
     "slide_type": "subslide"
    }
   },
   "source": [
    "* W podstawowej wersji możemy „przenieść” pętlę do nawiasów kwadratowych:"
   ]
  },
  {
   "cell_type": "code",
   "execution_count": 23,
   "metadata": {
    "slideshow": {
     "slide_type": "fragment"
    }
   },
   "outputs": [],
   "source": [
    "szesciany = [x**3 for x in range(10)]"
   ]
  },
  {
   "cell_type": "code",
   "execution_count": 24,
   "metadata": {
    "slideshow": {
     "slide_type": "fragment"
    }
   },
   "outputs": [
    {
     "name": "stdout",
     "output_type": "stream",
     "text": [
      "[0, 1, 8, 27, 64, 125, 216, 343, 512, 729]\n"
     ]
    }
   ],
   "source": [
    "print(szesciany)"
   ]
  },
  {
   "cell_type": "markdown",
   "metadata": {
    "slideshow": {
     "slide_type": "subslide"
    }
   },
   "source": [
    "* Ogólniejsza postać *list comprehension*:"
   ]
  },
  {
   "cell_type": "markdown",
   "metadata": {
    "slideshow": {
     "slide_type": "fragment"
    }
   },
   "source": [
    "```python\n",
    "nowa_lista = [funkcja(el) for el in lista if warunek(el)]\n",
    "```"
   ]
  },
  {
   "cell_type": "markdown",
   "metadata": {
    "slideshow": {
     "slide_type": "fragment"
    }
   },
   "source": [
    "* Na przykład by przygotować listę kwadratów liczb nieparzystych z zakresu od `1` do `101`:"
   ]
  },
  {
   "cell_type": "code",
   "execution_count": 25,
   "metadata": {
    "slideshow": {
     "slide_type": "fragment"
    }
   },
   "outputs": [],
   "source": [
    "kwadraty = [el**2 for el in range(1, 102) if el % 2 != 0]"
   ]
  },
  {
   "cell_type": "code",
   "execution_count": 26,
   "metadata": {
    "slideshow": {
     "slide_type": "subslide"
    }
   },
   "outputs": [
    {
     "name": "stdout",
     "output_type": "stream",
     "text": [
      "[1, 9, 25, 49, 81, 121, 169, 225, 289, 361, 441, 529, 625, 729, 841, 961, 1089, 1225, 1369, 1521, 1681, 1849, 2025, 2209, 2401, 2601, 2809, 3025, 3249, 3481, 3721, 3969, 4225, 4489, 4761, 5041, 5329, 5625, 5929, 6241, 6561, 6889, 7225, 7569, 7921, 8281, 8649, 9025, 9409, 9801, 10201]\n"
     ]
    }
   ],
   "source": [
    "print(kwadraty)"
   ]
  },
  {
   "cell_type": "markdown",
   "metadata": {
    "slideshow": {
     "slide_type": "slide"
    }
   },
   "source": [
    "### Tworzenie zbiorów"
   ]
  },
  {
   "cell_type": "markdown",
   "metadata": {
    "slideshow": {
     "slide_type": "fragment"
    }
   },
   "source": [
    "* W podobny sposób można też przygotować zbiór"
   ]
  },
  {
   "cell_type": "code",
   "execution_count": 27,
   "metadata": {
    "slideshow": {
     "slide_type": "fragment"
    }
   },
   "outputs": [],
   "source": [
    "zbior = {znak for znak in \"abracadabra\" if znak not in \"abc\"}"
   ]
  },
  {
   "cell_type": "code",
   "execution_count": 28,
   "metadata": {
    "slideshow": {
     "slide_type": "fragment"
    }
   },
   "outputs": [
    {
     "name": "stdout",
     "output_type": "stream",
     "text": [
      "{'r', 'd'}\n"
     ]
    }
   ],
   "source": [
    "print(zbior)"
   ]
  },
  {
   "cell_type": "markdown",
   "metadata": {
    "slideshow": {
     "slide_type": "slide"
    }
   },
   "source": [
    "### Tworzenie słowników"
   ]
  },
  {
   "cell_type": "markdown",
   "metadata": {
    "slideshow": {
     "slide_type": "fragment"
    }
   },
   "source": [
    "* Podobnie można stworzyć słownik"
   ]
  },
  {
   "cell_type": "code",
   "execution_count": 29,
   "metadata": {
    "slideshow": {
     "slide_type": "fragment"
    }
   },
   "outputs": [],
   "source": [
    "tekst = \"abracadabra\"\n",
    "wystapienia = {znak: tekst.count(znak) for znak in tekst}"
   ]
  },
  {
   "cell_type": "code",
   "execution_count": 30,
   "metadata": {
    "slideshow": {
     "slide_type": "fragment"
    }
   },
   "outputs": [
    {
     "name": "stdout",
     "output_type": "stream",
     "text": [
      "{'a': 5, 'b': 2, 'r': 2, 'c': 1, 'd': 1}\n"
     ]
    }
   ],
   "source": [
    "print(wystapienia)"
   ]
  },
  {
   "cell_type": "code",
   "execution_count": 31,
   "metadata": {
    "slideshow": {
     "slide_type": "fragment"
    }
   },
   "outputs": [],
   "source": [
    "c = {x: x**2 for x in (2, 4, 6)}  # {2: 4, 4: 16, 6: 36}"
   ]
  },
  {
   "cell_type": "code",
   "execution_count": 32,
   "metadata": {
    "scrolled": true,
    "slideshow": {
     "slide_type": "fragment"
    }
   },
   "outputs": [
    {
     "name": "stdout",
     "output_type": "stream",
     "text": [
      "{2: 4, 4: 16, 6: 36}\n"
     ]
    }
   ],
   "source": [
    "print(c)"
   ]
  },
  {
   "cell_type": "markdown",
   "metadata": {
    "slideshow": {
     "slide_type": "slide"
    }
   },
   "source": [
    "## Wyrażenia generatorowe – ang. *generator expressions*"
   ]
  },
  {
   "cell_type": "markdown",
   "metadata": {
    "slideshow": {
     "slide_type": "fragment"
    }
   },
   "source": [
    "* Co do zapisu: nie różnią się niczym od *list comprehension*, poza zmianą znaków nawiasów z `[]` na `()`"
   ]
  },
  {
   "cell_type": "code",
   "execution_count": 33,
   "metadata": {
    "slideshow": {
     "slide_type": "fragment"
    }
   },
   "outputs": [],
   "source": [
    "list_comp = [x ** 0.5 for x in range(1, 11)]\n",
    "gene_expr = (x ** 0.5 for x in range(1, 11))"
   ]
  },
  {
   "cell_type": "code",
   "execution_count": 34,
   "metadata": {
    "slideshow": {
     "slide_type": "subslide"
    }
   },
   "outputs": [
    {
     "name": "stdout",
     "output_type": "stream",
     "text": [
      "1.0\n",
      "1.4142135623730951\n",
      "1.7320508075688772\n",
      "2.0\n",
      "2.23606797749979\n",
      "2.449489742783178\n",
      "2.6457513110645907\n",
      "2.8284271247461903\n",
      "3.0\n",
      "3.1622776601683795\n"
     ]
    }
   ],
   "source": [
    "for x in list_comp:\n",
    "    print(x)"
   ]
  },
  {
   "cell_type": "code",
   "execution_count": 35,
   "metadata": {
    "slideshow": {
     "slide_type": "fragment"
    }
   },
   "outputs": [
    {
     "name": "stdout",
     "output_type": "stream",
     "text": [
      "1.0\n",
      "1.4142135623730951\n",
      "1.7320508075688772\n",
      "2.0\n",
      "2.23606797749979\n",
      "2.449489742783178\n",
      "2.6457513110645907\n",
      "2.8284271247461903\n",
      "3.0\n",
      "3.1622776601683795\n"
     ]
    }
   ],
   "source": [
    "for x in gene_expr:\n",
    "    print(x)"
   ]
  },
  {
   "cell_type": "markdown",
   "metadata": {
    "slideshow": {
     "slide_type": "subslide"
    }
   },
   "source": [
    "* Różnica polega na tym, że *list comprehension* tworzy listę, a więc zajmuje miejsce w pamięci i czas procesora\n",
    "* Wyrażenie generatorowe jest dopiero obliczane przy przechodzeniu przez nie, np. w formie pętli `for`"
   ]
  },
  {
   "cell_type": "code",
   "execution_count": 38,
   "metadata": {
    "slideshow": {
     "slide_type": "fragment"
    }
   },
   "outputs": [],
   "source": [
    "list_comp = [x ** 0.5 for x in range(1, 50_000_001)]"
   ]
  },
  {
   "cell_type": "code",
   "execution_count": 39,
   "metadata": {
    "slideshow": {
     "slide_type": "fragment"
    }
   },
   "outputs": [
    {
     "name": "stdout",
     "output_type": "stream",
     "text": [
      "235702263930.8374\n"
     ]
    }
   ],
   "source": [
    "suma = 0\n",
    "for x in list_comp:\n",
    "    suma += x\n",
    "print(suma)"
   ]
  },
  {
   "cell_type": "code",
   "execution_count": 42,
   "metadata": {
    "slideshow": {
     "slide_type": "subslide"
    }
   },
   "outputs": [],
   "source": [
    "gene_expr = (x ** 0.5 for x in range(1, 50_000_001))\n",
    "# gene_expr nie obliczyło jeszcze tych milionów pierwiastków"
   ]
  },
  {
   "cell_type": "code",
   "execution_count": 43,
   "metadata": {
    "slideshow": {
     "slide_type": "fragment"
    }
   },
   "outputs": [
    {
     "name": "stdout",
     "output_type": "stream",
     "text": [
      "235702263930.8374\n"
     ]
    }
   ],
   "source": [
    "suma = 0\n",
    "for x in gene_expr:\n",
    "    # teraz już kolejne elementy wyrażenia generatorowego są obliczane\n",
    "    suma += x\n",
    "print(suma)"
   ]
  },
  {
   "cell_type": "markdown",
   "metadata": {
    "slideshow": {
     "slide_type": "slide"
    }
   },
   "source": [
    "## Ćwiczenia"
   ]
  },
  {
   "cell_type": "markdown",
   "metadata": {
    "slideshow": {
     "slide_type": "slide"
    }
   },
   "source": [
    "### Ćwiczenie na rozgrzewkę"
   ]
  },
  {
   "cell_type": "markdown",
   "metadata": {
    "slideshow": {
     "slide_type": "fragment"
    }
   },
   "source": [
    "* Utwórz funkcję `lambda`, która przyjmuje jeden parametr (`a`) i zwraca go"
   ]
  },
  {
   "cell_type": "markdown",
   "metadata": {
    "slideshow": {
     "slide_type": "slide"
    }
   },
   "source": [
    "### Rozwiązanie ćwiczenia na rozgrzewkę"
   ]
  },
  {
   "cell_type": "code",
   "execution_count": 44,
   "metadata": {
    "slideshow": {
     "slide_type": "fragment"
    }
   },
   "outputs": [],
   "source": [
    "x = lambda a : a"
   ]
  },
  {
   "cell_type": "code",
   "execution_count": 45,
   "metadata": {
    "slideshow": {
     "slide_type": "fragment"
    }
   },
   "outputs": [
    {
     "name": "stdout",
     "output_type": "stream",
     "text": [
      "3\n"
     ]
    }
   ],
   "source": [
    "print(x(3))"
   ]
  },
  {
   "cell_type": "markdown",
   "metadata": {
    "slideshow": {
     "slide_type": "slide"
    }
   },
   "source": [
    "### Kolejne ćwiczenie na rozgrzewkę"
   ]
  },
  {
   "cell_type": "markdown",
   "metadata": {
    "slideshow": {
     "slide_type": "fragment"
    }
   },
   "source": [
    "Napisz program w Pythonie, aby utworzyć funkcję `lambda`, która dodaje `15` do podanej liczby przekazanej jako argument i zwraca to jako wynik. Następnie wydrukuj wynik."
   ]
  },
  {
   "cell_type": "markdown",
   "metadata": {
    "slideshow": {
     "slide_type": "slide"
    }
   },
   "source": [
    "### Rozwiązania kolejnego ćwiczenia na rozgrzewkę"
   ]
  },
  {
   "cell_type": "code",
   "execution_count": 48,
   "metadata": {
    "slideshow": {
     "slide_type": "fragment"
    }
   },
   "outputs": [
    {
     "name": "stdout",
     "output_type": "stream",
     "text": [
      "25\n"
     ]
    }
   ],
   "source": [
    "r = lambda a: a + 15\n",
    "print(r(10))"
   ]
  },
  {
   "cell_type": "markdown",
   "metadata": {
    "slideshow": {
     "slide_type": "slide"
    }
   },
   "source": [
    "### Kolejne ćwiczenie na rozgrzewkę"
   ]
  },
  {
   "cell_type": "markdown",
   "metadata": {
    "slideshow": {
     "slide_type": "fragment"
    }
   },
   "source": [
    "Utwórz funkcję `lambda`, która mnoży argument `x` przez argument `y` i zwraca to jako wynik. Następnie wydrukuj wynik."
   ]
  },
  {
   "cell_type": "markdown",
   "metadata": {
    "slideshow": {
     "slide_type": "slide"
    }
   },
   "source": [
    "### Rozwiązania kolejnego ćwiczenia na rozgrzewkę"
   ]
  },
  {
   "cell_type": "code",
   "execution_count": 49,
   "metadata": {
    "slideshow": {
     "slide_type": "fragment"
    }
   },
   "outputs": [
    {
     "name": "stdout",
     "output_type": "stream",
     "text": [
      "48\n"
     ]
    }
   ],
   "source": [
    "r = lambda x, y: x * y\n",
    "print(r(12, 4))"
   ]
  },
  {
   "cell_type": "markdown",
   "metadata": {
    "slideshow": {
     "slide_type": "slide"
    }
   },
   "source": [
    "### Ćwiczenie"
   ]
  },
  {
   "cell_type": "markdown",
   "metadata": {
    "slideshow": {
     "slide_type": "fragment"
    }
   },
   "source": [
    "Napisz program w Pythonie wsparcia sortowania listy krotek za pomocą `lambda` po drugim elemencie"
   ]
  },
  {
   "cell_type": "markdown",
   "metadata": {
    "slideshow": {
     "slide_type": "fragment"
    }
   },
   "source": [
    "```python\n",
    "subject_marks = [('Język angielski', 88),\n",
    "                 ('Nauka',           90),\n",
    "                 ('Matematyka',      97),\n",
    "                 ('Nauki społeczne', 82)]\n",
    "```"
   ]
  },
  {
   "cell_type": "markdown",
   "metadata": {
    "slideshow": {
     "slide_type": "slide"
    }
   },
   "source": [
    "### Przykładowe rozwiązanie"
   ]
  },
  {
   "cell_type": "code",
   "execution_count": 50,
   "metadata": {
    "slideshow": {
     "slide_type": "fragment"
    }
   },
   "outputs": [
    {
     "name": "stdout",
     "output_type": "stream",
     "text": [
      "Oryginalna lista krotek:\n",
      "[('Język angielski', 88), ('Nauka', 90), ('Matematyka', 97), ('Nauki społeczne', 82)]\n",
      "\n",
      "Sortowanie listy krotek:\n",
      "[('Nauki społeczne', 82), ('Język angielski', 88), ('Nauka', 90), ('Matematyka', 97)]\n"
     ]
    }
   ],
   "source": [
    "subject_marks = [('Język angielski', 88),\n",
    "                 ('Nauka',           90),\n",
    "                 ('Matematyka',      97),\n",
    "                 ('Nauki społeczne', 82)]\n",
    "print(\"Oryginalna lista krotek:\")\n",
    "print(subject_marks)\n",
    "subject_marks.sort(key=lambda x: x[1])\n",
    "print(\"\\nSortowanie listy krotek:\")\n",
    "print(subject_marks)"
   ]
  },
  {
   "cell_type": "markdown",
   "metadata": {
    "slideshow": {
     "slide_type": "slide"
    }
   },
   "source": [
    "### Ćwiczenie"
   ]
  },
  {
   "cell_type": "markdown",
   "metadata": {
    "slideshow": {
     "slide_type": "fragment"
    }
   },
   "source": [
    "Napisz program w Pythonie, aby posortować za pomocą `lambda` listę słowników po kluczu `model` lub `kolor`."
   ]
  },
  {
   "cell_type": "markdown",
   "metadata": {
    "slideshow": {
     "slide_type": "fragment"
    }
   },
   "source": [
    "```python\n",
    "models = [{'marka': 'Nokia',   'model': '3310',   'kolor': 'Czarny'},\n",
    "          {'marka': 'Apple',   'model': '11',     'kolor': 'Złoty'},\n",
    "          {'marka': 'Samsung', 'model': 'Galaxy', 'kolor': 'Srebrny'}]\n",
    "```"
   ]
  },
  {
   "cell_type": "markdown",
   "metadata": {
    "slideshow": {
     "slide_type": "slide"
    }
   },
   "source": [
    "### Przykładowe rozwiązanie"
   ]
  },
  {
   "cell_type": "code",
   "execution_count": 52,
   "metadata": {
    "slideshow": {
     "slide_type": "fragment"
    }
   },
   "outputs": [
    {
     "name": "stdout",
     "output_type": "stream",
     "text": [
      "Oryginalna lista słowników:\n",
      "[{'marka': 'Nokia', 'model': '3310', 'kolor': 'Czarny'}, {'marka': 'Apple', 'model': '11', 'kolor': 'Złoty'}, {'marka': 'Samsung', 'model': 'Galaxy', 'kolor': 'Srebrny'}]\n",
      "\n",
      "Sortowanie listy słowników:\n",
      "[{'marka': 'Apple', 'model': '11', 'kolor': 'Złoty'}, {'marka': 'Nokia', 'model': '3310', 'kolor': 'Czarny'}, {'marka': 'Samsung', 'model': 'Galaxy', 'kolor': 'Srebrny'}]\n"
     ]
    }
   ],
   "source": [
    "models = [{'marka': 'Nokia',   'model': '3310',   'kolor': 'Czarny'},\n",
    "          {'marka': 'Apple',   'model': '11',     'kolor': 'Złoty'},\n",
    "          {'marka': 'Samsung', 'model': 'Galaxy', 'kolor': 'Srebrny'}]\n",
    "print(\"Oryginalna lista słowników:\")\n",
    "print(models)\n",
    "sorted_models = sorted(models, key=lambda x: x['model'])\n",
    "print(\"\\nSortowanie listy słowników:\")\n",
    "print(sorted_models)"
   ]
  },
  {
   "cell_type": "markdown",
   "metadata": {
    "slideshow": {
     "slide_type": "slide"
    }
   },
   "source": [
    "### Ćwiczenie"
   ]
  },
  {
   "cell_type": "markdown",
   "metadata": {
    "slideshow": {
     "slide_type": "fragment"
    }
   },
   "source": [
    "* Napisz program w Pythonie, aby sprawdzić, czy dany ciąg (`str`) zaczyna się od znaku '`P`', używając `lambda`\n",
    "* Podpowiedź: skorzystaj z funkcji (metody) `startswith()`"
   ]
  },
  {
   "cell_type": "markdown",
   "metadata": {
    "slideshow": {
     "slide_type": "slide"
    }
   },
   "source": [
    "### Przykładowe rozwiązanie"
   ]
  },
  {
   "cell_type": "code",
   "execution_count": 53,
   "metadata": {
    "slideshow": {
     "slide_type": "fragment"
    }
   },
   "outputs": [],
   "source": [
    "starts_with = lambda x: x.startswith('P')"
   ]
  },
  {
   "cell_type": "code",
   "execution_count": 54,
   "metadata": {
    "slideshow": {
     "slide_type": "fragment"
    }
   },
   "outputs": [
    {
     "name": "stdout",
     "output_type": "stream",
     "text": [
      "True\n"
     ]
    }
   ],
   "source": [
    "print(starts_with('Python'))"
   ]
  },
  {
   "cell_type": "code",
   "execution_count": 55,
   "metadata": {
    "slideshow": {
     "slide_type": "fragment"
    }
   },
   "outputs": [
    {
     "name": "stdout",
     "output_type": "stream",
     "text": [
      "False\n"
     ]
    }
   ],
   "source": [
    "print(starts_with('Java'))"
   ]
  },
  {
   "cell_type": "markdown",
   "metadata": {
    "slideshow": {
     "slide_type": "slide"
    }
   },
   "source": [
    "### Ćwiczenie"
   ]
  },
  {
   "cell_type": "markdown",
   "metadata": {
    "slideshow": {
     "slide_type": "fragment"
    }
   },
   "source": [
    "* Napisz program w Pythonie, aby wyodrębnić rok, miesiąc, dzień i godzinę za pomocą `lambda`\n",
    "* Podpowiedź: skorzystaj z modułu `datetime`:\n",
    "  * `now = datetime.datetime.now()` - przypisuje do `now` aktualną lokalną datę i godzinę.\n",
    "  * `now.year` - wyodrębnia i zwraca rok z `now`.\n",
    "  * `now.month` - wyodrębnia i zwraca miesiąc z `now`.\n",
    "  * `now.day` - wyodrębnia i zwraca dzień z `now`.\n",
    "  * `now.time()` - wyodrębnia i zwraca godzinę z `now`."
   ]
  },
  {
   "cell_type": "markdown",
   "metadata": {
    "slideshow": {
     "slide_type": "slide"
    }
   },
   "source": [
    "### Przykładowe rozwiązanie"
   ]
  },
  {
   "cell_type": "code",
   "execution_count": 56,
   "metadata": {
    "slideshow": {
     "slide_type": "fragment"
    }
   },
   "outputs": [
    {
     "name": "stdout",
     "output_type": "stream",
     "text": [
      "2023-09-14 20:17:12.597818\n",
      "2023\n",
      "9\n",
      "14\n",
      "20:17:12.597818\n"
     ]
    }
   ],
   "source": [
    "import datetime\n",
    "now = datetime.datetime.now()\n",
    "print(now)\n",
    "year = lambda x: x.year\n",
    "month = lambda x: x.month\n",
    "day = lambda x: x.day\n",
    "t = lambda x: x.time()\n",
    "print(year(now))\n",
    "print(month(now))\n",
    "print(day(now))\n",
    "print(t(now))"
   ]
  },
  {
   "cell_type": "markdown",
   "metadata": {
    "slideshow": {
     "slide_type": "slide"
    }
   },
   "source": [
    "### Ćwiczenie"
   ]
  },
  {
   "cell_type": "markdown",
   "metadata": {
    "slideshow": {
     "slide_type": "fragment"
    }
   },
   "source": [
    "* Napisz program w Pythonie, aby sprawdzić, czy dany ciąg jest liczbą, czy nie, używając `lambda`\n",
    "* Podpowiedź: przydatna metoda to\\\n",
    "    `string.replace(oldvalue, newvalue, count)`\\\n",
    "    Składnia parametrów:\n",
    "  * `oldvalue`\t– \tWymagany; ciąg do wyszukania\n",
    "  * `newvalue`\t– \tWymagany; ciąg znaków, który ma zastąpić starą wartość\n",
    "  * `count`\t\t– \tOpcjonalny; liczba określająca, ile wystąpień starej wartości chcesz zastąpić; domyślnie są to wszystkie wystąpienia"
   ]
  },
  {
   "cell_type": "markdown",
   "metadata": {
    "slideshow": {
     "slide_type": "slide"
    }
   },
   "source": [
    "### Przykładowe rozwiązanie"
   ]
  },
  {
   "cell_type": "code",
   "execution_count": 57,
   "metadata": {
    "slideshow": {
     "slide_type": "fragment"
    }
   },
   "outputs": [
    {
     "name": "stdout",
     "output_type": "stream",
     "text": [
      "True\n",
      "True\n",
      "False\n",
      "True\n",
      "False\n",
      "True\n",
      "\n",
      "Wydrukuj liczby kontrolne:\n",
      "True\n",
      "True\n"
     ]
    }
   ],
   "source": [
    "is_num = lambda q: q.replace('.', '', 1).isdigit()\n",
    "print(is_num('26587'))\n",
    "print(is_num('4.2365'))\n",
    "print(is_num('-12547'))\n",
    "print(is_num('00'))\n",
    "print(is_num('A001'))\n",
    "print(is_num('001'))\n",
    "print(\"\\nWydrukuj liczby kontrolne:\")\n",
    "is_num1 = lambda r: is_num(r[1:]) if r[0] == '-' else is_num(r)\n",
    "print(is_num1('-16.4'))\n",
    "print(is_num1('-24587.11'))"
   ]
  },
  {
   "cell_type": "markdown",
   "metadata": {
    "slideshow": {
     "slide_type": "slide"
    }
   },
   "source": [
    "### Ćwiczenie"
   ]
  },
  {
   "cell_type": "markdown",
   "metadata": {
    "slideshow": {
     "slide_type": "fragment"
    }
   },
   "source": [
    "Napisz program w Pythonie do filtrowania listy liczb parzystych i nieparzystych całkowitych za pomocą `lambda` i `filter`"
   ]
  },
  {
   "cell_type": "markdown",
   "metadata": {
    "slideshow": {
     "slide_type": "fragment"
    }
   },
   "source": [
    "```python\n",
    "nums = [1, 2, 3, 4, 5, 6, 7, 8, 9, 10]\n",
    "```"
   ]
  },
  {
   "cell_type": "markdown",
   "metadata": {
    "slideshow": {
     "slide_type": "slide"
    }
   },
   "source": [
    "### Przykładowe rozwiązanie"
   ]
  },
  {
   "cell_type": "code",
   "execution_count": 58,
   "metadata": {
    "slideshow": {
     "slide_type": "fragment"
    }
   },
   "outputs": [
    {
     "name": "stdout",
     "output_type": "stream",
     "text": [
      "Oryginalna lista liczb całkowitych:\n",
      "[1, 2, 3, 4, 5, 6, 7, 8, 9, 10]\n",
      "\n",
      "Parzyste liczby ze wspomnianej listy:\n",
      "[2, 4, 6, 8, 10]\n",
      "\n",
      "Nieparzyste liczby ze wspomnianej listy:\n",
      "[1, 3, 5, 7, 9]\n"
     ]
    }
   ],
   "source": [
    "nums = [1, 2, 3, 4, 5, 6, 7, 8, 9, 10]\n",
    "print(\"Oryginalna lista liczb całkowitych:\")\n",
    "print(nums)\n",
    "print(\"\\nParzyste liczby ze wspomnianej listy:\")\n",
    "even_nums = list(filter(lambda x: x % 2 == 0, nums))\n",
    "print(even_nums)\n",
    "print(\"\\nNieparzyste liczby ze wspomnianej listy:\")\n",
    "odd_nums = list(filter(lambda x: x % 2 != 0, nums))\n",
    "print(odd_nums)"
   ]
  },
  {
   "cell_type": "markdown",
   "metadata": {
    "slideshow": {
     "slide_type": "slide"
    }
   },
   "source": [
    "### Ćwiczenie"
   ]
  },
  {
   "cell_type": "markdown",
   "metadata": {
    "slideshow": {
     "slide_type": "fragment"
    }
   },
   "source": [
    "Napisz program w Pythonie, aby znaleźć przecięcie dwóch podanych list za pomocą `lambda` i `filter`"
   ]
  },
  {
   "cell_type": "markdown",
   "metadata": {
    "slideshow": {
     "slide_type": "fragment"
    }
   },
   "source": [
    "```python\n",
    "array_nums1 = [1, 2, 3, 5, 7, 8, 9, 10]\n",
    "array_nums2 = [1, 2, 4, 8, 9]\n",
    "```"
   ]
  },
  {
   "cell_type": "markdown",
   "metadata": {
    "slideshow": {
     "slide_type": "slide"
    }
   },
   "source": [
    "### Przykładowe rozwiązanie"
   ]
  },
  {
   "cell_type": "code",
   "execution_count": 59,
   "metadata": {
    "slideshow": {
     "slide_type": "fragment"
    }
   },
   "outputs": [
    {
     "name": "stdout",
     "output_type": "stream",
     "text": [
      "Oryginalne tablice:\n",
      "[1, 2, 3, 5, 7, 8, 9, 10]\n",
      "[1, 2, 4, 8, 9]\n",
      "\n",
      "Przecięcie wspomnianych tablic: [1, 2, 8, 9]\n"
     ]
    }
   ],
   "source": [
    "array_nums1 = [1, 2, 3, 5, 7, 8, 9, 10]\n",
    "array_nums2 = [1, 2, 4, 8, 9]\n",
    "print(\"Oryginalne tablice:\")\n",
    "print(array_nums1)\n",
    "print(array_nums2)\n",
    "result = list(filter(lambda x: x in array_nums1, array_nums2))\n",
    "print(\"\\nPrzecięcie wspomnianych tablic:\", result)"
   ]
  },
  {
   "cell_type": "markdown",
   "metadata": {
    "slideshow": {
     "slide_type": "slide"
    }
   },
   "source": [
    "### Ćwiczenie"
   ]
  },
  {
   "cell_type": "markdown",
   "metadata": {
    "slideshow": {
     "slide_type": "fragment"
    }
   },
   "source": [
    "Napisz program w Pythonie, aby policzyć parzyste i nieparzyste liczby w danej tablicy liczb całkowitych, używając `lambda` i `filter`"
   ]
  },
  {
   "cell_type": "markdown",
   "metadata": {
    "slideshow": {
     "slide_type": "fragment"
    }
   },
   "source": [
    "```python\n",
    "array_nums = [1, 2, 3, 5, 7, 8, 9, 10]\n",
    "```"
   ]
  },
  {
   "cell_type": "markdown",
   "metadata": {
    "slideshow": {
     "slide_type": "slide"
    }
   },
   "source": [
    "### Przykładowe rozwiązanie"
   ]
  },
  {
   "cell_type": "code",
   "execution_count": 60,
   "metadata": {
    "slideshow": {
     "slide_type": "fragment"
    }
   },
   "outputs": [
    {
     "name": "stdout",
     "output_type": "stream",
     "text": [
      "Oryginalna tablica:\n",
      "[1, 2, 3, 5, 7, 8, 9, 10]\n",
      "\n",
      "Liczba liczb parzystych w powyższej tablicy:  3\n",
      "\n",
      "Liczba liczb nieparzystych w powyższej tablicy:  5\n"
     ]
    }
   ],
   "source": [
    "array_nums = [1, 2, 3, 5, 7, 8, 9, 10]\n",
    "print(\"Oryginalna tablica:\")\n",
    "print(array_nums)\n",
    "odd_ctr = len(list(filter(lambda x: x % 2 != 0, array_nums)))\n",
    "even_ctr = len(list(filter(lambda x: x % 2 == 0, array_nums)))\n",
    "print(\"\\nLiczba liczb parzystych w powyższej tablicy: \", even_ctr)\n",
    "print(\"\\nLiczba liczb nieparzystych w powyższej tablicy: \", odd_ctr)"
   ]
  },
  {
   "cell_type": "markdown",
   "metadata": {
    "slideshow": {
     "slide_type": "slide"
    }
   },
   "source": [
    "### Ćwiczenie"
   ]
  },
  {
   "cell_type": "markdown",
   "metadata": {
    "slideshow": {
     "slide_type": "fragment"
    }
   },
   "source": [
    "Napisz program w Pythonie, aby znaleźć wartości o długości sześć na podanej liście za pomocą funkcji `lambda` i `filter`"
   ]
  },
  {
   "cell_type": "markdown",
   "metadata": {
    "slideshow": {
     "slide_type": "fragment"
    }
   },
   "source": [
    "```python\n",
    "weekdays = ['Poniedziałek', 'Wtorek', 'Środa', 'Czwartek', 'Piątek', 'Sobota', 'Niedziela']\n",
    "```"
   ]
  },
  {
   "cell_type": "markdown",
   "metadata": {
    "slideshow": {
     "slide_type": "slide"
    }
   },
   "source": [
    "### Przykładowe rozwiązanie"
   ]
  },
  {
   "cell_type": "code",
   "execution_count": 63,
   "metadata": {
    "slideshow": {
     "slide_type": "fragment"
    }
   },
   "outputs": [
    {
     "name": "stdout",
     "output_type": "stream",
     "text": [
      "Wtorek\n",
      "Piątek\n",
      "Sobota\n"
     ]
    }
   ],
   "source": [
    "weekdays = ['Poniedziałek', 'Wtorek', 'Środa', 'Czwartek', 'Piątek', 'Sobota', 'Niedziela']\n",
    "days = filter(lambda day: len(day) == 6, weekdays)\n",
    "# print(days)\n",
    "for d in days:\n",
    "    print(d)"
   ]
  },
  {
   "cell_type": "markdown",
   "metadata": {
    "slideshow": {
     "slide_type": "slide"
    }
   },
   "source": [
    "### Ćwiczenie"
   ]
  },
  {
   "cell_type": "markdown",
   "metadata": {
    "slideshow": {
     "slide_type": "fragment"
    }
   },
   "source": [
    "Napisz program w Pythonie, aby znaleźć liczby podzielne przez dziewiętnaście lub trzynaście z listy liczb za pomocą `lambda` i `filter`"
   ]
  },
  {
   "cell_type": "markdown",
   "metadata": {
    "slideshow": {
     "slide_type": "fragment"
    }
   },
   "source": [
    "```python\n",
    "nums = [19, 65, 57, 39, 152, 639, 121, 44, 90, 190]\n",
    "```"
   ]
  },
  {
   "cell_type": "markdown",
   "metadata": {
    "slideshow": {
     "slide_type": "slide"
    }
   },
   "source": [
    "### Przykładowe rozwiązanie"
   ]
  },
  {
   "cell_type": "code",
   "execution_count": 64,
   "metadata": {
    "slideshow": {
     "slide_type": "fragment"
    }
   },
   "outputs": [
    {
     "name": "stdout",
     "output_type": "stream",
     "text": [
      "Oryginalna lista:\n",
      "[19, 65, 57, 39, 152, 639, 121, 44, 90, 190]\n",
      "\n",
      "Liczby z poniższej listy są podzielne przez 19 lub 13:\n",
      "[19, 65, 57, 39, 152, 190]\n"
     ]
    }
   ],
   "source": [
    "nums = [19, 65, 57, 39, 152, 639, 121, 44, 90, 190]\n",
    "print(\"Oryginalna lista:\")\n",
    "print(nums)\n",
    "result = list(filter(lambda x: x % 19 == 0 or x % 13 == 0, nums))\n",
    "print(\"\\nLiczby z poniższej listy są podzielne przez 19 lub 13:\")\n",
    "print(result)"
   ]
  },
  {
   "cell_type": "markdown",
   "metadata": {
    "slideshow": {
     "slide_type": "slide"
    }
   },
   "source": [
    "### Ćwiczenie"
   ]
  },
  {
   "cell_type": "markdown",
   "metadata": {
    "slideshow": {
     "slide_type": "fragment"
    }
   },
   "source": [
    "* Napisz program w Pythonie, aby znaleźć palindromy na podanej liście ciągów za pomocą `lambda` i `filter`\n",
    "* Palindrom – wyrażenie brzmiące tak samo czytane od lewej do prawej i od prawej do lewej\n",
    "* Przykładem palindromu jest: „kobyła ma mały bok”"
   ]
  },
  {
   "cell_type": "markdown",
   "metadata": {
    "slideshow": {
     "slide_type": "fragment"
    }
   },
   "source": [
    "```python\n",
    "texts = [\"php\", \"w3r\", \"Python\", \"abcd\", \"Java\", \"aaa\"]\n",
    "```"
   ]
  },
  {
   "cell_type": "markdown",
   "metadata": {
    "slideshow": {
     "slide_type": "slide"
    }
   },
   "source": [
    "### Przykładowe rozwiązanie"
   ]
  },
  {
   "cell_type": "code",
   "execution_count": 65,
   "metadata": {
    "slideshow": {
     "slide_type": "fragment"
    }
   },
   "outputs": [
    {
     "name": "stdout",
     "output_type": "stream",
     "text": [
      "Oryginalna lista ciągów:\n",
      "['php', 'w3r', 'Python', 'abcd', 'Java', 'aaa']\n",
      "\n",
      "Lista palindromów:\n",
      "['php', 'aaa']\n"
     ]
    }
   ],
   "source": [
    "texts = [\"php\", \"w3r\", \"Python\", \"abcd\", \"Java\", \"aaa\"]\n",
    "print(\"Oryginalna lista ciągów:\")\n",
    "print(texts)\n",
    "result = list(filter(lambda x: x == x[::-1], texts))\n",
    "print(\"\\nLista palindromów:\")\n",
    "print(result)"
   ]
  },
  {
   "cell_type": "markdown",
   "metadata": {
    "slideshow": {
     "slide_type": "slide"
    }
   },
   "source": [
    "### Ćwiczenie"
   ]
  },
  {
   "cell_type": "markdown",
   "metadata": {
    "slideshow": {
     "slide_type": "fragment"
    }
   },
   "source": [
    "* Napisz program w Pythonie, który zsumuje długość imion z danej listy imion, ale tylko takich, które rozpoczynają się od dużej litery, a pozostałe litery mają małe\n",
    "* Użyj funkcji `lambda`"
   ]
  },
  {
   "cell_type": "markdown",
   "metadata": {
    "slideshow": {
     "slide_type": "fragment"
    }
   },
   "source": [
    "```python\n",
    "sample_names = ['antoni', 'Jakub', 'zuzanna', 'Julia', 'Jan', 'szymon']\n",
    "```"
   ]
  },
  {
   "cell_type": "markdown",
   "metadata": {
    "slideshow": {
     "slide_type": "slide"
    }
   },
   "source": [
    "### Przykładowe rozwiązanie"
   ]
  },
  {
   "cell_type": "code",
   "execution_count": 66,
   "metadata": {
    "slideshow": {
     "slide_type": "fragment"
    }
   },
   "outputs": [
    {
     "name": "stdout",
     "output_type": "stream",
     "text": [
      "Wynik:\n",
      "13\n"
     ]
    }
   ],
   "source": [
    "sample_names = ['antoni', 'Jakub', 'zuzanna', 'Julia', 'Jan', 'szymon']\n",
    "sample_names=list(filter(lambda el: el[0].isupper() and el[1:].islower(), sample_names))\n",
    "print(\"Wynik:\")\n",
    "print(len(''.join(sample_names)))"
   ]
  },
  {
   "cell_type": "markdown",
   "metadata": {
    "slideshow": {
     "slide_type": "slide"
    }
   },
   "source": [
    "### Ćwiczenie"
   ]
  },
  {
   "cell_type": "markdown",
   "metadata": {
    "slideshow": {
     "slide_type": "fragment"
    }
   },
   "source": [
    "Napisz program w Pythonie podnoszący do kwadratu i sześcianu każdą liczbę z podanej listy liczb całkowitych, używając `lambda` i `map`"
   ]
  },
  {
   "cell_type": "markdown",
   "metadata": {
    "slideshow": {
     "slide_type": "fragment"
    }
   },
   "source": [
    "```python\n",
    "nums = [1, 2, 3, 4, 5, 6, 7, 8, 9, 10]\n",
    "```"
   ]
  },
  {
   "cell_type": "markdown",
   "metadata": {
    "slideshow": {
     "slide_type": "slide"
    }
   },
   "source": [
    "### Przykładowe rozwiązanie"
   ]
  },
  {
   "cell_type": "code",
   "execution_count": null,
   "metadata": {
    "slideshow": {
     "slide_type": "fragment"
    }
   },
   "outputs": [],
   "source": [
    "nums = [1, 2, 3, 4, 5, 6, 7, 8, 9, 10]\n",
    "print(\"Oryginalna lista liczb całkowitych:\")\n",
    "print(nums)\n",
    "print(\"\\nKwadrat każdej liczby z listy:\")\n",
    "square_nums = list(map(lambda x: x ** 2, nums))\n",
    "print(square_nums)\n",
    "print(\"\\nSześcian każdej liczby z listy:\")\n",
    "cube_nums = list(map(lambda x: x ** 3, nums))\n",
    "print(cube_nums)"
   ]
  },
  {
   "cell_type": "markdown",
   "metadata": {
    "slideshow": {
     "slide_type": "slide"
    }
   },
   "source": [
    "### Ćwiczenie"
   ]
  },
  {
   "cell_type": "markdown",
   "metadata": {
    "slideshow": {
     "slide_type": "fragment"
    }
   },
   "source": [
    "* Napisz program w Pythonie, który za pomocą funkcji `lambda` mnoży każdą liczbę z podanej listy przez określoną liczbę\n",
    "* Wydrukuj wynik"
   ]
  },
  {
   "cell_type": "markdown",
   "metadata": {
    "slideshow": {
     "slide_type": "fragment"
    }
   },
   "source": [
    "```python\n",
    "nums = [2, 4, 6, 9, 11]\n",
    "n = 2\n",
    "```"
   ]
  },
  {
   "cell_type": "markdown",
   "metadata": {
    "slideshow": {
     "slide_type": "slide"
    }
   },
   "source": [
    "### Przykładowe rozwiązanie"
   ]
  },
  {
   "cell_type": "code",
   "execution_count": null,
   "metadata": {
    "slideshow": {
     "slide_type": "fragment"
    }
   },
   "outputs": [],
   "source": [
    "nums = [2, 4, 6, 9, 11]\n",
    "n = 2\n",
    "print(\"Oryginalna lista:\", nums)\n",
    "print(\"Podana liczba:\", n)\n",
    "filtered_numbers = list(map(lambda number: number*n, nums))\n",
    "print(\"Wynik jako list:\", filtered_numbers)\n",
    "filtered_numbers_spaces = '  '.join(map(str, filtered_numbers))\n",
    "print(\"Wynik jako str:\", filtered_numbers_spaces)"
   ]
  },
  {
   "cell_type": "markdown",
   "metadata": {
    "slideshow": {
     "slide_type": "slide"
    }
   },
   "source": [
    "### Ćwiczenie"
   ]
  },
  {
   "cell_type": "markdown",
   "metadata": {
    "slideshow": {
     "slide_type": "fragment"
    }
   },
   "source": [
    "Napisz program w Pythonie, aby dodać dwie podane listy za pomocą `map` i `lambda`"
   ]
  },
  {
   "cell_type": "markdown",
   "metadata": {
    "slideshow": {
     "slide_type": "fragment"
    }
   },
   "source": [
    "```python\n",
    "nums1 = [1, 2, 3]\n",
    "nums2 = [4, 5, 6]\n",
    "```"
   ]
  },
  {
   "cell_type": "markdown",
   "metadata": {
    "slideshow": {
     "slide_type": "slide"
    }
   },
   "source": [
    "### Przykładowe rozwiązanie"
   ]
  },
  {
   "cell_type": "code",
   "execution_count": null,
   "metadata": {
    "slideshow": {
     "slide_type": "fragment"
    }
   },
   "outputs": [],
   "source": [
    "nums1 = [1, 2, 3]\n",
    "nums2 = [4, 5, 6]\n",
    "print(\"Oryginalna lista:\")\n",
    "print(nums1)\n",
    "print(nums2)\n",
    "result = map(lambda x, y: x + y, nums1, nums2)\n",
    "print(\"\\nWynik: po dodaniu dwóch list\")\n",
    "print(list(result))"
   ]
  },
  {
   "cell_type": "markdown",
   "metadata": {
    "slideshow": {
     "slide_type": "slide"
    }
   },
   "source": [
    "### Ćwiczenie"
   ]
  },
  {
   "cell_type": "markdown",
   "metadata": {
    "slideshow": {
     "slide_type": "fragment"
    }
   },
   "source": [
    "* Napisz program w Pythonie, który usuwa liczby dodatnie z podanej listy liczb\n",
    "* Zsumuj liczby ujemne i wydrukuj wartość bezwzględną za pomocą tworzenia listy – ang. *list comprehension*\n",
    "* Wydrukuj wynik"
   ]
  },
  {
   "cell_type": "markdown",
   "metadata": {
    "slideshow": {
     "slide_type": "fragment"
    }
   },
   "source": [
    "```python\n",
    "nums = [2, 4, -6, -9, 11, -12, 14, -5, 17]\n",
    "```"
   ]
  },
  {
   "cell_type": "markdown",
   "metadata": {
    "slideshow": {
     "slide_type": "slide"
    }
   },
   "source": [
    "### Przykładowe rozwiązanie"
   ]
  },
  {
   "cell_type": "code",
   "execution_count": null,
   "metadata": {
    "slideshow": {
     "slide_type": "fragment"
    }
   },
   "outputs": [],
   "source": [
    "nums = [2, 4, -6, -9, 11, -12, 14, -5, 17]\n",
    "print(\"Oryginalna lista: \", nums)\n",
    "print(\"Wynik:\")\n",
    "print(abs(sum([i for i in nums if i < 0])))"
   ]
  },
  {
   "cell_type": "markdown",
   "metadata": {
    "slideshow": {
     "slide_type": "slide"
    }
   },
   "source": [
    "### Ćwiczenie"
   ]
  },
  {
   "cell_type": "markdown",
   "metadata": {
    "slideshow": {
     "slide_type": "fragment"
    }
   },
   "source": [
    "* Napisz program w Pythonie, aby zmienić kolejność liczb dodatnich i ujemnych w danej liście (najpierw wszystkie ujemne, potem wszystkie dodatnie) za pomocą tworzenia listy – ang. *list comprehension*"
   ]
  },
  {
   "cell_type": "markdown",
   "metadata": {
    "slideshow": {
     "slide_type": "fragment"
    }
   },
   "source": [
    "```python\n",
    "array_nums = [-1, 2, -3, 5, 7, 8, 9, -10]\n",
    "```"
   ]
  },
  {
   "cell_type": "markdown",
   "metadata": {
    "slideshow": {
     "slide_type": "slide"
    }
   },
   "source": [
    "### Przykładowe rozwiązanie"
   ]
  },
  {
   "cell_type": "code",
   "execution_count": null,
   "metadata": {
    "slideshow": {
     "slide_type": "fragment"
    }
   },
   "outputs": [],
   "source": [
    "array_nums = [-1, 2, -3, 5, 7, 8, 9, -10]\n",
    "print(\"Oryginalna tablica:\")\n",
    "print(array_nums)\n",
    "result = [x for x in array_nums if x < 0] + [x for x in array_nums if x >= 0]\n",
    "print(\"\\nZmiana kolejności liczb dodatnich i ujemnych wspomnianej tablicy:\")\n",
    "print(result)"
   ]
  },
  {
   "cell_type": "markdown",
   "metadata": {
    "slideshow": {
     "slide_type": "slide"
    }
   },
   "source": [
    "### Ćwiczenie"
   ]
  },
  {
   "cell_type": "markdown",
   "metadata": {
    "slideshow": {
     "slide_type": "fragment"
    }
   },
   "source": [
    "* Napisz program w Pythonie, aby:\n",
    "  * Znaleźć liczby z podanego ciągu\n",
    "  * Zapisać je na liście\n",
    "  * Wyświetlić liczby w posortowanej formie\n",
    "* Użyj funkcji tworzenia listy – ang. *list comprehension*, aby rozwiązać problem"
   ]
  },
  {
   "cell_type": "markdown",
   "metadata": {
    "slideshow": {
     "slide_type": "fragment"
    }
   },
   "source": [
    "```python\n",
    "str1 = \"sdf 23 safs8 5 sdfsd8 sdfs 56 21sfs 20 5\"\n",
    "```"
   ]
  },
  {
   "cell_type": "markdown",
   "metadata": {
    "slideshow": {
     "slide_type": "slide"
    }
   },
   "source": [
    "### Przykładowe rozwiązanie"
   ]
  },
  {
   "cell_type": "code",
   "execution_count": null,
   "metadata": {
    "slideshow": {
     "slide_type": "fragment"
    }
   },
   "outputs": [],
   "source": [
    "str1 = \"sdf 23 safs8 5 sdfsd8 sdfs 56 21sfs 20 5\"\n",
    "print(\"Oryginalny ciąg: \", str1)\n",
    "str_num = str1.split()\n",
    "print(\"Oryginalna lista: \", str_num)\n",
    "numbers = sorted([int(x) for x in str_num if x.isdigit()])\n",
    "print('Liczby w posortowanej formie:')\n",
    "for i in numbers:\n",
    "    print(i, end=' ')"
   ]
  },
  {
   "cell_type": "markdown",
   "metadata": {
    "slideshow": {
     "slide_type": "slide"
    }
   },
   "source": [
    "## Zadania utrwalające"
   ]
  },
  {
   "cell_type": "markdown",
   "metadata": {
    "slideshow": {
     "slide_type": "slide"
    }
   },
   "source": [
    "### Zadanie 1"
   ]
  },
  {
   "cell_type": "markdown",
   "metadata": {
    "slideshow": {
     "slide_type": "fragment"
    }
   },
   "source": [
    "* Napisz funkcję anonimową obliczającą kwadrat danej wartości\n",
    "* Czy potrafisz wytłumaczyć czym się to różni od użycia funkcji\n",
    "```python\n",
    "pow(a, b)\n",
    "```\n",
    "lub operatora\n",
    "```python\n",
    "a ** b\n",
    "```\n",
    "?"
   ]
  },
  {
   "cell_type": "markdown",
   "metadata": {
    "slideshow": {
     "slide_type": "slide"
    }
   },
   "source": [
    "### Zadanie 2"
   ]
  },
  {
   "cell_type": "markdown",
   "metadata": {
    "slideshow": {
     "slide_type": "fragment"
    }
   },
   "source": [
    "* Napisz funkcję anonimową obliczającą średnią arytmetyczną dwóch wartości"
   ]
  },
  {
   "cell_type": "markdown",
   "metadata": {
    "slideshow": {
     "slide_type": "slide"
    }
   },
   "source": [
    "### Zadanie 3"
   ]
  },
  {
   "cell_type": "markdown",
   "metadata": {
    "slideshow": {
     "slide_type": "fragment"
    }
   },
   "source": [
    "* Napisz funkcję anonimową sprawdzającą czy dana wartość jest większa (lub mniejsza) od pewnej wartości\n",
    "* Taka funkcja anonimowa powinna zwracać wartość logiczną"
   ]
  },
  {
   "cell_type": "markdown",
   "metadata": {
    "slideshow": {
     "slide_type": "slide"
    }
   },
   "source": [
    "### Zadanie 4"
   ]
  },
  {
   "cell_type": "markdown",
   "metadata": {
    "slideshow": {
     "slide_type": "fragment"
    }
   },
   "source": [
    "* Znajdź wszystkie wartości mniejsze od `36.6`"
   ]
  },
  {
   "cell_type": "markdown",
   "metadata": {
    "slideshow": {
     "slide_type": "slide"
    }
   },
   "source": [
    "### Zadanie 5"
   ]
  },
  {
   "cell_type": "markdown",
   "metadata": {
    "slideshow": {
     "slide_type": "fragment"
    }
   },
   "source": [
    "* Odfiltruj wszystkie wartości, które są:\n",
    "  * Mniejsze bądź równe `35.0`, lub \n",
    "  * Większe bądź równe `40.0`"
   ]
  },
  {
   "cell_type": "markdown",
   "metadata": {
    "slideshow": {
     "slide_type": "slide"
    }
   },
   "source": [
    "### Zadanie 6"
   ]
  },
  {
   "cell_type": "markdown",
   "metadata": {
    "slideshow": {
     "slide_type": "fragment"
    }
   },
   "source": [
    "* Oblicz dla każdej liczby w zbiorze temperatur kwadrat:\n",
    "  * Różnicy tej liczby, i\n",
    "  * Średniej arytmetycznej całego zbioru"
   ]
  },
  {
   "cell_type": "markdown",
   "metadata": {
    "slideshow": {
     "slide_type": "slide"
    }
   },
   "source": [
    "### Zadanie 7"
   ]
  },
  {
   "cell_type": "markdown",
   "metadata": {
    "slideshow": {
     "slide_type": "fragment"
    }
   },
   "source": [
    "* Mając obliczone wartości odchyleń temperatur od średniej temperatury, oblicz **wariancję** tych wartości\n",
    "* Wariancja:\n",
    "  * Klasyczna **miara zmienności**\n",
    "  * Intuicyjnie utożsamiana ze zróżnicowaniem zbiorowości\n",
    "  * Jest **średnią arytmetyczną kwadratów odchyleń** (różnic):\n",
    "    * Poszczególnych wartości **cechy**, od \n",
    "    * **Wartości oczekiwanej**\n",
    "  * [https://www.matemaks.pl/wariancja.html](https://www.matemaks.pl/wariancja.html)\n",
    "* Nie zapomnij o podzieleniu przez ilość elementów w zbiorze!"
   ]
  },
  {
   "cell_type": "markdown",
   "metadata": {
    "slideshow": {
     "slide_type": "slide"
    }
   },
   "source": [
    "### Zadanie 8"
   ]
  },
  {
   "cell_type": "markdown",
   "metadata": {
    "slideshow": {
     "slide_type": "fragment"
    }
   },
   "source": [
    "* Napisz pogram, który policzy kwadraty liczb z zakresu `[1,10000]`, które podzielne są przez:\n",
    "  * `5`, lub \n",
    "  * `9`\n",
    "* Następnie sprawdź, które z uzyskanych liczb są podzielne:\n",
    "  * Zarówno przez `5`,\n",
    "  * Jak i przez `9`"
   ]
  },
  {
   "cell_type": "markdown",
   "metadata": {
    "slideshow": {
     "slide_type": "slide"
    }
   },
   "source": [
    "### Zadanie 9"
   ]
  },
  {
   "cell_type": "markdown",
   "metadata": {
    "slideshow": {
     "slide_type": "fragment"
    }
   },
   "source": [
    "* Stwórz zbiór, który wypełnisz `30` wywołaniami funkcji:\n",
    "```python\n",
    "random.randint(1, 30)\n",
    "```\n",
    "* Ile razy wylosowana została ta sama wartość?\n",
    "* Sprawdzisz to porównując liczbę elementów zbioru.\n",
    "* Jak się zachowa program, jeśli zmienisz argumenty do funkcji `randint`? \n",
    "* A jeśli zmienisz liczbę wywołań tej funkcji?"
   ]
  },
  {
   "cell_type": "markdown",
   "metadata": {
    "slideshow": {
     "slide_type": "slide"
    }
   },
   "source": [
    "### Zadanie 10"
   ]
  },
  {
   "cell_type": "markdown",
   "metadata": {
    "slideshow": {
     "slide_type": "fragment"
    }
   },
   "source": [
    "* Napisz program w Pythonie do tworzenia ciągu Fibonacciego aż do `n` za pomocą `lambda` i `reduce`\n",
    "* Podpowiedzi:\n",
    "  * Da się to zrobić w zasadzie w jednej linijce!\n",
    "  * Przypomnij sobie, co robiła zmienna `_`"
   ]
  },
  {
   "cell_type": "markdown",
   "metadata": {
    "slideshow": {
     "slide_type": "skip"
    }
   },
   "source": [
    "### Przykładowe rozwiązanie zadania 10"
   ]
  },
  {
   "cell_type": "code",
   "execution_count": null,
   "metadata": {
    "slideshow": {
     "slide_type": "skip"
    }
   },
   "outputs": [],
   "source": [
    "from functools import reduce\n",
    "fib_series = lambda n: reduce(lambda x, _: x + [x[-1] + x[-2]],range(n - 2), [0, 1])"
   ]
  },
  {
   "cell_type": "code",
   "execution_count": null,
   "metadata": {
    "slideshow": {
     "slide_type": "skip"
    }
   },
   "outputs": [],
   "source": [
    "print(\"Ciąg Fibonacciego do 2:\")\n",
    "print(fib_series(2))"
   ]
  },
  {
   "cell_type": "code",
   "execution_count": null,
   "metadata": {
    "slideshow": {
     "slide_type": "skip"
    }
   },
   "outputs": [],
   "source": [
    "print(\"Ciąg Fibonacciego do 5:\")\n",
    "print(fib_series(5))"
   ]
  },
  {
   "cell_type": "code",
   "execution_count": null,
   "metadata": {
    "slideshow": {
     "slide_type": "skip"
    }
   },
   "outputs": [],
   "source": [
    "print(\"Ciąg Fibonacciego do 6:\")\n",
    "print(fib_series(6))"
   ]
  },
  {
   "cell_type": "code",
   "execution_count": null,
   "metadata": {
    "slideshow": {
     "slide_type": "skip"
    }
   },
   "outputs": [],
   "source": [
    "print(\"Ciąg Fibonacciego do 9:\")\n",
    "print(fib_series(9))"
   ]
  },
  {
   "cell_type": "code",
   "execution_count": null,
   "metadata": {
    "slideshow": {
     "slide_type": "skip"
    }
   },
   "outputs": [],
   "source": []
  }
 ],
 "metadata": {
  "celltoolbar": "Slideshow",
  "kernelspec": {
   "display_name": "Python 3 (ipykernel)",
   "language": "python",
   "name": "python3"
  },
  "language_info": {
   "codemirror_mode": {
    "name": "ipython",
    "version": 3
   },
   "file_extension": ".py",
   "mimetype": "text/x-python",
   "name": "python",
   "nbconvert_exporter": "python",
   "pygments_lexer": "ipython3",
   "version": "3.11.5"
  }
 },
 "nbformat": 4,
 "nbformat_minor": 4
}
