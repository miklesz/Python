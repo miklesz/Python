{
 "cells": [
  {
   "cell_type": "markdown",
   "metadata": {
    "slideshow": {
     "slide_type": "slide"
    }
   },
   "source": [
    "# Python (podstawy) - wyjątki\n",
    "_Mikołaj Leszczuk_\n",
    "![](https://inventyourshit.com/wp-content/uploads/2020/11/4mfiyy.jpg)\n",
    "![](https://i.creativecommons.org/l/by/4.0/88x31.png)"
   ]
  },
  {
   "cell_type": "markdown",
   "metadata": {
    "slideshow": {
     "slide_type": "slide"
    }
   },
   "source": [
    "## Ćwiczenia"
   ]
  },
  {
   "cell_type": "markdown",
   "metadata": {
    "slideshow": {
     "slide_type": "slide"
    }
   },
   "source": [
    "### Błędy i wyjątki"
   ]
  },
  {
   "cell_type": "markdown",
   "metadata": {
    "slideshow": {
     "slide_type": "slide"
    }
   },
   "source": [
    "#### Ćwiczenie"
   ]
  },
  {
   "cell_type": "markdown",
   "metadata": {
    "slideshow": {
     "slide_type": "fragment"
    }
   },
   "source": [
    "Podczas pisania funkcji najlepiej jest przeprowadzić walidację liczb.\n",
    "\n",
    "Jeśli użytkownicy wprowadzą tekst, pojawi się błąd podczas próby konwersji na `int`.\n",
    "\n",
    "Napisz program, który poprosi użytkownika o podanie dwóch liczb.\n",
    "\n",
    "Dodaj i wydrukuj wynik.\n",
    "\n",
    "Jeśli nie zostanie wprowadzona liczba, zwróć komunikat o błędzie i poproś ponownie."
   ]
  },
  {
   "cell_type": "markdown",
   "metadata": {
    "slideshow": {
     "slide_type": "slide"
    }
   },
   "source": [
    "#### Rozwiązanie"
   ]
  },
  {
   "cell_type": "code",
   "execution_count": 11,
   "metadata": {
    "slideshow": {
     "slide_type": "fragment"
    }
   },
   "outputs": [
    {
     "name": "stdout",
     "output_type": "stream",
     "text": [
      "Liczba 1: 1\n",
      "Liczba 2: x\n",
      "Wprowadź dane liczbowe\n",
      "Liczba 1: x\n",
      "Wprowadź dane liczbowe\n",
      "Liczba 1: 1\n",
      "Liczba 2: 2\n",
      "Suma to: 3\n"
     ]
    }
   ],
   "source": [
    "while True:\n",
    "    try:\n",
    "        num1 = int(input('Liczba 1: '))\n",
    "        num2 = int(input('Liczba 2: '))\n",
    "        print(f'Suma to: {num1+num2}')\n",
    "        break\n",
    "    except ValueError:\n",
    "        print('Wprowadź dane liczbowe')"
   ]
  },
  {
   "cell_type": "markdown",
   "metadata": {
    "slideshow": {
     "slide_type": "slide"
    }
   },
   "source": [
    "### Wyjątek `ZeroDivisionError` z instrukcjami `try except`"
   ]
  },
  {
   "cell_type": "markdown",
   "metadata": {
    "slideshow": {
     "slide_type": "slide"
    }
   },
   "source": [
    "#### Ćwiczenie"
   ]
  },
  {
   "cell_type": "markdown",
   "metadata": {
    "slideshow": {
     "slide_type": "fragment"
    }
   },
   "source": [
    "Podziel przez siebie dwie liczby, a wynik przypisz do `result`.\n",
    "\n",
    "Umieść:\n",
    "\n",
    "```python\n",
    "result = \"Nie możesz podzielić przez 0\"\n",
    "```\n",
    "\n",
    "we właściwym miejscu, aby program uniknął `ZeroDivisionError`\n",
    "\n",
    "* Podpowiedź 1: Po prostu umieść przypisanie wartości dla wyniku po linii `Except`\n",
    "* Podpowiedź 2: Zwróć uwagę na wcięcia"
   ]
  },
  {
   "cell_type": "markdown",
   "metadata": {
    "slideshow": {
     "slide_type": "slide"
    }
   },
   "source": [
    "#### Rozwiązanie"
   ]
  },
  {
   "cell_type": "code",
   "execution_count": 14,
   "metadata": {
    "slideshow": {
     "slide_type": "fragment"
    }
   },
   "outputs": [
    {
     "name": "stdout",
     "output_type": "stream",
     "text": [
      "Nie możesz podzielić przez 0\n"
     ]
    }
   ],
   "source": [
    "a = 5\n",
    "b = 0\n",
    "try:\n",
    "    result = a / b\n",
    "except ZeroDivisionError:\n",
    "    result = \"Nie możesz podzielić przez 0\"\n",
    "\n",
    "print(result)"
   ]
  },
  {
   "cell_type": "markdown",
   "metadata": {
    "slideshow": {
     "slide_type": "slide"
    }
   },
   "source": [
    "### Polecenie `except`, który nic nie robi"
   ]
  },
  {
   "cell_type": "markdown",
   "metadata": {
    "slideshow": {
     "slide_type": "slide"
    }
   },
   "source": [
    "#### Ćwiczenie"
   ]
  },
  {
   "cell_type": "markdown",
   "metadata": {
    "slideshow": {
     "slide_type": "fragment"
    }
   },
   "source": [
    "Napisz dowolny kod.\n",
    "\n",
    "Wychwyć w nim wyjątek, ale nic nie rób."
   ]
  },
  {
   "cell_type": "markdown",
   "metadata": {
    "slideshow": {
     "slide_type": "slide"
    }
   },
   "source": [
    "#### Rozwiązanie"
   ]
  },
  {
   "cell_type": "code",
   "execution_count": 15,
   "metadata": {
    "slideshow": {
     "slide_type": "fragment"
    }
   },
   "outputs": [],
   "source": [
    "a = [1, 3, 5]\n",
    "try:\n",
    "    print(a[3])  # zwraca wartość pozycji z określonym indeksem\n",
    "except IndexError:\n",
    "    pass"
   ]
  },
  {
   "cell_type": "markdown",
   "metadata": {
    "slideshow": {
     "slide_type": "slide"
    }
   },
   "source": [
    "### Wyjątek `Exception` z instrukcjami `try except`"
   ]
  },
  {
   "cell_type": "markdown",
   "metadata": {
    "slideshow": {
     "slide_type": "slide"
    }
   },
   "source": [
    "#### Ćwiczenie"
   ]
  },
  {
   "cell_type": "markdown",
   "metadata": {
    "slideshow": {
     "slide_type": "fragment"
    }
   },
   "source": [
    "Spróbuj dodać `int` do `str`, a wynik przypisać do `msg`.\n",
    "\n",
    "Umieść:\n",
    "\n",
    "```python\n",
    "msg = \"Nie możesz dodać int do str\"\n",
    "```\n",
    "\n",
    "aby program uniknął błędu `BaseException`.\n",
    "\n",
    "Możesz użyć wyjątku `Exception`, chociaż zwykle powinno się ostrożnie używać tak potężnych instrukcji wyjątków."
   ]
  },
  {
   "cell_type": "markdown",
   "metadata": {
    "slideshow": {
     "slide_type": "slide"
    }
   },
   "source": [
    "#### Rozwiązanie"
   ]
  },
  {
   "cell_type": "code",
   "execution_count": 16,
   "metadata": {
    "slideshow": {
     "slide_type": "fragment"
    }
   },
   "outputs": [
    {
     "name": "stdout",
     "output_type": "stream",
     "text": [
      "Nie możesz dodać int do str\n"
     ]
    }
   ],
   "source": [
    "a = \"Hello World!\"\n",
    "try:\n",
    "    msg = a + 10\n",
    "except TypeError:  # Niezbyt szeroka klauzula wyjątku\n",
    "    msg = \"Nie możesz dodać int do str\"\n",
    "print(msg)"
   ]
  },
  {
   "cell_type": "markdown",
   "metadata": {
    "slideshow": {
     "slide_type": "slide"
    }
   },
   "source": [
    "### Wyjątek `IndexError` w instrukcjach `try except`"
   ]
  },
  {
   "cell_type": "markdown",
   "metadata": {
    "slideshow": {
     "slide_type": "slide"
    }
   },
   "source": [
    "#### Ćwiczenie"
   ]
  },
  {
   "cell_type": "markdown",
   "metadata": {
    "slideshow": {
     "slide_type": "fragment"
    }
   },
   "source": [
    "Stwórz trójelementową listę.\n",
    "\n",
    "Spróbuj do `msg` przypisać piąty element.\n",
    "\n",
    "Umieść:\n",
    "\n",
    "```python\n",
    "msg = \"Jesteś poza zakresem listy\"\n",
    "```\n",
    "\n",
    "aby uniknąć wyjątku `IndexError`."
   ]
  },
  {
   "cell_type": "markdown",
   "metadata": {
    "slideshow": {
     "slide_type": "slide"
    }
   },
   "source": [
    "#### Rozwiązanie"
   ]
  },
  {
   "cell_type": "code",
   "execution_count": 19,
   "metadata": {
    "slideshow": {
     "slide_type": "fragment"
    }
   },
   "outputs": [
    {
     "name": "stdout",
     "output_type": "stream",
     "text": [
      "Jesteś poza zakresem listy (list index out of range)\n"
     ]
    }
   ],
   "source": [
    "lst = [5, 10, 20]\n",
    "\n",
    "try:\n",
    "    msg = lst[5]\n",
    "except IndexError as error:\n",
    "    msg = \"Jesteś poza zakresem listy (\" + str(error) + \")\"\n",
    "print(msg)"
   ]
  },
  {
   "cell_type": "markdown",
   "metadata": {
    "slideshow": {
     "slide_type": "slide"
    }
   },
   "source": [
    "### Słowo kluczowe `else`"
   ]
  },
  {
   "cell_type": "markdown",
   "metadata": {
    "slideshow": {
     "slide_type": "slide"
    }
   },
   "source": [
    "#### Ćwiczenie"
   ]
  },
  {
   "cell_type": "markdown",
   "metadata": {
    "slideshow": {
     "slide_type": "fragment"
    }
   },
   "source": [
    "Załóżmy, że chcemy napisać prostą funkcję, który dzieli dwie liczby i drukuje wynik. Jeśli wystąpi wyjątek (na przykład dzielenie przez zero), program powinien wydrukować odpowiedni komunikat o błędzie. Użyj bloku `else` w konstrukcji try-except, aby wydrukować wynik w przypadku, gdy nie wystąpi żaden wyjątek."
   ]
  },
  {
   "cell_type": "markdown",
   "metadata": {
    "slideshow": {
     "slide_type": "slide"
    }
   },
   "source": [
    "#### Rozwiązanie"
   ]
  },
  {
   "cell_type": "markdown",
   "metadata": {
    "slideshow": {
     "slide_type": "fragment"
    }
   },
   "source": [
    "Kod:"
   ]
  },
  {
   "cell_type": "code",
   "execution_count": null,
   "metadata": {
    "slideshow": {
     "slide_type": "fragment"
    }
   },
   "outputs": [],
   "source": [
    "def divide_numbers(num1, num2):\n",
    "    try:\n",
    "        result = num1 / num2\n",
    "    except ZeroDivisionError as e:\n",
    "        print(f\"Wystąpił błąd: {e}\")\n",
    "    else:\n",
    "        print(f\"Wynik dzielenia to: {result}\")\n",
    "\n",
    "# Przykładowe wywołanie funkcji:\n",
    "divide_numbers(10, 2)  # Powinno wydrukować: Wynik dzielenia to: 5.0\n",
    "divide_numbers(10, 0)  # Powinno wydrukować: Wystąpił błąd: division by zero"
   ]
  },
  {
   "cell_type": "markdown",
   "metadata": {
    "slideshow": {
     "slide_type": "fragment"
    }
   },
   "source": [
    "W powyższym kodzie, jeśli `num2` jest różne od zera, blok `else` zostanie wykonany i wynik zostanie wydrukowany. Jeśli `num2` wynosi zero, blok `except` zostanie wykonany, a komunikat o błędzie zostanie wydrukowany."
   ]
  },
  {
   "cell_type": "markdown",
   "metadata": {
    "slideshow": {
     "slide_type": "slide"
    }
   },
   "source": [
    "### Słowo kluczowe `finally`"
   ]
  },
  {
   "cell_type": "markdown",
   "metadata": {
    "slideshow": {
     "slide_type": "slide"
    }
   },
   "source": [
    "#### Ćwiczenie"
   ]
  },
  {
   "cell_type": "markdown",
   "metadata": {
    "slideshow": {
     "slide_type": "fragment"
    }
   },
   "source": [
    "Załóżmy, że prowadzisz sklep internetowy i chcesz zaimplementować funkcję, która oblicza cenę końcową zamówienia po dodaniu podatku VAT (23%). Funkcja powinna przyjmować cenę netto jako argument, a następnie obliczać cenę brutto. Jeśli cena netto jest ujemna, funkcja powinna zgłosić wyjątek `ValueError` z komunikatem \"Cena netto nie może być ujemna\". Niezależnie od tego, czy wystąpił wyjątek, czy nie, funkcja powinna wydrukować komunikat \"Obliczenie zakończone\" na końcu. Użyj słowa kluczowego `finally` w konstrukcji try-except, aby upewnić się, że ten komunikat zostanie wydrukowany."
   ]
  },
  {
   "cell_type": "markdown",
   "metadata": {
    "slideshow": {
     "slide_type": "slide"
    }
   },
   "source": [
    "#### Rozwiązanie"
   ]
  },
  {
   "cell_type": "markdown",
   "metadata": {
    "slideshow": {
     "slide_type": "fragment"
    }
   },
   "source": [
    "Kod:"
   ]
  },
  {
   "cell_type": "code",
   "execution_count": null,
   "metadata": {
    "slideshow": {
     "slide_type": "fragment"
    }
   },
   "outputs": [],
   "source": [
    "def calculate_gross_price(net_price):\n",
    "    try:\n",
    "        if net_price < 0:\n",
    "            raise ValueError(\"Cena netto nie może być ujemna\")\n",
    "        gross_price = net_price * 1.23\n",
    "        print(f\"Cena brutto: {gross_price} zł\")\n",
    "    except ValueError as e:\n",
    "        print(f\"Wystąpił błąd: {e}\")\n",
    "    finally:\n",
    "        print(\"Obliczenie zakończone\")\n",
    "\n",
    "# Przykładowe wywołania funkcji:\n",
    "calculate_gross_price(100)  # Powinno wydrukować: Cena brutto: 123.0 zł, Obliczenie zakończone\n",
    "calculate_gross_price(-100)  # Powinno wydrukować: Wystąpił błąd: Cena netto nie może być ujemna, Obliczenie zakończone"
   ]
  },
  {
   "cell_type": "markdown",
   "metadata": {
    "slideshow": {
     "slide_type": "subslide"
    }
   },
   "source": [
    "W powyższym kodzie, jeśli cena netto jest dodatnia, zostanie wydrukowana cena brutto. Jeśli cena netto jest ujemna, zostanie wydrukowany komunikat o błędzie. W obu przypadkach zostanie wydrukowany komunikat \"Obliczenie zakończone\" dzięki blokowi `finally`."
   ]
  },
  {
   "cell_type": "markdown",
   "metadata": {
    "slideshow": {
     "slide_type": "slide"
    }
   },
   "source": [
    "#### Ćwiczenie"
   ]
  },
  {
   "cell_type": "markdown",
   "metadata": {
    "slideshow": {
     "slide_type": "fragment"
    }
   },
   "source": [
    "Napisz funkcję dzielącą jej argument pierwszy przez drugi.\n",
    "\n",
    "Spróbuj wykonać działanie i zwrócić wynik.\n",
    "\n",
    "W przypadku błędu dzielenia przez zero, wypisz komunikat o błędzie.\n",
    "\n",
    "Wypisz komunikat, który zawsze się wypisze.\n",
    "\n",
    "Wywołaj funkcję z różnymi argumentami."
   ]
  },
  {
   "cell_type": "markdown",
   "metadata": {
    "slideshow": {
     "slide_type": "slide"
    }
   },
   "source": [
    "#### Rozwiązanie"
   ]
  },
  {
   "cell_type": "code",
   "execution_count": null,
   "metadata": {
    "slideshow": {
     "slide_type": "fragment"
    }
   },
   "outputs": [],
   "source": [
    "def divide(a, b):\n",
    "    try:\n",
    "        c = a / b\n",
    "        return c\n",
    "    except ZeroDivisionError:\n",
    "        print(\"Próba dzielenia przez zero\")\n",
    "    finally:\n",
    "        print(\"Zawsze wykonujemy klauzule 'finally'\")\n",
    "\n",
    "print(divide(1, 0))"
   ]
  },
  {
   "cell_type": "markdown",
   "metadata": {
    "slideshow": {
     "slide_type": "slide"
    }
   },
   "source": [
    "#### Ćwiczenie"
   ]
  },
  {
   "cell_type": "markdown",
   "metadata": {
    "slideshow": {
     "slide_type": "fragment"
    }
   },
   "source": [
    "Tworzysz system do przetwarzania danych z sensorów. Każdy sensor może zgłaszać różne błędy, które muszą być odpowiednio obsłużone. Twoim zadaniem jest zaimplementowanie funkcji `process_sensor_data`, która przyjmuje dwa argumenty: wartość z sensora oraz typ sensora (jako łańcuch znaków). Funkcja powinna wykonać następujące kroki:"
   ]
  },
  {
   "cell_type": "markdown",
   "metadata": {
    "slideshow": {
     "slide_type": "subslide"
    }
   },
   "source": [
    "1. W bloku `try`:\n",
    "   - Sprawdź, czy wartość z sensora jest liczbą (użyj funkcji `isinstance`). Jeśli nie, zgłoś wyjątek `TypeError` z komunikatem \"Wartość musi być liczbą\".\n",
    "   - Sprawdź, czy typ sensora to \"temperatura\", \"ciśnienie\" lub \"wilgotność\". Jeśli nie, zgłoś wyjątek `ValueError` z komunikatem \"Nieznany typ sensora\".\n",
    "\n",
    "2. W bloku `except`:\n",
    "   - Wydrukuj komunikat o błędzie."
   ]
  },
  {
   "cell_type": "markdown",
   "metadata": {
    "slideshow": {
     "slide_type": "subslide"
    }
   },
   "source": [
    "3. W bloku `else`:\n",
    "   - Wydrukuj komunikat z wartością z sensora i typem sensora.\n",
    "\n",
    "4. W bloku `finally`:\n",
    "   - Wydrukuj komunikat \"Przetwarzanie zakończone\"."
   ]
  },
  {
   "cell_type": "markdown",
   "metadata": {
    "slideshow": {
     "slide_type": "slide"
    }
   },
   "source": [
    "#### Rozwiązanie"
   ]
  },
  {
   "cell_type": "code",
   "execution_count": null,
   "metadata": {
    "slideshow": {
     "slide_type": "fragment"
    }
   },
   "outputs": [],
   "source": [
    "def process_sensor_data(value, sensor_type):\n",
    "    try:\n",
    "        if not isinstance(value, (int, float)):\n",
    "            raise TypeError(\"Wartość musi być liczbą\")\n",
    "        if sensor_type not in [\"temperatura\", \"ciśnienie\", \"wilgotność\"]:\n",
    "            raise ValueError(\"Nieznany typ sensora\")\n",
    "    except (TypeError, ValueError) as e:\n",
    "        print(f\"Wystąpił błąd: {e}\")\n",
    "    else:\n",
    "        print(f\"Wartość z sensora: {value}, Typ sensora: {sensor_type}\")\n",
    "    finally:\n",
    "        print(\"Przetwarzanie zakończone\")\n",
    "\n",
    "# Przykładowe wywołania funkcji:\n",
    "process_sensor_data(25.5, \"temperatura\")  # Powinno wydrukować: Wartość z sensora: 25.5, Typ sensora: temperatura, Przetwarzanie zakończone\n",
    "process_sensor_data(\"nieprawidłowa wartość\", \"ciśnienie\")  # Powinno wydrukować: Wystąpił błąd: Wartość musi być liczbą, Przetwarzanie zakończone\n",
    "process_sensor_data(1010.5, \"nieznany\")  # Powinno wydrukować: Wystąpił błąd: Nieznany typ sensora, Przetwarzanie zakończone"
   ]
  },
  {
   "cell_type": "markdown",
   "metadata": {
    "slideshow": {
     "slide_type": "subslide"
    }
   },
   "source": [
    "W powyższym kodzie, jeśli wartość z sensora jest liczbą i typ sensora jest prawidłowy, blok `else` zostanie wykonany i zostanie wydrukowany komunikat z wartością z sensora i typem sensora. Jeśli wartość z sensora nie jest liczbą lub typ sensora jest nieznany, blok `except` zostanie wykonany, a komunikat o błędzie zostanie wydrukowany. W obu przypadkach zostanie wydrukowany komunikat \"Przetwarzanie zakończone\" dzięki blokowi `finally`."
   ]
  },
  {
   "cell_type": "code",
   "execution_count": null,
   "metadata": {
    "slideshow": {
     "slide_type": "skip"
    }
   },
   "outputs": [],
   "source": []
  }
 ],
 "metadata": {
  "celltoolbar": "Slideshow",
  "kernelspec": {
   "display_name": "Python 3 (ipykernel)",
   "language": "python",
   "name": "python3"
  },
  "language_info": {
   "codemirror_mode": {
    "name": "ipython",
    "version": 3
   },
   "file_extension": ".py",
   "mimetype": "text/x-python",
   "name": "python",
   "nbconvert_exporter": "python",
   "pygments_lexer": "ipython3",
   "version": "3.11.5"
  }
 },
 "nbformat": 4,
 "nbformat_minor": 4
}
