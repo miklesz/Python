{
 "cells": [
  {
   "cell_type": "markdown",
   "metadata": {
    "slideshow": {
     "slide_type": "slide"
    }
   },
   "source": [
    "# Python (podstawy) - elementy języka\n",
    "_Mikołaj Leszczuk_\n",
    "![](https://img-9gag-fun.9cache.com/photo/awo3W1y_460s.jpg)\n",
    "![](https://i.creativecommons.org/l/by/4.0/88x31.png)"
   ]
  },
  {
   "cell_type": "markdown",
   "metadata": {
    "slideshow": {
     "slide_type": "slide"
    }
   },
   "source": [
    "## Ćwiczenia"
   ]
  },
  {
   "cell_type": "markdown",
   "metadata": {
    "slideshow": {
     "slide_type": "slide"
    }
   },
   "source": [
    "### Zadanie"
   ]
  },
  {
   "cell_type": "markdown",
   "metadata": {
    "slideshow": {
     "slide_type": "fragment"
    }
   },
   "source": [
    "Napisz program, który:\n",
    "* Będzie prosił użytkownika o podanie dwóch liczb, i\n",
    "* Wypisze:\n",
    "    * Wynik ich dzielenia,\n",
    "    * Resztę z dzielenia, oraz \n",
    "    * Wynik dzielenia całkowitego"
   ]
  },
  {
   "cell_type": "markdown",
   "metadata": {
    "slideshow": {
     "slide_type": "slide"
    }
   },
   "source": [
    "### `and`"
   ]
  },
  {
   "cell_type": "markdown",
   "metadata": {
    "slideshow": {
     "slide_type": "slide"
    }
   },
   "source": [
    "#### Przykład – `and`"
   ]
  },
  {
   "cell_type": "markdown",
   "metadata": {
    "slideshow": {
     "slide_type": "fragment"
    }
   },
   "source": [
    "* Wydrukuj `True`, jeśli oba stwierdzenia są prawdziwe\n",
    "* `x > 3` i `x < 10`\n",
    "* Spróbuj!"
   ]
  },
  {
   "cell_type": "markdown",
   "metadata": {
    "slideshow": {
     "slide_type": "slide"
    }
   },
   "source": [
    "#### Spróbuj – `and`"
   ]
  },
  {
   "cell_type": "code",
   "execution_count": 9,
   "metadata": {
    "slideshow": {
     "slide_type": "fragment"
    }
   },
   "outputs": [],
   "source": [
    "x = 5"
   ]
  },
  {
   "cell_type": "code",
   "execution_count": 10,
   "metadata": {
    "slideshow": {
     "slide_type": "fragment"
    }
   },
   "outputs": [
    {
     "name": "stdout",
     "output_type": "stream",
     "text": [
      "True\n"
     ]
    }
   ],
   "source": [
    "print(x > 3 and x < 10)\n",
    "# zwraca True, ponieważ 5 jest większe niż 3 AND 5 jest mniejsze niż 10"
   ]
  },
  {
   "cell_type": "markdown",
   "metadata": {
    "slideshow": {
     "slide_type": "slide"
    }
   },
   "source": [
    "### `or`"
   ]
  },
  {
   "cell_type": "markdown",
   "metadata": {
    "slideshow": {
     "slide_type": "slide"
    }
   },
   "source": [
    "#### Przykład – `or`"
   ]
  },
  {
   "cell_type": "markdown",
   "metadata": {
    "slideshow": {
     "slide_type": "fragment"
    }
   },
   "source": [
    "* Wydrukuj wartość `True`, jeśli jedno ze stwierdzeń jest prawdziwe\n",
    "* `x > 4` lub `x < 3`\n",
    "* Spróbuj!\n"
   ]
  },
  {
   "cell_type": "markdown",
   "metadata": {
    "slideshow": {
     "slide_type": "slide"
    }
   },
   "source": [
    "#### Spróbuj – `or`"
   ]
  },
  {
   "cell_type": "code",
   "execution_count": 15,
   "metadata": {
    "slideshow": {
     "slide_type": "fragment"
    }
   },
   "outputs": [],
   "source": [
    "x = 5"
   ]
  },
  {
   "cell_type": "code",
   "execution_count": 16,
   "metadata": {
    "slideshow": {
     "slide_type": "fragment"
    }
   },
   "outputs": [
    {
     "name": "stdout",
     "output_type": "stream",
     "text": [
      "True\n"
     ]
    }
   ],
   "source": [
    "print(x > 4 or x < 3)\n",
    "# zwraca True, ponieważ jeden z warunków jest spełniony (5 jest większe niż 3, ale 5 jest nie mniejsze niż 4)"
   ]
  },
  {
   "cell_type": "markdown",
   "metadata": {
    "slideshow": {
     "slide_type": "slide"
    }
   },
   "source": [
    "### `not`"
   ]
  },
  {
   "cell_type": "markdown",
   "metadata": {
    "slideshow": {
     "slide_type": "slide"
    }
   },
   "source": [
    "#### Przykład – `not`"
   ]
  },
  {
   "cell_type": "markdown",
   "metadata": {
    "slideshow": {
     "slide_type": "fragment"
    }
   },
   "source": [
    "* Odwróć wynik, wydrukuj `False`, jeśli wynik jest prawdziwy\n",
    "* nie ( `x > 3` i `x < 10` )\n",
    "* Spróbuj!"
   ]
  },
  {
   "cell_type": "markdown",
   "metadata": {
    "slideshow": {
     "slide_type": "slide"
    }
   },
   "source": [
    "#### Spróbuj – `not`"
   ]
  },
  {
   "cell_type": "code",
   "execution_count": 17,
   "metadata": {
    "slideshow": {
     "slide_type": "fragment"
    }
   },
   "outputs": [],
   "source": [
    "x = 5"
   ]
  },
  {
   "cell_type": "code",
   "execution_count": 18,
   "metadata": {
    "slideshow": {
     "slide_type": "fragment"
    }
   },
   "outputs": [
    {
     "name": "stdout",
     "output_type": "stream",
     "text": [
      "False\n"
     ]
    }
   ],
   "source": [
    "print(not(x > 3 and x < 10))\n",
    "# zwraca False, ponieważ not służy do odwrócenia wyniku"
   ]
  },
  {
   "cell_type": "markdown",
   "metadata": {
    "slideshow": {
     "slide_type": "slide"
    }
   },
   "source": [
    "### Instrukcja `if`"
   ]
  },
  {
   "cell_type": "markdown",
   "metadata": {
    "slideshow": {
     "slide_type": "slide"
    }
   },
   "source": [
    "#### Ćwiczenie instrukcji `if`"
   ]
  },
  {
   "cell_type": "markdown",
   "metadata": {
    "slideshow": {
     "slide_type": "fragment"
    }
   },
   "source": [
    "* Przypisz `8` do zmiennej `x` i `15` do zmiennej `y`\n",
    "* Utwórz 2 instrukcje warunkowe\n",
    "* Niech pierwsza wypisze: „Co najmniej jeden z warunków jest spełniony”, jeśli `x` jest większe niż `3` lub `y` jest parzyste\n",
    "* Niech drugi wypisze „Żaden warunek nie jest spełniony”, jeśli `x` jest mniejsze lub równe `3`, a `y` jest nieparzyste\n",
    "* Zmień wartości przypisane do `x` i `y` i ponownie uruchom komórkę, aby sprawdzić, czy kod nadal działa"
   ]
  },
  {
   "cell_type": "markdown",
   "metadata": {
    "slideshow": {
     "slide_type": "slide"
    }
   },
   "source": [
    "#### Rozwiązanie ćwiczenia instrukcji `if`"
   ]
  },
  {
   "cell_type": "markdown",
   "metadata": {
    "slideshow": {
     "slide_type": "fragment"
    }
   },
   "source": [
    "* To ćwiczenie można podzielić na dwa podzadania\n",
    "```python\n",
    "if x > 3 or y % 2 == 0:\n",
    "    print(\"Co najmniej jeden z warunków jest spełniony\")\n",
    "```\n",
    "* Teraz druga część ćwiczenia\n",
    "```python\n",
    "if x <= 3 and y % 2 == 1:\n",
    "    print(\"Żaden warunek nie jest spełniony\")\n",
    "```"
   ]
  },
  {
   "cell_type": "markdown",
   "metadata": {
    "slideshow": {
     "slide_type": "slide"
    }
   },
   "source": [
    "### Zadanie"
   ]
  },
  {
   "cell_type": "markdown",
   "metadata": {
    "slideshow": {
     "slide_type": "fragment"
    }
   },
   "source": [
    "* Utwórz listę zawierającą imiona: prowadzącego oraz wszystkich osób uczestniczacych w kursie\n",
    "* Następnie ją posortuj alfabetycznie, oraz\n",
    "* Policz ile z osób na liście jest kobietami\n",
    "* W tym celu możesz sprawdzić czy imię kończy się na „`a`”"
   ]
  },
  {
   "cell_type": "markdown",
   "metadata": {
    "slideshow": {
     "slide_type": "slide"
    }
   },
   "source": [
    "### Po pomyślnym wykonaniu (bez `break`) pętli `for` wyświetl komunikat „`Gotowe!`”"
   ]
  },
  {
   "cell_type": "markdown",
   "metadata": {
    "slideshow": {
     "slide_type": "slide"
    }
   },
   "source": [
    "#### Pytanie ćwiczeniowe"
   ]
  },
  {
   "cell_type": "markdown",
   "metadata": {
    "slideshow": {
     "slide_type": "slide"
    }
   },
   "source": [
    "* Na przykład następująca pętla zostanie wykonana bez żadnego przerwania:"
   ]
  },
  {
   "cell_type": "code",
   "execution_count": null,
   "metadata": {
    "slideshow": {
     "slide_type": "fragment"
    }
   },
   "outputs": [],
   "source": [
    "for i in range(5):\n",
    "    print(i)"
   ]
  },
  {
   "cell_type": "markdown",
   "metadata": {
    "slideshow": {
     "slide_type": "fragment"
    }
   },
   "source": [
    "* Tak więc oczekiwany wynik powinien wyglądać następująco:\n",
    "```\n",
    "0\n",
    "1\n",
    "2\n",
    "3\n",
    "4\n",
    "Gotowe!\n",
    "```"
   ]
  },
  {
   "cell_type": "markdown",
   "metadata": {
    "slideshow": {
     "slide_type": "slide"
    }
   },
   "source": [
    "#### Rozwiązanie"
   ]
  },
  {
   "cell_type": "code",
   "execution_count": null,
   "metadata": {
    "slideshow": {
     "slide_type": "fragment"
    }
   },
   "outputs": [],
   "source": [
    "for i in range(5):\n",
    "    print(i)\n",
    "else:\n",
    "    print(\"Gotowe!\")"
   ]
  },
  {
   "cell_type": "markdown",
   "metadata": {
    "slideshow": {
     "slide_type": "slide"
    }
   },
   "source": [
    "### Zamień dwie listy na słownik"
   ]
  },
  {
   "cell_type": "markdown",
   "metadata": {
    "slideshow": {
     "slide_type": "slide"
    }
   },
   "source": [
    "#### Ćwiczenie"
   ]
  },
  {
   "cell_type": "markdown",
   "metadata": {
    "slideshow": {
     "slide_type": "fragment"
    }
   },
   "source": [
    "**Poniżej znajdują się dwie listy**. Napisz program w Pythonie konwertujący je na słownik w taki sposób, że pozycja z listy 1 jest kluczem, a pozycja z listy 2 jest wartością"
   ]
  },
  {
   "cell_type": "code",
   "execution_count": null,
   "metadata": {
    "slideshow": {
     "slide_type": "fragment"
    }
   },
   "outputs": [],
   "source": [
    "keys = ['Dziesieć', 'Dwadzieścia', 'Trzydzieści']\n",
    "values = [10, 20, 30]"
   ]
  },
  {
   "cell_type": "markdown",
   "metadata": {
    "slideshow": {
     "slide_type": "fragment"
    }
   },
   "source": [
    "**Oczekiwany wynik**:"
   ]
  },
  {
   "cell_type": "markdown",
   "metadata": {
    "slideshow": {
     "slide_type": "fragment"
    }
   },
   "source": [
    "```python\n",
    "{'Dziesieć': 10, 'Dwadzieścia': 20, 'Trzydzieści': 30}\n",
    "```"
   ]
  },
  {
   "cell_type": "markdown",
   "metadata": {
    "slideshow": {
     "slide_type": "slide"
    }
   },
   "source": [
    "#### Wskazówka"
   ]
  },
  {
   "cell_type": "markdown",
   "metadata": {
    "slideshow": {
     "slide_type": "fragment"
    }
   },
   "source": [
    "Wykonaj iterację listy za pomocą pętli `for` i funkcji `range()`. W każdej iteracji dodaj nową parę klucz-wartość do `dict` za pomocą metody `update()`."
   ]
  },
  {
   "cell_type": "markdown",
   "metadata": {
    "slideshow": {
     "slide_type": "slide"
    }
   },
   "source": [
    "#### Rozwiązanie"
   ]
  },
  {
   "cell_type": "markdown",
   "metadata": {
    "slideshow": {
     "slide_type": "subslide"
    }
   },
   "source": [
    "**Rozwiązanie**: Używanie pętli i metody `update()` słownika:"
   ]
  },
  {
   "cell_type": "code",
   "execution_count": null,
   "metadata": {
    "slideshow": {
     "slide_type": "fragment"
    }
   },
   "outputs": [],
   "source": [
    "keys = ['Dziesieć', 'Dwadzieścia', 'Trzydzieści']\n",
    "values = [10, 20, 30]\n",
    "\n",
    "# pusty słownik\n",
    "res_dict = dict()\n",
    "\n",
    "for i in range(len(keys)):\n",
    "    res_dict.update({keys[i]: values[i]})\n",
    "print(res_dict)"
   ]
  },
  {
   "cell_type": "markdown",
   "metadata": {
    "slideshow": {
     "slide_type": "slide"
    }
   },
   "source": [
    "### Ćwiczenie"
   ]
  },
  {
   "cell_type": "markdown",
   "metadata": {
    "slideshow": {
     "slide_type": "fragment"
    }
   },
   "source": [
    "* Zobaczmy ćwiczenie, które pomoże lepiej zrozumieć instrukcję `pass`\n",
    "* Umieść instrukcję `pass`, aby blok `if` nie zgłaszał błędu"
   ]
  },
  {
   "cell_type": "code",
   "execution_count": null,
   "metadata": {
    "slideshow": {
     "slide_type": "fragment"
    }
   },
   "outputs": [],
   "source": [
    "name = input(\"Proszę wpisać swoje imię.\")\n",
    "# Wpisz swoją odpowiedź tutaj.\n",
    "\n",
    "if len(name) > 0:\n",
    "    print(name)\n",
    "else:"
   ]
  },
  {
   "cell_type": "markdown",
   "metadata": {
    "slideshow": {
     "slide_type": "subslide"
    }
   },
   "source": [
    "* Wskazówka: instrukcja `pass` jest symbolem zastępczym w Pythonie, dzięki czemu pewne struktury można pozostawić niedokończone bez zgłaszania błędu"
   ]
  },
  {
   "cell_type": "markdown",
   "metadata": {
    "slideshow": {
     "slide_type": "slide"
    }
   },
   "source": [
    "#### Rozwiązanie"
   ]
  },
  {
   "cell_type": "code",
   "execution_count": null,
   "metadata": {
    "slideshow": {
     "slide_type": "fragment"
    }
   },
   "outputs": [],
   "source": [
    "name = input(\"Proszę wpisać swoje imię.\")\n",
    "# Wpisz swoją odpowiedź tutaj.\n",
    "\n",
    "if len(name) > 0:\n",
    "    print(name)\n",
    "else:\n",
    "    pass"
   ]
  },
  {
   "cell_type": "markdown",
   "metadata": {
    "slideshow": {
     "slide_type": "slide"
    }
   },
   "source": [
    "### Znajdź liczby, które są podzielne przez 7 i są wielokrotnością 5 w zakresie"
   ]
  },
  {
   "cell_type": "markdown",
   "metadata": {
    "slideshow": {
     "slide_type": "fragment"
    }
   },
   "source": [
    "* Napisz program w Pythonie, aby znaleźć liczby podzielne przez `7` i będące wielokrotnością `5` między `1500` a `2700` (obie uwzględnione)"
   ]
  },
  {
   "cell_type": "markdown",
   "metadata": {
    "slideshow": {
     "slide_type": "subslide"
    }
   },
   "source": [
    "![](https://www.w3resource.com/w3r_images/python-conditional-image-exercise-1.png)"
   ]
  },
  {
   "cell_type": "markdown",
   "metadata": {
    "slideshow": {
     "slide_type": "slide"
    }
   },
   "source": [
    "### Przykładowe rozwiązanie"
   ]
  },
  {
   "cell_type": "markdown",
   "metadata": {
    "slideshow": {
     "slide_type": "fragment"
    }
   },
   "source": [
    "* Przykładowy kod Pythona i dane wyjściowe:"
   ]
  },
  {
   "cell_type": "code",
   "execution_count": null,
   "metadata": {
    "scrolled": true,
    "slideshow": {
     "slide_type": "fragment"
    }
   },
   "outputs": [],
   "source": [
    "nl = []\n",
    "for x in range(1500, 2701):\n",
    "    if x % 7 == 0 and x % 5 == 0:\n",
    "        nl.append(str(x))\n",
    "# print(nl)\n",
    "print(';'.join(nl))"
   ]
  },
  {
   "cell_type": "markdown",
   "metadata": {
    "slideshow": {
     "slide_type": "subslide"
    }
   },
   "source": [
    "* Schemat blokowy:"
   ]
  },
  {
   "cell_type": "markdown",
   "metadata": {
    "slideshow": {
     "slide_type": "fragment"
    }
   },
   "source": [
    "![](https://www.w3resource.com/w3r_images/python-conditional-exercise-1.png)"
   ]
  },
  {
   "cell_type": "markdown",
   "metadata": {
    "slideshow": {
     "slide_type": "slide"
    }
   },
   "source": [
    "### Zadanie"
   ]
  },
  {
   "cell_type": "markdown",
   "metadata": {
    "slideshow": {
     "slide_type": "fragment"
    }
   },
   "source": [
    "* Napisz program, który policzy największy wspólny dzielnik dwóch liczb podanych przez użytkownika\n",
    "* W tym celu użyj operatora `%` oraz pętli `for`"
   ]
  },
  {
   "cell_type": "markdown",
   "metadata": {
    "slideshow": {
     "slide_type": "slide"
    }
   },
   "source": [
    "### Wydrukuj pierwsze 10 liczb naturalnych za pomocą pętli `while`"
   ]
  },
  {
   "cell_type": "markdown",
   "metadata": {
    "slideshow": {
     "slide_type": "fragment"
    }
   },
   "source": [
    "**Oczekiwany wynik:**\n",
    "\n",
    "```\n",
    "1\n",
    "2\n",
    "3\n",
    "4\n",
    "5\n",
    "6\n",
    "7\n",
    "8\n",
    "9\n",
    "10\n",
    "```"
   ]
  },
  {
   "cell_type": "markdown",
   "metadata": {
    "slideshow": {
     "slide_type": "slide"
    }
   },
   "source": [
    "#### Rozwiązanie"
   ]
  },
  {
   "cell_type": "code",
   "execution_count": null,
   "metadata": {
    "slideshow": {
     "slide_type": "fragment"
    }
   },
   "outputs": [],
   "source": [
    "# Program: Wydrukuj pierwsze 10 liczb naturalnych\n",
    "i = 1\n",
    "while i <= 10:\n",
    "    print(i)\n",
    "    i += 1"
   ]
  },
  {
   "cell_type": "markdown",
   "metadata": {
    "slideshow": {
     "slide_type": "slide"
    }
   },
   "source": [
    "### Ćwiczenie: Wydrukuj następujący wzór"
   ]
  },
  {
   "cell_type": "markdown",
   "metadata": {
    "slideshow": {
     "slide_type": "fragment"
    }
   },
   "source": [
    "Napisz program, który wydrukuje następujący wzór liczbowy za pomocą pętli.\n",
    "\n",
    "```\n",
    "1 \n",
    "1 2 \n",
    "1 2 3 \n",
    "1 2 3 4 \n",
    "1 2 3 4 5\n",
    "```"
   ]
  },
  {
   "cell_type": "markdown",
   "metadata": {
    "slideshow": {
     "slide_type": "slide"
    }
   },
   "source": [
    "#### Wskazówka"
   ]
  },
  {
   "cell_type": "markdown",
   "metadata": {
    "slideshow": {
     "slide_type": "subslide"
    }
   },
   "source": [
    "* Określ liczbę wierszy, tj. 5, ponieważ wzór zawiera pięć wierszy\n",
    "* Uruchom zewnętrzną pętlę 5 razy, używając pętli `for` i funkcji `range()`\n",
    "* Uruchom wewnętrzną pętlę `i+1` razy używając pętli `for` i funkcji `range()`\n",
    "  * W pierwszej iteracji pętli zewnętrznej pętla wewnętrzna wykona 1 raz\n",
    "  * W drugiej iteracji pętli zewnętrznej pętla wewnętrzna wykona 2 razy\n",
    "  * W trzeciej iteracji zewnętrznej pętli pętla wewnętrzna zostanie wykonana 3 razy i tak dalej aż do rzędu 5\n",
    "* Wypisz wartość `j` w każdej iteracji pętli wewnętrznej (`j` jest zmienną iteratora pętli wewnętrznej)\n",
    "* Wyświetlaj pustą linię na końcu każdej iteracji zewnętrznej pętli (pusta linia po każdym wierszu)"
   ]
  },
  {
   "cell_type": "markdown",
   "metadata": {
    "slideshow": {
     "slide_type": "slide"
    }
   },
   "source": [
    "#### Rozwiązanie"
   ]
  },
  {
   "cell_type": "code",
   "execution_count": null,
   "metadata": {
    "slideshow": {
     "slide_type": "fragment"
    }
   },
   "outputs": [],
   "source": [
    "print(\"Wzór liczb \")\n",
    "\n",
    "# Zdecyduj o liczbie wierszy. (powyżej wzór zawiera 5 rzędów)\n",
    "row = 5\n",
    "# start: 1\n",
    "# stop: row+1 (range nigdy nie zawiera liczby stop w wyniku)\n",
    "# uruchom pętlę 5 razy\n",
    "for i in range(1, row + 1):\n",
    "    # Uruchom pętlę wewnętrzną i+1 razy\n",
    "    for j in range(1, i + 1):\n",
    "        print(j, end=' ')\n",
    "    # pusta linia po każdym rzędzie\n",
    "    print()"
   ]
  },
  {
   "cell_type": "code",
   "execution_count": null,
   "metadata": {
    "slideshow": {
     "slide_type": "subslide"
    }
   },
   "outputs": [],
   "source": [
    "c = \"\"\n",
    "n = 5\n",
    "for i in range(1, n+1):\n",
    "    c = c + \" \" + str(i)\n",
    "    print(c)"
   ]
  },
  {
   "cell_type": "markdown",
   "metadata": {
    "slideshow": {
     "slide_type": "slide"
    }
   },
   "source": [
    "### Ćwiczenie: Oblicz sumę wszystkich liczb od 1 do podanej liczby"
   ]
  },
  {
   "cell_type": "markdown",
   "metadata": {
    "slideshow": {
     "slide_type": "fragment"
    }
   },
   "source": [
    "Napisz program akceptujący liczbę od użytkownika i obliczający sumę wszystkich liczb od 1 do podanej liczby\n",
    "\n",
    "Na przykład, jeśli użytkownik wpisał **10**, wynik powinien wynosić **55** (`1+2+3+4+5+6+7+8+9+10`)\n",
    "\n",
    "Oczekiwany wynik:\n",
    "\n",
    "```\n",
    "Wpisz liczbę: 10\n",
    "\n",
    "Suma to: 55\n",
    "```"
   ]
  },
  {
   "cell_type": "markdown",
   "metadata": {
    "slideshow": {
     "slide_type": "slide"
    }
   },
   "source": [
    "#### Wskazówka"
   ]
  },
  {
   "cell_type": "markdown",
   "metadata": {
    "slideshow": {
     "slide_type": "subslide"
    }
   },
   "source": [
    "**Podejście 1**: Użyj pętli `for` i funkcji `range()`\n",
    "\n",
    "* Utwórz zmienną `s = 0`, aby przechowywać sumę wszystkich liczb\n",
    "* Użyj wbudowanej funkcji `input()` Pythona 3, aby pobrać dane wejściowe od użytkownika\n",
    "* Konwertuj dane wejściowe użytkownika na typ całkowity za pomocą konstruktora `int()` i zapisz je w zmiennej `n`\n",
    "* Uruchom pętlę `n` razy, używając pętli `for` i funkcji `range()`\n",
    "* W każdej iteracji pętli dodaj bieżącą liczbę (`i`) do zmiennej `s`\n",
    "* Użyj funkcji `print()`, aby wyświetlić zmienną `s` na ekranie\n",
    "\n",
    "**Podejście 2**: Użyj wbudowanej funkcji `sum()`. Funkcja `sum()` oblicza sumę liczb z listy lub zakresu"
   ]
  },
  {
   "cell_type": "markdown",
   "metadata": {
    "slideshow": {
     "slide_type": "slide"
    }
   },
   "source": [
    "#### Rozwiązanie"
   ]
  },
  {
   "cell_type": "markdown",
   "metadata": {
    "slideshow": {
     "slide_type": "fragment"
    }
   },
   "source": [
    "**Rozwiązanie 1**: Użycie pętli `for` i funkcji `range()`"
   ]
  },
  {
   "cell_type": "code",
   "execution_count": null,
   "metadata": {
    "slideshow": {
     "slide_type": "fragment"
    }
   },
   "outputs": [],
   "source": [
    "# s: przechowuj sumę wszystkich liczb\n",
    "s = 0\n",
    "n = int(input(\"Wpisz numer \"))\n",
    "# uruchom pętlę n razy\n",
    "# stop: n+1 (ponieważ range nigdy nie zawiera numeru stopu w wyniku)\n",
    "for i in range(1, n + 1):\n",
    "    # dodaj bieżącą liczbę do zmiennej sumy\n",
    "    s += i\n",
    "print(\"\\n\")\n",
    "print(\"Suma to:\", s)"
   ]
  },
  {
   "cell_type": "markdown",
   "metadata": {
    "slideshow": {
     "slide_type": "subslide"
    }
   },
   "source": [
    "**Rozwiązanie 2**: Użycie wbudowanej funkcji `sum()`"
   ]
  },
  {
   "cell_type": "code",
   "execution_count": null,
   "metadata": {
    "slideshow": {
     "slide_type": "fragment"
    }
   },
   "outputs": [],
   "source": [
    "n = int(input(\"Wpisz numer \"))\n",
    "# przekaż zakres liczb do funkcji sum()\n",
    "x = sum(range(1, n + 1))\n",
    "print(\"\\n\")\n",
    "print('Suma to:', x)"
   ]
  },
  {
   "cell_type": "markdown",
   "metadata": {
    "slideshow": {
     "slide_type": "slide"
    }
   },
   "source": [
    "### Ćwiczenie: Napisz program wypisujący tabliczkę mnożenia podanej liczby"
   ]
  },
  {
   "cell_type": "markdown",
   "metadata": {
    "slideshow": {
     "slide_type": "fragment"
    }
   },
   "source": [
    "Na przykład `num = 2`, więc wyjście powinno być\n",
    "```\n",
    "2\n",
    "4\n",
    "6\n",
    "8\n",
    "10\n",
    "12\n",
    "14\n",
    "16\n",
    "18\n",
    "20\n",
    "```"
   ]
  },
  {
   "cell_type": "markdown",
   "metadata": {
    "slideshow": {
     "slide_type": "slide"
    }
   },
   "source": [
    "#### Wskazówka"
   ]
  },
  {
   "cell_type": "markdown",
   "metadata": {
    "slideshow": {
     "slide_type": "fragment"
    }
   },
   "source": [
    "* Ustaw `n = 2`\n",
    "* Użyj pętli `for` do iteracji pierwszych 10 liczb\n",
    "* W każdej iteracji pomnóż 2 przez aktualną liczbę. (`p = n * i`)\n",
    "* Drukuj `p`"
   ]
  },
  {
   "cell_type": "markdown",
   "metadata": {
    "slideshow": {
     "slide_type": "slide"
    }
   },
   "source": [
    "#### Rozwiązanie"
   ]
  },
  {
   "cell_type": "code",
   "execution_count": null,
   "metadata": {
    "slideshow": {
     "slide_type": "fragment"
    }
   },
   "outputs": [],
   "source": [
    "n = 2\n",
    "# stop: 11 (ponieważ range nigdy nie zawiera numeru stopu w wyniku)\n",
    "# uruchom pętlę 10 razy\n",
    "for i in range(1, 11, 1):\n",
    "    # 2 * i (aktualna liczba)\n",
    "    product = n * i\n",
    "    print(product)"
   ]
  },
  {
   "cell_type": "markdown",
   "metadata": {
    "slideshow": {
     "slide_type": "slide"
    }
   },
   "source": [
    "### Ćwiczenie: Wyświetl liczby z listy za pomocą pętli"
   ]
  },
  {
   "cell_type": "markdown",
   "metadata": {
    "slideshow": {
     "slide_type": "subslide"
    }
   },
   "source": [
    "Napisz program wyświetlający tylko te liczby z listy, które spełniają następujące warunki\n",
    "\n",
    "* Liczba musi być podzielna przez pięć\n",
    "* Jeśli liczba jest większa niż 150, pomiń ją i przejdź do następnej liczby\n",
    "* Jeśli liczba jest większa niż 500, zatrzymaj pętlę\n",
    "\n",
    "**Dane:**\n",
    "\n",
    "```python\n",
    "numbers = [12, 75, 150, 180, 145, 525, 50]\n",
    "```\n",
    "\n",
    "**Oczekiwany wynik:**\n",
    "\n",
    "```\n",
    "75\n",
    "150\n",
    "145\n",
    "```"
   ]
  },
  {
   "cell_type": "markdown",
   "metadata": {
    "slideshow": {
     "slide_type": "slide"
    }
   },
   "source": [
    "#### Wskazówka"
   ]
  },
  {
   "cell_type": "markdown",
   "metadata": {
    "slideshow": {
     "slide_type": "fragment"
    }
   },
   "source": [
    "* Użyj pętli `for` do iteracji każdego elementu listy\n",
    "* Użyj instrukcji `break`, aby przerwać pętlę, jeśli bieżąca liczba jest większa niż 500\n",
    "* Użyj instrukcji `continue`, aby przejść do następnej liczby, jeśli bieżąca liczba jest większa niż 150\n",
    "* Użyj warunku `number % 5 == 0`, aby sprawdzić, czy liczba jest podzielna przez 5"
   ]
  },
  {
   "cell_type": "markdown",
   "metadata": {
    "slideshow": {
     "slide_type": "slide"
    }
   },
   "source": [
    "#### Rozwiązanie"
   ]
  },
  {
   "cell_type": "code",
   "execution_count": null,
   "metadata": {
    "slideshow": {
     "slide_type": "fragment"
    }
   },
   "outputs": [],
   "source": [
    "numbers = [12, 75, 150, 180, 145, 525, 50]\n",
    "# iteruj każdy element listy\n",
    "for item in numbers:\n",
    "    if item > 500:\n",
    "        break\n",
    "    elif item > 150:\n",
    "        continue\n",
    "    # sprawdź, czy liczba jest podzielna przez 5\n",
    "    elif item % 5 == 0:\n",
    "        print(item)"
   ]
  },
  {
   "cell_type": "markdown",
   "metadata": {
    "slideshow": {
     "slide_type": "slide"
    }
   },
   "source": [
    "### Ćwiczenie: Policz całkowitą liczbę cyfr w liczbie"
   ]
  },
  {
   "cell_type": "markdown",
   "metadata": {
    "slideshow": {
     "slide_type": "fragment"
    }
   },
   "source": [
    "Napisz program do zliczania całkowitej liczby cyfr w liczbie za pomocą pętli `while`.\n",
    "\n",
    "Na przykład liczba to **75869**, więc wynik powinien wynosić **5**."
   ]
  },
  {
   "cell_type": "markdown",
   "metadata": {
    "slideshow": {
     "slide_type": "slide"
    }
   },
   "source": [
    "#### Wskazówka"
   ]
  },
  {
   "cell_type": "markdown",
   "metadata": {
    "slideshow": {
     "slide_type": "fragment"
    }
   },
   "source": [
    "* Ustaw `counter = 0`\n",
    "* Uruchom pętlę `while` do `number != 0`\n",
    "* W każdej iteracji pętli\n",
    "  * Zmniejsz ostatnią cyfrę liczby, używając dzielenia całkowitego, czyli bez reszty (`number = number // 10`)\n",
    "  * Dokonaj przyrostu `counter` o 1\n",
    "* Wydrukuj `counter`"
   ]
  },
  {
   "cell_type": "markdown",
   "metadata": {
    "slideshow": {
     "slide_type": "slide"
    }
   },
   "source": [
    "#### Rozwiązanie"
   ]
  },
  {
   "cell_type": "code",
   "execution_count": null,
   "metadata": {
    "slideshow": {
     "slide_type": "fragment"
    }
   },
   "outputs": [],
   "source": [
    "num = 75869\n",
    "count = 0\n",
    "while num:\n",
    "    # dzielenie całkowite, czyli bez reszty\n",
    "    # aby zmniejszyć ostatnią cyfrę z liczby\n",
    "    num = num // 10\n",
    "\n",
    "    # dokonaj przyrostu licznika o 1\n",
    "    count += 1\n",
    "print(\"Całkowita liczba cyfr to:\", count)"
   ]
  },
  {
   "cell_type": "markdown",
   "metadata": {
    "slideshow": {
     "slide_type": "slide"
    }
   },
   "source": [
    "### Ćwiczenie: Wydrukuj następujący wzór"
   ]
  },
  {
   "cell_type": "markdown",
   "metadata": {
    "slideshow": {
     "slide_type": "fragment"
    }
   },
   "source": [
    "Napisz program, w którym użyjesz pętli `for` do wydrukowania następującego wzorca liczb odwrotnych\n",
    "\n",
    "```\n",
    "5 4 3 2 1\n",
    "4 3 2 1\n",
    "3 2 1\n",
    "2 1\n",
    "1\n",
    "```"
   ]
  },
  {
   "cell_type": "markdown",
   "metadata": {
    "slideshow": {
     "slide_type": "slide"
    }
   },
   "source": [
    "#### Wskazówka"
   ]
  },
  {
   "cell_type": "markdown",
   "metadata": {
    "slideshow": {
     "slide_type": "fragment"
    }
   },
   "source": [
    "* Ustaw `row = 5`, ponieważ powyższy wzór zawiera pięć rzędów\n",
    "* Utwórz zewnętrzną pętlę do iteracji liczb od 1 do 5 za pomocą pętli `for` i funkcji `range()`\n",
    "* Utwórz pętlę wewnętrzną wewnątrz pętli zewnętrznej w taki sposób, aby w każdej iteracji pętli zewnętrznej iteracja pętli wewnętrznej była redukowana o `i`. `i` to aktualny numer zewnętrznej pętli.\n",
    "* W każdej iteracji pętli wewnętrznej wydrukuj zmienną iteratora pętli wewnętrznej (`j`)"
   ]
  },
  {
   "cell_type": "markdown",
   "metadata": {
    "slideshow": {
     "slide_type": "subslide"
    }
   },
   "source": [
    "Zauważ, że:\n",
    "\n",
    "* W pierwszej iteracji pętli zewnętrznej pętla wewnętrzna wykonuje się pięć razy.\n",
    "* W drugiej iteracji pętli zewnętrznej pętla wewnętrzna wykonuje się cztery razy.\n",
    "* W ostatniej iteracji pętli zewnętrznej pętla wewnętrzna zostanie wykonana tylko raz"
   ]
  },
  {
   "cell_type": "markdown",
   "metadata": {
    "slideshow": {
     "slide_type": "slide"
    }
   },
   "source": [
    "#### Rozwiązanie"
   ]
  },
  {
   "cell_type": "code",
   "execution_count": null,
   "metadata": {
    "slideshow": {
     "slide_type": "fragment"
    }
   },
   "outputs": [],
   "source": [
    "n = 5\n",
    "k = 5\n",
    "for i in range(0, n+1):\n",
    "    for j in range(k-i, 0, -1):\n",
    "        print(j, end=' ')\n",
    "    print()"
   ]
  },
  {
   "cell_type": "code",
   "execution_count": null,
   "metadata": {
    "slideshow": {
     "slide_type": "skip"
    }
   },
   "outputs": [],
   "source": []
  }
 ],
 "metadata": {
  "celltoolbar": "Slideshow",
  "kernelspec": {
   "display_name": "Python 3 (ipykernel)",
   "language": "python",
   "name": "python3"
  },
  "language_info": {
   "codemirror_mode": {
    "name": "ipython",
    "version": 3
   },
   "file_extension": ".py",
   "mimetype": "text/x-python",
   "name": "python",
   "nbconvert_exporter": "python",
   "pygments_lexer": "ipython3",
   "version": "3.11.5"
  }
 },
 "nbformat": 4,
 "nbformat_minor": 4
}
