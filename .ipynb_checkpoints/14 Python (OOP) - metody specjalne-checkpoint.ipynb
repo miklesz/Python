{
 "cells": [
  {
   "cell_type": "markdown",
   "metadata": {
    "slideshow": {
     "slide_type": "slide"
    }
   },
   "source": [
    "# Python (OOP) - metody specjalne\n",
    "\n",
    "_Mikołaj Leszczuk_\n",
    "\n",
    "![](https://amir.rachum.com/images/posts/butwait1.png)\n",
    "![](https://i.creativecommons.org/l/by/4.0/88x31.png)"
   ]
  },
  {
   "cell_type": "markdown",
   "metadata": {
    "slideshow": {
     "slide_type": "slide"
    }
   },
   "source": [
    "## Przeciążanie operatorów"
   ]
  },
  {
   "cell_type": "markdown",
   "metadata": {
    "slideshow": {
     "slide_type": "fragment"
    }
   },
   "source": [
    "**Przeciążanie operatorów** ([ang](https://pl.wikipedia.org/wiki/J%C4%99zyk_angielski). *operator overloading*) lub **przeładowanie operatorów** – polega na tym, że [operator](https://pl.wikipedia.org/wiki/Operator_(programowanie)) może mieć różne implementacje w zależności od typów użytych argumentów (operandów).\n",
    " \n",
    "Przeciążanie operatorów to typowy tzw. [lukier składniowy](https://pl.wikipedia.org/wiki/Lukier_sk%C5%82adniowy) (cecha składni języka, którą można wyeliminować przez proste przekształcenia składniowe, istniejąca jedynie dla wygody programisty). Potencjalnie znacznie poprawia czytelność kodu i umożliwia zdefiniowanie większej części [biblioteki standardowej](https://pl.wikipedia.org/wiki/Biblioteka_programistyczna) na poziomie języka, bez uciekania się do trików. Z drugiej strony, ta technika programistyczna może spowodować powstawanie niejasnych konstrukcji, gdzie operatory wykonują kompletnie różne czynności w zależności od ich operandów."
   ]
  },
  {
   "cell_type": "markdown",
   "metadata": {
    "slideshow": {
     "slide_type": "subslide"
    }
   },
   "source": [
    "Na przykład w Pythonie, jeżeli:"
   ]
  },
  {
   "cell_type": "code",
   "execution_count": 1,
   "metadata": {
    "slideshow": {
     "slide_type": "fragment"
    }
   },
   "outputs": [],
   "source": [
    "a = 1"
   ]
  },
  {
   "cell_type": "markdown",
   "metadata": {
    "slideshow": {
     "slide_type": "fragment"
    }
   },
   "source": [
    "To wyrażenie:"
   ]
  },
  {
   "cell_type": "code",
   "execution_count": 2,
   "metadata": {
    "slideshow": {
     "slide_type": "fragment"
    }
   },
   "outputs": [
    {
     "name": "stdout",
     "output_type": "stream",
     "text": [
      "2\n"
     ]
    }
   ],
   "source": [
    "print(a * 2)"
   ]
  },
  {
   "cell_type": "markdown",
   "metadata": {
    "slideshow": {
     "slide_type": "fragment"
    }
   },
   "source": [
    "Normalnie oznacza przemnożenie liczby o `2`."
   ]
  },
  {
   "cell_type": "code",
   "execution_count": 3,
   "metadata": {
    "slideshow": {
     "slide_type": "fragment"
    }
   },
   "outputs": [],
   "source": [
    "a = 1.0"
   ]
  },
  {
   "cell_type": "code",
   "execution_count": 4,
   "metadata": {
    "slideshow": {
     "slide_type": "fragment"
    }
   },
   "outputs": [
    {
     "name": "stdout",
     "output_type": "stream",
     "text": [
      "2.0\n"
     ]
    }
   ],
   "source": [
    "print(a * 2)"
   ]
  },
  {
   "cell_type": "markdown",
   "metadata": {
    "slideshow": {
     "slide_type": "subslide"
    }
   },
   "source": [
    "Ale, jeśli:"
   ]
  },
  {
   "cell_type": "code",
   "execution_count": 5,
   "metadata": {
    "slideshow": {
     "slide_type": "fragment"
    }
   },
   "outputs": [],
   "source": [
    "a = 'a'"
   ]
  },
  {
   "cell_type": "markdown",
   "metadata": {
    "slideshow": {
     "slide_type": "fragment"
    }
   },
   "source": [
    "To:"
   ]
  },
  {
   "cell_type": "code",
   "execution_count": 6,
   "metadata": {
    "slideshow": {
     "slide_type": "fragment"
    }
   },
   "outputs": [
    {
     "name": "stdout",
     "output_type": "stream",
     "text": [
      "aa\n"
     ]
    }
   ],
   "source": [
    "print(a * 2)"
   ]
  },
  {
   "cell_type": "markdown",
   "metadata": {
    "slideshow": {
     "slide_type": "fragment"
    }
   },
   "source": [
    "Oznacza to podwojenie `'a'`."
   ]
  },
  {
   "cell_type": "code",
   "execution_count": 7,
   "metadata": {
    "slideshow": {
     "slide_type": "subslide"
    }
   },
   "outputs": [],
   "source": [
    "a = 1+2j"
   ]
  },
  {
   "cell_type": "code",
   "execution_count": 8,
   "metadata": {
    "slideshow": {
     "slide_type": "fragment"
    }
   },
   "outputs": [
    {
     "name": "stdout",
     "output_type": "stream",
     "text": [
      "(2+4j)\n"
     ]
    }
   ],
   "source": [
    "print(a * 2)"
   ]
  },
  {
   "cell_type": "markdown",
   "metadata": {
    "slideshow": {
     "slide_type": "subslide"
    }
   },
   "source": [
    "**Czy operator `*` może wszystko przemnożyć?**\n",
    "\n",
    "Odpowiedź brzmi: nie, nie może. Czy możesz użyć operatora `*`, aby pomnożyć dwa obiekty klasy? Operator `*` może pomnożyć wartości całkowite, wartości zmiennoprzecinkowe, wartości zespolone lub może być użyty do pomnożenia ciągów tylko dlatego, że te zachowania zostały zdefiniowane w Pythonie.\n",
    "\n",
    "Więc jeśli chcesz użyć tego samego operatora do pomnożenia obiektów z jakiejś zdefiniowanej przez użytkownika klasy, będziesz musieć samodzielnie zdefiniować to zachowanie i poinformować o tym Pythona.\n",
    "\n",
    "Jeśli nadal nie jest to jasne, to stwórzmy klasę i spróbuj użyć operatora `*`, aby pomnożyć obiekt tej klasy."
   ]
  },
  {
   "cell_type": "code",
   "execution_count": 9,
   "metadata": {
    "slideshow": {
     "slide_type": "subslide"
    }
   },
   "outputs": [],
   "source": [
    "class Complex:\n",
    "    def __init__(self, r, i):\n",
    "        self.real = r\n",
    "         self.img = i"
   ]
  },
  {
   "cell_type": "code",
   "execution_count": 10,
   "metadata": {
    "slideshow": {
     "slide_type": "fragment"
    }
   },
   "outputs": [],
   "source": [
    "a = Complex(1, 2)"
   ]
  },
  {
   "cell_type": "code",
   "execution_count": 11,
   "metadata": {
    "scrolled": true,
    "slideshow": {
     "slide_type": "fragment"
    }
   },
   "outputs": [
    {
     "ename": "TypeError",
     "evalue": "unsupported operand type(s) for *: 'Complex' and 'int'",
     "output_type": "error",
     "traceback": [
      "\u001b[0;31m---------------------------------------------------------------------------\u001b[0m",
      "\u001b[0;31mTypeError\u001b[0m                                 Traceback (most recent call last)",
      "Cell \u001b[0;32mIn[11], line 1\u001b[0m\n\u001b[0;32m----> 1\u001b[0m \u001b[38;5;28mprint\u001b[39m(\u001b[43ma\u001b[49m\u001b[43m \u001b[49m\u001b[38;5;241;43m*\u001b[39;49m\u001b[43m \u001b[49m\u001b[38;5;241;43m2\u001b[39;49m)\n",
      "\u001b[0;31mTypeError\u001b[0m: unsupported operand type(s) for *: 'Complex' and 'int'"
     ]
    }
   ],
   "source": [
    "print(a * 2)"
   ]
  },
  {
   "cell_type": "markdown",
   "metadata": {
    "slideshow": {
     "slide_type": "fragment"
    }
   },
   "source": [
    "A jak interpretować ten fragment gdy `a` jest jeszcze czymś innym?\n",
    "\n",
    "Z tego powodu zalecane jest, aby przeciążać tylko te operatory, których znaczenia łatwo się domyślić, gdyż mają swój odpowiednik w matematyce, fizyce itp."
   ]
  },
  {
   "cell_type": "markdown",
   "metadata": {
    "slideshow": {
     "slide_type": "slide"
    }
   },
   "source": [
    "## Metody specjalne"
   ]
  },
  {
   "cell_type": "markdown",
   "metadata": {
    "slideshow": {
     "slide_type": "subslide"
    }
   },
   "source": [
    "Klasy umożliwiają przeładowywanie (przeciążanie) operatorów (podobnie jak w C++). Jest to możliwe dzięki specjalnym metodom, które można zaimplementować w klasie. Poniżej przykład klasy `Special`, w której zdefiniowano kilka metod specjalnych."
   ]
  },
  {
   "cell_type": "markdown",
   "metadata": {
    "slideshow": {
     "slide_type": "fragment"
    }
   },
   "source": [
    "```python\n",
    "class Special:\n",
    "    def __init__(self, *args, **kwargs):\n",
    "        pass\n",
    "        # konstruktor\n",
    "\n",
    "    def __del__(self):\n",
    "        pass\n",
    "        # Destruktor – rzadko wykorzystywany\n",
    "\n",
    "    def __str__(self):\n",
    "        pass\n",
    "        # Reprezentacja znakowa; wywoływana przez print i str\n",
    "\n",
    "    def __repr__(self):\n",
    "        pass\n",
    "        # Reprezentacja znakowa; wywoływana przez repr\n",
    "        # eval(repr(a)) powinno być równe a\n",
    "\n",
    "    def __getitem__(self, i):\n",
    "        pass\n",
    "        # Indeksacja dla obiektu: b = a[i]\n",
    "\n",
    "    def __setitem__(self, i, v):\n",
    "        pass\n",
    "        # Przypisanie z wykorzystaniem indeksacji: a[i] = v\n",
    "\n",
    "    def __len__(self):\n",
    "        pass\n",
    "        # Wywoływane przez len(a);  Funkcja powinna zwrócić\n",
    "        # długość obiektu (o ile ma to uzasadnienie)\n",
    "\n",
    "    def __eq__(self, x):\n",
    "        pass\n",
    "        # Test self == x; zwraca True lub False\n",
    "\n",
    "    def __add__(self, b):\n",
    "        pass\n",
    "        # Definiuje self + b\n",
    "\n",
    "    def __sub__(self, b):\n",
    "        pass\n",
    "        # Definiuje self – b\n",
    "\n",
    "    def __mul__(self, b):\n",
    "        pass\n",
    "        # Definiuje self * b\n",
    "\n",
    "    def __div__(self, b):\n",
    "        pass\n",
    "        # Definiuje self / b\n",
    "\n",
    "    def __pow__(self, b):\n",
    "        pass\n",
    "        # Definiuje self ** b    \n",
    "```"
   ]
  },
  {
   "cell_type": "markdown",
   "metadata": {
    "slideshow": {
     "slide_type": "slide"
    }
   },
   "source": [
    "## Lista metod specjalnych (magicznych, dunderów - od ang. *double under*)"
   ]
  },
  {
   "cell_type": "markdown",
   "metadata": {
    "slideshow": {
     "slide_type": "fragment"
    }
   },
   "source": [
    "W poprzednim podrozdziale zostało to już wstępnie przedstawione, tutaj przyjrzymy się metodom specjalnym w Pythonie bardziej szczegółowo.\n",
    "\n",
    "Metody specjalne są metodami, których nazwy zaczynają i kończą się podwójnym podkreśleniem `__`. Najważniejszą, najczęściej wykorzystywaną metodą specjalną jest `__init__`. Metody te są specjalne, ponieważ Python w specjalny sposób je wywołuje. Zestawienie popularnych metod przedstawione jest poniżej."
   ]
  },
  {
   "cell_type": "markdown",
   "metadata": {
    "slideshow": {
     "slide_type": "subslide"
    }
   },
   "source": [
    "| Metoda      | Opis                                                                                                         |\n",
    "|-------------|--------------------------------------------------------------------------------------------------------------|\n",
    "| `__init__`    | Inicjalizator, uruchamiany od razu po utworzeniu instancji                                                   |\n",
    "| `__del__`     | Finalizator, uruchamiany tuż przed zniszczeniem instancji                                                    |\n",
    "| `__repr__`    | \"Oficjalna\" reprezentacja tekstowa obiektu, format najlepiej `<tutaj wiele jednoznacznych danych>`; zwraca `str` |\n",
    "| `__str__`     | \"Nieoficjalna\" reprezentacja tekstowa, czytelna dla użytkowników; zwraca `str`                                 |\n",
    "| `__bytes__`   | Reprezentacja bajtowa; zwraca `bytes`                                                                          |\n",
    "| `__format__`  | Reprezentacja tekstowa używana przy poleceniach formatujących (`str.format`, `format()`, `f\"\"`); zwraca `str`        |\n",
    "| `__lt__`      | Operator `<` (*lower than*)                                                                                      |\n",
    "| `__le__`      | Operator `<=` (*lower or equal*)                                                                                 |\n",
    "| `__eq__`      | Operator `==` (*equal*)                                                                                          |\n",
    "| `__ne__`      | Operator `!=` (*not equal*)                                                                                      |\n",
    "| `__gt__`      | Operator `>` (*greater than*)                                                                                    |\n",
    "| `__ge__`      | Operator `>=` (*greater or equal*)                                                                               |\n",
    "| `__bool__`    | Metoda używana do sprawdzania wartości prawdy dla instancji, również przy wywołaniu `bool(instancja)`          |\n",
    "| `__abs__`     | Wywoływana przez `abs(instancja)`, służy do obliczania modułu wartości                           "
   ]
  },
  {
   "cell_type": "markdown",
   "metadata": {
    "slideshow": {
     "slide_type": "subslide"
    }
   },
   "source": [
    "| Metoda      | Opis                                                                                                         |\n",
    "|-------------|--------------------------------------------------------------------------------------------------------------|\n",
    "| `__add__`     | Operator `+` (*add*)                                                                                             |\n",
    "| `__sub__`     | Operator `-` (*subtract*)                                                                                        |\n",
    "| `__mul__`     | Operator `*` (*multiply*)                                                                                        |\n",
    "| `__truediv__` | Operator `/` (*divide*)                                                                                          |\n",
    "| `__neg__`     | Operator negacji, `-instancja`                                                                                 |"
   ]
  },
  {
   "cell_type": "markdown",
   "metadata": {
    "slideshow": {
     "slide_type": "slide"
    }
   },
   "source": [
    "## Przykład, jak przeciążać operator binarny `+` w Pythonie"
   ]
  },
  {
   "cell_type": "code",
   "execution_count": 12,
   "metadata": {
    "slideshow": {
     "slide_type": "fragment"
    }
   },
   "outputs": [],
   "source": [
    "ob1 = 1 \n",
    "ob2 = 2 \n",
    "ob3 = \"Pyt\" \n",
    "ob4 = \"hon\""
   ]
  },
  {
   "cell_type": "code",
   "execution_count": 13,
   "metadata": {
    "slideshow": {
     "slide_type": "fragment"
    }
   },
   "outputs": [
    {
     "name": "stdout",
     "output_type": "stream",
     "text": [
      "<class 'int'>\n",
      "<class 'int'>\n",
      "<class 'str'>\n",
      "<class 'str'>\n"
     ]
    }
   ],
   "source": [
    "print(type(ob1))\n",
    "print(type(ob2))\n",
    "print(type(ob3))\n",
    "print(type(ob4))"
   ]
  },
  {
   "cell_type": "code",
   "execution_count": 14,
   "metadata": {
    "slideshow": {
     "slide_type": "fragment"
    }
   },
   "outputs": [
    {
     "name": "stdout",
     "output_type": "stream",
     "text": [
      "3\n",
      "Python\n"
     ]
    }
   ],
   "source": [
    "print(ob1 + ob2) # proste dodawanie obiektów\n",
    "print(ob3 + ob4) # łączenie ciągów znaków przez dodawanie obiektów"
   ]
  },
  {
   "cell_type": "code",
   "execution_count": 15,
   "metadata": {
    "slideshow": {
     "slide_type": "subslide"
    }
   },
   "outputs": [],
   "source": [
    "class X: \n",
    "    def __init__(self, x): \n",
    "        self.x = x"
   ]
  },
  {
   "cell_type": "code",
   "execution_count": 16,
   "metadata": {
    "slideshow": {
     "slide_type": "fragment"
    }
   },
   "outputs": [],
   "source": [
    "ob1 = X(1) \n",
    "ob2 = X(2) \n",
    "ob3 = X(\"Pyt\") \n",
    "ob4 = X(\"hon\")"
   ]
  },
  {
   "cell_type": "code",
   "execution_count": 17,
   "metadata": {
    "slideshow": {
     "slide_type": "fragment"
    }
   },
   "outputs": [
    {
     "name": "stdout",
     "output_type": "stream",
     "text": [
      "<class '__main__.X'>\n",
      "<class '__main__.X'>\n",
      "<class '__main__.X'>\n",
      "<class '__main__.X'>\n"
     ]
    }
   ],
   "source": [
    "print(type(ob1))\n",
    "print(type(ob2))\n",
    "print(type(ob3))\n",
    "print(type(ob4))"
   ]
  },
  {
   "cell_type": "code",
   "execution_count": 18,
   "metadata": {
    "slideshow": {
     "slide_type": "subslide"
    }
   },
   "outputs": [
    {
     "ename": "TypeError",
     "evalue": "unsupported operand type(s) for +: 'X' and 'X'",
     "output_type": "error",
     "traceback": [
      "\u001b[0;31m---------------------------------------------------------------------------\u001b[0m",
      "\u001b[0;31mTypeError\u001b[0m                                 Traceback (most recent call last)",
      "Cell \u001b[0;32mIn[18], line 1\u001b[0m\n\u001b[0;32m----> 1\u001b[0m \u001b[38;5;28mprint\u001b[39m(\u001b[43mob1\u001b[49m\u001b[43m \u001b[49m\u001b[38;5;241;43m+\u001b[39;49m\u001b[43m \u001b[49m\u001b[43mob2\u001b[49m) \u001b[38;5;66;03m# proste dodawanie obiektów\u001b[39;00m\n\u001b[1;32m      2\u001b[0m \u001b[38;5;28mprint\u001b[39m(ob3 \u001b[38;5;241m+\u001b[39m ob4) \u001b[38;5;66;03m# łączenie ciągów znaków przez dodawanie obiektów\u001b[39;00m\n",
      "\u001b[0;31mTypeError\u001b[0m: unsupported operand type(s) for +: 'X' and 'X'"
     ]
    }
   ],
   "source": [
    "print(ob1 + ob2) # proste dodawanie obiektów\n",
    "print(ob3 + ob4) # łączenie ciągów znaków przez dodawanie obiektów"
   ]
  },
  {
   "cell_type": "markdown",
   "metadata": {
    "slideshow": {
     "slide_type": "subslide"
    }
   },
   "source": [
    "Aby wykonać przeciążenie danego operatora, Python, jak wiemy, udostępnia dla niego funkcję specjalną (magiczną), która jest automatycznie wywoływana, gdy jest skojarzona z tym konkretnym operatorem. Na przykład, gdy używamy operatora `+`, automatycznie wywoływana jest magiczna metoda `__add__()`, w której zdefiniowana jest operacja dla operatora `+`."
   ]
  },
  {
   "cell_type": "markdown",
   "metadata": {
    "slideshow": {
     "slide_type": "fragment"
    }
   },
   "source": [
    "Ponieważ, kiedy używamy operatora `+`, automatycznie wywoływana jest magiczna metoda `__add__()`, w której zdefiniowana jest operacja dla operatora `+`, to dlatego zmieniając kod metody magicznej, możemy nadać operatorowi `+` alternatywne znaczenie."
   ]
  },
  {
   "cell_type": "code",
   "execution_count": 19,
   "metadata": {
    "slideshow": {
     "slide_type": "subslide"
    }
   },
   "outputs": [],
   "source": [
    "# Program do przeciążania operatora binarnego +\n",
    "   \n",
    "class X: \n",
    "    def __init__(self, x): \n",
    "        self.x = x\n",
    "   \n",
    "    # dodanie dwóch obiektów\n",
    "    def __add__(self, y): \n",
    "        return self.x + y.x "
   ]
  },
  {
   "cell_type": "code",
   "execution_count": 20,
   "metadata": {
    "slideshow": {
     "slide_type": "subslide"
    }
   },
   "outputs": [],
   "source": [
    "ob1 = X(1) \n",
    "ob2 = X(2) \n",
    "ob3 = X(\"Pyt\") \n",
    "ob4 = X(\"hon\") "
   ]
  },
  {
   "cell_type": "code",
   "execution_count": 21,
   "metadata": {
    "slideshow": {
     "slide_type": "fragment"
    }
   },
   "outputs": [
    {
     "name": "stdout",
     "output_type": "stream",
     "text": [
      "<class '__main__.X'>\n",
      "<class '__main__.X'>\n",
      "<class '__main__.X'>\n",
      "<class '__main__.X'>\n"
     ]
    }
   ],
   "source": [
    "print(type(ob1))\n",
    "print(type(ob2))\n",
    "print(type(ob3))\n",
    "print(type(ob4))"
   ]
  },
  {
   "cell_type": "code",
   "execution_count": 22,
   "metadata": {
    "slideshow": {
     "slide_type": "fragment"
    }
   },
   "outputs": [
    {
     "name": "stdout",
     "output_type": "stream",
     "text": [
      "3\n",
      "Python\n"
     ]
    }
   ],
   "source": [
    "print(ob1 + ob2) # proste dodawanie obiektów\n",
    "print(ob3 + ob4) # łączenie ciągów znaków przez dodawanie obiektów"
   ]
  },
  {
   "cell_type": "markdown",
   "metadata": {
    "slideshow": {
     "slide_type": "slide"
    }
   },
   "source": [
    "## Przeciążanie metod w Pythonie?"
   ]
  },
  {
   "cell_type": "markdown",
   "metadata": {
    "slideshow": {
     "slide_type": "fragment"
    }
   },
   "source": [
    "Dwie metody nie mogą mieć tej samej nazwy w Pythonie. Przeciążanie metod w Pythonie to funkcja, która pozwala temu samemu operatorowi mieć różne znaczenia. Przyjrzymy się funkcji przeciążania metod w Pythonie i sposobowi jej wykorzystania do przeciążania metod."
   ]
  },
  {
   "cell_type": "markdown",
   "metadata": {
    "slideshow": {
     "slide_type": "slide"
    }
   },
   "source": [
    "### Przeciążanie metod w Pythonie"
   ]
  },
  {
   "cell_type": "markdown",
   "metadata": {
    "slideshow": {
     "slide_type": "fragment"
    }
   },
   "source": [
    "W Pythonie możesz stworzyć metodę, którą można wywołać na różne sposoby. Więc możesz mieć metodę, która ma zero, jeden lub więcej parametrów. W zależności od definicji metody możemy ją wywołać z zerem, jednym lub kilkoma argumentami.\n",
    "\n",
    "Mając jedną metodę lub funkcję, możesz określić liczbę parametrów. Ten proces wywoływania tej samej metody na różne sposoby jest nazywany przeciążaniem metody."
   ]
  },
  {
   "cell_type": "markdown",
   "metadata": {
    "slideshow": {
     "slide_type": "slide"
    }
   },
   "source": [
    "### Przykłady przeciążania metod"
   ]
  },
  {
   "cell_type": "markdown",
   "metadata": {
    "slideshow": {
     "slide_type": "fragment"
    }
   },
   "source": [
    "Teraz, gdy już wiesz, czym jest przeciążanie metod w Pythonie, weźmy przykład. Tutaj tworzymy klasę za pomocą jednej metody `hello()`. Pierwszy parametr tej metody jest ustawiony na `None`. To da nam możliwość wywołania go z parametrem lub bez niego.\n",
    "\n",
    "Na podstawie klasy tworzony jest również obiekt, którego metodę wywołujemy używając zera i jednego parametru."
   ]
  },
  {
   "cell_type": "markdown",
   "metadata": {
    "slideshow": {
     "slide_type": "slide"
    }
   },
   "source": [
    "#### Przykład 1"
   ]
  },
  {
   "cell_type": "code",
   "execution_count": 23,
   "metadata": {
    "slideshow": {
     "slide_type": "fragment"
    }
   },
   "outputs": [
    {
     "name": "stdout",
     "output_type": "stream",
     "text": [
      "Cześć \n"
     ]
    },
    {
     "ename": "TypeError",
     "evalue": "Person.hello() takes 1 positional argument but 2 were given",
     "output_type": "error",
     "traceback": [
      "\u001b[0;31m---------------------------------------------------------------------------\u001b[0m",
      "\u001b[0;31mTypeError\u001b[0m                                 Traceback (most recent call last)",
      "Cell \u001b[0;32mIn[23], line 11\u001b[0m\n\u001b[1;32m      9\u001b[0m obj\u001b[38;5;241m.\u001b[39mhello()\n\u001b[1;32m     10\u001b[0m \u001b[38;5;66;03m# Wywołaj metodę z parametrem\u001b[39;00m\n\u001b[0;32m---> 11\u001b[0m \u001b[43mobj\u001b[49m\u001b[38;5;241;43m.\u001b[39;49m\u001b[43mhello\u001b[49m\u001b[43m(\u001b[49m\u001b[38;5;124;43m'\u001b[39;49m\u001b[38;5;124;43mPython\u001b[39;49m\u001b[38;5;124;43m'\u001b[39;49m\u001b[43m)\u001b[49m\n",
      "\u001b[0;31mTypeError\u001b[0m: Person.hello() takes 1 positional argument but 2 were given"
     ]
    }
   ],
   "source": [
    "class Person:\n",
    "    def hello(self, name=None):\n",
    "        print('Cześć ' + name)\n",
    "    def hello(self):\n",
    "        print('Cześć ')\n",
    "# Utwórz instancję\n",
    "obj = Person()\n",
    "# Wywołaj metodę\n",
    "obj.hello()\n",
    "# Wywołaj metodę z parametrem\n",
    "obj.hello('Python')"
   ]
  },
  {
   "cell_type": "code",
   "execution_count": 24,
   "metadata": {
    "slideshow": {
     "slide_type": "subslide"
    }
   },
   "outputs": [
    {
     "name": "stdout",
     "output_type": "stream",
     "text": [
      "Cześć \n",
      "Cześć Python\n"
     ]
    }
   ],
   "source": [
    "class Person:\n",
    "    def hello(self, name=None):\n",
    "        if name is not None:\n",
    "            print('Cześć ' + name)\n",
    "        else:\n",
    "            print('Cześć ')\n",
    "# Utwórz instancję\n",
    "obj = Person()\n",
    "# Wywołaj metodę\n",
    "obj.hello()\n",
    "# Wywołaj metodę z parametrem\n",
    "obj.hello('Python')"
   ]
  },
  {
   "cell_type": "markdown",
   "metadata": {
    "slideshow": {
     "slide_type": "subslide"
    }
   },
   "source": [
    "Aby wyjaśnić przeciążenie metod, możemy teraz wywołać metodę `hello()` na dwa sposoby:"
   ]
  },
  {
   "cell_type": "code",
   "execution_count": 25,
   "metadata": {
    "slideshow": {
     "slide_type": "fragment"
    }
   },
   "outputs": [
    {
     "name": "stdout",
     "output_type": "stream",
     "text": [
      "Cześć \n",
      "Cześć Python\n"
     ]
    }
   ],
   "source": [
    "obj.hello()\n",
    "obj.hello('Python')"
   ]
  },
  {
   "cell_type": "markdown",
   "metadata": {
    "slideshow": {
     "slide_type": "fragment"
    }
   },
   "source": [
    "W powyższym przykładzie stworzyliśmy metodę, którą można wywołać z mniejszą liczbą argumentów, niż jest to zdefiniowane. Ponadto nie jest ograniczona do dwóch zmiennych, a metoda może mieć więcej zmiennych, które są opcjonalne.\n",
    "\n",
    "Teraz weźmy pod uwagę inny **przykład**, aby zrozumieć przeciążanie metod w Pythonie."
   ]
  },
  {
   "cell_type": "markdown",
   "metadata": {
    "slideshow": {
     "slide_type": "slide"
    }
   },
   "source": [
    "#### Przykład 2"
   ]
  },
  {
   "cell_type": "markdown",
   "metadata": {
    "slideshow": {
     "slide_type": "fragment"
    }
   },
   "source": [
    "W poniższym przykładzie przeładujemy metodę `area()`. Jeśli nie ma argumentu, zwraca `0`. A jeśli mamy jeden argument, zwraca kwadrat wartości i zakłada, że obliczasz pole kwadratu. Ponadto, jeśli mamy dwa argumenty, zwraca iloczyn tych dwóch wartości i zakłada, że obliczasz pole prostokąta."
   ]
  },
  {
   "cell_type": "markdown",
   "metadata": {
    "slideshow": {
     "slide_type": "subslide"
    }
   },
   "source": [
    "Weźmy pod uwagę poniższy kod i następujące **dane wyjściowe**, które nam ten kod da:"
   ]
  },
  {
   "cell_type": "code",
   "execution_count": 26,
   "metadata": {
    "slideshow": {
     "slide_type": "fragment"
    }
   },
   "outputs": [
    {
     "name": "stdout",
     "output_type": "stream",
     "text": [
      "Wartość powierzchni: 0\n",
      "Wartość powierzchni: 16\n",
      "Wartość powierzchni: 15\n"
     ]
    }
   ],
   "source": [
    "# klasa\n",
    "class Compute:\n",
    "    # metoda obliczania powierzchni - area()\n",
    "    def area(self, x = None, y = None):\n",
    "        if x != None and y != None:\n",
    "            return x * y\n",
    "        elif x != None:\n",
    "            return x * x\n",
    "        else:\n",
    "            return 0\n",
    "# obiekt\n",
    "obj = Compute()\n",
    "# zerowy argumentów\n",
    "print(\"Wartość powierzchni:\", obj.area())\n",
    "# jeden argument\n",
    "print(\"Wartość powierzchni:\", obj.area(4))\n",
    "# dwa argumenty\n",
    "print(\"Wartość powierzchni:\", obj.area(3, 5))"
   ]
  },
  {
   "cell_type": "markdown",
   "metadata": {
    "slideshow": {
     "slide_type": "subslide"
    }
   },
   "source": [
    "W ten sposób doszliśmy do końca tej sekcji. Mam nadzieję, że rozumiecie, co to jest przeciążanie metod w Pythonie i jak to działa."
   ]
  },
  {
   "cell_type": "markdown",
   "metadata": {
    "slideshow": {
     "slide_type": "slide"
    }
   },
   "source": [
    "## Ćwiczenia"
   ]
  },
  {
   "cell_type": "markdown",
   "metadata": {
    "slideshow": {
     "slide_type": "slide"
    }
   },
   "source": [
    "### Wywołanie metod specjalnych"
   ]
  },
  {
   "cell_type": "markdown",
   "metadata": {
    "slideshow": {
     "slide_type": "slide"
    }
   },
   "source": [
    "#### Ćwiczenie"
   ]
  },
  {
   "cell_type": "code",
   "execution_count": 27,
   "metadata": {
    "slideshow": {
     "slide_type": "fragment"
    }
   },
   "outputs": [],
   "source": [
    "a = 'Real Python'\n",
    "b = ['Real', 'Python']"
   ]
  },
  {
   "cell_type": "markdown",
   "metadata": {
    "slideshow": {
     "slide_type": "fragment"
    }
   },
   "source": [
    "Wykonaj poniższy kod przy pomocy jawnego wywoływania odpowiednich metod specjalnych:"
   ]
  },
  {
   "cell_type": "code",
   "execution_count": 28,
   "metadata": {
    "slideshow": {
     "slide_type": "fragment"
    }
   },
   "outputs": [
    {
     "name": "stdout",
     "output_type": "stream",
     "text": [
      "11\n",
      "Real\n"
     ]
    }
   ],
   "source": [
    "print(len(a))\n",
    "print(b[0])"
   ]
  },
  {
   "cell_type": "markdown",
   "metadata": {
    "slideshow": {
     "slide_type": "slide"
    }
   },
   "source": [
    "#### Rozwiązanie"
   ]
  },
  {
   "cell_type": "code",
   "execution_count": 29,
   "metadata": {
    "slideshow": {
     "slide_type": "fragment"
    }
   },
   "outputs": [
    {
     "name": "stdout",
     "output_type": "stream",
     "text": [
      "11\n",
      "Real\n"
     ]
    }
   ],
   "source": [
    "print(a.__len__())\n",
    "print(b.__getitem__(0))"
   ]
  },
  {
   "cell_type": "markdown",
   "metadata": {
    "slideshow": {
     "slide_type": "slide"
    }
   },
   "source": [
    "### Uzyskiwanie długości predefiniowanej"
   ]
  },
  {
   "cell_type": "markdown",
   "metadata": {
    "slideshow": {
     "slide_type": "slide"
    }
   },
   "source": [
    "#### Ćwiczenie"
   ]
  },
  {
   "cell_type": "markdown",
   "metadata": {
    "slideshow": {
     "slide_type": "fragment"
    }
   },
   "source": [
    "Aby uzyskać długość łańcucha, możesz wywołać `len('string')`. Ale pusta definicja klasy nie obsługuje tego zachowania \"out of the box\":"
   ]
  },
  {
   "cell_type": "code",
   "execution_count": 30,
   "metadata": {
    "slideshow": {
     "slide_type": "fragment"
    }
   },
   "outputs": [
    {
     "ename": "TypeError",
     "evalue": "object of type 'NoLenSupport' has no len()",
     "output_type": "error",
     "traceback": [
      "\u001b[0;31m---------------------------------------------------------------------------\u001b[0m",
      "\u001b[0;31mTypeError\u001b[0m                                 Traceback (most recent call last)",
      "Cell \u001b[0;32mIn[30], line 5\u001b[0m\n\u001b[1;32m      2\u001b[0m     \u001b[38;5;28;01mpass\u001b[39;00m\n\u001b[1;32m      4\u001b[0m obj \u001b[38;5;241m=\u001b[39m NoLenSupport()\n\u001b[0;32m----> 5\u001b[0m \u001b[38;5;28mprint\u001b[39m(\u001b[38;5;28;43mlen\u001b[39;49m\u001b[43m(\u001b[49m\u001b[43mobj\u001b[49m\u001b[43m)\u001b[49m)\n",
      "\u001b[0;31mTypeError\u001b[0m: object of type 'NoLenSupport' has no len()"
     ]
    }
   ],
   "source": [
    "class NoLenSupport:\n",
    "    pass\n",
    "\n",
    "obj = NoLenSupport()\n",
    "print(len(obj))"
   ]
  },
  {
   "cell_type": "markdown",
   "metadata": {
    "slideshow": {
     "slide_type": "subslide"
    }
   },
   "source": [
    "Aby to naprawić, możesz dodaj metodę `__len__` dunder do swojej klasy, zwracającą jakąś stałą wartość, np.: \"odpowiedź na ostateczną kwestię życia, wszechświata i wszystkiego\" ;-)."
   ]
  },
  {
   "cell_type": "markdown",
   "metadata": {
    "slideshow": {
     "slide_type": "fragment"
    }
   },
   "source": [
    "![](https://upload.wikimedia.org/wikipedia/commons/0/0e/Answer_to_Life_42.svg)"
   ]
  },
  {
   "cell_type": "markdown",
   "metadata": {
    "slideshow": {
     "slide_type": "slide"
    }
   },
   "source": [
    "#### Rozwiązanie"
   ]
  },
  {
   "cell_type": "code",
   "execution_count": 31,
   "metadata": {
    "slideshow": {
     "slide_type": "fragment"
    }
   },
   "outputs": [
    {
     "name": "stdout",
     "output_type": "stream",
     "text": [
      "42\n"
     ]
    }
   ],
   "source": [
    "class LenSupport:\n",
    "    def __len__(self):\n",
    "        return 42\n",
    "\n",
    "obj = LenSupport()\n",
    "print(len(obj))"
   ]
  },
  {
   "cell_type": "markdown",
   "metadata": {
    "slideshow": {
     "slide_type": "slide"
    }
   },
   "source": [
    "### Uzyskiwanie długości rzeczywistej"
   ]
  },
  {
   "cell_type": "markdown",
   "metadata": {
    "slideshow": {
     "slide_type": "slide"
    }
   },
   "source": [
    "#### Ćwiczenie"
   ]
  },
  {
   "cell_type": "markdown",
   "metadata": {
    "slideshow": {
     "slide_type": "fragment"
    }
   },
   "source": [
    "Pokażmy uzyskiwanie długości rzeczywistej za pomocą funkcji `len()` języka Python w następującej klasie `Purchase`:"
   ]
  },
  {
   "cell_type": "code",
   "execution_count": 32,
   "metadata": {
    "slideshow": {
     "slide_type": "fragment"
    }
   },
   "outputs": [],
   "source": [
    "class Purchase:\n",
    "    def __init__(self, basket, buyer):\n",
    "        self.basket = list(basket)\n",
    "        self.buyer = buyer"
   ]
  },
  {
   "cell_type": "markdown",
   "metadata": {
    "slideshow": {
     "slide_type": "subslide"
    }
   },
   "source": [
    "Jeśli wywołamy `len()` na obiekcie bez przeciążonej funkcji `__len__()`, otrzymamy `TypeError`, jak pokazano poniżej:"
   ]
  },
  {
   "cell_type": "code",
   "execution_count": 33,
   "metadata": {
    "slideshow": {
     "slide_type": "fragment"
    }
   },
   "outputs": [
    {
     "ename": "TypeError",
     "evalue": "object of type 'Purchase' has no len()",
     "output_type": "error",
     "traceback": [
      "\u001b[0;31m---------------------------------------------------------------------------\u001b[0m",
      "\u001b[0;31mTypeError\u001b[0m                                 Traceback (most recent call last)",
      "Cell \u001b[0;32mIn[33], line 2\u001b[0m\n\u001b[1;32m      1\u001b[0m purchase \u001b[38;5;241m=\u001b[39m Purchase([\u001b[38;5;124m'\u001b[39m\u001b[38;5;124mpen\u001b[39m\u001b[38;5;124m'\u001b[39m, \u001b[38;5;124m'\u001b[39m\u001b[38;5;124mbook\u001b[39m\u001b[38;5;124m'\u001b[39m, \u001b[38;5;124m'\u001b[39m\u001b[38;5;124mpencil\u001b[39m\u001b[38;5;124m'\u001b[39m], \u001b[38;5;124m'\u001b[39m\u001b[38;5;124mPython\u001b[39m\u001b[38;5;124m'\u001b[39m)\n\u001b[0;32m----> 2\u001b[0m \u001b[38;5;28mprint\u001b[39m(\u001b[38;5;28;43mlen\u001b[39;49m\u001b[43m(\u001b[49m\u001b[43mpurchase\u001b[49m\u001b[43m)\u001b[49m)\n",
      "\u001b[0;31mTypeError\u001b[0m: object of type 'Purchase' has no len()"
     ]
    }
   ],
   "source": [
    "purchase = Purchase(['pen', 'book', 'pencil'], 'Python')\n",
    "print(len(purchase))"
   ]
  },
  {
   "cell_type": "markdown",
   "metadata": {
    "slideshow": {
     "slide_type": "subslide"
    }
   },
   "source": [
    "Aby zmienić zachowanie funkcji `len()`, zdefiniujcie w naszej klasie specjalną metodę o nazwie `__len__()`. Za każdym razem, gdy przekażemy obiekt naszej klasy do `len()`, wynik zostanie uzyskany przez wywołanie naszej zdefiniowanej przez użytkownika funkcji, czyli `__len__()`.\n",
    "\n",
    "Wynik powinien pokazywać, że jesteśmy w stanie użyć `len()`, aby uzyskać długość koszyka."
   ]
  },
  {
   "cell_type": "markdown",
   "metadata": {
    "slideshow": {
     "slide_type": "slide"
    }
   },
   "source": [
    "#### Rozwiązanie"
   ]
  },
  {
   "cell_type": "code",
   "execution_count": 41,
   "metadata": {
    "slideshow": {
     "slide_type": "fragment"
    }
   },
   "outputs": [],
   "source": [
    "class Purchase:\n",
    "    def __init__(self, basket, buyer):\n",
    "        self.basket = list(basket)\n",
    "        self.buyer = buyer\n",
    "\n",
    "    def __len__(self):\n",
    "        return len(self.basket)"
   ]
  },
  {
   "cell_type": "code",
   "execution_count": 42,
   "metadata": {
    "slideshow": {
     "slide_type": "fragment"
    }
   },
   "outputs": [
    {
     "name": "stdout",
     "output_type": "stream",
     "text": [
      "3\n"
     ]
    }
   ],
   "source": [
    "purchase = Purchase(['pen', 'book', 'pencil'], 'Python')\n",
    "print(len(purchase))"
   ]
  },
  {
   "cell_type": "markdown",
   "metadata": {
    "slideshow": {
     "slide_type": "fragment"
    }
   },
   "source": [
    "Uwaga: Python oczekuje, że funkcja `len()` zwróci liczbę całkowitą, dlatego należy wziąć to pod uwagę podczas przeciążania funkcji. Jeśli Twoja przeciążona funkcja ma zwrócić coś innego niż liczba całkowita, otrzymasz `TypeError`."
   ]
  },
  {
   "cell_type": "markdown",
   "metadata": {
    "slideshow": {
     "slide_type": "slide"
    }
   },
   "source": [
    "### Symulacja wyświetlania punktu w układzie współrzędnych 2-D"
   ]
  },
  {
   "cell_type": "markdown",
   "metadata": {
    "slideshow": {
     "slide_type": "slide"
    }
   },
   "source": [
    "#### Ćwiczenie"
   ]
  },
  {
   "cell_type": "code",
   "execution_count": 43,
   "metadata": {
    "slideshow": {
     "slide_type": "fragment"
    }
   },
   "outputs": [],
   "source": [
    "class Point:\n",
    "    def __init__(self, x=0, y=0):\n",
    "        self.x = x\n",
    "        self.y = y"
   ]
  },
  {
   "cell_type": "code",
   "execution_count": 44,
   "metadata": {
    "slideshow": {
     "slide_type": "fragment"
    }
   },
   "outputs": [
    {
     "name": "stdout",
     "output_type": "stream",
     "text": [
      "<__main__.Point object at 0x103a3d990>\n"
     ]
    }
   ],
   "source": [
    "p1 = Point(2, 3)\n",
    "print(p1)"
   ]
  },
  {
   "cell_type": "markdown",
   "metadata": {
    "slideshow": {
     "slide_type": "fragment"
    }
   },
   "source": [
    "Załóżmy, że chcemy, aby funkcja `print()` wyświetlała współrzędne obiektu `Point` zamiast tego, co otrzymaliśmy. W naszej klasie możemy zdefiniować metodę `__str__()`, która kontroluje sposób drukowania obiektu. Jak możemy to osiągnąć?\n",
    "\n",
    "Podpowiedź: możemy to osiągnąć w Pythonie przez przeciążenie operatorów."
   ]
  },
  {
   "cell_type": "markdown",
   "metadata": {
    "slideshow": {
     "slide_type": "slide"
    }
   },
   "source": [
    "#### Rozwiązanie"
   ]
  },
  {
   "cell_type": "code",
   "execution_count": 45,
   "metadata": {
    "slideshow": {
     "slide_type": "fragment"
    }
   },
   "outputs": [],
   "source": [
    "class Point:\n",
    "    def __init__(self, x = 0, y = 0):\n",
    "        self.x = x\n",
    "        self.y = y\n",
    "    \n",
    "    def __str__(self):\n",
    "        return \"({0},{1})\".format(self.x, self.y)"
   ]
  },
  {
   "cell_type": "code",
   "execution_count": 46,
   "metadata": {
    "slideshow": {
     "slide_type": "fragment"
    }
   },
   "outputs": [
    {
     "name": "stdout",
     "output_type": "stream",
     "text": [
      "(2,3)\n"
     ]
    }
   ],
   "source": [
    "p1 = Point(2, 3)\n",
    "print(p1)"
   ]
  },
  {
   "cell_type": "markdown",
   "metadata": {
    "slideshow": {
     "slide_type": "fragment"
    }
   },
   "source": [
    "Tak lepiej."
   ]
  },
  {
   "cell_type": "markdown",
   "metadata": {
    "slideshow": {
     "slide_type": "subslide"
    }
   },
   "source": [
    "Okazuje się, że ta sama metoda jest wywoływana, gdy używamy wbudowanej funkcji `str()` lub `format()`:"
   ]
  },
  {
   "cell_type": "code",
   "execution_count": 47,
   "metadata": {
    "slideshow": {
     "slide_type": "fragment"
    }
   },
   "outputs": [
    {
     "name": "stdout",
     "output_type": "stream",
     "text": [
      "(2,3)\n"
     ]
    }
   ],
   "source": [
    "print(str(p1))"
   ]
  },
  {
   "cell_type": "code",
   "execution_count": 48,
   "metadata": {
    "slideshow": {
     "slide_type": "fragment"
    }
   },
   "outputs": [
    {
     "name": "stdout",
     "output_type": "stream",
     "text": [
      "(2,3)\n"
     ]
    }
   ],
   "source": [
    "print(format(p1))"
   ]
  },
  {
   "cell_type": "markdown",
   "metadata": {
    "slideshow": {
     "slide_type": "fragment"
    }
   },
   "source": [
    "Tak więc, kiedy używasz `str(p1)` lub `format(p1)`, Python wewnętrznie wywołuje metodę `p1.__str__()`. Stąd nazwa, funkcje specjalne."
   ]
  },
  {
   "cell_type": "markdown",
   "metadata": {
    "slideshow": {
     "slide_type": "slide"
    }
   },
   "source": [
    "### Symulacja dodawania punktów w układzie współrzędnych 2-D"
   ]
  },
  {
   "cell_type": "markdown",
   "metadata": {
    "slideshow": {
     "slide_type": "slide"
    }
   },
   "source": [
    "#### Ćwiczenie"
   ]
  },
  {
   "cell_type": "code",
   "execution_count": 49,
   "metadata": {
    "slideshow": {
     "slide_type": "fragment"
    }
   },
   "outputs": [],
   "source": [
    "class Point:\n",
    "    def __init__(self, x = 0, y = 0):\n",
    "        self.x = x\n",
    "        self.y = y\n",
    "    \n",
    "    def __str__(self):\n",
    "        return \"({0},{1})\".format(self.x, self.y)"
   ]
  },
  {
   "cell_type": "code",
   "execution_count": 50,
   "metadata": {
    "slideshow": {
     "slide_type": "fragment"
    }
   },
   "outputs": [],
   "source": [
    "p1 = Point(1, 2)\n",
    "p2 = Point(2, 3)"
   ]
  },
  {
   "cell_type": "code",
   "execution_count": 51,
   "metadata": {
    "slideshow": {
     "slide_type": "fragment"
    }
   },
   "outputs": [
    {
     "name": "stdout",
     "output_type": "stream",
     "text": [
      "(1,2)\n",
      "(2,3)\n"
     ]
    }
   ],
   "source": [
    "print(p1)\n",
    "print(p2)"
   ]
  },
  {
   "cell_type": "code",
   "execution_count": 52,
   "metadata": {
    "slideshow": {
     "slide_type": "subslide"
    }
   },
   "outputs": [
    {
     "ename": "TypeError",
     "evalue": "unsupported operand type(s) for +: 'Point' and 'Point'",
     "output_type": "error",
     "traceback": [
      "\u001b[0;31m---------------------------------------------------------------------------\u001b[0m",
      "\u001b[0;31mTypeError\u001b[0m                                 Traceback (most recent call last)",
      "Cell \u001b[0;32mIn[52], line 1\u001b[0m\n\u001b[0;32m----> 1\u001b[0m \u001b[38;5;28mprint\u001b[39m(\u001b[43mp1\u001b[49m\u001b[43m \u001b[49m\u001b[38;5;241;43m+\u001b[39;49m\u001b[43m \u001b[49m\u001b[43mp2\u001b[49m)\n",
      "\u001b[0;31mTypeError\u001b[0m: unsupported operand type(s) for +: 'Point' and 'Point'"
     ]
    }
   ],
   "source": [
    "print(p1 + p2)"
   ]
  },
  {
   "cell_type": "markdown",
   "metadata": {
    "slideshow": {
     "slide_type": "fragment"
    }
   },
   "source": [
    "Tutaj widzimy, że wywołano `TypeError`, ponieważ Python nie wiedział, jak dodać do siebie dwa obiekty `Point`.\n",
    "\n",
    "Aby przeciążyć operator `+`, będziemy musieli zaimplementować w klasie funkcję `__add__()`. Z dużą mocą przychodzi duża odpowiedzialność. W ramach tej funkcji możemy robić, co nam się podoba. Ale rozsądniej jest zwrócić sumy współrzędnych obiektów `Point`."
   ]
  },
  {
   "cell_type": "markdown",
   "metadata": {
    "slideshow": {
     "slide_type": "slide"
    }
   },
   "source": [
    "#### Rozwiązanie"
   ]
  },
  {
   "cell_type": "code",
   "execution_count": 53,
   "metadata": {
    "slideshow": {
     "slide_type": "fragment"
    }
   },
   "outputs": [],
   "source": [
    "class Point:\n",
    "    def __init__(self, x=0, y=0):\n",
    "        self.x = x\n",
    "        self.y = y\n",
    "\n",
    "    def __str__(self):\n",
    "        return \"({0},{1})\".format(self.x, self.y)\n",
    "\n",
    "    def __add__(self, other):\n",
    "        x = self.x + other.x\n",
    "        y = self.y + other.y\n",
    "        return Point(x, y)"
   ]
  },
  {
   "cell_type": "code",
   "execution_count": 54,
   "metadata": {
    "slideshow": {
     "slide_type": "fragment"
    }
   },
   "outputs": [
    {
     "name": "stdout",
     "output_type": "stream",
     "text": [
      "(3,5)\n"
     ]
    }
   ],
   "source": [
    "p1 = Point(1, 2)\n",
    "p2 = Point(2, 3)\n",
    "\n",
    "print(p1 + p2)"
   ]
  },
  {
   "cell_type": "markdown",
   "metadata": {
    "slideshow": {
     "slide_type": "subslide"
    }
   },
   "source": [
    "W rzeczywistości dzieje się tak, że kiedy używasz `p1 + p2`, Python wywołuje `p1.__add__(p2)`, co z kolei jest wywołaniem `Point.__add__(p1, p2)`. Następnie operacja dodawania jest wykonywana w określony przez nas sposób.\n",
    "\n",
    "Podobnie możemy również przeciążać inne operatory."
   ]
  },
  {
   "cell_type": "markdown",
   "metadata": {
    "slideshow": {
     "slide_type": "slide"
    }
   },
   "source": [
    "### Przeciążanie operatorów porównania"
   ]
  },
  {
   "cell_type": "markdown",
   "metadata": {
    "slideshow": {
     "slide_type": "slide"
    }
   },
   "source": [
    "#### Ćwiczenia"
   ]
  },
  {
   "cell_type": "markdown",
   "metadata": {
    "slideshow": {
     "slide_type": "fragment"
    }
   },
   "source": [
    "Python nie ogranicza przeciążania operatorów tylko do operatorów arytmetycznych. Możemy również przeciążać operatory porównania.\n",
    "\n",
    "Załóżmy, że chcieliśmy zaimplementować symbol mniejszości niż symbol `<` w naszej klasie `Point`."
   ]
  },
  {
   "cell_type": "code",
   "execution_count": null,
   "metadata": {
    "slideshow": {
     "slide_type": "fragment"
    }
   },
   "outputs": [],
   "source": [
    "# przeciążenie operatora mniejszości\n",
    "class Point:\n",
    "    def __init__(self, x=0, y=0):\n",
    "        self.x = x\n",
    "        self.y = y\n",
    "\n",
    "    def __str__(self):\n",
    "        return \"({0},{1})\".format(self.x, self.y)"
   ]
  },
  {
   "cell_type": "code",
   "execution_count": 55,
   "metadata": {
    "slideshow": {
     "slide_type": "subslide"
    }
   },
   "outputs": [
    {
     "ename": "TypeError",
     "evalue": "'<' not supported between instances of 'Point' and 'Point'",
     "output_type": "error",
     "traceback": [
      "\u001b[0;31m---------------------------------------------------------------------------\u001b[0m",
      "\u001b[0;31mTypeError\u001b[0m                                 Traceback (most recent call last)",
      "Cell \u001b[0;32mIn[55], line 6\u001b[0m\n\u001b[1;32m      3\u001b[0m p3 \u001b[38;5;241m=\u001b[39m Point(\u001b[38;5;241m1\u001b[39m, \u001b[38;5;241m-\u001b[39m\u001b[38;5;241m1\u001b[39m)\n\u001b[1;32m      5\u001b[0m \u001b[38;5;66;03m# użyj mniejszości\u001b[39;00m\n\u001b[0;32m----> 6\u001b[0m \u001b[38;5;28mprint\u001b[39m(\u001b[43mp1\u001b[49m\u001b[43m \u001b[49m\u001b[38;5;241;43m<\u001b[39;49m\u001b[43m \u001b[49m\u001b[43mp2\u001b[49m)\n\u001b[1;32m      7\u001b[0m \u001b[38;5;28mprint\u001b[39m(p2 \u001b[38;5;241m<\u001b[39m p3)\n\u001b[1;32m      8\u001b[0m \u001b[38;5;28mprint\u001b[39m(p1 \u001b[38;5;241m<\u001b[39m p3)\n",
      "\u001b[0;31mTypeError\u001b[0m: '<' not supported between instances of 'Point' and 'Point'"
     ]
    }
   ],
   "source": [
    "p1 = Point(1, 1)\n",
    "p2 = Point(-2, -3)\n",
    "p3 = Point(1, -1)\n",
    "\n",
    "# użyj mniejszości\n",
    "print(p1 < p2)\n",
    "print(p2 < p3)\n",
    "print(p1 < p3)"
   ]
  },
  {
   "cell_type": "markdown",
   "metadata": {
    "slideshow": {
     "slide_type": "subslide"
    }
   },
   "source": [
    "Porównajmy wielkość tych punktów jako odległość od początku układu współrzędnych i zwróćmy w tym celu wynik. W jaki sposób można to zaimplementować?\n",
    "\n",
    "Podpowiedź: w rzeczywistości dzieje się tak, że kiedy używasz `p1 < p2`, Python wywołuje `p1.__lt__(p2)`, co z kolei jest wywołaniem `Point.__lt__(p1, p2)`. Następnie operacja porównywania mniejszości jest wykonywana w określony przez nas sposób."
   ]
  },
  {
   "cell_type": "markdown",
   "metadata": {
    "slideshow": {
     "slide_type": "slide"
    }
   },
   "source": [
    "#### Rozwiązanie"
   ]
  },
  {
   "cell_type": "code",
   "execution_count": 56,
   "metadata": {
    "slideshow": {
     "slide_type": "fragment"
    }
   },
   "outputs": [],
   "source": [
    "# przeciążenie operatora mniejszości\n",
    "class Point:\n",
    "    def __init__(self, x = 0, y = 0):\n",
    "        self.x = x\n",
    "        self.y = y\n",
    "\n",
    "    def __str__(self):\n",
    "        return \"({0},{1})\".format(self.x, self.y)\n",
    "    \n",
    "    def __lt__(self, other):\n",
    "        self_mag = self.x ** 2 + self.y ** 2\n",
    "        other_mag = other.x ** 2 + other.y ** 2\n",
    "        return self_mag < other_mag"
   ]
  },
  {
   "cell_type": "code",
   "execution_count": 57,
   "metadata": {
    "slideshow": {
     "slide_type": "subslide"
    }
   },
   "outputs": [
    {
     "name": "stdout",
     "output_type": "stream",
     "text": [
      "True\n",
      "False\n",
      "False\n"
     ]
    }
   ],
   "source": [
    "p1 = Point(1, 1)\n",
    "p2 = Point(-2, -3)\n",
    "p3 = Point(1, -1)\n",
    "\n",
    "# użyj mniejszości\n",
    "print(p1 < p2)\n",
    "print(p2 < p3)\n",
    "print(p1 < p3)"
   ]
  },
  {
   "cell_type": "markdown",
   "metadata": {
    "slideshow": {
     "slide_type": "fragment"
    }
   },
   "source": [
    "Podobnie, są funkcje specjalne, które musimy zaimplementować, aby przeciążać inne operatory porównania."
   ]
  },
  {
   "cell_type": "markdown",
   "metadata": {
    "slideshow": {
     "slide_type": "slide"
    }
   },
   "source": [
    "### Przeciążanie operatora równości"
   ]
  },
  {
   "cell_type": "markdown",
   "metadata": {
    "slideshow": {
     "slide_type": "slide"
    }
   },
   "source": [
    "#### Ćwiczenie"
   ]
  },
  {
   "cell_type": "code",
   "execution_count": 1,
   "metadata": {
    "slideshow": {
     "slide_type": "fragment"
    }
   },
   "outputs": [],
   "source": [
    "class A: \n",
    "    def __init__(self, a): \n",
    "        self.a = a "
   ]
  },
  {
   "cell_type": "code",
   "execution_count": 2,
   "metadata": {
    "slideshow": {
     "slide_type": "fragment"
    }
   },
   "outputs": [
    {
     "name": "stdout",
     "output_type": "stream",
     "text": [
      "False\n"
     ]
    }
   ],
   "source": [
    "ob1 = A(2) \n",
    "ob2 = A(3) \n",
    "print(ob1 == ob2)"
   ]
  },
  {
   "cell_type": "code",
   "execution_count": 3,
   "metadata": {
    "slideshow": {
     "slide_type": "fragment"
    }
   },
   "outputs": [
    {
     "name": "stdout",
     "output_type": "stream",
     "text": [
      "False\n"
     ]
    }
   ],
   "source": [
    "ob3 = A(4) \n",
    "ob4 = A(4) \n",
    "print(ob3 == ob4)"
   ]
  },
  {
   "cell_type": "code",
   "execution_count": 4,
   "metadata": {
    "slideshow": {
     "slide_type": "fragment"
    }
   },
   "outputs": [
    {
     "name": "stdout",
     "output_type": "stream",
     "text": [
      "<__main__.A object at 0x1074bef10>\n",
      "<__main__.A object at 0x107518850>\n"
     ]
    }
   ],
   "source": [
    "print(ob3)\n",
    "print(ob4)"
   ]
  },
  {
   "cell_type": "markdown",
   "metadata": {
    "slideshow": {
     "slide_type": "subslide"
    }
   },
   "source": [
    "Napisz program w Pythonie, aby przeciążyć operator równości - tak, aby oczekiwanym wyjściem było:"
   ]
  },
  {
   "cell_type": "markdown",
   "metadata": {
    "slideshow": {
     "slide_type": "fragment"
    }
   },
   "source": [
    "```python\n",
    "ob1 = A(2) \n",
    "ob2 = A(3) \n",
    "print(ob1 == ob2)\n",
    "```\n",
    "\n",
    "```bash\n",
    "Nie równe\n",
    "```"
   ]
  },
  {
   "cell_type": "markdown",
   "metadata": {
    "slideshow": {
     "slide_type": "fragment"
    }
   },
   "source": [
    "```python\n",
    "ob3 = A(4) \n",
    "ob4 = A(4) \n",
    "print(ob3 == ob4)\n",
    "```\n",
    "\n",
    "```bash\n",
    "Równe\n",
    "```"
   ]
  },
  {
   "cell_type": "markdown",
   "metadata": {
    "slideshow": {
     "slide_type": "slide"
    }
   },
   "source": [
    "#### Rozwiązanie"
   ]
  },
  {
   "cell_type": "code",
   "execution_count": 5,
   "metadata": {
    "slideshow": {
     "slide_type": "fragment"
    }
   },
   "outputs": [],
   "source": [
    "class A: \n",
    "    def __init__(self, a): \n",
    "        self.a = a \n",
    "    def __eq__(self, other):\n",
    "        if self.a == other.a: \n",
    "            return \"Równe\"\n",
    "        else: \n",
    "            return \"Nie równe\""
   ]
  },
  {
   "cell_type": "code",
   "execution_count": 6,
   "metadata": {
    "slideshow": {
     "slide_type": "fragment"
    }
   },
   "outputs": [
    {
     "name": "stdout",
     "output_type": "stream",
     "text": [
      "Nie równe\n"
     ]
    }
   ],
   "source": [
    "ob1 = A(2) \n",
    "ob2 = A(3) \n",
    "print(ob1 == ob2)"
   ]
  },
  {
   "cell_type": "code",
   "execution_count": 7,
   "metadata": {
    "slideshow": {
     "slide_type": "fragment"
    }
   },
   "outputs": [
    {
     "name": "stdout",
     "output_type": "stream",
     "text": [
      "Równe\n"
     ]
    }
   ],
   "source": [
    "ob3 = A(4) \n",
    "ob4 = A(4) \n",
    "print(ob3 == ob4)"
   ]
  },
  {
   "cell_type": "markdown",
   "metadata": {
    "slideshow": {
     "slide_type": "slide"
    }
   },
   "source": [
    "### Implementacja wektora"
   ]
  },
  {
   "cell_type": "markdown",
   "metadata": {
    "slideshow": {
     "slide_type": "slide"
    }
   },
   "source": [
    "#### Ćwiczenie"
   ]
  },
  {
   "cell_type": "markdown",
   "metadata": {
    "slideshow": {
     "slide_type": "subslide"
    }
   },
   "source": [
    "Zaimplementuj klasę `Vector`, służącą do reprezentacji [wektorów matematycznych (dwuwymiarowych)](https://pl.wikipedia.org/wiki/Wektor#Podstawowe_w%C5%82asno%C5%9Bci). Klasa przyjmuje dwie wartości: `x` i `y`. \n",
    "\n",
    "Jeśli chodzi o metody, ogranicz się do:\n",
    "\n",
    "* dodawania i odejmowania wektorów (`__add__`, `__sub__` - spróbuj zaimplementować odejmowanie przy pomocy kolejnej metody specjalnej `__neg__`),\n",
    "* moduł (długość; `__abs__`), wykorzystaj funkcję `math.hypot`,\n",
    "* mnożenie przez skalar (`__mul__`),\n",
    "* dzielenie przez skalar (`__truediv__`),\n",
    "* reprezentacja tekstowa (`__repr__` oraz `__str__`).\n",
    "\n",
    "Gdy nie znasz argumentów, które muszą przyjąć metody, posłuż się `dokumentacją`."
   ]
  },
  {
   "cell_type": "markdown",
   "metadata": {
    "slideshow": {
     "slide_type": "subslide"
    }
   },
   "source": [
    "`math.hypot(*coordinates)` zwraca normę euklidesową, `sqrt(suma(x**2 for x in coordinates))`. Jest to długość wektora od początku do punktu określonego przez współrzędne. W przypadku punktu dwuwymiarowego `(x, y)` jest to równoważne obliczeniu przeciwprostokątnej trójkąta prostokątnego za pomocą twierdzenia Pitagorasa, `sqrt(x*x + y*y)`. Uwaga, pewne rzeczy *zmieniono w wersji 3.8*: dodano obsługę punktów n-wymiarowych; wcześniej obsługiwana była tylko wersja dwuwymiarowa."
   ]
  },
  {
   "cell_type": "markdown",
   "metadata": {
    "slideshow": {
     "slide_type": "fragment"
    }
   },
   "source": [
    "Przetestuj działanie swojej klasy:\n",
    "\n",
    "```python\n",
    ">>> v = Vector(4, 7)\n",
    ">>> v + Vector(-4, 7)\n",
    "Vector(0, 14)\n",
    ">>> v * 3\n",
    "Vector(12, 21)\n",
    ">>> abs(v)\n",
    "8.06225774829855\n",
    "```"
   ]
  },
  {
   "cell_type": "markdown",
   "metadata": {
    "slideshow": {
     "slide_type": "slide"
    }
   },
   "source": [
    "#### Rozwiązanie"
   ]
  },
  {
   "cell_type": "code",
   "execution_count": 8,
   "metadata": {
    "slideshow": {
     "slide_type": "subslide"
    }
   },
   "outputs": [],
   "source": [
    "import math\n",
    "\n",
    "class Vector:\n",
    "    def __init__(self, x, y):\n",
    "        self.x = x\n",
    "        self.y = y\n",
    "    def __neg__(self):\n",
    "        return Vector(-self.x, -self.y)\n",
    "    def __add__(self, v2):\n",
    "        return Vector(self.x + v2.x, self.y + v2.y)\n",
    "    def __sub__(self, v2):\n",
    "        return Vector(self.x - v2.x, self.y - v2.y)\n",
    "        # alternatywnie:\n",
    "        # return self + (-v2)\n",
    "    def __abs__(self):\n",
    "        return math.hypot(self.x, self.y)\n",
    "    def __mul__(self, scalar):\n",
    "        return Vector(scalar * self.x, scalar * self.y)\n",
    "    def __truediv__(self, scalar):\n",
    "        return Vector(self.x / scalar, self.y / scalar)\n",
    "    def __repr__(self):\n",
    "        return \"<Vector({}, {})>\".format(self.x, self.y)\n",
    "    def __str__(self):\n",
    "        return \"Vector({}, {})\".format(self.x, self.y)"
   ]
  },
  {
   "cell_type": "markdown",
   "metadata": {
    "slideshow": {
     "slide_type": "subslide"
    }
   },
   "source": [
    "Testowanie:"
   ]
  },
  {
   "cell_type": "code",
   "execution_count": 9,
   "metadata": {
    "slideshow": {
     "slide_type": "fragment"
    }
   },
   "outputs": [],
   "source": [
    "v1 = Vector(1, 2)"
   ]
  },
  {
   "cell_type": "code",
   "execution_count": 10,
   "metadata": {
    "slideshow": {
     "slide_type": "fragment"
    }
   },
   "outputs": [],
   "source": [
    "v2 = Vector(2, 1)"
   ]
  },
  {
   "cell_type": "code",
   "execution_count": 11,
   "metadata": {
    "slideshow": {
     "slide_type": "fragment"
    }
   },
   "outputs": [
    {
     "name": "stdout",
     "output_type": "stream",
     "text": [
      "Vector(3, 3)\n"
     ]
    }
   ],
   "source": [
    "print(v1 + v2)"
   ]
  },
  {
   "cell_type": "code",
   "execution_count": 12,
   "metadata": {
    "slideshow": {
     "slide_type": "fragment"
    }
   },
   "outputs": [
    {
     "name": "stdout",
     "output_type": "stream",
     "text": [
      "Vector(-1, 1)\n"
     ]
    }
   ],
   "source": [
    "print(v1 - v2)"
   ]
  },
  {
   "cell_type": "code",
   "execution_count": 13,
   "metadata": {
    "slideshow": {
     "slide_type": "fragment"
    }
   },
   "outputs": [
    {
     "name": "stdout",
     "output_type": "stream",
     "text": [
      "2.23606797749979 2.23606797749979\n"
     ]
    }
   ],
   "source": [
    "print(abs(v1), abs(v2))"
   ]
  },
  {
   "cell_type": "code",
   "execution_count": 14,
   "metadata": {
    "slideshow": {
     "slide_type": "subslide"
    }
   },
   "outputs": [
    {
     "name": "stdout",
     "output_type": "stream",
     "text": [
      "Vector(3, 6)\n"
     ]
    }
   ],
   "source": [
    "print(v1 * 3)"
   ]
  },
  {
   "cell_type": "code",
   "execution_count": 15,
   "metadata": {
    "slideshow": {
     "slide_type": "fragment"
    }
   },
   "outputs": [
    {
     "name": "stdout",
     "output_type": "stream",
     "text": [
      "Vector(0.3333333333333333, 0.6666666666666666)\n"
     ]
    }
   ],
   "source": [
    "print(v1 / 3)"
   ]
  },
  {
   "cell_type": "code",
   "execution_count": 16,
   "metadata": {
    "slideshow": {
     "slide_type": "fragment"
    }
   },
   "outputs": [
    {
     "name": "stdout",
     "output_type": "stream",
     "text": [
      "Vector(1, 2)\n"
     ]
    }
   ],
   "source": [
    "print(v1)"
   ]
  },
  {
   "cell_type": "code",
   "execution_count": 17,
   "metadata": {
    "slideshow": {
     "slide_type": "fragment"
    }
   },
   "outputs": [
    {
     "name": "stdout",
     "output_type": "stream",
     "text": [
      "Vector(1, 2)\n"
     ]
    }
   ],
   "source": [
    "print(str(v1))"
   ]
  },
  {
   "cell_type": "code",
   "execution_count": null,
   "metadata": {
    "slideshow": {
     "slide_type": "skip"
    }
   },
   "outputs": [],
   "source": []
  }
 ],
 "metadata": {
  "celltoolbar": "Slideshow",
  "kernelspec": {
   "display_name": "Python 3 (ipykernel)",
   "language": "python",
   "name": "python3"
  },
  "language_info": {
   "codemirror_mode": {
    "name": "ipython",
    "version": 3
   },
   "file_extension": ".py",
   "mimetype": "text/x-python",
   "name": "python",
   "nbconvert_exporter": "python",
   "pygments_lexer": "ipython3",
   "version": "3.11.3"
  }
 },
 "nbformat": 4,
 "nbformat_minor": 4
}
