{
 "cells": [
  {
   "cell_type": "markdown",
   "metadata": {
    "slideshow": {
     "slide_type": "slide"
    }
   },
   "source": [
    "# Python (podstawy) - biblioteki i Project Jupyter\n",
    "\n",
    "_Mikołaj Leszczuk_\n",
    "\n",
    "![](https://i.imgflip.com/42bnn2.jpg)\n",
    "![](https://i.creativecommons.org/l/by/4.0/88x31.png)"
   ]
  },
  {
   "cell_type": "markdown",
   "metadata": {
    "slideshow": {
     "slide_type": "slide"
    }
   },
   "source": [
    "## Konspekt"
   ]
  },
  {
   "cell_type": "markdown",
   "metadata": {
    "slideshow": {
     "slide_type": "subslide"
    }
   },
   "source": [
    "* Biblioteki\n",
    "* Instalowanie dodatkowych modułów\n",
    "  * Instalacja przy użyciu PyPI\n",
    "  * Instalacja przy użyciu Conda\n",
    "  * Instalacja przy pomocy Homebrew\n",
    "  * Instalacja przy pomocy MacPorts\n",
    "* Project Jupyter"
   ]
  },
  {
   "cell_type": "markdown",
   "metadata": {
    "slideshow": {
     "slide_type": "slide"
    }
   },
   "source": [
    "## Biblioteki"
   ]
  },
  {
   "cell_type": "markdown",
   "metadata": {
    "slideshow": {
     "slide_type": "fragment"
    }
   },
   "source": [
    "Dodatkowe funkcje Pythona zawarte są w modułach, z których:\n",
    "    \n",
    "* Część jest dostarczona w każdej instalacji Pythona – tak zwana biblioteka „standardowa”;\n",
    "* Reszta możliwa do doinstalowania – tak zwana biblioteka „zewnętrzna” (a raczej biblioteki „zewnętrzne”)."
   ]
  },
  {
   "cell_type": "markdown",
   "metadata": {
    "slideshow": {
     "slide_type": "subslide"
    }
   },
   "source": [
    "* Co to jest moduł?\n",
    "  * W Pythonie dostępnych jest wiele modułów (czasami nazywanych bibliotekami)\n",
    "  * Korzystając z tych modułów, możesz kodować znacznie szybciej\n",
    "  * Pomyśl o nich jak o klockach konstrukcyjnych, zawierają duże zestawy funkcji (czasem klas), które zapewniają dodatkowe funkcje"
   ]
  },
  {
   "cell_type": "markdown",
   "metadata": {
    "slideshow": {
     "slide_type": "subslide"
    }
   },
   "source": [
    "* Moduły pomagają w uporządkowaniu kodu\n",
    "* Zamiast jednego długiego pliku Pythona możesz mieć kilka plików (modułów)\n",
    "* Moduł to plik Pythona zawierający (jedną lub więcej) funkcje lub klasy (o tym później)\n",
    "* Program w języku Python może używać jednego lub więcej modułów"
   ]
  },
  {
   "cell_type": "markdown",
   "metadata": {
    "slideshow": {
     "slide_type": "slide"
    }
   },
   "source": [
    "### Biblioteka „standardowa”"
   ]
  },
  {
   "cell_type": "markdown",
   "metadata": {
    "slideshow": {
     "slide_type": "fragment"
    }
   },
   "source": [
    "* Python posiada rozbudowaną **bibliotekę standardową**, umożliwiającą jego stosowanie do wielu zadań\n",
    "* Twórcy języka stosują politykę tzw. **_Batteries Included_**, czyli dostarczenia wraz z pakietem instalacyjnym możliwie dużej liczby narzędzi\n",
    "* Moduły standardowej biblioteki można uzupełniać modułami pisanymi:\n",
    "  * C, lub\n",
    "  * Pythonie"
   ]
  },
  {
   "cell_type": "markdown",
   "metadata": {
    "slideshow": {
     "slide_type": "subslide"
    }
   },
   "source": [
    "* Biblioteka standardowa jest szczególnie dobrze dostosowana do tworzenia aplikacji sieciowych, jako że obsługuje znaczną liczbę standardowych formatów i protokołów (np. **MIME**, **HTTP**)\n",
    "* Dołączone są także moduły do tworzenia **GUI** (na bazie **Tcl**/**Tk**), obróbki **wyrażeń regularnych**, nawet prosty serwer **WWW** z obsługą **CGI**"
   ]
  },
  {
   "cell_type": "markdown",
   "metadata": {
    "slideshow": {
     "slide_type": "subslide"
    }
   },
   "source": [
    "* Większa część biblioteki standardowej dostępna jest na wszystkich platformach, dzięki czemu nawet duże aplikacje mogą często być uruchamiane bez konieczności modyfikacji:\n",
    "  * Na **Uniksach**,\n",
    "  * Pod **Windows**,\n",
    "  * Na **Macintoshu**, i \n",
    "  * Innych platformach\n",
    "* Przeciwnie, niż np. dla **Javy**, nie ogranicza się zestawu dostępnych funkcji do części wspólnej dla różnych platform; np. na **uniksach** dostępna jest funkcja `os.fork()`, choć nie ma jej np. w **Windows**"
   ]
  },
  {
   "cell_type": "markdown",
   "metadata": {
    "slideshow": {
     "slide_type": "slide"
    }
   },
   "source": [
    "### Biblioteki „zewnętrzne”"
   ]
  },
  {
   "cell_type": "markdown",
   "metadata": {
    "slideshow": {
     "slide_type": "fragment"
    }
   },
   "source": [
    "* Podobnie, jak w wypadku innych języków, opracowany został szereg standardów tworzenia **API** pomocniczego, np. sterowników **relacyjnych baz danych**\n",
    "* Ze względu na w pełni dynamiczny system typów nie ma konieczności dołączania do biblioteki standardowej „interfejsu bazowego”, jak to ma miejsce np. w przypadku **JDBC**\n",
    "* Twórca biblioteki zewnętrznej musi po prostu zapewnić, by stworzone przez niego moduły, funkcje i klasy posiadały odpowiednie atrybuty"
   ]
  },
  {
   "cell_type": "markdown",
   "metadata": {
    "slideshow": {
     "slide_type": "slide"
    }
   },
   "source": [
    "## Instalowanie dodatkowych modułów"
   ]
  },
  {
   "cell_type": "markdown",
   "metadata": {
    "slideshow": {
     "slide_type": "fragment"
    }
   },
   "source": [
    "* Dodatkowe moduły można znaleźć poprzez stronę **Python Package Index** oraz zainstalować używając:\n",
    "  * Programu **PyPI** udostępnianego przez **Python Package Index**\n",
    "  * Środowiska **conda**, która dostarcza pakiety **Anaconda**\n",
    "  * Systemowych paczek Pythona w przypadku Linuksa\n",
    "  * Środowisk **Homebrew** lub **MacPorts** dla macOS\n",
    "* Wszystkie te sposoby umożliwiają automatyczne zarządzanie wszystkimi zależnościami między pakietami"
   ]
  },
  {
   "cell_type": "markdown",
   "metadata": {
    "slideshow": {
     "slide_type": "slide"
    }
   },
   "source": [
    "### Python Package Index"
   ]
  },
  {
   "cell_type": "markdown",
   "metadata": {
    "slideshow": {
     "slide_type": "-"
    }
   },
   "source": [
    "![Logo for Python Package Index (PyPI)](https://upload.wikimedia.org/wikipedia/commons/6/64/PyPI_logo.svg)"
   ]
  },
  {
   "cell_type": "markdown",
   "metadata": {
    "slideshow": {
     "slide_type": "subslide"
    }
   },
   "source": [
    "* Indeks pakietów Python, w skrócie **PyPI** i znany również jako **Cheese Shop**\n",
    "* Oficjalne **repozytorium oprogramowania** dla **Pythona**\n",
    "* Jest analogiczny do **CPAN**, repozytorium dla **Perla**\n",
    "* Niektórzy menedżerowie pakietów, w tym **pip**, używają PyPI jako domyślnego źródła pakietów i ich zależności\n",
    "* URL: https://pypi.org"
   ]
  },
  {
   "cell_type": "markdown",
   "metadata": {
    "slideshow": {
     "slide_type": "slide"
    }
   },
   "source": [
    "#### PyPI"
   ]
  },
  {
   "cell_type": "markdown",
   "metadata": {
    "slideshow": {
     "slide_type": "fragment"
    }
   },
   "source": [
    "* **pip** to **de facto** standardowy **system zarządzania pakietami** używany do instalowania i zarządzania **pakietami oprogramowania** napisanymi w języku **Python**\n",
    "* Wiele pakietów można znaleźć w domyślnym źródle pakietów i ich zależnościach – **Python Package Index**"
   ]
  },
  {
   "cell_type": "markdown",
   "metadata": {
    "slideshow": {
     "slide_type": "subslide"
    }
   },
   "source": [
    "![pip --help](https://upload.wikimedia.org/wikipedia/commons/0/02/Pip_help.png)"
   ]
  },
  {
   "cell_type": "markdown",
   "metadata": {
    "slideshow": {
     "slide_type": "subslide"
    }
   },
   "source": [
    "* Większość dystrybucji Pythona pochodzi z preinstalowanym pipem\n",
    "* Najpowszechniejszym zastosowaniem **pip** jest instalacja z **Python Package Index** przy użyciu **specyfikatora wymagań**\n",
    "* Ogólnie rzecz biorąc, specyfikator wymagań składa się z nazwy projektu, po której następuje opcjonalny **specyfikator wersji**\n",
    "* Strona internetowa: https://pip.pypa.io/"
   ]
  },
  {
   "cell_type": "markdown",
   "metadata": {
    "slideshow": {
     "slide_type": "slide"
    }
   },
   "source": [
    "#### Instalacja przy użyciu PyPI"
   ]
  },
  {
   "cell_type": "markdown",
   "metadata": {
    "slideshow": {
     "slide_type": "fragment"
    }
   },
   "source": [
    "* Wyszukujemy paczkę przy przez komendę **powłoki systemowej (ang. _shell_)**\n",
    "```sh\n",
    "pip search <paczka>\n",
    "```\n",
    "* Instalujemy paczkę przez komendę\n",
    "```sh\n",
    "pip install <paczka>\n",
    "```"
   ]
  },
  {
   "cell_type": "markdown",
   "metadata": {
    "slideshow": {
     "slide_type": "fragment"
    }
   },
   "source": [
    "![An output of pip install virtualenv](https://upload.wikimedia.org/wikipedia/commons/7/7f/Pip_install_virtualenv.png)"
   ]
  },
  {
   "cell_type": "markdown",
   "metadata": {
    "slideshow": {
     "slide_type": "slide"
    }
   },
   "source": [
    "### Conda (menedżer pakietów)"
   ]
  },
  {
   "cell_type": "markdown",
   "metadata": {},
   "source": [
    "![Logo of the conda package manager](https://upload.wikimedia.org/wikipedia/commons/e/ea/Conda_logo.svg)"
   ]
  },
  {
   "cell_type": "markdown",
   "metadata": {
    "slideshow": {
     "slide_type": "subslide"
    }
   },
   "source": [
    "* **Menedżer pakietów i system zarządzania środowiskiem:**\n",
    "  * **Open-source**\n",
    "  * **Wieloplatformowy**\n",
    "  * **Niezależny od języka**\n",
    "* Początkowo część **dystrybucji Anaconda Python** opracowanej przez Anaconda Inc.\n",
    "* Okazała się, że być użyteczna samodzielnie i do innych celów niż Python\n",
    "* Została więc wydzielona jako osobny pakiet\n",
    "* Wydana na **licencji BSD**\n",
    "* Strona internetowa: https://conda.io/"
   ]
  },
  {
   "cell_type": "markdown",
   "metadata": {
    "slideshow": {
     "slide_type": "slide"
    }
   },
   "source": [
    "#### Anaconda"
   ]
  },
  {
   "cell_type": "markdown",
   "metadata": {},
   "source": [
    "![Anaconda Logo](https://upload.wikimedia.org/wikipedia/en/c/cd/Anaconda_Logo.png)"
   ]
  },
  {
   "cell_type": "markdown",
   "metadata": {
    "slideshow": {
     "slide_type": "subslide"
    }
   },
   "source": [
    "* Darmowa i otwarta dystrybucja języków programowania:\n",
    "  * Python\n",
    "  * R\n",
    "* Do obliczeń naukowych\n",
    "* Ma na celu uproszczenie:\n",
    "  * Zarządzania pakietami\n",
    "  * Wdrażania\n",
    "* Obejmuje pakiety danych naukowych odpowiednie dla systemów:\n",
    "  * Windows\n",
    "  * Linux\n",
    "  * macOS\n",
    "* Strona internetowa: https://www.anaconda.com/"
   ]
  },
  {
   "cell_type": "markdown",
   "metadata": {
    "slideshow": {
     "slide_type": "slide"
    }
   },
   "source": [
    "#### Instalacja przy użyciu Conda"
   ]
  },
  {
   "cell_type": "markdown",
   "metadata": {
    "slideshow": {
     "slide_type": "fragment"
    }
   },
   "source": [
    "* Conda umożliwia użytkownikom łatwe instalowanie różnych wersji pakietów oprogramowania **binarnego** i wszelkich wymaganych bibliotek odpowiednich dla ich **platformy komputerowej**\n",
    "* Ponadto umożliwia użytkownikom przełączanie się między wersjami pakietów oraz pobieranie i instalowanie aktualizacji z repozytorium oprogramowania"
   ]
  },
  {
   "cell_type": "markdown",
   "metadata": {
    "slideshow": {
     "slide_type": "subslide"
    }
   },
   "source": [
    "* Wyszukujemy paczkę przy przez komendę **powłoki systemowej (ang. _shell_)**\n",
    "```sh\n",
    "conda search <paczka>\n",
    "```\n",
    "* Instalujemy paczkę przez komendę\n",
    "```sh\n",
    "conda install <paczka>\n",
    "```"
   ]
  },
  {
   "cell_type": "markdown",
   "metadata": {
    "slideshow": {
     "slide_type": "slide"
    }
   },
   "source": [
    "### Homebrew (menedżer pakietów)"
   ]
  },
  {
   "cell_type": "markdown",
   "metadata": {},
   "source": [
    "![Homebrew logo](https://upload.wikimedia.org/wikipedia/commons/thumb/9/95/Homebrew_logo.svg/398px-Homebrew_logo.svg.png)"
   ]
  },
  {
   "cell_type": "markdown",
   "metadata": {
    "slideshow": {
     "slide_type": "subslide"
    }
   },
   "source": [
    "* **Darmowy system zarządzania pakietami** oprogramowania typu **open source**, który upraszcza instalację oprogramowania w systemie operacyjnym:\n",
    "  * **MacOS Apple**\n",
    "  * **Linux**\n",
    "* Nazwa ma sugerować pomysł budowy oprogramowania na komputerze Mac w zależności od upodobań\n",
    "* Strona internetowa: https://brew.sh/"
   ]
  },
  {
   "cell_type": "markdown",
   "metadata": {
    "slideshow": {
     "slide_type": "slide"
    }
   },
   "source": [
    "### MacPorts (zwany dawniej DarwinPorts)"
   ]
  },
  {
   "cell_type": "markdown",
   "metadata": {},
   "source": [
    "![An SVG recreation of the MacPorts Logo, published by Vincent Habchi.](https://upload.wikimedia.org/wikipedia/commons/f/f5/MacPorts_Logo.svg)"
   ]
  },
  {
   "cell_type": "markdown",
   "metadata": {
    "slideshow": {
     "slide_type": "subslide"
    }
   },
   "source": [
    "* Projekt **FLOSS** (ang. **_free and open-source software_**) na licencji BSD \n",
    "* Upraszcza instalację innego oprogramowania **open source** na systemach:\n",
    "  * **macOS**\n",
    "  * **Darwin**\n",
    "* Podobny do projektu **Fink** lub innych **kolekcji portów** znanych z **BSD**\n",
    "* Strona internetowa: https://macports.org/"
   ]
  },
  {
   "cell_type": "markdown",
   "metadata": {
    "slideshow": {
     "slide_type": "slide"
    }
   },
   "source": [
    "## Project Jupyter"
   ]
  },
  {
   "cell_type": "markdown",
   "metadata": {},
   "source": [
    "![](https://upload.wikimedia.org/wikipedia/commons/thumb/3/38/Jupyter_logo.svg/414px-Jupyter_logo.svg.png)"
   ]
  },
  {
   "cell_type": "markdown",
   "metadata": {
    "slideshow": {
     "slide_type": "subslide"
    }
   },
   "source": [
    "* **Project Jupyter** to projekt i społeczność, której celem jest „opracowanie **oprogramowania typu open source**, **otwartych standardów** i usług **interaktywnego przetwarzania** w dziesiątkach języków programowania”.\n",
    "* Został wydzielony z **IPython** w 2014 roku przez Fernando Péreza i Briana Grangera.\n",
    "* Nazwa projektu Jupyter jest nawiązaniem do trzech podstawowych języków programowania obsługiwanych przez Jupyter, którymi są **Julia**, **Python** i **R**, a także jest **hołdem** złożonym notatnikom **Galileusza**, które opisują odkrycie **księżyców Jowisza**.\n",
    "* Project Jupyter opracował i wspierał interaktywne produkty komputerowe Jupyter Notebook, JupyterHub i JupyterLab. \n",
    "* Jupyter jest finansowany fiskalnie przez **NumFOCUS** (**organizacja non-profit**)."
   ]
  },
  {
   "cell_type": "markdown",
   "metadata": {
    "slideshow": {
     "slide_type": "subslide"
    }
   },
   "source": [
    "* **Jupyter Notebook** (wcześniej IPython Notebooks) to **internetowe interaktywne** środowisko obliczeniowe do tworzenia dokumentów **notatnika**.\n",
    "* Dokument Jupyter Notebook to **REPL** (ang. **_Read-Eval-Print Loop_**) oparty na przeglądarce, zawierający uporządkowaną listę komórek wejścia/wyjścia, które mogą zawierać kod, tekst (za pomocą **Markdown**), matematykę, **wykresy** i **multimedia**.\n",
    "* Notatnik pod interfejsem jest dokumentem **JSON** (ang. **_JavaScript Object Notation_**) zgodnym ze schematem wersjonowanym, zwykle kończącym się rozszerzeniem `.ipynb`.\n",
    "* Instalowanie [Jupyter Notebook](https://jupyter.org/install)"
   ]
  },
  {
   "cell_type": "code",
   "execution_count": null,
   "metadata": {
    "slideshow": {
     "slide_type": "skip"
    }
   },
   "outputs": [],
   "source": []
  }
 ],
 "metadata": {
  "celltoolbar": "Slideshow",
  "kernelspec": {
   "display_name": "Python 3 (ipykernel)",
   "language": "python",
   "name": "python3"
  },
  "language_info": {
   "codemirror_mode": {
    "name": "ipython",
    "version": 3
   },
   "file_extension": ".py",
   "mimetype": "text/x-python",
   "name": "python",
   "nbconvert_exporter": "python",
   "pygments_lexer": "ipython3",
   "version": "3.11.5"
  }
 },
 "nbformat": 4,
 "nbformat_minor": 4
}
