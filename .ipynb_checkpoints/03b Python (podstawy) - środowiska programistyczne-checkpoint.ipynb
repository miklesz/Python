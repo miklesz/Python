{
 "cells": [
  {
   "cell_type": "markdown",
   "metadata": {
    "slideshow": {
     "slide_type": "slide"
    }
   },
   "source": [
    "# Python (podstawy) - środowiska programistyczne\n",
    "_Mikołaj Leszczuk_\n",
    "\n",
    "![](eafe6064fb2222acdcdbf08d5408231c.jpg)\n",
    "![](https://i.creativecommons.org/l/by/4.0/88x31.png)"
   ]
  },
  {
   "cell_type": "markdown",
   "metadata": {
    "slideshow": {
     "slide_type": "slide"
    }
   },
   "source": [
    "## Konspekt"
   ]
  },
  {
   "cell_type": "markdown",
   "metadata": {
    "slideshow": {
     "slide_type": "fragment"
    }
   },
   "source": [
    "* Edytor kodu źródłowego\n",
    "* Sublime Text\n",
    "* Zintegrowane środowisko programistyczne (ang. _Integrated Development Environment_, IDE)\n",
    "* PyCharm\n",
    "* Spory"
   ]
  },
  {
   "cell_type": "markdown",
   "metadata": {
    "slideshow": {
     "slide_type": "slide"
    }
   },
   "source": [
    "## Edytor kodu źródłowego"
   ]
  },
  {
   "cell_type": "markdown",
   "metadata": {
    "slideshow": {
     "slide_type": "slide"
    }
   },
   "source": [
    "### Edytor kodu źródłowego"
   ]
  },
  {
   "cell_type": "markdown",
   "metadata": {
    "slideshow": {
     "slide_type": "subslide"
    }
   },
   "source": [
    "* **Program komputerowy** wspomagający pisanie **kodu źródłowego**\n",
    "* Rozpoznawanie i wyróżnianie składni (np. przez nadawanie koloru czy kroju czcionki) i zapisywanie w odpowiednim formacie\n",
    "* Często - dodatkowe funkcję jak:\n",
    "  * Autouzupełnianie kodu\n",
    "  * Możliwość pisania makr\n",
    "  * Itp.\n",
    "* Może:\n",
    "  * Stanowić samodzielny program\n",
    "  * Być częścią IDE"
   ]
  },
  {
   "cell_type": "markdown",
   "metadata": {
    "slideshow": {
     "slide_type": "slide"
    }
   },
   "source": [
    "### Popularne edytory programistyczne"
   ]
  },
  {
   "cell_type": "markdown",
   "metadata": {
    "slideshow": {
     "slide_type": "slide"
    }
   },
   "source": [
    "* **Atom**\n",
    "* **BBEdit** (edytor tekstu dla macOS, oficjalnie uruchomiony w 1993)\n",
    "* **Brackets** (edytor tekstu)\n",
    "* **Eclipse** (wiele platform, w tym Linux, macOS, Windows)\n",
    "* **Emacs** (wiele platform, w tym Unix, Linux, macOS, Windows)\n",
    "* **Gedit** (wiele platform, w tym Linux, macOS, Windows)\n",
    "* **NetBeans**\n",
    "* **Notepad++** (Windows)\n",
    "* **SlickEdit** (wiele platform, w tym Linux, macOS, Windows, Solaris, HP-UX, AIX)\n",
    "* **SubEthaEdit** (współpracujący edytor tekstu w czasie rzeczywistym dla macOS, wbudowany edytor tekstu w Coda jest również oparty na SubEthaEdit)"
   ]
  },
  {
   "cell_type": "markdown",
   "metadata": {
    "slideshow": {
     "slide_type": "slide"
    }
   },
   "source": [
    "* **Sublime Text**\n",
    "* **TextMate** (macOS)\n",
    "* **UltraEdit**\n",
    "* **vi/Vim** (wiele platform, w tym Unix, Linux, macOS, Windows)\n",
    "* **Visual Studio Code** (wiele platform, w tym Linux, macOS, Windows)"
   ]
  },
  {
   "cell_type": "markdown",
   "metadata": {
    "slideshow": {
     "slide_type": "slide"
    }
   },
   "source": [
    "## Sublime Text"
   ]
  },
  {
   "cell_type": "markdown",
   "metadata": {
    "slideshow": {
     "slide_type": "-"
    }
   },
   "source": [
    "![By Source (WP:NFCC#4), Fair use, https://en.wikipedia.org/w/index.php?curid=55236299](https://upload.wikimedia.org/wikipedia/en/d/d2/Sublime_Text_3_logo.png)"
   ]
  },
  {
   "cell_type": "markdown",
   "metadata": {
    "slideshow": {
     "slide_type": "slide"
    }
   },
   "source": [
    "### Sublime Text"
   ]
  },
  {
   "cell_type": "markdown",
   "metadata": {
    "slideshow": {
     "slide_type": "fragment"
    }
   },
   "source": [
    "* **Edytor tekstu** zorientowany dla **programisty**:\n",
    "  * **Wieloplatformowy**\n",
    "  * Rozbudowany\n",
    "  * Wysoce konfigurowalny\n",
    "  * Napisany w językach:\n",
    "    * **C++**\n",
    "    * **Python**\n",
    "* Można pobrać oraz używać za darmo (jednak w bezpłatnej wersji wyświetlanie się komunikatu zachęcający do rejestracji pełnej wersji programu)\n",
    "* Strona internetowa: http://www.sublimetext.com"
   ]
  },
  {
   "cell_type": "markdown",
   "metadata": {
    "slideshow": {
     "slide_type": "slide"
    }
   },
   "source": [
    "### Możliwości - niektóre z wbudowanych funkcji edytora "
   ]
  },
  {
   "cell_type": "markdown",
   "metadata": {
    "slideshow": {
     "slide_type": "slide"
    }
   },
   "source": [
    "#### Interfejs użytkownika"
   ]
  },
  {
   "cell_type": "markdown",
   "metadata": {
    "slideshow": {
     "slide_type": "fragment"
    }
   },
   "source": [
    "* Podział okna\n",
    "* Karty - otwieranie wielu plików równocześnie\n",
    "* Mini-mapa - podgląd całego kodu źródłowego\n",
    "* Edycja pełnoekranowa\n",
    "* **Podświetlanie składni w: C, C++, C#, CSS, D, Erlang, HTML, Groovy, Haskell, Java, JavaScript, LaTeX, Lisp, Lua, Markdown, Matlab, OCaml, Perl, PHP, Python, R, Ruby, SQL, Tcl, XML**\n",
    "* Schematy kolorów\n",
    "* Auto-zapis"
   ]
  },
  {
   "cell_type": "markdown",
   "metadata": {
    "slideshow": {
     "slide_type": "slide"
    }
   },
   "source": [
    "#### Edycja"
   ]
  },
  {
   "cell_type": "markdown",
   "metadata": {
    "slideshow": {
     "slide_type": "fragment"
    }
   },
   "source": [
    "* Multi-select i multi-edit\n",
    "* Edycja kolumnowa\n",
    "* Szukanie i zastępowanie przy pomocy **wyrażeń regularnych**\n",
    "* Zakładki\n",
    "* Parowanie nawiasów\n",
    "* Obsługa projektów"
   ]
  },
  {
   "cell_type": "markdown",
   "metadata": {
    "slideshow": {
     "slide_type": "slide"
    }
   },
   "source": [
    "#### Adaptacja"
   ]
  },
  {
   "cell_type": "markdown",
   "metadata": {
    "slideshow": {
     "slide_type": "fragment"
    }
   },
   "source": [
    "* Pełna możliwość redefinicji **skrótów klawiszowych** oraz menu\n",
    "* **Wtyczki**"
   ]
  },
  {
   "cell_type": "markdown",
   "metadata": {
    "slideshow": {
     "slide_type": "slide"
    }
   },
   "source": [
    "#### Automatyzacja"
   ]
  },
  {
   "cell_type": "markdown",
   "metadata": {
    "slideshow": {
     "slide_type": "fragment"
    }
   },
   "source": [
    "* **Makra**\n",
    "* Snippety (małe obszaru kodu źródłowego, kodu maszynowego lub tekstu nadające się do ponownego wykorzystania)\n",
    "* Autouzupełnianie składni\n",
    "* Powtarzanie ostatniej czynności\n",
    "* Integracja z **kompilatorem**"
   ]
  },
  {
   "cell_type": "markdown",
   "metadata": {
    "slideshow": {
     "slide_type": "slide"
    }
   },
   "source": [
    "## Zintegrowane środowisko programistyczne (ang. _Integrated Development Environment_, IDE)"
   ]
  },
  {
   "cell_type": "markdown",
   "metadata": {
    "slideshow": {
     "slide_type": "slide"
    }
   },
   "source": [
    "### IDE"
   ]
  },
  {
   "cell_type": "markdown",
   "metadata": {
    "slideshow": {
     "slide_type": "fragment"
    }
   },
   "source": [
    "**Program lub zespół programów (środowisko) służących do:**"
   ]
  },
  {
   "cell_type": "markdown",
   "metadata": {
    "slideshow": {
     "slide_type": "fragment"
    }
   },
   "source": [
    "* Tworzenia oprogramowania\n",
    "* Modyfikowania oprogramowania\n",
    "* Testowania oprogramowania\n",
    "* Konserwacji oprogramowania"
   ]
  },
  {
   "cell_type": "markdown",
   "metadata": {
    "slideshow": {
     "slide_type": "slide"
    }
   },
   "source": [
    "**Udostępnianie złożonej, wielorakiej funkcjonalności obejmującej:**"
   ]
  },
  {
   "cell_type": "markdown",
   "metadata": {
    "slideshow": {
     "slide_type": "fragment"
    }
   },
   "source": [
    "* Edycję **kodu źródłowego**\n",
    "* **Kompilowanie** kodu źródłowego\n",
    "* Tworzenie zasobów programu (tzn. formatek/ekranów/okien dialogowych, menu, raportów, elementów graficznych jak ikony, obrazy)\n",
    "* Tworzenie **baz danych**, komponentów i innych"
   ]
  },
  {
   "cell_type": "markdown",
   "metadata": {
    "slideshow": {
     "slide_type": "fragment"
    }
   },
   "source": [
    "Na przykład [Anjuta](https://pl.wikipedia.org/wiki/Anjuta) to IDE do programowania w C i C++ w środowisku graficznym [GNOME](https://pl.wikipedia.org/wiki/GNOME):"
   ]
  },
  {
   "cell_type": "markdown",
   "metadata": {
    "slideshow": {
     "slide_type": "slide"
    }
   },
   "source": [
    "![](https://upload.wikimedia.org/wikipedia/commons/e/e6/Anjuta-2.0.0-2.png)"
   ]
  },
  {
   "cell_type": "markdown",
   "metadata": {
    "slideshow": {
     "slide_type": "slide"
    }
   },
   "source": [
    "## Koncepcje środowiska programistycznego"
   ]
  },
  {
   "cell_type": "markdown",
   "metadata": {
    "slideshow": {
     "slide_type": "fragment"
    }
   },
   "source": [
    "**Różne koncepcje tego, jak powinno wyglądać środowisko programistyczne:**\n",
    "\n",
    "* **Środowisko jako osobny pakiet oprogramowania**\n",
    "* **Środowisko zintegrowane z systemem** – w takiej koncepcji:\n",
    "  * System operacyjny sam w sobie środowiskiem programistycznym\n",
    "  * Wszystkie funkcje z nim zintegrowane\n",
    "* **Rozwiązania pośrednie**"
   ]
  },
  {
   "cell_type": "markdown",
   "metadata": {
    "slideshow": {
     "slide_type": "slide"
    }
   },
   "source": [
    "### Środowisko jako osobny pakiet oprogramowania"
   ]
  },
  {
   "cell_type": "markdown",
   "metadata": {
    "slideshow": {
     "slide_type": "slide"
    }
   },
   "source": [
    "**Przykłady:**\n",
    "\n",
    "* Pakiet **Microsoft Visual Studio** (popularny na systemach rodziny Windows)\n",
    "* narzędzia firmy **Embarcadero**\n",
    "* **CodeWarrior**\n",
    "* **Eclipse** i **NetBeans** (domyślnie stworzone dla Javy; posiadanie możliwości rozszerzenia, w celu obsługi innych języków)\n",
    "* IDE oparte na **Eclipse**, takie jak **Cedevelop** dla c++ czy **PyDev** dla pythona\n",
    "* **Zend Studio** (rozwiązanie dla języka PHP)\n",
    "* TheIDE (główna platforma programistyczna rozwijana w ramach projektu **Ultimate++**)\n",
    "* Programy **JetBrains – IntelliJ IDEA, WebStorm, PHPStorm, PyCharm** i inne"
   ]
  },
  {
   "cell_type": "markdown",
   "metadata": {
    "slideshow": {
     "slide_type": "slide"
    }
   },
   "source": [
    "**Przykłady innych środowisk, w różnym stopniu wzorowanych na poprzednich:**\n",
    "\n",
    "* **Anjuta**\n",
    "* **Code::Blocks**\n",
    "* **CodeLite**\n",
    "* **Dev-C++**\n",
    "* **Geany**\n",
    "* **KDevelop**\n",
    "* **Photran**\n",
    "* **RHIDE dla DJGPP**\n",
    "* **wxStudio**\n",
    "* **xpwe**"
   ]
  },
  {
   "cell_type": "markdown",
   "metadata": {
    "slideshow": {
     "slide_type": "slide"
    }
   },
   "source": [
    "### Środowisko zintegrowane z systemem"
   ]
  },
  {
   "cell_type": "markdown",
   "metadata": {
    "slideshow": {
     "slide_type": "fragment"
    }
   },
   "source": [
    "**Przykłady:**\n",
    "\n",
    "* Unix\n",
    "* Maszyny **lispowe** (**komputery** ogólnego przeznaczenia, zaprojektowane ze sprzętowym wsparciem dla **Lispu** jako głównego **języka programowania**)"
   ]
  },
  {
   "cell_type": "markdown",
   "metadata": {
    "slideshow": {
     "slide_type": "slide"
    }
   },
   "source": [
    "### Rozwiązania pośrednie"
   ]
  },
  {
   "cell_type": "markdown",
   "metadata": {
    "slideshow": {
     "slide_type": "fragment"
    }
   },
   "source": [
    "**Przykład:**\n",
    "    \n",
    "* **Emacs** – tekstowy edytor, zintegrowany z Uniksem, maszyna lispowa i system graficzny udostępniający funkcjonalność podobną do tradycyjnych, graficznych IDE"
   ]
  },
  {
   "cell_type": "markdown",
   "metadata": {
    "slideshow": {
     "slide_type": "slide"
    }
   },
   "source": [
    "## PyCharm"
   ]
  },
  {
   "cell_type": "markdown",
   "metadata": {
    "slideshow": {
     "slide_type": "-"
    }
   },
   "source": [
    "![Logo programu](https://upload.wikimedia.org/wikipedia/commons/thumb/1/1d/PyCharm_Icon.svg/480px-PyCharm_Icon.svg.png)"
   ]
  },
  {
   "cell_type": "markdown",
   "metadata": {
    "slideshow": {
     "slide_type": "slide"
    }
   },
   "source": [
    "### PyCharm"
   ]
  },
  {
   "cell_type": "markdown",
   "metadata": {
    "slideshow": {
     "slide_type": "fragment"
    }
   },
   "source": [
    "* **IDE** dla **języka programowania Python** firmy **JetBrains**\n",
    "* Zapewnienie m.in.:\n",
    "  * Edycji i analizy kodu źródłowego \n",
    "  * Graficznego **debuggera** \n",
    "  * Uruchamiania **testów jednostkowych** \n",
    "  * Integrację z **systemem kontroli wersji**\n",
    "* Wsparcie także dla programowania i tworzenia aplikacji internetowych w **Django**"
   ]
  },
  {
   "cell_type": "markdown",
   "metadata": {
    "slideshow": {
     "slide_type": "slide"
    }
   },
   "source": [
    "* Oprogramowanie wieloplatformowe pracujące na platformach systemowych:\n",
    "  * Microsoft Windows\n",
    "  * GNU/Linux\n",
    "  * macOS \n",
    "* Strona internetowa: [https://www.jetbrains.com/pycharm/](https://www.jetbrains.com/pycharm/)\n"
   ]
  },
  {
   "cell_type": "markdown",
   "metadata": {
    "slideshow": {
     "slide_type": "subslide"
    }
   },
   "source": [
    "Zrzut ekranu z PyCharm:\n",
    "![Zrzut ekranu z PyCharm](https://www.jetbrains.com/pycharm/img/screenshots/complexLook@2x.jpg)"
   ]
  },
  {
   "cell_type": "markdown",
   "metadata": {
    "slideshow": {
     "slide_type": "slide"
    }
   },
   "source": [
    "### PyCharm – podstawowe funkcje"
   ]
  },
  {
   "cell_type": "markdown",
   "metadata": {
    "slideshow": {
     "slide_type": "slide"
    }
   },
   "source": [
    "* Inteligentny edytor kodu z:\n",
    "  * Podświetleniem składni dla: \n",
    "    * Języka **Python**\n",
    "    * Szablonów **Django**\n",
    "  * Formatowaniem kodu\n",
    "  * **Autouzupełnianiem** kodu źródłowego\n",
    "  * Tworzeniem **snippetów**\n",
    "* Wyposażenie edytora kodu w funkcję sprawdzania i weryfikacji błędów składniowych na bieżąco w trakcie pisania kodu\n",
    "* **Refaktoryzacja** Pythona\n",
    "* Zestaw narzędzi wspierających tworzenie aplikacji internetowych w **Django**"
   ]
  },
  {
   "cell_type": "markdown",
   "metadata": {
    "slideshow": {
     "slide_type": "slide"
    }
   },
   "source": [
    "* Edycja i wsparcie dla:\n",
    "  * **HTML**\n",
    "  * **CSS**\n",
    "  * **JavaScript**\n",
    "* Wsparcie dla innych **frameworków**:\n",
    "  * **Flask**\n",
    "  * Pyramid\n",
    "  * Web2py\n",
    "* Wsparcie dla **bibliotek**:\n",
    "  * **SQLAlchemy**\n",
    "  * **wxPython**\n",
    "  * **PyQt**\n",
    "  * **PyGTK**\n",
    "* Programowanie na platformie **Google App Engine**"
   ]
  },
  {
   "cell_type": "markdown",
   "metadata": {
    "slideshow": {
     "slide_type": "slide"
    }
   },
   "source": [
    "* Zintegrowane **testy jednostkowe** z **testami pokrycia**\n",
    "* Graficzny **debugger** dla:\n",
    "  * Pythona\n",
    "  * Django\n",
    "* Integracja z systemami kontroli wersji:\n",
    "  * **Mercurial**\n",
    "  * **Subversion**\n",
    "  * **Git**\n",
    "  * **CVS**\n",
    "  * **Perforce**\n",
    "* Wbudowany **terminal**\n",
    "* Możliwość instalacji dodatkowych pluginów"
   ]
  },
  {
   "cell_type": "markdown",
   "metadata": {
    "slideshow": {
     "slide_type": "slide"
    }
   },
   "source": [
    "### Wybierz najlepszy PyCharm dla siebie (PyCharm jest dostępny w dwóch edycjach)"
   ]
  },
  {
   "cell_type": "markdown",
   "metadata": {
    "slideshow": {
     "slide_type": "fragment"
    }
   },
   "source": [
    "1. **Wersja Community Edition** (wolna, open-source):\n",
    "  * Do profesjonalnego programowania w języku Python\n",
    "  * Ze wsparciem w pisaniu kodu, refaktoryzacji, debugowania wizualnego i integracji kontroli wersji"
   ]
  },
  {
   "cell_type": "markdown",
   "metadata": {
    "slideshow": {
     "slide_type": "subslide"
    }
   },
   "source": [
    "2. **Wersja Professional Edition** (płatna, oprogramowanie własnościowe):\n",
    "  * Z całością funkcjonalności wersji Community\n",
    "  * Dodatkowo:\n",
    "    * Wsparcie stron internetowych i nauki o danych, zdalnych konfiguracji, wdrażania, obsługi popularnych platform internetowych, takich jak Django, Flask i Pyramid, narzędzi naukowych (w tym wsparcie Jupyter notebook), narzędzi Big Data\n",
    "    * Wsparcie dla bibliotek programistycznych (np.  obsługa baz danych SQLAlchemy)\n",
    "    * Zdalna edycja kodu źródłowego przez FTP/SFTP/FTPS\n",
    "  * Zapewnienie przez JetBrains w pełni funkcjonalnej 30-dniowej wersji komercyjnego wydania aplikacji do przetestowania"
   ]
  },
  {
   "cell_type": "markdown",
   "metadata": {
    "slideshow": {
     "slide_type": "slide"
    }
   },
   "source": [
    "### PyCharm dla edukacji"
   ]
  },
  {
   "cell_type": "markdown",
   "metadata": {
    "slideshow": {
     "slide_type": "fragment"
    }
   },
   "source": [
    "PyCharm może być używany do nauki programowania. Można uczyć się Pythona od podstaw lub doskonalić swoje umiejętności dzięki interaktywnym kursom i konkursom programistycznym."
   ]
  },
  {
   "cell_type": "markdown",
   "metadata": {
    "slideshow": {
     "slide_type": "fragment"
    }
   },
   "source": [
    "Aby włączyć funkcje edukacyjne, należy przejść do karty Learn na ekranie powitalnym i kliknąć opcję Enable Access."
   ]
  },
  {
   "cell_type": "markdown",
   "metadata": {
    "slideshow": {
     "slide_type": "subslide"
    }
   },
   "source": [
    "![](https://resources.jetbrains.com/help/img/idea/2023.2/py_enable_educational_fearutes.png)"
   ]
  },
  {
   "cell_type": "markdown",
   "metadata": {
    "slideshow": {
     "slide_type": "slide"
    }
   },
   "source": [
    "### Przegląd interfejsu użytkownika"
   ]
  },
  {
   "cell_type": "markdown",
   "metadata": {
    "slideshow": {
     "slide_type": "slide"
    }
   },
   "source": [
    "![Przegląd interfejsu użytkownika](https://image.evget.com/2020/09/07/1py_mainWindownmg8nnfa536a8lhx.png)"
   ]
  },
  {
   "cell_type": "markdown",
   "metadata": {
    "slideshow": {
     "slide_type": "slide"
    }
   },
   "source": [
    "* **Project tool window**:\n",
    "  * Po lewej stronie wyświetla pliki projektu\n",
    "* **Editor**:\n",
    "  * Po prawej stronie, gdzie faktycznie piszesz swój kod\n",
    "  * Posiada zakładki ułatwiające nawigację między otwartymi plikami\n",
    "* **Navigation bar**:\n",
    "  * Nad edytorem dodatkowo umożliwia szybkie uruchamianie i debugowanie aplikacji oraz wykonywanie podstawowych **czynności kontroli wersji**"
   ]
  },
  {
   "cell_type": "markdown",
   "metadata": {
    "slideshow": {
     "slide_type": "slide"
    }
   },
   "source": [
    "![Przegląd interfejsu użytkownika](https://image.evget.com/2020/09/07/1py_mainWindownmg8nnfa536a8lhx.png)"
   ]
  },
  {
   "cell_type": "markdown",
   "metadata": {
    "slideshow": {
     "slide_type": "slide"
    }
   },
   "source": [
    "* **Gutter**:\n",
    "  * Pionowy pasek obok edytora, pokazuje posiadane punkty przerwania i zapewnia wygodny sposób **poruszania się po** hierarchii **kodu**, np. przechodzenie do definicji / deklaracji\n",
    "  * Pokazuje również numery linii i historię kontroli wersji dla poszczególnych linii\n",
    "* **Scrollbar**:\n",
    "  * Po prawej stronie edytora\n",
    "  * PyCharm stale monitoruje jakość Twojego **kodu** i zawsze pokazuje wyniki jego **inspekcji** w gutterze: błędy, ostrzeżenia i tak dalej\n",
    "  * Wskaźnik w prawym górnym rogu pokazuje ogólny stan inspekcji kodu dla całego pliku"
   ]
  },
  {
   "cell_type": "markdown",
   "metadata": {
    "slideshow": {
     "slide_type": "slide"
    }
   },
   "source": [
    "![Przegląd interfejsu użytkownika](https://image.evget.com/2020/09/07/1py_mainWindownmg8nnfa536a8lhx.png)"
   ]
  },
  {
   "cell_type": "markdown",
   "metadata": {
    "slideshow": {
     "slide_type": "slide"
    }
   },
   "source": [
    "* **Tool windows**:\n",
    "  * To wyspecjalizowane okna przymocowane do dołu i po bokach obszaru roboczego i zapewniają dostęp do typowych zadań, takich jak zarządzanie projektami, wyszukiwanie kodu źródłowego i nawigacja, integracja z systemami kontroli wersji i tak dalej\n",
    "* **Status bar**:\n",
    "  * Wskazuje stan projektu i całego środowiska IDE oraz wyświetla różne ostrzeżenia i komunikaty informacyjne, takie jak kodowanie plików, separator linii, profil inspekcji i tak dalej\n",
    "  * Zapewnia również szybki dostęp do ustawień interpretera języka Python"
   ]
  },
  {
   "cell_type": "markdown",
   "metadata": {
    "slideshow": {
     "slide_type": "slide"
    }
   },
   "source": [
    "## Spory"
   ]
  },
  {
   "cell_type": "markdown",
   "metadata": {
    "slideshow": {
     "slide_type": "fragment"
    }
   },
   "source": [
    "* Dla wielu edytorów kodu źródłowego i IDE trwają dyskusje użytkowników, czasami nazywane przez społeczność programistów jowialnie „świętymi wojnami”\n",
    "* Godne uwagi przykłady to:\n",
    "  * vi vs. Emacs, i\n",
    "  * Eclipse vs. NetBeans\n",
    "* Te argumenty stworzyły znaczącą część kultury internetowej i często zaczynają się, gdy gdziekolwiek pojawia się temat któregokolwiek z edytorów"
   ]
  },
  {
   "cell_type": "code",
   "execution_count": null,
   "metadata": {
    "slideshow": {
     "slide_type": "skip"
    }
   },
   "outputs": [],
   "source": []
  }
 ],
 "metadata": {
  "celltoolbar": "Slideshow",
  "kernelspec": {
   "display_name": "Python 3 (ipykernel)",
   "language": "python",
   "name": "python3"
  },
  "language_info": {
   "codemirror_mode": {
    "name": "ipython",
    "version": 3
   },
   "file_extension": ".py",
   "mimetype": "text/x-python",
   "name": "python",
   "nbconvert_exporter": "python",
   "pygments_lexer": "ipython3",
   "version": "3.11.5"
  }
 },
 "nbformat": 4,
 "nbformat_minor": 4
}
