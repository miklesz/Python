{
 "cells": [
  {
   "cell_type": "markdown",
   "metadata": {
    "slideshow": {
     "slide_type": "slide"
    }
   },
   "source": [
    "# Python (podstawy) - elementy języka\n",
    "_Mikołaj Leszczuk_\n",
    "![](https://img-9gag-fun.9cache.com/photo/awo3W1y_460s.jpg)\n",
    "![](https://i.creativecommons.org/l/by/4.0/88x31.png)"
   ]
  },
  {
   "cell_type": "markdown",
   "metadata": {
    "slideshow": {
     "slide_type": "slide"
    }
   },
   "source": [
    "## Operatory"
   ]
  },
  {
   "cell_type": "markdown",
   "metadata": {
    "slideshow": {
     "slide_type": "slide"
    }
   },
   "source": [
    "#### Typy operatorów"
   ]
  },
  {
   "cell_type": "markdown",
   "metadata": {
    "slideshow": {
     "slide_type": "fragment"
    }
   },
   "source": [
    "* Arytmetyczne:\n",
    "  * Dodawania: `+`\n",
    "  * Odejmowania: `-`\n",
    "  * Mnożenia: `*`\n",
    "  * Dzielenia: `/`\n",
    "  * Dzielenia modulo (reszta z dzielenia): `%`\n",
    "  * Dzielenia całkowitego: `//`\n",
    "  * Potęgowania: `**`"
   ]
  },
  {
   "cell_type": "markdown",
   "metadata": {
    "slideshow": {
     "slide_type": "subslide"
    }
   },
   "source": [
    "* Porównania `a` i `b`\n",
    "  * `a` jest równe `b`: `a == b`\n",
    "  * `a` jest różne od `b`: `a != b`\n",
    "  * `a` jest większe od `b`: `a > b`\n",
    "  * `a` jest mniejsze od `b`: `a < b`\n",
    "  * `a` jest większe lub równe `b`: `a >= b`\n",
    "  * `a` jest mniejsze lub równe `b`: `a <= b`\n",
    "* Przypisania\n",
    "  * przypisz do lewej strony wartość z prawej strony: `=`\n",
    "  * dodaj do lewej strony wartość z prawej strony: `+= . . .`\n",
    "* Bitowe\n",
    "* Logiczne: `and`, `or`, `not`"
   ]
  },
  {
   "cell_type": "markdown",
   "metadata": {
    "slideshow": {
     "slide_type": "slide"
    }
   },
   "source": [
    "## Struktura przez wcięcia"
   ]
  },
  {
   "cell_type": "markdown",
   "metadata": {
    "slideshow": {
     "slide_type": "subslide"
    }
   },
   "source": [
    "* Cechą wyróżniającą **Pythona** spośród innych języków jest stosowanie wcięć do wydzielania bloków kodu\n",
    "* Jest to cecha unikatowa wśród powszechnie stosowanych języków programowania, jako pierwsza rzucająca się w oczy programistom niepiszącym w **Pythonie**\n",
    "* W językach programowania wywodzących strukturę blokową od **Algola** (niekoniecznie bezpośrednio) – np. **Pascalu**, **C**, czy **Perlu** – bloki kodu zaznaczane są klamrami lub słowami kluczowymi:\n",
    "  * C i Perl używają `{` `}`,\n",
    "  * Pascal używa `begin` i `end`"
   ]
  },
  {
   "cell_type": "markdown",
   "metadata": {
    "slideshow": {
     "slide_type": "subslide"
    }
   },
   "source": [
    "* Jednakże we wszystkich tych językach programiści tradycyjnie stosują wcięcia, by wyróżnić bloki w otaczającym kodzie\n",
    "* Natomiast **Python** dziedziczy cechę mniej znanego języka **ABC** – zamiast interpunkcji czy słów kluczowych używa samych wcięć do zaznaczania bloków\n",
    "* Wyjaśnić to można na prostym przykładzie zamieszczonym na kolejnym slajdzie\n",
    "* Przedstawiona jest w nim funkcja licząca silnię w **C** i w **Pythonie**"
   ]
  },
  {
   "cell_type": "markdown",
   "metadata": {
    "slideshow": {
     "slide_type": "subslide"
    }
   },
   "source": [
    "**Silnia w C (zapisana bez wcięć):**\n",
    "\n",
    "```C\n",
    "int silnia(int x) { \n",
    "\tif (x == 0) return 1; \n",
    "\telse return x * silnia(x-1); }\n",
    "```\n",
    "\n",
    "**Silnia w Pythonie:**\n",
    "\n",
    "```python\n",
    "def silnia(x):\n",
    "\tif x == 0: \n",
    "\t\treturn 1 \n",
    "\telse: \n",
    "\t\treturn x * silnia(x - 1)\n",
    "```"
   ]
  },
  {
   "cell_type": "markdown",
   "metadata": {
    "slideshow": {
     "slide_type": "subslide"
    }
   },
   "source": [
    "* Dla niektórych programistów przyzwyczajonych do języków stylistycznie wzorowanych na **Algolu**, gdzie spacja nie ma znaczenia składniowego, może to być mylące\n",
    "* Spotyka się czasem niepochlebne porównanie do sztywnego systemu kolumnowego kart perforowanych stosowanego w czasach **fortranowych**\n",
    "* Istotnie, w swoim czasie możliwość stosowania zapisu, w którym decydujące były jedynie symbole, była dużym postępem\n",
    "* Jednak dla programistów piszących w Pythonie stosowanie składniowo znaczących wcięć jest po prostu przedłużeniem konwencji, która i tak jest stosowana np. w **C**"
   ]
  },
  {
   "cell_type": "markdown",
   "metadata": {
    "slideshow": {
     "slide_type": "subslide"
    }
   },
   "source": [
    "* Zwolennicy tego języka zwracają także uwagę na wadę „swobodnej” składni, polegającą na tym, że skoro wcięcia kodu są ignorowane, nie można wymusić jednej dobrej konwencji (stąd też konflikty między programistami, dotyczące stosowania **spacji** (i różnej ich liczby) lub **tabulatorów**, tzw. [**_indentation wars_**](https://www.wykop.pl/wpis/32266253/pasta-heheszki-mecz-humorinformatykow-pewnego-piek/))\n",
    "* Nieprawidłowo wcięty kod może być mylący, gdyż czytający go programista i kompilator mogą go różnie zinterpretować"
   ]
  },
  {
   "cell_type": "markdown",
   "metadata": {
    "slideshow": {
     "slide_type": "slide"
    }
   },
   "source": [
    "## Instrukcje warunkowe"
   ]
  },
  {
   "cell_type": "code",
   "execution_count": 5,
   "metadata": {
    "slideshow": {
     "slide_type": "fragment"
    }
   },
   "outputs": [
    {
     "name": "stdout",
     "output_type": "stream",
     "text": [
      "2\n"
     ]
    }
   ],
   "source": [
    "punkty = 40\n",
    "\n",
    "if punkty >= 90:\n",
    "    ocena = '5'\n",
    "elif punkty >= 75:    \n",
    "    ocena = '4'\n",
    "elif punkty >= 60:\n",
    "    ocena = '3'\n",
    "else:\n",
    "    ocena = '2'\n",
    "\n",
    "print(ocena)"
   ]
  },
  {
   "cell_type": "markdown",
   "metadata": {
    "slideshow": {
     "slide_type": "slide"
    }
   },
   "source": [
    "## Operatory logiczne `not`, `and`, `or`"
   ]
  },
  {
   "cell_type": "markdown",
   "metadata": {
    "slideshow": {
     "slide_type": "slide"
    }
   },
   "source": [
    "### Operator logiczny `not`"
   ]
  },
  {
   "cell_type": "markdown",
   "metadata": {
    "slideshow": {
     "slide_type": "fragment"
    }
   },
   "source": [
    "* Jeśli chcemy, aby coś było `False`, możemy tego użyć `not`\n",
    "* Jest to operator logiczny:"
   ]
  },
  {
   "cell_type": "code",
   "execution_count": 6,
   "metadata": {
    "slideshow": {
     "slide_type": "fragment"
    }
   },
   "outputs": [
    {
     "name": "stdout",
     "output_type": "stream",
     "text": [
      "warunek spełniony\n"
     ]
    }
   ],
   "source": [
    "x = False\n",
    "if not x:\n",
    "    print(\"warunek spełniony\")\n",
    "else:\n",
    "    print(\"warunek niespełniony\")"
   ]
  },
  {
   "cell_type": "markdown",
   "metadata": {
    "slideshow": {
     "slide_type": "slide"
    }
   },
   "source": [
    "### Operatory logiczne `and`, `or`"
   ]
  },
  {
   "cell_type": "markdown",
   "metadata": {
    "slideshow": {
     "slide_type": "fragment"
    }
   },
   "source": [
    "* Zasada działania tych operatorów odrobinę różni się od analogicznych operatorów znanych z innych języków programowania\n",
    "* Przede wszystkim: operatory zwracają wystarczającą wartość, która je spełnia\n",
    "* Niech zostanie to zobrazowane na przykładach:"
   ]
  },
  {
   "cell_type": "code",
   "execution_count": 7,
   "metadata": {
    "slideshow": {
     "slide_type": "fragment"
    }
   },
   "outputs": [],
   "source": [
    "niepusta_wartosc = 0 or 0.0 or \"\" or [] or \"test\" or [123]"
   ]
  },
  {
   "cell_type": "code",
   "execution_count": 8,
   "metadata": {
    "slideshow": {
     "slide_type": "fragment"
    }
   },
   "outputs": [
    {
     "name": "stdout",
     "output_type": "stream",
     "text": [
      "test\n"
     ]
    }
   ],
   "source": [
    "print(niepusta_wartosc)"
   ]
  },
  {
   "cell_type": "markdown",
   "metadata": {
    "slideshow": {
     "slide_type": "subslide"
    }
   },
   "source": [
    "* Operator `or` działa tak, że jeżeli jakakolwiek wartość go spełnia, to operator „działa”\n",
    "* W przeciwieństwie do operatora `and`, który musi mieć wszystkie wartości, aby „zadziałać”\n",
    "* Wtedy ostatnia wartość, która go spełnia, jest zwrócona:"
   ]
  },
  {
   "cell_type": "code",
   "execution_count": 9,
   "metadata": {
    "slideshow": {
     "slide_type": "fragment"
    }
   },
   "outputs": [],
   "source": [
    "kazda_wartosc = \"test\" and [123]"
   ]
  },
  {
   "cell_type": "code",
   "execution_count": 10,
   "metadata": {
    "slideshow": {
     "slide_type": "fragment"
    }
   },
   "outputs": [
    {
     "name": "stdout",
     "output_type": "stream",
     "text": [
      "[123]\n"
     ]
    }
   ],
   "source": [
    "print(kazda_wartosc)"
   ]
  },
  {
   "cell_type": "markdown",
   "metadata": {
    "slideshow": {
     "slide_type": "subslide"
    }
   },
   "source": [
    "* Dodatkowe przykłady"
   ]
  },
  {
   "cell_type": "code",
   "execution_count": 11,
   "metadata": {
    "slideshow": {
     "slide_type": "fragment"
    }
   },
   "outputs": [
    {
     "name": "stdout",
     "output_type": "stream",
     "text": [
      "test\n"
     ]
    }
   ],
   "source": [
    "print(\"test\" or 0)"
   ]
  },
  {
   "cell_type": "code",
   "execution_count": 12,
   "metadata": {
    "slideshow": {
     "slide_type": "fragment"
    }
   },
   "outputs": [
    {
     "name": "stdout",
     "output_type": "stream",
     "text": [
      "[]\n"
     ]
    }
   ],
   "source": [
    "print([] and \"test\")"
   ]
  },
  {
   "cell_type": "markdown",
   "metadata": {
    "slideshow": {
     "slide_type": "fragment"
    }
   },
   "source": [
    "* Pusty string, pusta lista, pusty słownik, pusty zbiór i wartości liczbowe zero (np. `0`, `0.0`) są rozumiane logicznie jak `False` w Pythonie, dlatego operator `and` w powyższym przykładzie zwraca `[]` – pierwszy element, który jest fałszywy i nie spełni tego operatora"
   ]
  },
  {
   "cell_type": "markdown",
   "metadata": {
    "slideshow": {
     "slide_type": "slide"
    }
   },
   "source": [
    "## Operatory liniowe/trójskładnikowe"
   ]
  },
  {
   "cell_type": "markdown",
   "metadata": {
    "slideshow": {
     "slide_type": "fragment"
    }
   },
   "source": [
    "* Operatory liniowe/trójskładnikowe są w Pythonie bardziej znane jako wyrażenia warunkowe\n",
    "* Te operatory oceniają coś na podstawie warunku, który jest prawdziwy lub nie\n",
    "* Stały się częścią Pythona w wersji 2.4\n",
    "* Na następnych slajdach – plan i przykład użycia tych wyrażeń warunkowych"
   ]
  },
  {
   "cell_type": "markdown",
   "metadata": {
    "slideshow": {
     "slide_type": "slide"
    }
   },
   "source": [
    "### Warunkowy operator liniowy `if`-`else`"
   ]
  },
  {
   "cell_type": "markdown",
   "metadata": {
    "slideshow": {
     "slide_type": "slide"
    }
   },
   "source": [
    "#### Plan"
   ]
  },
  {
   "cell_type": "markdown",
   "metadata": {
    "slideshow": {
     "slide_type": "fragment"
    }
   },
   "source": [
    "```python\n",
    "value_if_true if condition else value_if_false\n",
    "```"
   ]
  },
  {
   "cell_type": "markdown",
   "metadata": {
    "slideshow": {
     "slide_type": "slide"
    }
   },
   "source": [
    "#### Przykład"
   ]
  },
  {
   "cell_type": "code",
   "execution_count": 21,
   "metadata": {
    "slideshow": {
     "slide_type": "fragment"
    }
   },
   "outputs": [
    {
     "name": "stdout",
     "output_type": "stream",
     "text": [
      "warunek spełniony\n"
     ]
    }
   ],
   "source": [
    "wartosc = \"warunek spełniony\" if True else \"warunek niespełniony\"\n",
    "\n",
    "# wartosc = \"warunek niespełniony\"\n",
    "# if True:\n",
    "#     wartosc = \"warunek spełniony\"\n",
    "\n",
    "print(wartosc)"
   ]
  },
  {
   "cell_type": "markdown",
   "metadata": {
    "slideshow": {
     "slide_type": "slide"
    }
   },
   "source": [
    "### Operator trójskładnikowy"
   ]
  },
  {
   "cell_type": "markdown",
   "metadata": {
    "slideshow": {
     "slide_type": "fragment"
    }
   },
   "source": [
    "* Pozwala szybko przetestować warunek zamiast wielowierszowej instrukcji `if`\n",
    "* Często może być niezwykle pomocny i może sprawić, że kod będzie zwarty, ale nadal będzie możliwy do utrzymania\n",
    "* Inny, bardziej niejasny i rzadko używany przykład dotyczy krotek\n",
    "* Oto przykładowy kod..."
   ]
  },
  {
   "cell_type": "markdown",
   "metadata": {
    "slideshow": {
     "slide_type": "slide"
    }
   },
   "source": [
    "#### Plan"
   ]
  },
  {
   "cell_type": "markdown",
   "metadata": {
    "slideshow": {
     "slide_type": "fragment"
    }
   },
   "source": [
    "```python\n",
    "(value_if_false, value_if_true)[condition]\n",
    "```"
   ]
  },
  {
   "cell_type": "markdown",
   "metadata": {
    "slideshow": {
     "slide_type": "slide"
    }
   },
   "source": [
    "#### Przykład"
   ]
  },
  {
   "cell_type": "code",
   "execution_count": 31,
   "metadata": {
    "slideshow": {
     "slide_type": "fragment"
    }
   },
   "outputs": [],
   "source": [
    "nice = True"
   ]
  },
  {
   "cell_type": "code",
   "execution_count": 34,
   "metadata": {
    "slideshow": {
     "slide_type": "fragment"
    }
   },
   "outputs": [],
   "source": [
    "personality = (\"wredny\", \"miły\")[nice]"
   ]
  },
  {
   "cell_type": "code",
   "execution_count": 35,
   "metadata": {
    "slideshow": {
     "slide_type": "fragment"
    }
   },
   "outputs": [
    {
     "name": "stdout",
     "output_type": "stream",
     "text": [
      "Kot jest miły\n"
     ]
    }
   ],
   "source": [
    "print(\"Kot jest\", personality)  # Wyjście: Kot jest miły"
   ]
  },
  {
   "cell_type": "markdown",
   "metadata": {
    "slideshow": {
     "slide_type": "slide"
    }
   },
   "source": [
    "## Pętle"
   ]
  },
  {
   "cell_type": "markdown",
   "metadata": {
    "slideshow": {
     "slide_type": "fragment"
    }
   },
   "source": [
    "* Jeżeli chcemy wykonać pewne działania na każdym elemencie listy, napisu, zbioru, krotki lub innego obiektu iterowalnego (np. otwartego pliku) możemy wykorzystać strukturę pętli, w której każdy kolejny element jest przetwarzany i wykonywane są instrukcje zawarte wewnątrz wciętego bloku\n",
    "* Rozróżniamy kilka rodzajów pętli"
   ]
  },
  {
   "cell_type": "markdown",
   "metadata": {
    "slideshow": {
     "slide_type": "slide"
    }
   },
   "source": [
    "### Pętla dla – `for`"
   ]
  },
  {
   "cell_type": "markdown",
   "metadata": {
    "slideshow": {
     "slide_type": "fragment"
    }
   },
   "source": [
    "```python\n",
    "for el in iterable:\n",
    "    print(\"pracujemy na\", iterable.index(el),\"elemencie o wartości\", el, \"z obiektu iterowanego\", iterable)\n",
    "```"
   ]
  },
  {
   "cell_type": "markdown",
   "metadata": {
    "slideshow": {
     "slide_type": "slide"
    }
   },
   "source": [
    "#### Przykłady"
   ]
  },
  {
   "cell_type": "code",
   "execution_count": 43,
   "metadata": {
    "slideshow": {
     "slide_type": "fragment"
    }
   },
   "outputs": [
    {
     "name": "stdout",
     "output_type": "stream",
     "text": [
      "litera: P\n",
      "litera: y\n",
      "litera: t\n",
      "litera: h\n",
      "litera: o\n",
      "litera: n\n"
     ]
    }
   ],
   "source": [
    "string = 'Python'\n",
    "for litera in string:\n",
    "    print('litera:', litera)\n",
    "# litera = string[0]\n",
    "# print('litera:', litera)\n",
    "# litera = string[1]    \n",
    "# print('litera:', litera)\n",
    "# litera = string[2]    \n",
    "# print('litera:', litera)\n",
    "# litera = string[3]    \n",
    "# print('litera:', litera)\n",
    "# litera = string[4]    \n",
    "# print('litera:', litera)\n",
    "# litera = string[5]    \n",
    "# print('litera:', litera)"
   ]
  },
  {
   "cell_type": "code",
   "execution_count": 46,
   "metadata": {
    "slideshow": {
     "slide_type": "subslide"
    }
   },
   "outputs": [
    {
     "name": "stdout",
     "output_type": "stream",
     "text": [
      "warzywo: marchew\n",
      "warzywo: kalafior\n",
      "warzywo: kapusta\n"
     ]
    }
   ],
   "source": [
    "warzywa = ['marchew', 'kalafior', 'kapusta']\n",
    "\n",
    "for warzywo in warzywa:\n",
    "    print('warzywo:', warzywo)"
   ]
  },
  {
   "cell_type": "markdown",
   "metadata": {
    "slideshow": {
     "slide_type": "slide"
    }
   },
   "source": [
    "### Zakres `range()`"
   ]
  },
  {
   "cell_type": "markdown",
   "metadata": {
    "slideshow": {
     "slide_type": "slide"
    }
   },
   "source": [
    "#### Funkcja `range()` w języku Python wyjaśniona na przykładzie "
   ]
  },
  {
   "cell_type": "markdown",
   "metadata": {
    "slideshow": {
     "slide_type": "fragment"
    }
   },
   "source": [
    "* Funkcja wbudowana `range()` generuje **liczby całkowite między podaną liczbą całkowitą początkową a liczbą całkowitą zatrzymania**, tj. zwraca obiekt zakresu\n",
    "* Używając pętli `for`, możemy iterować po sekwencji liczb utworzonych przez funkcję `range()`\n",
    "* Zrozummy, jak korzystać z funkcji `range()` w Pythonie na prostym przykładzie, wraz z wynikiem"
   ]
  },
  {
   "cell_type": "code",
   "execution_count": 47,
   "metadata": {
    "scrolled": true,
    "slideshow": {
     "slide_type": "subslide"
    }
   },
   "outputs": [
    {
     "name": "stdout",
     "output_type": "stream",
     "text": [
      "Przykład range() w Pythonie\n",
      "Uzyskaj liczby z zakresu od 0 do 5\n",
      "0, 1, 2, 3, 4, 5, "
     ]
    }
   ],
   "source": [
    "print(\"Przykład range() w Pythonie\")\n",
    "print(\"Uzyskaj liczby z zakresu od 0 do 5\")\n",
    "for i in range(6):\n",
    "    print(i, end=', ')"
   ]
  },
  {
   "cell_type": "markdown",
   "metadata": {
    "slideshow": {
     "slide_type": "slide"
    }
   },
   "source": [
    "![](https://pynative.com/wp-content/uploads/2018/10/python_range.png)"
   ]
  },
  {
   "cell_type": "markdown",
   "metadata": {
    "slideshow": {
     "slide_type": "fragment"
    }
   },
   "source": [
    "* Uwaga: Otrzymaliśmy liczby całkowite od `0` do `5`, ponieważ funkcja `range()` nie zawiera ostatniej (końcowej) liczby w wyniku"
   ]
  },
  {
   "cell_type": "markdown",
   "metadata": {
    "slideshow": {
     "slide_type": "slide"
    }
   },
   "source": [
    "* Składnia i argumenty funkcji `range()`\n",
    "```python\n",
    "range(start, stop[, step])\n",
    "```\n",
    "* Potrzeba trzech argumentów. Z trzech 2 argumentów są opcjonalne. Oznacza to, że `start` i `step` to argumenty opcjonalne.\n",
    "  * Argument **`start`** to numer początkowy sekwencji. tj. dolna granica; domyślnie zaczyna się od `0`, jeśli nie zostanie określony\n",
    "  * Argument **`stop`** to górna granica. tj. generuje liczby do tej liczby, `range()` nie uwzględnia tej liczby w wyniku\n",
    "  * Argument **`step`** jest różnicą między każdą liczbą w wyniku; domyślna wartość kroku to `1`, jeśli nie zostanie określona"
   ]
  },
  {
   "cell_type": "markdown",
   "metadata": {
    "slideshow": {
     "slide_type": "slide"
    }
   },
   "source": [
    "#### Zakres `range()`"
   ]
  },
  {
   "cell_type": "markdown",
   "metadata": {
    "slideshow": {
     "slide_type": "fragment"
    }
   },
   "source": [
    "* Funkcja `range()`"
   ]
  },
  {
   "cell_type": "code",
   "execution_count": 48,
   "metadata": {
    "slideshow": {
     "slide_type": "fragment"
    }
   },
   "outputs": [
    {
     "name": "stdout",
     "output_type": "stream",
     "text": [
      "0\n",
      "1\n",
      "2\n",
      "3\n",
      "4\n"
     ]
    }
   ],
   "source": [
    "for i in range(5):\n",
    "    print(i)"
   ]
  },
  {
   "cell_type": "code",
   "execution_count": 49,
   "metadata": {
    "slideshow": {
     "slide_type": "fragment"
    }
   },
   "outputs": [
    {
     "name": "stdout",
     "output_type": "stream",
     "text": [
      "2\n",
      "4\n",
      "6\n",
      "8\n",
      "10\n"
     ]
    }
   ],
   "source": [
    "for i in range(2, 11, 2):\n",
    "    print(i)"
   ]
  },
  {
   "cell_type": "code",
   "execution_count": 52,
   "metadata": {
    "slideshow": {
     "slide_type": "subslide"
    }
   },
   "outputs": [
    {
     "name": "stdout",
     "output_type": "stream",
     "text": [
      "range(2, 11, 2)\n"
     ]
    }
   ],
   "source": [
    "print(range(2, 11, 2))\n",
    "\n",
    "# lista = list(range(2, 11, 2))\n",
    "# print(lista)"
   ]
  },
  {
   "cell_type": "markdown",
   "metadata": {
    "slideshow": {
     "slide_type": "slide"
    }
   },
   "source": [
    "### Pętla dopóki – `while`"
   ]
  },
  {
   "cell_type": "code",
   "execution_count": 53,
   "metadata": {
    "slideshow": {
     "slide_type": "fragment"
    }
   },
   "outputs": [
    {
     "name": "stdout",
     "output_type": "stream",
     "text": [
      "[2, 4, 6, 8, 10]\n"
     ]
    }
   ],
   "source": [
    "liczby = list()  # []\n",
    "i = 2\n",
    "while i < 11:\n",
    "    liczby.append(i)\n",
    "    i += 2  # i = i + 2\n",
    "print(liczby)  # [2, 4, 6, 8, 10]"
   ]
  },
  {
   "cell_type": "code",
   "execution_count": 54,
   "metadata": {
    "slideshow": {
     "slide_type": "subslide"
    }
   },
   "outputs": [
    {
     "name": "stdout",
     "output_type": "stream",
     "text": [
      "Wprowadź tekst po linijce.\n",
      "Żeby zakończyć wprowadź pustą linię.\n",
      "Następna linijka: Pierwszy wiersz\n",
      "Następna linijka: Drugi wiersz\n",
      "Następna linijka: Jeszcze jeden wiersz\n",
      "Następna linijka: Ostatni wiersz\n",
      "Następna linijka: \n",
      "['Pierwszy wiersz', 'Drugi wiersz', 'Jeszcze jeden wiersz', 'Ostatni wiersz']\n"
     ]
    }
   ],
   "source": [
    "lines = list()\n",
    "print('Wprowadź tekst po linijce.')\n",
    "print('Żeby zakończyć wprowadź pustą linię.')\n",
    "line = input('Następna linijka: ')\n",
    "while line != '':\n",
    "    lines.append(line)\n",
    "    line = input('Następna linijka: ')  # reset\n",
    "print(lines)"
   ]
  },
  {
   "cell_type": "markdown",
   "metadata": {
    "slideshow": {
     "slide_type": "slide"
    }
   },
   "source": [
    "### Sterowanie pętlami"
   ]
  },
  {
   "cell_type": "markdown",
   "metadata": {
    "slideshow": {
     "slide_type": "slide"
    }
   },
   "source": [
    "#### Przerwanie pętli"
   ]
  },
  {
   "cell_type": "code",
   "execution_count": 57,
   "metadata": {
    "slideshow": {
     "slide_type": "fragment"
    }
   },
   "outputs": [
    {
     "name": "stdout",
     "output_type": "stream",
     "text": [
      "s\n",
      "t\n",
      "r\n",
      "Koniec\n"
     ]
    }
   ],
   "source": [
    "# Użycie instrukcji break wewnątrz pętli\n",
    "\n",
    "for val in \"string\":\n",
    "    if val == \"i\":\n",
    "        break\n",
    "    print(val)\n",
    "\n",
    "print(\"Koniec\")"
   ]
  },
  {
   "cell_type": "markdown",
   "metadata": {
    "slideshow": {
     "slide_type": "slide"
    }
   },
   "source": [
    "#### Używanie instrukcji warunkowej `else` z pętlą `for` w Pythonie"
   ]
  },
  {
   "cell_type": "markdown",
   "metadata": {
    "slideshow": {
     "slide_type": "fragment"
    }
   },
   "source": [
    "W większości języków programowania (C/C++, Java, itp.) użycie instrukcji `else` zostało ograniczone do instrukcji warunkowych `if`. Ale Python pozwala nam również na użycie warunku `else` z pętlami `for`.\n",
    "\n",
    "> Blok `else` tuż po `for`/`while` jest wykonywany tylko wtedy, gdy pętla NIE jest zakończona instrukcją `break`."
   ]
  },
  {
   "cell_type": "markdown",
   "metadata": {
    "slideshow": {
     "slide_type": "subslide"
    }
   },
   "source": [
    "**Blok `else` jest wykonywany w poniższym programie Pythona 3.x:**"
   ]
  },
  {
   "cell_type": "code",
   "execution_count": 58,
   "metadata": {
    "slideshow": {
     "slide_type": "fragment"
    }
   },
   "outputs": [
    {
     "name": "stdout",
     "output_type": "stream",
     "text": [
      "1\n",
      "2\n",
      "3\n",
      "Bez break\n"
     ]
    }
   ],
   "source": [
    "for i in range(1, 4):\n",
    "    print(i)\n",
    "else:  # Wykonane, ponieważ nie ma break w for\n",
    "    print(\"Bez break\")"
   ]
  },
  {
   "cell_type": "markdown",
   "metadata": {
    "slideshow": {
     "slide_type": "fragment"
    }
   },
   "source": [
    "**Blok `else` NIE jest wykonywany w poniższym programie Pythona 3.x:**"
   ]
  },
  {
   "cell_type": "code",
   "execution_count": 59,
   "metadata": {
    "slideshow": {
     "slide_type": "fragment"
    }
   },
   "outputs": [
    {
     "name": "stdout",
     "output_type": "stream",
     "text": [
      "1\n"
     ]
    }
   ],
   "source": [
    "for i in range(1, 4):\n",
    "    print(i)\n",
    "    break\n",
    "else:  # Niewykonane, ponieważ jest break w for\n",
    "    print(\"Bez break\") "
   ]
  },
  {
   "cell_type": "code",
   "execution_count": 60,
   "metadata": {
    "slideshow": {
     "slide_type": "subslide"
    }
   },
   "outputs": [
    {
     "name": "stdout",
     "output_type": "stream",
     "text": [
      "2 jest liczbą pierwszą\n",
      "3 jest liczbą pierwszą\n",
      "5 jest liczbą pierwszą\n",
      "7 jest liczbą pierwszą\n",
      "11 jest liczbą pierwszą\n",
      "13 jest liczbą pierwszą\n",
      "17 jest liczbą pierwszą\n",
      "19 jest liczbą pierwszą\n",
      "23 jest liczbą pierwszą\n",
      "29 jest liczbą pierwszą\n",
      "31 jest liczbą pierwszą\n",
      "37 jest liczbą pierwszą\n",
      "41 jest liczbą pierwszą\n",
      "43 jest liczbą pierwszą\n",
      "47 jest liczbą pierwszą\n",
      "53 jest liczbą pierwszą\n",
      "59 jest liczbą pierwszą\n",
      "61 jest liczbą pierwszą\n",
      "67 jest liczbą pierwszą\n",
      "71 jest liczbą pierwszą\n",
      "73 jest liczbą pierwszą\n",
      "79 jest liczbą pierwszą\n",
      "83 jest liczbą pierwszą\n",
      "89 jest liczbą pierwszą\n",
      "97 jest liczbą pierwszą\n"
     ]
    }
   ],
   "source": [
    "for n in range(2, 100):\n",
    "    for x in range(2, n):\n",
    "        if n % x == 0:\n",
    "            break\n",
    "    else: # normalny koniec pętli\n",
    "        print(n, 'jest liczbą pierwszą')"
   ]
  },
  {
   "cell_type": "markdown",
   "metadata": {
    "slideshow": {
     "slide_type": "slide"
    }
   },
   "source": [
    "#### Przeskoczenie do następnej iteracji"
   ]
  },
  {
   "cell_type": "code",
   "execution_count": 61,
   "metadata": {
    "slideshow": {
     "slide_type": "fragment"
    }
   },
   "outputs": [
    {
     "name": "stdout",
     "output_type": "stream",
     "text": [
      "Kolejna liczba: 1\n",
      "Kolejna liczba parzysta: 2\n",
      "Kolejna liczba: 3\n",
      "Kolejna liczba parzysta: 4\n",
      "Kolejna liczba: 5\n",
      "Kolejna liczba parzysta: 6\n",
      "Kolejna liczba: 7\n",
      "Kolejna liczba parzysta: 8\n",
      "Kolejna liczba: 9\n",
      "Kolejna liczba parzysta: 10\n",
      "Kolejna liczba: 11\n",
      "Kolejna liczba parzysta: 12\n",
      "Kolejna liczba: 13\n",
      "Kolejna liczba parzysta: 14\n",
      "Kolejna liczba: 15\n",
      "Kolejna liczba parzysta: 16\n",
      "Kolejna liczba: 17\n",
      "Kolejna liczba parzysta: 18\n",
      "Kolejna liczba: 19\n"
     ]
    }
   ],
   "source": [
    "for num in range(1, 20):\n",
    "    if not num % 2:  # num % 2 == 0\n",
    "        print('Kolejna liczba parzysta:', num)\n",
    "        continue\n",
    "    print('Kolejna liczba:', num)"
   ]
  },
  {
   "cell_type": "markdown",
   "metadata": {
    "slideshow": {
     "slide_type": "slide"
    }
   },
   "source": [
    "## Pass"
   ]
  },
  {
   "cell_type": "markdown",
   "metadata": {
    "slideshow": {
     "slide_type": "fragment"
    }
   },
   "source": [
    "* Z instrukcją pass nie jest związana jakakolwiek operacja – jej wykonanie nie powoduje żadnych skutków\n",
    "* Przydatna jest w roli wypełniacza, jeśli składnia wymaga obecności instrukcji, lecz nie jest potrzebne wykonanie żadnego kodu, np:"
   ]
  },
  {
   "cell_type": "code",
   "execution_count": 63,
   "metadata": {
    "slideshow": {
     "slide_type": "fragment"
    }
   },
   "outputs": [
    {
     "name": "stdout",
     "output_type": "stream",
     "text": [
      "Pętla wykonana\n"
     ]
    }
   ],
   "source": [
    "for i in range(10):\n",
    "    pass\n",
    "print(\"Pętla wykonana\")"
   ]
  },
  {
   "cell_type": "markdown",
   "metadata": {
    "slideshow": {
     "slide_type": "slide"
    }
   },
   "source": [
    "## Podmiana zawartości zmiennych"
   ]
  },
  {
   "cell_type": "code",
   "execution_count": 64,
   "metadata": {
    "slideshow": {
     "slide_type": "fragment"
    }
   },
   "outputs": [],
   "source": [
    "a = \"Python\"\n",
    "b = 317"
   ]
  },
  {
   "cell_type": "code",
   "execution_count": 65,
   "metadata": {
    "slideshow": {
     "slide_type": "fragment"
    }
   },
   "outputs": [
    {
     "name": "stdout",
     "output_type": "stream",
     "text": [
      "a: Python, b: 317\n"
     ]
    }
   ],
   "source": [
    "print(\"a: {}, b: {}\".format(a, b))"
   ]
  },
  {
   "cell_type": "code",
   "execution_count": 66,
   "metadata": {
    "slideshow": {
     "slide_type": "fragment"
    }
   },
   "outputs": [],
   "source": [
    "b, a = a, b"
   ]
  },
  {
   "cell_type": "code",
   "execution_count": 67,
   "metadata": {
    "slideshow": {
     "slide_type": "fragment"
    }
   },
   "outputs": [
    {
     "name": "stdout",
     "output_type": "stream",
     "text": [
      "a: 317, b: Python\n"
     ]
    }
   ],
   "source": [
    "print(\"a: {}, b: {}\".format(a, b))"
   ]
  },
  {
   "cell_type": "code",
   "execution_count": null,
   "metadata": {
    "slideshow": {
     "slide_type": "skip"
    }
   },
   "outputs": [],
   "source": []
  }
 ],
 "metadata": {
  "celltoolbar": "Slideshow",
  "kernelspec": {
   "display_name": "Python 3 (ipykernel)",
   "language": "python",
   "name": "python3"
  },
  "language_info": {
   "codemirror_mode": {
    "name": "ipython",
    "version": 3
   },
   "file_extension": ".py",
   "mimetype": "text/x-python",
   "name": "python",
   "nbconvert_exporter": "python",
   "pygments_lexer": "ipython3",
   "version": "3.11.5"
  }
 },
 "nbformat": 4,
 "nbformat_minor": 4
}
