{
 "cells": [
  {
   "cell_type": "markdown",
   "metadata": {
    "slideshow": {
     "slide_type": "slide"
    }
   },
   "source": [
    "# Python (podstawy) - wstęp do programowania\n",
    "_Mikołaj Leszczuk_\n",
    "![](https://www.ikaria.pl/wp-content/uploads/2020/05/039_full.jpg)\n",
    "![](https://i.creativecommons.org/l/by/4.0/88x31.png)"
   ]
  },
  {
   "cell_type": "markdown",
   "metadata": {
    "slideshow": {
     "slide_type": "slide"
    }
   },
   "source": [
    "* Algorytmy\n",
    "* Ćwiczenia (pierwsze programy)"
   ]
  },
  {
   "cell_type": "markdown",
   "metadata": {
    "slideshow": {
     "slide_type": "slide"
    }
   },
   "source": [
    "## Ćwiczenia (pierwsze programy)"
   ]
  },
  {
   "cell_type": "markdown",
   "metadata": {
    "slideshow": {
     "slide_type": "slide"
    }
   },
   "source": [
    "### Dodaj 10 i 20"
   ]
  },
  {
   "cell_type": "markdown",
   "metadata": {
    "slideshow": {
     "slide_type": "slide"
    }
   },
   "source": [
    "#### Ćwiczenie\n",
    "Aby rozwiązać ten problem, weźmiemy zmienną `sum` i ustawimy ją na `0`. Następnie weźmiemy dwie liczby `10` i `20` jako dane wejściowe. Następnie dodamy obie liczby i zapiszemy wynik w zmiennej `sum`, czyli `sum = 10 + 20`. Na koniec wydrukujemy wartość przechowywaną w zmiennej `sum`.\n",
    "\n",
    "Algorytm:\n",
    "1. Inicjalizuj `sum = 0` (PROCES)\n",
    "1. Wprowadź liczby (I / O)\n",
    "1. Dodaj je i zapisz wynik w `sum` (PROCES)\n",
    "1. Wydrukuj `sum` (I / O)\n",
    "\n",
    "Jako odpowiedź, narysuj schemat blokowy."
   ]
  },
  {
   "cell_type": "markdown",
   "metadata": {
    "slideshow": {
     "slide_type": "slide"
    }
   },
   "source": [
    "#### Rozwiązanie"
   ]
  },
  {
   "cell_type": "markdown",
   "metadata": {
    "slideshow": {
     "slide_type": "fragment"
    }
   },
   "source": [
    "![](https://dyclassroom.com/image/topic/flowchart/flowchart-ex1-q1.png)"
   ]
  },
  {
   "cell_type": "markdown",
   "metadata": {
    "slideshow": {
     "slide_type": "slide"
    }
   },
   "source": [
    "### Znajdź sumę 5 liczb"
   ]
  },
  {
   "cell_type": "markdown",
   "metadata": {
    "slideshow": {
     "slide_type": "slide"
    }
   },
   "source": [
    "#### Ćwiczenie\n",
    "W tym pytaniu mamy znaleźć sumę (zmienna `sum`) `5` liczb. Tak więc weźmiemy dwie zmienne - sumę (`sum`) i liczbę zliczeń (`count`) i ustawimy obie na `0`. Zmienna `sum` zapisze wynik, a zmienna `count` będzie śledzić, ile liczb przeczytaliśmy.\n",
    "\n",
    "Aby rozwiązać ten problem, użyjemy koncepcji pętli. W przypadku operacji pętlowych lub iteracyjnych niektóre kroki wykonujemy wielokrotnie, o ile dany warunek ma wartość PRAWDZIWĄ (`TRUE`). W tym przypadku będziemy czytać dane wejściowe, aż odczytamy `5` liczb."
   ]
  },
  {
   "cell_type": "markdown",
   "metadata": {
    "slideshow": {
     "slide_type": "subslide"
    }
   },
   "source": [
    "Czyli najpierw inicjalizujemy zmienną `sum` i liczymy do `0`. Następnie weźmiemy dane wejściowe i zapiszemy je w zmiennej `n`. Następnie dodamy wartość przechowywaną w `n` do zmiennej `sum` i zapiszemy sumę (zmienną `sum`) odpowiedzi.\n",
    "\n",
    "czyli `sum = sum + n`"
   ]
  },
  {
   "cell_type": "markdown",
   "metadata": {
    "slideshow": {
     "slide_type": "subslide"
    }
   },
   "source": [
    "Następnie zwiększymy liczbę zliczeń `count` o `1` i sprawdzimy, czy liczba `count` jest mniejsza niż `5`. Jeśli ten warunek jest PRAWDZIWY (`TRUE`), wracamy na początek i weźmiemy kolejne dane wejściowe. Jeśli warunek jest NIEPRAWDZIWY (`FALSE`), wydrukujemy wartość przechowywaną jako zmienna `sum`.\n",
    "![](https://www.ikaria.pl/wp-content/uploads/2020/05/020_full.jpg)"
   ]
  },
  {
   "cell_type": "markdown",
   "metadata": {
    "slideshow": {
     "slide_type": "subslide"
    }
   },
   "source": [
    "Algorytm:\n",
    "\n",
    "1. Zainicjuj zmienną `sum = 0` i liczbę zliczeń (`count = 0`) (PROCES)\n",
    "1. Wpisz `n` (I / O)\n",
    "1. Znajdź wartość `sum + n` i przypisz ją do zmiennej `sum`, a następnie zwiększ liczbę zliczeń (`count`) o `1` (PROCES)\n",
    "1. Czy liczba zliczeń `count < 5` (DECYZJA)\n",
    "1. Jeśli PRAWDA (`TRUE`), przejdź do kroku 2; inaczej; Wydrukuj wartość `sum` (I / O)\n",
    "\n",
    "Jako odpowiedź, narysuj schemat blokowy."
   ]
  },
  {
   "cell_type": "markdown",
   "metadata": {
    "slideshow": {
     "slide_type": "slide"
    }
   },
   "source": [
    "#### Rozwiązanie"
   ]
  },
  {
   "cell_type": "markdown",
   "metadata": {
    "slideshow": {
     "slide_type": "fragment"
    }
   },
   "source": [
    "![](https://dyclassroom.com/image/topic/flowchart/flowchart-ex1-q2.png)"
   ]
  },
  {
   "cell_type": "markdown",
   "metadata": {
    "slideshow": {
     "slide_type": "slide"
    }
   },
   "source": [
    "### Wydrukuj Hello World 10 razy"
   ]
  },
  {
   "cell_type": "markdown",
   "metadata": {
    "slideshow": {
     "slide_type": "slide"
    }
   },
   "source": [
    "#### Ćwiczenie\n",
    "Ten problem jest również rozwiązany za pomocą koncepcji pętli. Bierzemy zmienną określającą liczbę zliczeń (`count`) i ustawiamy ją na `0`. Następnie drukujemy „`Hello World`” i zwiększamy liczbę zliczeń (`count`) o `1`.\n",
    "\n",
    "tj. `count = count + 1`\n",
    "\n",
    "Następnie sprawdzamy, czy liczba zliczeń (`count`) jest mniejsza niż `10`. Jeśli jest to PRAWDA (`TRUE`), ponownie drukujemy „`Hello World`” i zwiększamy zmienną liczby zliczeń (`count`). Z drugiej strony, jeśli warunek jest NIEPRAWDZIWY (`FALSE`), to zatrzymamy się."
   ]
  },
  {
   "cell_type": "markdown",
   "metadata": {
    "slideshow": {
     "slide_type": "subslide"
    }
   },
   "source": [
    "Algorytm:\n",
    "\n",
    "1. Inicjalizacja liczby zliczeń `count = 0` (PROCES)\n",
    "1. Drukuj „`Hello World`” (I / O)\n",
    "1. Przyrost liczby zliczeń (`count`) o `1` (PROCES)\n",
    "1. Czy liczba `count < 10` (DECYZJA)\n",
    "1. Jeśli PRAWDA (`TRUE`) przejdź do kroku 2; inaczej; Stop\n",
    "\n",
    "Jako odpowiedź, narysuj schemat blokowy."
   ]
  },
  {
   "cell_type": "markdown",
   "metadata": {
    "slideshow": {
     "slide_type": "slide"
    }
   },
   "source": [
    "#### Rozwiązanie"
   ]
  },
  {
   "cell_type": "markdown",
   "metadata": {
    "slideshow": {
     "slide_type": "fragment"
    }
   },
   "source": [
    "![](https://dyclassroom.com/image/topic/flowchart/flowchart-ex1-q3.png)"
   ]
  },
  {
   "cell_type": "markdown",
   "metadata": {
    "slideshow": {
     "slide_type": "slide"
    }
   },
   "source": [
    "### Narysuj schemat, aby zalogować się do konta na Facebooku"
   ]
  },
  {
   "cell_type": "markdown",
   "metadata": {
    "slideshow": {
     "slide_type": "slide"
    }
   },
   "source": [
    "#### Ćwiczenie\n",
    "Ten problem można rozwiązać na wiele sposobów, dlatego zachęcę Was do przemyślenia i narysowania schematu blokowego tego problemu za pomocą wyobraźni.\n",
    "\n",
    "Aby zalogować się na konto na Facebooku, najpierw wpisujemy adres URL facebooka www.facebook.com w naszej przeglądarce, takiej jak Google, Firefox, Safari, Internet Explorer itp. Ta prośba jest wysyłana do serwera Facebooka i odpowiada, wysyłając nam stronę główną Facebooka.\n",
    "\n",
    "Następnie wpisujemy nasz zarejestrowany identyfikator e-mail i hasło i klikamy przycisk Zaloguj."
   ]
  },
  {
   "cell_type": "markdown",
   "metadata": {
    "slideshow": {
     "slide_type": "subslide"
    }
   },
   "source": [
    "Następnie sprawdzane są nasze dane logowania. Jeśli się zgadza, pokazujemy nasz profil. Z drugiej strony, jeśli dane logowania są nieprawidłowe, wystąpi błąd i zostaniemy poproszeni o ponowne wprowadzenie naszego identyfikatora e-mail i hasła.\n",
    "\n",
    "Algorytm:\n",
    "\n",
    "1. Wejdź na www.facebook.com w przeglądarce. (I / O)\n",
    "1. Ładowanie strony głównej Facebooka (PROCES)\n",
    "1. Wprowadź swój identyfikator e-mail i hasło (I / O)\n",
    "1. Czy identyfikator e-mail i hasło są prawidłowe (DECYZJA)\n",
    "1. Jeśli NIEPRAWDA (`FALSE`), to; Błąd logowania (PROCES), przejdź do kroku 3; inaczej (`TRUE`); Wyświetl konto na Facebooku (I / O), Stop"
   ]
  },
  {
   "cell_type": "markdown",
   "metadata": {
    "slideshow": {
     "slide_type": "subslide"
    }
   },
   "source": [
    "Uwaga!\n",
    "Ponieważ istnieje wiele sposobów rozwiązania danego problemu, istnieje wiele sposobów rysowania schematu blokowego.\n",
    "\n",
    "Jako odpowiedź, narysuj schemat blokowy."
   ]
  },
  {
   "cell_type": "markdown",
   "metadata": {
    "slideshow": {
     "slide_type": "slide"
    }
   },
   "source": [
    "#### Rozwiązanie"
   ]
  },
  {
   "cell_type": "markdown",
   "metadata": {
    "slideshow": {
     "slide_type": "fragment"
    }
   },
   "source": [
    "![](https://dyclassroom.com/image/topic/flowchart/flowchart-ex1-q4.png)"
   ]
  },
  {
   "cell_type": "markdown",
   "metadata": {
    "slideshow": {
     "slide_type": "slide"
    }
   },
   "source": [
    "### Wydrukuj od 1 do 20 - algorytm"
   ]
  },
  {
   "cell_type": "markdown",
   "metadata": {
    "slideshow": {
     "slide_type": "slide"
    }
   },
   "source": [
    "#### Ćwiczenie\n",
    "1. Zainicjuj `x` jako `0`\n",
    "1. Zwiększ `x` o `1`\n",
    "1. Drukuj `x`\n",
    "1. Jeśli `x` jest mniejsze niż `20`, wróć do kroku 2\n",
    "\n",
    "Jako odpowiedź, narysuj schemat blokowy."
   ]
  },
  {
   "cell_type": "markdown",
   "metadata": {
    "slideshow": {
     "slide_type": "slide"
    }
   },
   "source": [
    "#### Rozwiązanie"
   ]
  },
  {
   "cell_type": "markdown",
   "metadata": {
    "slideshow": {
     "slide_type": "fragment"
    }
   },
   "source": [
    "![](https://www.edrawsoft.com/flowchart/images/flowchart-algorithm.png)"
   ]
  },
  {
   "cell_type": "markdown",
   "metadata": {
    "slideshow": {
     "slide_type": "slide"
    }
   },
   "source": [
    "### Przelicz temperaturę z Fahrenheita (`℉`) na Celsjusza (`℃`) - algorytm"
   ]
  },
  {
   "cell_type": "markdown",
   "metadata": {
    "slideshow": {
     "slide_type": "slide"
    }
   },
   "source": [
    "#### Ćwiczenie\n",
    "1. Odczytaj temperaturę w stopniach Fahrenheita (`f`)\n",
    "1. Oblicz temperaturę za pomocą wzoru $c=\\frac{5}{9}\\cdot(f-32)$\n",
    "1. Drukuj `c`\n",
    "\n",
    "Jako odpowiedź, narysuj schemat blokowy."
   ]
  },
  {
   "cell_type": "markdown",
   "metadata": {
    "slideshow": {
     "slide_type": "slide"
    }
   },
   "source": [
    "#### Rozwiązanie"
   ]
  },
  {
   "cell_type": "markdown",
   "metadata": {
    "slideshow": {
     "slide_type": "fragment"
    }
   },
   "source": [
    "![](https://www.edrawsoft.com/flowchart/images/flowchart-algorithm2.png)"
   ]
  },
  {
   "cell_type": "markdown",
   "metadata": {
    "slideshow": {
     "slide_type": "slide"
    }
   },
   "source": [
    "### Ustal, czy uczeń zdał egzamin, czy nie - algorytm"
   ]
  },
  {
   "cell_type": "markdown",
   "metadata": {
    "slideshow": {
     "slide_type": "slide"
    }
   },
   "source": [
    "#### Ćwiczenie\n",
    "1. Wprowadź stopnie z `4` kursów: `m1`, `m2`, `m3` i `m4`\n",
    "1. Oblicz średnią ocenę (`grade`) za pomocą wzoru na ocenę „$grade=\\frac{m1+m2+m3+m4}{4}$”\n",
    "1. Jeśli średnia ocen jest mniejsza niż `60`, wpisz „`FAIL`”, w przeciwnym razie wydrukuj „`PASS`”\n",
    "\n",
    "Jako odpowiedź, narysuj schemat blokowy."
   ]
  },
  {
   "cell_type": "markdown",
   "metadata": {
    "slideshow": {
     "slide_type": "slide"
    }
   },
   "source": [
    "#### Rozwiązanie"
   ]
  },
  {
   "cell_type": "markdown",
   "metadata": {
    "slideshow": {
     "slide_type": "fragment"
    }
   },
   "source": [
    "![](https://www.edrawsoft.com/flowchart/images/algorithm-flowchart-example4.png)"
   ]
  },
  {
   "cell_type": "markdown",
   "metadata": {
    "slideshow": {
     "slide_type": "slide"
    }
   },
   "source": [
    "### Znajdź sumę liczb w każdym zestawie (zbiorze)"
   ]
  },
  {
   "cell_type": "markdown",
   "metadata": {
    "slideshow": {
     "slide_type": "slide"
    }
   },
   "source": [
    "#### Ćwiczenie\n",
    "Dostajesz `100` liczb podzielonych na dziesięć zestawów (zbiorów) w następującej kolejności.\n",
    "\n",
    "Zestaw `1`: ` 1`-`10`\n",
    "\n",
    "Zestaw `2`: `11`-`20`\n",
    "\n",
    "Zestaw `3`: `21`-`30`\n",
    "\n",
    "…\n",
    "\n",
    "Zestaw `10`: `91`-`100`"
   ]
  },
  {
   "cell_type": "markdown",
   "metadata": {
    "slideshow": {
     "slide_type": "subslide"
    }
   },
   "source": [
    "Musisz narysować schemat blokowy, który wydrukuje sumę każdego zestawu.\n",
    "\n",
    "Aby rozwiązać ten problem, musimy zastosować koncepcję pętli opisaną w ćwiczeniu poprzednim."
   ]
  },
  {
   "cell_type": "markdown",
   "metadata": {
    "slideshow": {
     "slide_type": "subslide"
    }
   },
   "source": [
    "Algorytm:\n",
    "\n",
    "1. Inicjalizuj `count = 1` i `i = 1` (PROCES)\n",
    "1. Sprawdź, czy `i` jest mniejsze lub równe `10` (DECYZJA); jeśli PRAWDA (`TRUE`), wykonaj krok 3; w przeciwnym razie ZATRZYMAJ\n",
    "1. Ustaw `sum = 0` i `j = 1` (PROCES)\n",
    "1. Sprawdź, czy `j` jest mniejsze lub równe `10` (DECYZJA); jeśli PRAWDA (`TRUE`), wykonaj krok 5; w przeciwnym razie wykonaj krok 8\n",
    "1. Dodaj `count` do `sum`; `sum = sum + count` (PROCES)\n",
    "1. Zwiększ `count` o `1`; `count = count + 1` (PROCES)\n",
    "1. Zwiększ `j` o `1`; `j = j + 1` (PROCES); przejdź do kroku 4\n",
    "1. Wydrukuj `sum` (I / O)\n",
    "1. Zwiększ `i` o `1`; `i = i + 1` (PROCES); przejdź do kroku 2"
   ]
  },
  {
   "cell_type": "markdown",
   "metadata": {
    "slideshow": {
     "slide_type": "subslide"
    }
   },
   "source": [
    "Jako odpowiedź, narysuj schemat blokowy."
   ]
  },
  {
   "cell_type": "markdown",
   "metadata": {
    "slideshow": {
     "slide_type": "slide"
    }
   },
   "source": [
    "#### Rozwiązanie"
   ]
  },
  {
   "cell_type": "markdown",
   "metadata": {
    "slideshow": {
     "slide_type": "slide"
    }
   },
   "source": [
    "![](https://dyclassroom.com/image/topic/flowchart/flowchart-ex2-q1.png)"
   ]
  },
  {
   "cell_type": "markdown",
   "metadata": {
    "slideshow": {
     "slide_type": "slide"
    }
   },
   "source": [
    "## Program - jedzenie ;-)"
   ]
  },
  {
   "cell_type": "markdown",
   "metadata": {
    "slideshow": {
     "slide_type": "fragment"
    }
   },
   "source": [
    "![](https://www.iwastesomuchtime.com/wp-content/uploads/sites/68/2021/12/122420131511126-69108.jpg)"
   ]
  },
  {
   "cell_type": "code",
   "execution_count": null,
   "metadata": {
    "slideshow": {
     "slide_type": "skip"
    }
   },
   "outputs": [],
   "source": []
  }
 ],
 "metadata": {
  "celltoolbar": "Slideshow",
  "kernelspec": {
   "display_name": "Python 3 (ipykernel)",
   "language": "python",
   "name": "python3"
  },
  "language_info": {
   "codemirror_mode": {
    "name": "ipython",
    "version": 3
   },
   "file_extension": ".py",
   "mimetype": "text/x-python",
   "name": "python",
   "nbconvert_exporter": "python",
   "pygments_lexer": "ipython3",
   "version": "3.11.3"
  }
 },
 "nbformat": 4,
 "nbformat_minor": 4
}
