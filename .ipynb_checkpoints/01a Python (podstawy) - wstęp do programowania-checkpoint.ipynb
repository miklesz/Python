{
 "cells": [
  {
   "cell_type": "markdown",
   "metadata": {
    "slideshow": {
     "slide_type": "slide"
    }
   },
   "source": [
    "# Python (podstawy) - wstęp do programowania\n",
    "\n",
    "_Mikołaj Leszczuk_\n",
    "\n",
    "![](https://www.ikaria.pl/wp-content/uploads/2020/05/042_full.jpg)\n",
    "\n",
    "![](https://i.creativecommons.org/l/by/4.0/88x31.png)"
   ]
  },
  {
   "cell_type": "markdown",
   "metadata": {
    "slideshow": {
     "slide_type": "slide"
    }
   },
   "source": [
    "## Wyjaśnienie podstawowych pojęć"
   ]
  },
  {
   "cell_type": "markdown",
   "metadata": {
    "slideshow": {
     "slide_type": "slide"
    }
   },
   "source": [
    "### Informacja"
   ]
  },
  {
   "cell_type": "markdown",
   "metadata": {
    "slideshow": {
     "slide_type": "fragment"
    }
   },
   "source": [
    "* **Łac.** _informatio_ – przedstawienie, wizerunek; _informare_ – kształtować, przedstawiać\n",
    "* **Termin interdyscyplinarny**, definiowany różnie w różnych dziedzinach **nauki**\n",
    "* Najogólniej – właściwość pewnych **obiektów**, **relacja** między elementami **zbiorów** pewnych obiektów, której istotą jest zmniejszanie niepewności (nieokreśloności)\n",
    "* Dwa podstawowe punkty widzenia informacji:\n",
    "  1. Obiektywny – informacja oznaczająca pewną właściwość fizyczną lub strukturalną obiektów (**układów**, **systemów**)\n",
    "  1. Subiektywny – informacja istniejąca jedynie względem pewnego **podmiotu**, najczęściej rozumianego jako **umysł**"
   ]
  },
  {
   "cell_type": "markdown",
   "metadata": {
    "slideshow": {
     "slide_type": "slide"
    }
   },
   "source": [
    "### Teoria informacji"
   ]
  },
  {
   "cell_type": "markdown",
   "metadata": {
    "slideshow": {
     "slide_type": "fragment"
    }
   },
   "source": [
    "* **Dyscyplina** zajmująca się problematyką **informacji** oraz metodami przetwarzania informacji, np. w celu:\n",
    "  * **Transmisji**\n",
    "  * **Kompresji**\n",
    "* Najmniejsza jednostka **informacji** używana w odniesieniu do sprzętu komputerowego to **bit**:\n",
    "  * Z **ang.**, kawałek,\n",
    "  * Także **skrót** od **_binary digit_**, czyli **cyfra dwójkowa**\n",
    "* Skrót (**oznaczenie symbolu**) bitu to **„b”**"
   ]
  },
  {
   "cell_type": "markdown",
   "metadata": {
    "slideshow": {
     "slide_type": "slide"
    }
   },
   "source": [
    "### Bit"
   ]
  },
  {
   "cell_type": "markdown",
   "metadata": {
    "slideshow": {
     "slide_type": "subslide"
    }
   },
   "source": [
    "* Najmniejsza ilość informacji potrzebna do określenia, który z dwóch równie prawdopodobnych stanów przyjął układ\n",
    "* Jednostka logiczna\n",
    "* Przyjmowanie jednej z dwóch wartości, zwykle określanych się jako:\n",
    "  * 0 (zero), i\n",
    "  * 1 (jeden)\n",
    "* Wyższe jednostki to:\n",
    "  * **półbajt** (ang. **_nybble_**) – 4 bity\n",
    "  * **oktet** (ang. **_octet_**) – 8 bitów\n",
    "  * **bajt** (ang. **_byte_**, symbol: B):\n",
    "    * Pierwotnie liczba bitów przetwarzana jednocześnie przez **komputer**\n",
    "    * Obecnie używany wyłącznie do oznaczania 8 bitów (czyli oktetu)"
   ]
  },
  {
   "cell_type": "markdown",
   "metadata": {
    "slideshow": {
     "slide_type": "slide"
    }
   },
   "source": [
    "### Wyższe jednostki informacji "
   ]
  },
  {
   "cell_type": "markdown",
   "metadata": {
    "slideshow": {
     "slide_type": "fragment"
    }
   },
   "source": [
    "* Często niepoprawnie używa się podstawowych przedrostków z **układu SI** (o mnożniku **1000**)\n",
    "* Podczas gdy powinny być stosowane przedrostki **binarne** (mnożnik **1024**)\n",
    "* Należy więc zachować ostrożność przy interpretacji treści"
   ]
  },
  {
   "cell_type": "markdown",
   "metadata": {
    "slideshow": {
     "slide_type": "slide"
    }
   },
   "source": [
    "#### Przedrostki dziesiętne układu SI, wielokrotności liczby 10 (10^3n)"
   ]
  },
  {
   "cell_type": "markdown",
   "metadata": {
    "slideshow": {
     "slide_type": "fragment"
    }
   },
   "source": [
    "* Kilobajt (ang. **_kilobyte_**, symbol **kB**) – 10^3 = 1000 bajtów\n",
    "* Megabajt (ang. **_megabyte_**, symbol **MB**) – 10^6 = 1000^2 = 1 milion bajtów\n",
    "* Gigabajt (ang. **_gigabyte_**, symbol **GB**) – 10^9 = 1000^3 = 1 miliard bajtów\n",
    "* Terabajt (ang. **_terabyte_**, symbol **TB**) – 10^12 = 1000^4 = 1 bilion bajtów"
   ]
  },
  {
   "cell_type": "markdown",
   "metadata": {
    "slideshow": {
     "slide_type": "slide"
    }
   },
   "source": [
    "#### Przedrostki dwójkowe IEC, wielokrotności liczby 2 (2^10n)"
   ]
  },
  {
   "cell_type": "markdown",
   "metadata": {
    "slideshow": {
     "slide_type": "fragment"
    }
   },
   "source": [
    "* Kibibajt (ang. **_kibibyte_**, symbol **KiB**) – 2^10 = 1024 bajty\n",
    "* Mebibajt (ang. **_mebibyte_**, symbol **MiB**) – 2^20 = 1024^2 = 1 milion 48 tysięcy 576 bajtów\n",
    "* Gibibajt (ang. **_gibibyte_**, symbol **GiB**) – 2^30 = 1024^3 = 1 miliard 73 miliony 741 tysięcy 824 bajtów\n",
    "* Tebibajt (ang. **_tebibyte_**, symbol **TiB**) – 2^40 = 1024^4 = 1 bilion 99 miliardów 511 milionów 627 tysięcy 776 bajtów"
   ]
  },
  {
   "cell_type": "markdown",
   "metadata": {
    "slideshow": {
     "slide_type": "subslide"
    }
   },
   "source": [
    "![](https://www.ikaria.pl/wp-content/uploads/2020/05/006_full.jpg)"
   ]
  },
  {
   "cell_type": "markdown",
   "metadata": {
    "slideshow": {
     "slide_type": "slide"
    }
   },
   "source": [
    "### Wielo..."
   ]
  },
  {
   "cell_type": "markdown",
   "metadata": {
    "slideshow": {
     "slide_type": "fragment"
    }
   },
   "source": [
    "* Wielozadaniowość\n",
    "* Wielowątkowość\n",
    "* Wielodostęp"
   ]
  },
  {
   "cell_type": "markdown",
   "metadata": {
    "slideshow": {
     "slide_type": "slide"
    }
   },
   "source": [
    "#### Wielozadaniowość"
   ]
  },
  {
   "cell_type": "markdown",
   "metadata": {
    "slideshow": {
     "slide_type": "fragment"
    }
   },
   "source": [
    "* **Ang. _multitasking_**\n",
    "* Cecha **systemu operacyjnego** umożliwiająca równoczesne wykonywanie więcej niż jednego **procesu** (programu)\n",
    "* Zwykle poprawna realizacja wielozadaniowości to odpowiedzialność **jądra systemu operacyjnego**"
   ]
  },
  {
   "cell_type": "markdown",
   "metadata": {
    "slideshow": {
     "slide_type": "subslide"
    }
   },
   "source": [
    "Możliwości wielozadaniowości systemu Microsoft Windows 1.01 wydanego w 1985 roku, tutaj pokazano działanie programów MS-DOS Executive i Calculator:\n",
    "\n",
    "![Możliwości wielozadaniowości systemu Microsoft Windows 1.01 wydanego w 1985 roku, tutaj pokazano działanie programów MS-DOS Executive i Calculator](https://upload.wikimedia.org/wikipedia/en/7/71/Microsoft_Windows_1.01_multitasking.png \"Możliwości wielozadaniowości systemu Microsoft Windows 1.01 wydanego w 1985 roku, tutaj pokazano działanie programów MS-DOS Executive i Calculator\")\n",
    "\n",
    "Nowoczesne systemy operacyjne dla komputerów stacjonarnych mogą jednocześnie obsługiwać dużą liczbę różnych procesów. "
   ]
  },
  {
   "cell_type": "markdown",
   "metadata": {
    "slideshow": {
     "slide_type": "subslide"
    }
   },
   "source": [
    "Ten zrzut ekranu pokazuje Linux Mint działający jednocześnie w środowisku graficznym Xfce, Firefoksie, programie kalkulacyjnym, wbudowanym kalendarzu, Vim, GIMP i odtwarzaczu multimedialnym VLC:\n",
    "\n",
    "![Nowoczesne systemy operacyjne dla komputerów stacjonarnych mogą jednocześnie obsługiwać dużą liczbę różnych procesów. Ten zrzut ekranu pokazuje Linux Mint działający jednocześnie w środowisku graficznym Xfce, Firefoksie, programie kalkulacyjnym, wbudowanym kalendarzu, Vim, GIMP i odtwarzaczu multimedialnym VLC.](https://upload.wikimedia.org/wikipedia/commons/thumb/4/41/Desktop-Linux-Mint.png/1024px-Desktop-Linux-Mint.png \"Nowoczesne systemy operacyjne dla komputerów stacjonarnych mogą jednocześnie obsługiwać dużą liczbę różnych procesów. Ten zrzut ekranu pokazuje Linux Mint działający jednocześnie w środowisku graficznym Xfce, Firefoksie, programie kalkulacyjnym, wbudowanym kalendarzu, Vim, GIMP i odtwarzaczu multimedialnym VLC.\")"
   ]
  },
  {
   "cell_type": "markdown",
   "metadata": {
    "slideshow": {
     "slide_type": "slide"
    }
   },
   "source": [
    "#### Wielowątkowość"
   ]
  },
  {
   "cell_type": "markdown",
   "metadata": {
    "slideshow": {
     "slide_type": "fragment"
    }
   },
   "source": [
    "* **Ang. _multithreading_**\n",
    "* Cecha **systemu operacyjnego**, dzięki której w ramach jednego **procesu** może być wykonywanych kilka **zadań** nazywanych **wątkami**\n",
    "* Nowe zadania to kolejne ciągi instrukcji realizowane do pewnego stopnia niezależnie\n",
    "* Wszystkie wątki (zadania) w ramach tego samego procesu współdzielą tą samą wirtualną przestrzeń adresową zawierającą:\n",
    "  * Kod **programu**, i \n",
    "  * Jego **dane**"
   ]
  },
  {
   "cell_type": "markdown",
   "metadata": {
    "slideshow": {
     "slide_type": "subslide"
    }
   },
   "source": [
    "Proces z dwoma wątkami wykonywania, działający na jednym procesorze:\n",
    "\n",
    "![Proces z dwoma wątkami wykonywania, działający na jednym procesorze](https://upload.wikimedia.org/wikipedia/commons/a/a5/Multithreaded_process.svg \"Proces z dwoma wątkami wykonywania, działający na jednym procesorze\")"
   ]
  },
  {
   "cell_type": "markdown",
   "metadata": {
    "slideshow": {
     "slide_type": "slide"
    }
   },
   "source": [
    "#### Wielodostęp"
   ]
  },
  {
   "cell_type": "markdown",
   "metadata": {
    "slideshow": {
     "slide_type": "fragment"
    }
   },
   "source": [
    "* W kontekście informatyki technicznej - zapewnienie możliwości jednoczesnej pracy wielu użytkowników za pomocą wielu terminali"
   ]
  },
  {
   "cell_type": "markdown",
   "metadata": {
    "slideshow": {
     "slide_type": "slide"
    }
   },
   "source": [
    "## Urządzenia wejścia-wyjścia (we-wy, we/wy, I/O)"
   ]
  },
  {
   "cell_type": "markdown",
   "metadata": {
    "slideshow": {
     "slide_type": "fragment"
    }
   },
   "source": [
    "* Urządzenie do komunikacji **systemu komputerowego** z:\n",
    "  * **Jego użytkownikiem**\n",
    "  * Innym systemem **przetwarzania danych**\n",
    "* Często służące do zamiany wielkości fizycznych na dane przetwarzane przez system lub odwrotnie\n",
    "* Na przykład:\n",
    "  * **Mysz komputerowa** przetwarzająca prędkość ruchu po powierzchni \n",
    "  * Odbiornik **GPS** przetwarzający aktualne położenie geograficzne\n",
    "  * **Monitor komputera** przetwarzający dane komputerowe na obraz przedstawiany na **wyświetlaczu**"
   ]
  },
  {
   "cell_type": "markdown",
   "metadata": {
    "slideshow": {
     "slide_type": "subslide"
    }
   },
   "source": [
    "* Wszystkie urządzenia wejścia-wyjścia wyposażone w **interfejs**, pozwalający na:\n",
    "  * Komunikację z systemem\n",
    "  * Jednoznaczne adresowanie urządzenia \n",
    "* Interfejs charakteryzowany przez odpowiednią specyfikację elektryczna i logiczna, pozwalającą na komunikację z dołączonym systemem\n",
    "* Najpopularniejsze interfejsy urządzeń wejścia-wyjścia to:\n",
    "  * Aktualnie: **USB**, **PCI Express**, **SATA**\n",
    "  * Dawniej: **RS-232**, **IDE**"
   ]
  },
  {
   "cell_type": "markdown",
   "metadata": {
    "slideshow": {
     "slide_type": "subslide"
    }
   },
   "source": [
    "* Obsługa urządzenia wejścia-wyjścia realizowana przez podłączony system:\n",
    "    * Przetwarzanie otrzymanych danych\n",
    "    * Wysyłanie odpowiednio przetworzone dane do urządzenia wejścia-wyjścia\n",
    "* Funkcjonalność takiego urządzenia silnie uzależniona od aplikacji działającej w systemie, obsługującej dane urządzenie"
   ]
  },
  {
   "cell_type": "markdown",
   "metadata": {
    "slideshow": {
     "slide_type": "subslide"
    }
   },
   "source": [
    "* Przykładowo - obsługa tabletu graficznego przez komputer:\n",
    "  * Podstawowa: funkcjonalność myszy komputerowej\n",
    "  * Specjalizowana: rozpoznawanie siły nacisku, dobieranie grubości kreski rysowanej w programie graficznym\n",
    "      \n",
    "![](https://www.ikaria.pl/wp-content/uploads/2020/05/014_full.jpg)"
   ]
  },
  {
   "cell_type": "markdown",
   "metadata": {
    "slideshow": {
     "slide_type": "slide"
    }
   },
   "source": [
    "## Klasyfikacja języków programowania"
   ]
  },
  {
   "cell_type": "markdown",
   "metadata": {
    "slideshow": {
     "slide_type": "slide"
    }
   },
   "source": [
    "### Podział języków programowania ze względu na…"
   ]
  },
  {
   "cell_type": "markdown",
   "metadata": {
    "slideshow": {
     "slide_type": "fragment"
    }
   },
   "source": [
    "* **Paradygmat programowania**\n",
    "* Generację języka programowania\n",
    "* Sposób kontroli typów\n",
    "* Sposób wykonywania (**kompilacja**, **interpretacja**) / poziom (**języki niskiego poziomu** są bardziej zbliżone pod względem budowy do działania sprzętu, **języki wysokiego poziomu** są mniej zbliżone pod względem budowy do działania sprzętu)\n",
    "* Przeznaczenie"
   ]
  },
  {
   "cell_type": "markdown",
   "metadata": {
    "slideshow": {
     "slide_type": "slide"
    }
   },
   "source": [
    "### Paradygmat programowania (ang. _programming paradigm_)"
   ]
  },
  {
   "cell_type": "markdown",
   "metadata": {
    "slideshow": {
     "slide_type": "fragment"
    }
   },
   "source": [
    "* Wzorzec **programowania komputerów**:\n",
    "  * Przedkładany w danym okresie rozwoju informatyki ponad inne, lub \n",
    "  * Ceniony w pewnych:\n",
    "    * Okolicznościach, lub \n",
    "    * Zastosowaniach\n",
    "* Przykłady wspierania paradygmatów programowania przez różne **języki programowania**:\n",
    "  * **Paradygmat programowania obiektowego - Smalltalk, Java**\n",
    "  * **Paradygmat programowania funkcyjnego - Haskell**\n",
    "  * **Wiele paradygmatów - Common Lisp, Python**"
   ]
  },
  {
   "cell_type": "markdown",
   "metadata": {
    "slideshow": {
     "slide_type": "slide"
    }
   },
   "source": [
    "### Kompilacja vs. interpretacja / poziom języka programowania"
   ]
  },
  {
   "cell_type": "markdown",
   "metadata": {
    "slideshow": {
     "slide_type": "slide"
    }
   },
   "source": [
    "#### Kompilator"
   ]
  },
  {
   "cell_type": "markdown",
   "metadata": {
    "slideshow": {
     "slide_type": "fragment"
    }
   },
   "source": [
    "* **Program** służący do automatycznego tłumaczenia (kompilacji): \n",
    "  * Kodu napisanego w jednym języku (**_języku źródłowym_**)\n",
    "  * Na równoważny kod w innym języku (**_języku wynikowym_**)\n",
    "* W informatyce najczęściej tłumaczenie **kodu źródłowego** w **języku programowania** na **język maszynowy**"
   ]
  },
  {
   "cell_type": "markdown",
   "metadata": {
    "slideshow": {
     "slide_type": "slide"
    }
   },
   "source": [
    "#### Interpreter"
   ]
  },
  {
   "cell_type": "markdown",
   "metadata": {
    "slideshow": {
     "slide_type": "fragment"
    }
   },
   "source": [
    "* **Program komputerowy** wykonujący inne programy:\n",
    "  * Analizując **kod źródłowy** programu\n",
    "  * A przeanalizowane fragmenty - wykonując\n",
    "*  Kluczowy element znacznej części implementacji:\n",
    "  * **Języków skryptowych**, oraz\n",
    "  * Języków kompilowanych do **kodu bajtowego**\n",
    "* Wykonywanie programu - wolniejsze"
   ]
  },
  {
   "cell_type": "markdown",
   "metadata": {
    "slideshow": {
     "slide_type": "slide"
    }
   },
   "source": [
    "#### Język niskiego poziomu (ang. _low-level programming language_)"
   ]
  },
  {
   "cell_type": "markdown",
   "metadata": {
    "slideshow": {
     "slide_type": "fragment"
    }
   },
   "source": [
    "* **Język programowania**, w którym jedna operacja elementarna to najczęściej jedna operacja elementarna rzeczywistego procesora\n",
    "* W języku niskiego poziomu używa się stosunkowo prostych wyrażeń symbolicznych, odpowiadających zestawowi **rozkazów maszynowych**"
   ]
  },
  {
   "cell_type": "markdown",
   "metadata": {
    "slideshow": {
     "slide_type": "slide"
    }
   },
   "source": [
    "#### Język wysokiego poziomu (ang. _high-level programming language_)"
   ]
  },
  {
   "cell_type": "markdown",
   "metadata": {
    "slideshow": {
     "slide_type": "fragment"
    }
   },
   "source": [
    "* Typ **języka programowania**, o składni i słowach kluczowych mających maksymalnie ułatwić rozumienie kodu programu przez człowieka, tym samym:\n",
    "  * Zwiększając poziom abstrakcji\n",
    "  * Dystansując się od sprzętowych niuansów\n",
    "* Większość z nich można zaliczyć do języków uniwersalnych, służących do rozwiązywania szerokiego zakresu problemów"
   ]
  },
  {
   "cell_type": "markdown",
   "metadata": {
    "slideshow": {
     "slide_type": "slide"
    }
   },
   "source": [
    "#### Cykl maszynowy"
   ]
  },
  {
   "cell_type": "markdown",
   "metadata": {
    "slideshow": {
     "slide_type": "fragment"
    }
   },
   "source": [
    "* Cykl wymiany danych między **procesorem** a **pamięcią** lub układem wejścia wyjścia:\n",
    "  * Odczyt\n",
    "  * Zapis\n",
    "* W każdym cyklu maszynowym - wysłanie:\n",
    "  * Adresu na **magistralę** adresową\n",
    "  * Danych na magistralę danych\n",
    "  * Sygnałów sterujących, informujących o rodzaju cyklu, na magistralę sterującą"
   ]
  },
  {
   "cell_type": "markdown",
   "metadata": {
    "slideshow": {
     "slide_type": "slide"
    }
   },
   "source": [
    "#### Język (kod) maszynowy"
   ]
  },
  {
   "cell_type": "markdown",
   "metadata": {
    "slideshow": {
     "slide_type": "fragment"
    }
   },
   "source": [
    "* **Zestaw rozkazów procesora**, w którym zapis **programu** wyrażany w postaci **liczb binarnych** stanowiących:\n",
    "  * **Rozkazy**, oraz ich \n",
    "  * **Argumenty**\n",
    "* Kod maszynowy generowany w procesie:\n",
    "  * **Kompilacji** (w przypadku **języków wysokiego poziomu**), lub \n",
    "  * **Asemblacji** (w przypadku **języków niskiego poziomu**)"
   ]
  },
  {
   "cell_type": "markdown",
   "metadata": {
    "slideshow": {
     "slide_type": "subslide"
    }
   },
   "source": [
    "Przykład kodu maszynowego (kolumna druga rozpoczynająca się od 6C 36 00) uwidocznionego za pomocą monitora kodu maszynowego: \n",
    "\n",
    "![Przykład kodu maszynowego (kolumna druga rozpoczynająca się od 6C 36 00) uwidocznionego za pomocą monitora kodu maszynowego](https://upload.wikimedia.org/wikipedia/commons/4/4d/Apple_II_Monitor.png \"Przykład kodu maszynowego (kolumna druga rozpoczynająca się od 6C 36 00) uwidocznionego za pomocą monitora kodu maszynowego\")"
   ]
  },
  {
   "cell_type": "markdown",
   "metadata": {
    "slideshow": {
     "slide_type": "slide"
    }
   },
   "source": [
    "#### Instrukcja kodu maszynowego (podprogram wewnętrzny)"
   ]
  },
  {
   "cell_type": "markdown",
   "metadata": {
    "slideshow": {
     "slide_type": "fragment"
    }
   },
   "source": [
    "* **Instrukcja** (lub inna konstrukcja **semantyczna** języka):\n",
    "  * Zdefiniowana w składni określonego **języka programowania**,\n",
    "  * Umożliwiająca **programowanie** fragmentów **kodu źródłowego** w **języku maszynowym** danego **komputera**"
   ]
  },
  {
   "cell_type": "markdown",
   "metadata": {
    "slideshow": {
     "slide_type": "subslide"
    }
   },
   "source": [
    "* **Stosowanie podprogramów wewnętrznych**\n",
    "  * Specjalna instrukcja wprowadzona, przez **autorów** niektórych **implementacji** języków wysokiego poziomu, w celu umożliwienia **programowania hybrydowego**: dany język wysokiego poziomu – język maszynowy\n",
    "  * Sposób programowania stosowany przede wszystkim, w celu optymalizacji **kodu wynikowego**, szczególnie pod kątem wybranych fragmentów, mających istotny wpływ na wydajność wygenerowanego **programu**\n",
    "  * Ponadto umożliwienie **programiście** korzystanie z pewnych specyficznych **cech** konkretnego **systemu komputerowego**"
   ]
  },
  {
   "cell_type": "markdown",
   "metadata": {
    "slideshow": {
     "slide_type": "slide"
    }
   },
   "source": [
    "#### Język skryptowy"
   ]
  },
  {
   "cell_type": "markdown",
   "metadata": {
    "slideshow": {
     "slide_type": "fragment"
    }
   },
   "source": [
    "* **Język programowania** obsługujący skrypty\n",
    "* Często służący do kontrolowania określonej **aplikacji** \n",
    "* **Skrypty** - programy:\n",
    "  * Napisane w językach skryptowych\n",
    "  * Przeznaczone do wykonywania w specjalnych **środowiskach uruchomieniowych** automatyzujących wykonywanie zadań, alternatywnie wykonywalnych jedno po drugim przez użytkownika\n",
    "* Języki skryptowe to najczęściej **języki interpretowane**, zaprojektowane z myślą o **interakcji** z użytkownikiem"
   ]
  },
  {
   "cell_type": "markdown",
   "metadata": {
    "slideshow": {
     "slide_type": "subslide"
    }
   },
   "source": [
    "* Niejednokrotnie wysokie skomplikowanie poleceń używanych w skryptach – na przykład w systemach operacyjnych **UNIX**, w języku skryptowym **sh** większość poleceń to tak naprawdę samodzielne programy\n",
    "* Skrypty często używane do jednorazowych zadań, na przykład administracyjnych"
   ]
  },
  {
   "cell_type": "markdown",
   "metadata": {
    "slideshow": {
     "slide_type": "slide"
    }
   },
   "source": [
    "### Zastosowania (przeznaczenie) języków programowania"
   ]
  },
  {
   "cell_type": "markdown",
   "metadata": {
    "slideshow": {
     "slide_type": "fragment"
    }
   },
   "source": [
    "* Aplikacje webowe: PHP, Python, Java, Ruby, JavaScript\n",
    "* Aplikacje desktopowe: C#, Java, Python, Swift\n",
    "* Aplikacje mobilne: Kotlin, Java, Swift\n",
    "* Gry: C, C++, C#, PHP, JavaScript, Java, (Python)\n",
    "* Data science: R, Python\n",
    "* Systemy wbudowane: Python, C, C++"
   ]
  },
  {
   "cell_type": "markdown",
   "metadata": {
    "slideshow": {
     "slide_type": "slide"
    }
   },
   "source": [
    "### Pojęcie składni, semantyki"
   ]
  },
  {
   "cell_type": "markdown",
   "metadata": {
    "slideshow": {
     "slide_type": "slide"
    }
   },
   "source": [
    "#### Składnia języka programowania"
   ]
  },
  {
   "cell_type": "markdown",
   "metadata": {
    "slideshow": {
     "slide_type": "fragment"
    }
   },
   "source": [
    "* Pewne reguły, jakie musi spełnić dany ciąg znaków, aby mógł być rozpoznany, jako program napisany w danym języku\n",
    "* Opis składni:\n",
    "  * Rodzaje dostępnych symboli\n",
    "  * Zasady, według których symbole mogą być łączone w większe struktury\n",
    "* Składnia najczęściej opisywana w formalnym zapisie"
   ]
  },
  {
   "cell_type": "markdown",
   "metadata": {
    "slideshow": {
     "slide_type": "subslide"
    }
   },
   "source": [
    "![](https://upload.wikimedia.org/wikipedia/commons/c/c3/Python_add5_syntax.png)"
   ]
  },
  {
   "cell_type": "markdown",
   "metadata": {
    "slideshow": {
     "slide_type": "slide"
    }
   },
   "source": [
    "#### Semantyka języka programowania"
   ]
  },
  {
   "cell_type": "markdown",
   "metadata": {
    "slideshow": {
     "slide_type": "fragment"
    }
   },
   "source": [
    "* Precyzyjna definicja:\n",
    "  * Znaczenia poszczególnych symboli, oraz\n",
    "  * Ich funkcji w programie\n",
    "* Najczęściej definiowana słownie, ponieważ większość z jej zagadnień trudna lub wręcz niemożliwa do ujęcia w jakikolwiek formalizm\n",
    "* Część błędów semantycznych możliwa do wychwycenia już w momencie wstępnego przetwarzania kodu programu, np. próba odwołania się do nieistniejącej funkcji\n",
    "* Lecz inne ujawniające się dopiero w trakcie wykonywania"
   ]
  },
  {
   "cell_type": "code",
   "execution_count": null,
   "metadata": {
    "slideshow": {
     "slide_type": "skip"
    }
   },
   "outputs": [],
   "source": []
  }
 ],
 "metadata": {
  "celltoolbar": "Slideshow",
  "kernelspec": {
   "display_name": "Python 3 (ipykernel)",
   "language": "python",
   "name": "python3"
  },
  "language_info": {
   "codemirror_mode": {
    "name": "ipython",
    "version": 3
   },
   "file_extension": ".py",
   "mimetype": "text/x-python",
   "name": "python",
   "nbconvert_exporter": "python",
   "pygments_lexer": "ipython3",
   "version": "3.11.3"
  }
 },
 "nbformat": 4,
 "nbformat_minor": 4
}
