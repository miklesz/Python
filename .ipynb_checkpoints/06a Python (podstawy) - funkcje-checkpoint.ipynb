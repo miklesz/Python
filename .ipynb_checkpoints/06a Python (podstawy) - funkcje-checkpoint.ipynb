{
 "cells": [
  {
   "cell_type": "markdown",
   "metadata": {
    "slideshow": {
     "slide_type": "slide"
    }
   },
   "source": [
    "# Python (podstawy) - funkcje\n",
    "_Mikołaj Leszczuk_\n",
    "![](https://benjdd.com/assets/memes/teach-functions.jpg)\n",
    "![](https://i.creativecommons.org/l/by/4.0/88x31.png)"
   ]
  },
  {
   "cell_type": "markdown",
   "metadata": {
    "slideshow": {
     "slide_type": "slide"
    }
   },
   "source": [
    "## Funkcje"
   ]
  },
  {
   "cell_type": "markdown",
   "metadata": {
    "slideshow": {
     "slide_type": "fragment"
    }
   },
   "source": [
    "Funkcje (podprogramy) służą do wykonywania określonych operacji, które mogą być wykonywane w jednym programie wielokrotnie.\n",
    "\n",
    "Do tej pory używaliśmy funkcji wbudowanych w język takich jak `print()` czy `len()`.\n",
    "\n",
    "Każda funkcja ma `nazwę()`, a w nawiasach okrągłych może mieć listę argumentów, które przyjmuje."
   ]
  },
  {
   "cell_type": "markdown",
   "metadata": {
    "slideshow": {
     "slide_type": "subslide"
    }
   },
   "source": [
    "Instrukcja `def` definiuje funkcję (lub metodę, ale o tym będzie później). Instrukcje tworzące ciało funkcji zaczynają się od następnego wiersza i muszą być wcięte. Przykład:\n",
    "\n",
    "Program do drukowania „`Hello world!`” a następnie „`Wikipedia`” w następnym wierszu."
   ]
  },
  {
   "cell_type": "code",
   "execution_count": 3,
   "metadata": {
    "slideshow": {
     "slide_type": "fragment"
    }
   },
   "outputs": [
    {
     "name": "stdout",
     "output_type": "stream",
     "text": [
      "Hello world!\n",
      "Wikipedia\n"
     ]
    }
   ],
   "source": [
    "def simple_function():\n",
    "    print('Hello world!')\n",
    "    print('Wikipedia')\n",
    "    \n",
    "\n",
    "simple_function()"
   ]
  },
  {
   "cell_type": "markdown",
   "metadata": {
    "slideshow": {
     "slide_type": "subslide"
    }
   },
   "source": [
    "Instrukcja `return` służy do zwracania wartości z funkcji."
   ]
  },
  {
   "cell_type": "markdown",
   "metadata": {
    "slideshow": {
     "slide_type": "fragment"
    }
   },
   "source": [
    "**Przykład**\n",
    "\n",
    "Wyjdź z funkcji i zwróć sumę:"
   ]
  },
  {
   "cell_type": "code",
   "execution_count": 4,
   "metadata": {
    "scrolled": true,
    "slideshow": {
     "slide_type": "fragment"
    }
   },
   "outputs": [
    {
     "name": "stdout",
     "output_type": "stream",
     "text": [
      "6\n"
     ]
    }
   ],
   "source": [
    "def my_function():\n",
    "    return 3 + 3\n",
    "\n",
    "\n",
    "print(my_function())"
   ]
  },
  {
   "cell_type": "markdown",
   "metadata": {
    "slideshow": {
     "slide_type": "subslide"
    }
   },
   "source": [
    "Argument (parametr aktualny), to element składni w języku programowania Python, który w wyniku wywołania funkcji, zostaje utożsamiony (skojarzony) z określonym parametrem funkcji."
   ]
  },
  {
   "cell_type": "code",
   "execution_count": 16,
   "metadata": {
    "slideshow": {
     "slide_type": "fragment"
    }
   },
   "outputs": [
    {
     "name": "stdout",
     "output_type": "stream",
     "text": [
      "x = 2 , y = 3\n",
      "5\n"
     ]
    }
   ],
   "source": [
    "def add(x, y):\n",
    "    print('x =', x, ', y =', y)\n",
    "    return x + y\n",
    "\n",
    "\n",
    "print(add(2, 3))\n",
    "# print(add(x=2, y=3))\n",
    "# print(add(2))\n"
   ]
  },
  {
   "cell_type": "markdown",
   "metadata": {
    "slideshow": {
     "slide_type": "slide"
    }
   },
   "source": [
    "## Docstring"
   ]
  },
  {
   "cell_type": "markdown",
   "metadata": {
    "slideshow": {
     "slide_type": "fragment"
    }
   },
   "source": [
    "Funkcja może zawierać informacje dokumentujące jej działanie.\n",
    "\n",
    "Należy je podać w potrójnych cudzysłowach `\"\"\"` w linijkach następujących po linijce definiującej nazwę funkcji i jej argumenty."
   ]
  },
  {
   "cell_type": "code",
   "execution_count": 17,
   "metadata": {
    "slideshow": {
     "slide_type": "fragment"
    }
   },
   "outputs": [],
   "source": [
    "def my_function():\n",
    "    \"\"\"Dokumentacja funkcji\"\"\""
   ]
  },
  {
   "cell_type": "code",
   "execution_count": 18,
   "metadata": {
    "scrolled": true,
    "slideshow": {
     "slide_type": "fragment"
    }
   },
   "outputs": [
    {
     "name": "stdout",
     "output_type": "stream",
     "text": [
      "Help on function my_function in module __main__:\n",
      "\n",
      "my_function()\n",
      "    Dokumentacja funkcji\n",
      "\n"
     ]
    }
   ],
   "source": [
    "help(my_function)"
   ]
  },
  {
   "cell_type": "markdown",
   "metadata": {
    "slideshow": {
     "slide_type": "slide"
    }
   },
   "source": [
    "## Rekurencja/rekursja (ang. _recursion_)"
   ]
  },
  {
   "cell_type": "markdown",
   "metadata": {
    "slideshow": {
     "slide_type": "fragment"
    }
   },
   "source": [
    "Odwoływanie się do samej siebie np.: funkcji, lub definicji."
   ]
  },
  {
   "cell_type": "markdown",
   "metadata": {
    "slideshow": {
     "slide_type": "subslide"
    }
   },
   "source": [
    "Prosty przykład reguły:\n",
    "\n",
    "_reguła_: każdy ojciec jest starszy od swojego syna; każdy ojciec jest czyimś synem\n",
    "\n",
    "_stan początkowy_: jestem 22-letnim mężczyzną\n",
    "\n",
    "_teza_: ojciec ojca mojego ojca jest starszy ode mnie\n",
    "\n",
    "_dowód_:\n",
    "1. mój ojciec jest starszy ode mnie\n",
    "1. mój ojciec jest czyimś synem\n",
    "1. ojciec mojego ojca jest starszy od mojego ojca\n",
    "1. ojciec mojego ojca jest czyimś synem\n",
    "1. itd."
   ]
  },
  {
   "cell_type": "markdown",
   "metadata": {
    "slideshow": {
     "slide_type": "subslide"
    }
   },
   "source": [
    "Przykład rekurencji w sztuce użytkowej ([Efekt Droste](https://pl.wikipedia.org/wiki/Efekt_Droste)):"
   ]
  },
  {
   "cell_type": "markdown",
   "metadata": {
    "slideshow": {
     "slide_type": "subslide"
    }
   },
   "source": [
    "![Przykład rekurencji w sztuce użytkowej (Efekt Droste)](https://upload.wikimedia.org/wikipedia/commons/thumb/0/0f/Droste_cacao_100gr_blikje%2C_foto_02.JPG/675px-Droste_cacao_100gr_blikje%2C_foto_02.JPG)"
   ]
  },
  {
   "cell_type": "markdown",
   "metadata": {
    "slideshow": {
     "slide_type": "slide"
    }
   },
   "source": [
    "### Zadanie o rozmnażaniu się królików"
   ]
  },
  {
   "cell_type": "markdown",
   "metadata": {
    "slideshow": {
     "slide_type": "-"
    }
   },
   "source": [
    "![](https://images.fineartamerica.com/images/artworkimages/mediumlarge/1/rabbit-couple-sandy-sheni.jpg)"
   ]
  },
  {
   "cell_type": "markdown",
   "metadata": {
    "slideshow": {
     "slide_type": "subslide"
    }
   },
   "source": [
    "* Piszemy program\n",
    "* Potrzebujemy w nim wielokrotnie dowiedzieć się…\n",
    "* **Ile par królików może spłodzić jedna para w ciągu roku?**\n",
    "* **Jeśli:**\n",
    "  * **Każda para rodzi nową parę w ciągu miesiąca**\n",
    "  * **Para staje się płodną po miesiącu**\n",
    "  * **Króliki nie zdychają**"
   ]
  },
  {
   "cell_type": "markdown",
   "metadata": {
    "slideshow": {
     "slide_type": "slide"
    }
   },
   "source": [
    "### Rozwiązanie zadania o rozmnażaniu się królików"
   ]
  },
  {
   "cell_type": "markdown",
   "metadata": {
    "slideshow": {
     "slide_type": "fragment"
    }
   },
   "source": [
    "1. miesiąc: **1** para królików rodzi nową parę królików; razem: **2** pary królików\n",
    "1. miesiąc: **2** pary królików plus **1** nowa para królików; razem: **3** pary królików\n",
    "1. miesiąc: **3** pary królików plus **2** urodzone; razem: **5** par królików\n",
    "1. miesiąc: **5** par królików plus **3** urodzone; razem: **8** par królików\n",
    "1. miesiąc: **8** par królików plus **5** urodzonych. Razem: **13** par królików\n",
    "1. I tak dalej"
   ]
  },
  {
   "cell_type": "markdown",
   "metadata": {
    "slideshow": {
     "slide_type": "slide"
    }
   },
   "source": [
    "### Kolejne liczby tworzą nam kolejne liczby ciągu Fibonacciego!"
   ]
  },
  {
   "cell_type": "markdown",
   "metadata": {
    "slideshow": {
     "slide_type": "fragment"
    }
   },
   "source": [
    "Wykres funkcji dla pierwszych ośmiu wyrazów ciągu Fibonacciego:\n",
    "\n",
    "![Wykres funkcji dla pierwszych ośmiu wyrazów ciągu Fibonacciego](https://upload.wikimedia.org/wikipedia/commons/3/3e/First_members_of_Fibonacci_sequence.svg)"
   ]
  },
  {
   "cell_type": "markdown",
   "metadata": {
    "slideshow": {
     "slide_type": "slide"
    }
   },
   "source": [
    "### Ciąg Fibonacciego"
   ]
  },
  {
   "cell_type": "markdown",
   "metadata": {
    "slideshow": {
     "slide_type": "fragment"
    }
   },
   "source": [
    "* Ciąg został omówiony w roku 1202 przez **Leonarda z Pizy**, zwanego Fibonaccim, w dziele **_Liber Abaci_ (Księga Liczydeł)** jako rozwiązanie zadania o rozmnażaniu się królików\n",
    "* Nazwę „ciąg Fibonacciego” spopularyzował w XIX w. **Édouard Lucas**"
   ]
  },
  {
   "cell_type": "markdown",
   "metadata": {
    "slideshow": {
     "slide_type": "subslide"
    }
   },
   "source": [
    "Fibonacci na rycinie z I benefattori dell'umanità:\n",
    "\n",
    "![Fibonacci na rycinie z I benefattori dell'umanità](https://upload.wikimedia.org/wikipedia/commons/a/a2/Fibonacci.jpg)"
   ]
  },
  {
   "cell_type": "markdown",
   "metadata": {
    "slideshow": {
     "slide_type": "subslide"
    }
   },
   "source": [
    "* Definicja funkcji składa się z linijki\n",
    "```python\n",
    "def fibbonaci_numbers(n)\n",
    "```\n",
    "która definiuje nazwę funkcji (w tym przypadku `fibbonaci_numbers`) oraz jej argumenty podane w nawiasach okrągłych (w tym przypadku `n`)\n",
    "* W kolejnych linijkach, które muszą być jednokrotnie wcięte podane jest tzw. ciało funkcji czyli wszystkie operacje wykonywane wewnątrz funkcji\n",
    "* Wszystkie zmienne utworzone w funkcji są dostępne tylko z w jej wnętrzu\n",
    "* Funkcja może zwracać jakiś wartość, do tego służy instrukcja\n",
    "```python\n",
    "return <wartość>\n",
    "```"
   ]
  },
  {
   "cell_type": "code",
   "execution_count": 30,
   "metadata": {
    "slideshow": {
     "slide_type": "subslide"
    }
   },
   "outputs": [],
   "source": [
    "def fibbonaci_numbers(n):\n",
    "    '''Zwraca liczby Fibonacciego mniejsze od n'''\n",
    "    wynik = []\n",
    "    a, b = 0, 1\n",
    "    while a < n:\n",
    "#     while len(wynik) <= n:\n",
    "        wynik.append(a)\n",
    "        a, b = b, a + b\n",
    "    return wynik"
   ]
  },
  {
   "cell_type": "markdown",
   "metadata": {
    "slideshow": {
     "slide_type": "slide"
    }
   },
   "source": [
    "### Wywołanie funkcji"
   ]
  },
  {
   "cell_type": "code",
   "execution_count": 31,
   "metadata": {
    "slideshow": {
     "slide_type": "fragment"
    }
   },
   "outputs": [
    {
     "name": "stdout",
     "output_type": "stream",
     "text": [
      "[0, 1, 1, 2, 3, 5, 8]\n"
     ]
    }
   ],
   "source": [
    "x = fibbonaci_numbers(10)\n",
    "print(x)\n",
    "# help(fibbonaci_numbers)\n",
    "# print(fibbonaci_numbers.__doc__)"
   ]
  },
  {
   "cell_type": "code",
   "execution_count": null,
   "metadata": {
    "slideshow": {
     "slide_type": "skip"
    }
   },
   "outputs": [],
   "source": []
  }
 ],
 "metadata": {
  "celltoolbar": "Slideshow",
  "kernelspec": {
   "display_name": "Python 3 (ipykernel)",
   "language": "python",
   "name": "python3"
  },
  "language_info": {
   "codemirror_mode": {
    "name": "ipython",
    "version": 3
   },
   "file_extension": ".py",
   "mimetype": "text/x-python",
   "name": "python",
   "nbconvert_exporter": "python",
   "pygments_lexer": "ipython3",
   "version": "3.11.5"
  }
 },
 "nbformat": 4,
 "nbformat_minor": 4
}
