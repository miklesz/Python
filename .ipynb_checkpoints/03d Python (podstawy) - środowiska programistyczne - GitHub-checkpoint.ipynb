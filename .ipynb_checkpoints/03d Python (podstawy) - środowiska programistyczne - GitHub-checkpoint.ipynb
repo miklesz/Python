{
 "cells": [
  {
   "cell_type": "markdown",
   "metadata": {
    "slideshow": {
     "slide_type": "slide"
    }
   },
   "source": [
    "# Python (podstawy) - konfigurowanie repozytorium Git (integracja z PyCharm)\n",
    "_Mikołaj Leszczuk_\n",
    "\n",
    "![](https://miro.medium.com/v2/resize:fit:1280/0*HhzqQ5ACowM4J4j9.jpg)\n",
    "![](https://i.creativecommons.org/l/by/4.0/88x31.png)"
   ]
  },
  {
   "cell_type": "markdown",
   "metadata": {
    "slideshow": {
     "slide_type": "fragment"
    }
   },
   "source": [
    "Gdy chcesz [umieścić istniejący projekt pod kontrolą wersji Git](https://www.jetbrains.com/help/pycharm/set-up-a-git-repository.html#put-existing-project-under-Git), PyCharm automatycznie wykryje, czy Git jest zainstalowany na Twoim komputerze. Jeśli IDE nie może zlokalizować pliku wykonywalnego Git, sugeruje jego pobranie."
   ]
  },
  {
   "cell_type": "markdown",
   "metadata": {
    "slideshow": {
     "slide_type": "slide"
    }
   },
   "source": [
    "### [Umieszczanie istniejącego projektu kodu źródłowego pod kontrolą wersji Git](https://www.jetbrains.com/help/pycharm/set-up-a-git-repository.html#associate)"
   ]
  },
  {
   "cell_type": "markdown",
   "metadata": {
    "slideshow": {
     "slide_type": "fragment"
    }
   },
   "source": [
    "Możesz utworzyć lokalne repozytorium Git na podstawie istniejących źródeł projektu."
   ]
  },
  {
   "cell_type": "markdown",
   "metadata": {
    "slideshow": {
     "slide_type": "slide"
    }
   },
   "source": [
    "#### [Powiąż cały projekt z jednym repozytorium Git](https://www.jetbrains.com/help/pycharm/set-up-a-git-repository.html#b77b9a9e)"
   ]
  },
  {
   "cell_type": "markdown",
   "metadata": {
    "slideshow": {
     "slide_type": "fragment"
    }
   },
   "source": [
    "1. Otwórz projekt, który chcesz umieścić w Git.\n",
    "1. Wybierz opcję **Enable Version Control Integration** z **VCS Operations Popup** lub z głównego menu **VCS**.\n",
    "1. Wybierz **Git** jako system kontroli wersji i kliknij **OK**.\n",
    "1. Po włączeniu integracji VCS, PyCharm zapyta, czy chcesz udostępniać pliki ustawień projektu za pośrednictwem VCS. Możesz wybrać opcję **Always Add**, aby zsynchronizować ustawienia projektu z innymi użytkownikami repozytorium, którzy pracują z PyCharm.  "
   ]
  },
  {
   "cell_type": "markdown",
   "metadata": {
    "slideshow": {
     "slide_type": "slide"
    }
   },
   "source": [
    "Powiadomienie z prośbą o wybranie sposobu postępowania z plikami konfiguracyjnymi:\n",
    "![Powiadomienie z prośbą o wybranie sposobu postępowania z plikami konfiguracyjnymi](https://resources.jetbrains.com/help/img/idea/2021.1/sharing-project-notification.png)"
   ]
  },
  {
   "cell_type": "markdown",
   "metadata": {
    "slideshow": {
     "slide_type": "fragment"
    }
   },
   "source": [
    "Po [zainicjowaniu repozytorium Git](https://www.jetbrains.com/help/pycharm/set-up-a-git-repository.html#put-existing-project-under-Git) dla projektu musisz dodać pliki projektu do repozytorium."
   ]
  },
  {
   "cell_type": "markdown",
   "metadata": {
    "slideshow": {
     "slide_type": "slide"
    }
   },
   "source": [
    "#### [Dodaj pliki do lokalnego repozytorium](https://www.jetbrains.com/help/pycharm/set-up-a-git-repository.html#add-new-files)"
   ]
  },
  {
   "cell_type": "markdown",
   "metadata": {
    "slideshow": {
     "slide_type": "fragment"
    }
   },
   "source": [
    "1. W oknie narzędzia **Commit** rozwiń węzeł **Unversioned Files**.\n",
    "1. Wybierz pliki, które chcesz dodać do Git lub całą listę zmian i wybierz **Add to VCS** z menu kontekstowego.  \n",
    "Możesz także dodać pliki do lokalnego repozytorium Git z okna narzędzia Projekt: wybierz pliki, które chcesz dodać i wybierz **Git | Add** z menu kontekstowego."
   ]
  },
  {
   "cell_type": "markdown",
   "metadata": {
    "slideshow": {
     "slide_type": "slide"
    }
   },
   "source": [
    "### [Dodaj zdalne repozytorium](https://www.jetbrains.com/help/pycharm/set-up-a-git-repository.html#add-remote)"
   ]
  },
  {
   "cell_type": "markdown",
   "metadata": {
    "slideshow": {
     "slide_type": "fragment"
    }
   },
   "source": [
    "Jeśli [utworzyłeś repozytorium Git](https://www.jetbrains.com/help/pycharm/set-up-a-git-repository.html#put-existing-project-under-Git) na podstawie źródeł lokalnych, musisz dodać repozytorium zdalne, aby móc współpracować nad projektem Git, a także wyeliminować ryzyko związane z przechowywaniem całej bazy kodu lokalnie. Przesyłasz zmiany do zdalnego repozytorium, gdy musisz udostępnić swoją pracę i pobrać z niej dane, aby zintegrować zmiany wprowadzone przez innych współautorów z wersją lokalnego repozytorium."
   ]
  },
  {
   "cell_type": "markdown",
   "metadata": {
    "slideshow": {
     "slide_type": "slide"
    }
   },
   "source": [
    "#### [Zdefiniuj zdalne repozytorium](https://www.jetbrains.com/help/pycharm/set-up-a-git-repository.html#define-remote)"
   ]
  },
  {
   "cell_type": "markdown",
   "metadata": {
    "slideshow": {
     "slide_type": "fragment"
    }
   },
   "source": [
    "1. Utwórz puste repozytorium na dowolnym hostingu Git, takim jak [Bitbucket](https://bitbucket.org/) lub [GitHub](https://github.com/).\n",
    "1. Wywołaj okno dialogowe **Push**, gdy jesteś gotowa/gotowy do przekazania swoich zatwierdzeń, wybierając **Git | Push** w menu głównym.\n",
    "1. Jeśli do tej pory nie dodano żadnych zdalnych repozytoriów, zamiast nazwy zdalnego repozytorium pojawi się link **Define remote**. Kliknij go, aby dodać zdalne repozytorium.\n",
    "4. W wyświetlonym oknie dialogowym określ nazwę zdalną i adres URL, pod którym będzie ona obsługiwana, a następnie kliknij przycisk **OK**."
   ]
  },
  {
   "cell_type": "markdown",
   "metadata": {
    "slideshow": {
     "slide_type": "slide"
    }
   },
   "source": [
    "Dowiedz się więcej z tego filmu:"
   ]
  },
  {
   "cell_type": "markdown",
   "metadata": {
    "slideshow": {
     "slide_type": "fragment"
    }
   },
   "source": [
    "[![Jak rozpocząć pracę z Open Source i GitHub?](https://img.youtube.com/vi/lyiBnyPPnG4/0.jpg)](https://youtu.be/lyiBnyPPnG4)"
   ]
  },
  {
   "cell_type": "code",
   "execution_count": null,
   "metadata": {
    "slideshow": {
     "slide_type": "skip"
    }
   },
   "outputs": [],
   "source": []
  }
 ],
 "metadata": {
  "celltoolbar": "Slideshow",
  "kernelspec": {
   "display_name": "Python 3 (ipykernel)",
   "language": "python",
   "name": "python3"
  },
  "language_info": {
   "codemirror_mode": {
    "name": "ipython",
    "version": 3
   },
   "file_extension": ".py",
   "mimetype": "text/x-python",
   "name": "python",
   "nbconvert_exporter": "python",
   "pygments_lexer": "ipython3",
   "version": "3.11.5"
  }
 },
 "nbformat": 4,
 "nbformat_minor": 4
}
