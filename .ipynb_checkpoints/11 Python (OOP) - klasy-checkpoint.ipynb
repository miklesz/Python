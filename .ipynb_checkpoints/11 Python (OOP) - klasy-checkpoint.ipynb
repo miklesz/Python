{
 "cells": [
  {
   "cell_type": "markdown",
   "metadata": {
    "slideshow": {
     "slide_type": "slide"
    }
   },
   "source": [
    "# Python (OOP) - klasy\n",
    "_Mikołaj Leszczuk_\n",
    "![](https://miro.medium.com/max/500/1*E5Dfa6bhHlicfZq80sv4bA.jpeg)\n",
    "![](https://i.creativecommons.org/l/by/4.0/88x31.png)"
   ]
  },
  {
   "cell_type": "markdown",
   "metadata": {
    "slideshow": {
     "slide_type": "slide"
    }
   },
   "source": [
    "Klasy są zbiorami atrybutów oraz metod. Jako idea, klasy rozpowszechnione są w praktycznie wszystkich językach programowania. Umożliwiają one:\n",
    "\n",
    "* Tworzenie nowych typów danych definiowanych przez użytkownika.\n",
    "* Rozszerzanie możliwości istniejących typów danych.\n",
    "\n",
    "**Przykład**: tworzysz aplikację do gier karcianych. Potrzebujesz struktury danych, która fajnie będzie reprezentowała pojedynczą kartę z talii."
   ]
  },
  {
   "cell_type": "markdown",
   "metadata": {
    "slideshow": {
     "slide_type": "fragment"
    }
   },
   "source": [
    "**Przykład**: projektujesz aplikację naukową i potrzebujesz reprezentować **wektory**, bo wiesz, że będziesz na nich operować. Implementujesz zatem klasę `Vector`, która będzie zachowywała się tak, jak wektory w języku matematyki."
   ]
  },
  {
   "cell_type": "markdown",
   "metadata": {
    "slideshow": {
     "slide_type": "slide"
    }
   },
   "source": [
    "## Składnia klasy, słowniczek\n",
    "\n",
    "Podstawowa składnia \"pustej\" klasy została zaprezentowana poniżej:"
   ]
  },
  {
   "cell_type": "code",
   "execution_count": null,
   "metadata": {
    "slideshow": {
     "slide_type": "fragment"
    }
   },
   "outputs": [],
   "source": [
    "class NazwaKlasy:\n",
    "    pass"
   ]
  },
  {
   "cell_type": "markdown",
   "metadata": {
    "slideshow": {
     "slide_type": "subslide"
    }
   },
   "source": [
    "Klasa sama w sobie nic nie robi, dopiero należy utworzyć jej obiekt (instancję) i na niej operować:"
   ]
  },
  {
   "cell_type": "code",
   "execution_count": null,
   "metadata": {
    "slideshow": {
     "slide_type": "fragment"
    }
   },
   "outputs": [],
   "source": [
    "obiekt = NazwaKlasy()\n",
    "instancja = NazwaKlasy()"
   ]
  },
  {
   "cell_type": "code",
   "execution_count": null,
   "metadata": {
    "scrolled": true,
    "slideshow": {
     "slide_type": "fragment"
    }
   },
   "outputs": [],
   "source": [
    "print(type(obiekt))"
   ]
  },
  {
   "cell_type": "code",
   "execution_count": null,
   "metadata": {
    "scrolled": true,
    "slideshow": {
     "slide_type": "fragment"
    }
   },
   "outputs": [],
   "source": [
    "print(type(instancja))"
   ]
  },
  {
   "cell_type": "code",
   "execution_count": null,
   "metadata": {
    "slideshow": {
     "slide_type": "subslide"
    }
   },
   "outputs": [],
   "source": [
    "print(id(obiekt))"
   ]
  },
  {
   "cell_type": "code",
   "execution_count": null,
   "metadata": {
    "slideshow": {
     "slide_type": "fragment"
    }
   },
   "outputs": [],
   "source": [
    "print(id(instancja))"
   ]
  },
  {
   "cell_type": "code",
   "execution_count": null,
   "metadata": {
    "slideshow": {
     "slide_type": "subslide"
    }
   },
   "outputs": [],
   "source": [
    "print(obiekt)"
   ]
  },
  {
   "cell_type": "code",
   "execution_count": null,
   "metadata": {
    "slideshow": {
     "slide_type": "fragment"
    }
   },
   "outputs": [],
   "source": [
    "print(instancja)"
   ]
  },
  {
   "cell_type": "markdown",
   "metadata": {
    "slideshow": {
     "slide_type": "slide"
    }
   },
   "source": [
    "## Składnia metody"
   ]
  },
  {
   "cell_type": "code",
   "execution_count": null,
   "metadata": {
    "slideshow": {
     "slide_type": "fragment"
    }
   },
   "outputs": [],
   "source": [
    "class NazwaKlasy:\n",
    "\n",
    "    def nazwa_metody(self, argument1, argument2):\n",
    "        print(argument1)\n",
    "        print(argument2)"
   ]
  },
  {
   "cell_type": "markdown",
   "metadata": {
    "slideshow": {
     "slide_type": "fragment"
    }
   },
   "source": [
    "Zwróć uwagę, że definicja metody `def` musi zaczynać się od wcięcia, ponieważ znajduje się wewnątrz definicji `class`. Jak wspominałem, wcięcie jest istotną cechą programowania w Pythonie, a znaki spacji mają znaczenie w kodach Pythona. `1` wcięcie zwykle odpowiada `4` znakom spacji (czasami jest to `1` znak tabulacji, w zależności od platformy, na której programujesz)."
   ]
  },
  {
   "cell_type": "code",
   "execution_count": null,
   "metadata": {
    "slideshow": {
     "slide_type": "subslide"
    }
   },
   "outputs": [],
   "source": [
    "obiekt = NazwaKlasy()"
   ]
  },
  {
   "cell_type": "code",
   "execution_count": null,
   "metadata": {
    "slideshow": {
     "slide_type": "fragment"
    }
   },
   "outputs": [],
   "source": [
    "obiekt.nazwa_metody(\"arg1\", \"arg2\")"
   ]
  },
  {
   "cell_type": "markdown",
   "metadata": {
    "slideshow": {
     "slide_type": "fragment"
    }
   },
   "source": [
    "Na co zwrócić uwagę:\n",
    "1. nazwy klas stosują PisownięWielbłądzią\n",
    "1. nazwy metod stosują pisownię\\_z\\_podkreśleniami\n",
    "1. pierwszym argumentem metody jest zawsze `self`; odnosi się on do używanej instancji klasy i jest domniemywany - nie musimy go podawać przy wywoływaniu danej metody."
   ]
  },
  {
   "cell_type": "markdown",
   "metadata": {
    "slideshow": {
     "slide_type": "slide"
    }
   },
   "source": [
    "## Docstring (dokumentacja w postaci ciągu dokumentacyjnego)"
   ]
  },
  {
   "cell_type": "markdown",
   "metadata": {
    "slideshow": {
     "slide_type": "fragment"
    }
   },
   "source": [
    "[Dokumentacja docstring](https://en.wikipedia.org/wiki/Docstring) to [literał ciągu (literał łańcuchowy)](https://pl.wikipedia.org/wiki/Literał_łańcuchowy) określony w [kodzie źródłowym](https://pl.wikipedia.org/wiki/Kod_źródłowy), który jest używany, podobnie jak [komentarz](https://pl.wikipedia.org/wiki/Komentarz_(informatyka)), do dokumentowania określonego segmentu kodu. W przeciwieństwie do konwencjonalnych komentarzy do kodu źródłowego, a nawet specjalnie sformatowanych komentarzy, ciągi dokumentacyjne nie są usuwane z drzewa źródłowego podczas analizowania i są przechowywane przez cały czas wykonywania programu. Pozwala to programiście na wgląd w te komentarze w czasie wykonywania, na przykład jako interaktywny system pomocy lub jako [metadane](https://pl.wikipedia.org/wiki/Metadane)."
   ]
  },
  {
   "cell_type": "markdown",
   "metadata": {
    "slideshow": {
     "slide_type": "subslide"
    }
   },
   "source": [
    "Powszechną praktyką dokumentowania obiektu kodu na początku jego definicji jest dodanie składni docstring w języku Python.\n",
    "\n",
    "Dokumentacja obiektu kodu Pythona (modułu, klasy lub funkcji) jest pierwszą instrukcją tego obiektu kodu, występującą bezpośrednio po definicji (instrukcja „def” lub „class”). Instrukcja musi być czystym ciągiem znaków, a nie innym rodzajem wyrażenia. Dokumentacja obiektu kodu jest dostępna w atrybucie `__doc__` tego obiektu kodu i za pośrednictwem funkcji `help`."
   ]
  },
  {
   "cell_type": "markdown",
   "metadata": {
    "slideshow": {
     "slide_type": "subslide"
    }
   },
   "source": [
    "Poniższy plik w języku Python przedstawia deklarację ciągów dokumentacyjnych w pliku źródłowym w języku Python:"
   ]
  },
  {
   "cell_type": "code",
   "execution_count": null,
   "metadata": {
    "slideshow": {
     "slide_type": "fragment"
    }
   },
   "outputs": [],
   "source": [
    "\"\"\"Dokumentacja modułu\"\"\"\n",
    "\n",
    "class MyClass:\n",
    "    \"\"\"Dokumentacja klasy\"\"\"\n",
    "\n",
    "    def my_method(self):\n",
    "        \"\"\"Dokumentacja metody\"\"\"\n",
    "\n",
    "def my_function():\n",
    "    \"\"\"Dokumentacja funkcji\"\"\""
   ]
  },
  {
   "cell_type": "markdown",
   "metadata": {
    "slideshow": {
     "slide_type": "subslide"
    }
   },
   "source": [
    "Poniżej znajduje się interaktywna sesja pokazująca, w jaki sposób można uzyskać dostęp do dokumentacji:"
   ]
  },
  {
   "cell_type": "code",
   "execution_count": null,
   "metadata": {
    "slideshow": {
     "slide_type": "fragment"
    }
   },
   "outputs": [],
   "source": [
    "help(MyClass)"
   ]
  },
  {
   "cell_type": "code",
   "execution_count": null,
   "metadata": {
    "slideshow": {
     "slide_type": "subslide"
    }
   },
   "outputs": [],
   "source": [
    "help(MyClass.my_method)"
   ]
  },
  {
   "cell_type": "markdown",
   "metadata": {
    "slideshow": {
     "slide_type": "slide"
    }
   },
   "source": [
    "## Składnia atrybutów\n",
    "\n",
    "Wariant 1:"
   ]
  },
  {
   "cell_type": "code",
   "execution_count": null,
   "metadata": {
    "slideshow": {
     "slide_type": "fragment"
    }
   },
   "outputs": [],
   "source": [
    "class NazwaKlasy:\n",
    "    atrybut_pierwszy = \"Wartość\"\n",
    "    atrybut_drugi = 123.0"
   ]
  },
  {
   "cell_type": "markdown",
   "metadata": {
    "slideshow": {
     "slide_type": "slide"
    }
   },
   "source": [
    "Wariant 2 (atrybuty nadawane przy tworzeniu obiektu klasy):"
   ]
  },
  {
   "cell_type": "code",
   "execution_count": null,
   "metadata": {
    "slideshow": {
     "slide_type": "fragment"
    }
   },
   "outputs": [],
   "source": [
    "class NazwaKlasy:\n",
    "    def __init__(self, trzeci):\n",
    "        self.atrybut_pierwszy = \"Wartość\"\n",
    "        self.atrybut_drugi = 123.0\n",
    "        self.atrybut_trzeci = trzeci"
   ]
  },
  {
   "cell_type": "markdown",
   "metadata": {
    "slideshow": {
     "slide_type": "fragment"
    }
   },
   "source": [
    "> ##### Uwaga\n",
    "> Metoda `__init__` jest uruchamiana przez Pythona w momencie tworzenia instancji klasy, np:"
   ]
  },
  {
   "cell_type": "code",
   "execution_count": null,
   "metadata": {
    "slideshow": {
     "slide_type": "fragment"
    }
   },
   "outputs": [],
   "source": [
    "instancja = NazwaKlasy(\"trzeci\")"
   ]
  },
  {
   "cell_type": "code",
   "execution_count": null,
   "metadata": {
    "slideshow": {
     "slide_type": "subslide"
    }
   },
   "outputs": [],
   "source": [
    "print(instancja.atrybut_pierwszy)"
   ]
  },
  {
   "cell_type": "code",
   "execution_count": null,
   "metadata": {
    "slideshow": {
     "slide_type": "fragment"
    }
   },
   "outputs": [],
   "source": [
    "print(instancja.atrybut_drugi)"
   ]
  },
  {
   "cell_type": "code",
   "execution_count": null,
   "metadata": {
    "slideshow": {
     "slide_type": "fragment"
    }
   },
   "outputs": [],
   "source": [
    "print(instancja.atrybut_trzeci)"
   ]
  },
  {
   "cell_type": "markdown",
   "metadata": {
    "slideshow": {
     "slide_type": "slide"
    }
   },
   "source": [
    "## Przykład prostej klasy\n",
    "\n",
    "Wiemy już, że Python to zorientowany obiektowo język programowania.\n",
    "\n",
    "Wiemy też, że prawie wszystko w Pythonie jest obiektem, z jego atrybutami i metodami.\n",
    "\n",
    "Dowiedzieliśmy się też, że klasa jest jak konstruktor obiektów lub „plan” tworzenia obiektów.\n",
    "\n",
    "Spróbujmy więc poeksperymentować trochę bardziej z klasami."
   ]
  },
  {
   "cell_type": "markdown",
   "metadata": {
    "slideshow": {
     "slide_type": "slide"
    }
   },
   "source": [
    "### Utwórz klasę\n",
    "\n",
    "Aby utworzyć klasę, użyj słowa kluczowego `class`:"
   ]
  },
  {
   "cell_type": "markdown",
   "metadata": {
    "slideshow": {
     "slide_type": "slide"
    }
   },
   "source": [
    "> ##### Przykład\n",
    "> Utwórz klasę o nazwie `MyClass` z atrybutem o nazwie `x`:"
   ]
  },
  {
   "cell_type": "code",
   "execution_count": null,
   "metadata": {
    "slideshow": {
     "slide_type": "fragment"
    }
   },
   "outputs": [],
   "source": [
    "class MyClass:\n",
    "    x = 5"
   ]
  },
  {
   "cell_type": "markdown",
   "metadata": {
    "slideshow": {
     "slide_type": "slide"
    }
   },
   "source": [
    "### Utwórz obiekt\n",
    "\n",
    "Teraz możemy użyć klasy o nazwie `MyClass` do tworzenia obiektów:"
   ]
  },
  {
   "cell_type": "markdown",
   "metadata": {
    "slideshow": {
     "slide_type": "slide"
    }
   },
   "source": [
    "> ##### Przykład\n",
    "> Utwórz obiekt o nazwie `p1` i wydrukuj wartość `x`:"
   ]
  },
  {
   "cell_type": "code",
   "execution_count": null,
   "metadata": {
    "slideshow": {
     "slide_type": "fragment"
    }
   },
   "outputs": [],
   "source": [
    "p1 = MyClass()"
   ]
  },
  {
   "cell_type": "code",
   "execution_count": null,
   "metadata": {
    "slideshow": {
     "slide_type": "fragment"
    }
   },
   "outputs": [],
   "source": [
    "print(p1.x)"
   ]
  },
  {
   "cell_type": "markdown",
   "metadata": {
    "slideshow": {
     "slide_type": "slide"
    }
   },
   "source": [
    "### Metoda `__init__()`\n",
    "\n",
    "Powyższe przykłady są klasami i obiektami w ich najprostszej formie i nie są tak naprawdę przydatne w rzeczywistych aplikacjach.\n",
    "\n",
    "Aby zrozumieć znaczenie klas, musimy zrozumieć wbudowaną metodę `__init__()`.\n",
    "\n",
    "Wszystkie klasy mają metodę o nazwie `__init__()`, która jest zawsze wykonywana, gdy klasa jest inicjowana.\n",
    "\n",
    "W kolejnych przykładach użyjemy metody `__init__()`, aby przypisać wartości do właściwości obiektu lub innych operacji, które są niezbędne do wykonania podczas tworzenia obiektu:"
   ]
  },
  {
   "cell_type": "markdown",
   "metadata": {
    "slideshow": {
     "slide_type": "slide"
    }
   },
   "source": [
    "## Przykład klasy - papuga"
   ]
  },
  {
   "cell_type": "markdown",
   "metadata": {
    "slideshow": {
     "slide_type": "fragment"
    }
   },
   "source": [
    "Papuga może być obiektem, ponieważ ma następujące właściwości:\n",
    "\n",
    "* imię, wiek jako atrybuty\n",
    "* śpiew, taniec jako zachowanie\n",
    "\n",
    "Oczywiście wszystko to pod warunkiem, że nasza papuga nie jest martwa, bo jeżeli chodzi o Pythona i papugi, to różnie bywało... ;-)\n",
    "\n",
    "![](https://upload.wikimedia.org/wikipedia/en/e/e7/DeadParrot.png)"
   ]
  },
  {
   "cell_type": "markdown",
   "metadata": {
    "slideshow": {
     "slide_type": "subslide"
    }
   },
   "source": [
    "Koncepcja OOP w Pythonie skupia się na tworzeniu kodu wielokrotnego użytku. Ta koncepcja jest również znana jako DRY (Don't Repeat Yourself).\n",
    "\n",
    "W Pythonie koncepcja OOP opiera się na kilku podstawowych zasadach:"
   ]
  },
  {
   "cell_type": "markdown",
   "metadata": {
    "slideshow": {
     "slide_type": "slide"
    }
   },
   "source": [
    "### Klasa\n",
    "\n",
    "Klasa to plan obiektu.\n",
    "\n",
    "Możemy myśleć o klasie jak o szkicu papugi z atrybutami. Zawiera wszystkie szczegóły dotyczące nazwy, kolorów, rozmiaru itp. Na podstawie tych opisów możemy poznać papugę. Tutaj papuga jest obiektem.\n",
    "\n",
    "Przykładem klasy papug może być:"
   ]
  },
  {
   "cell_type": "code",
   "execution_count": null,
   "metadata": {
    "slideshow": {
     "slide_type": "fragment"
    }
   },
   "outputs": [],
   "source": [
    "class Parrot:\n",
    "    pass"
   ]
  },
  {
   "cell_type": "markdown",
   "metadata": {
    "slideshow": {
     "slide_type": "subslide"
    }
   },
   "source": [
    "Tutaj używamy słowa kluczowego `class`, aby zdefiniować pustą klasę `Parrot`. Z klasy tworzymy instancje. Instancja to określony obiekt utworzony z określonej klasy."
   ]
  },
  {
   "cell_type": "markdown",
   "metadata": {
    "slideshow": {
     "slide_type": "slide"
    }
   },
   "source": [
    "### Obiekt\n",
    "\n",
    "Obiekt (instancja) jest instancją klasy. Gdy zdefiniowana jest klasa, definiowany jest tylko opis obiektu. Dlatego nie jest przydzielana żadna pamięć ani magazyn.\n",
    "\n",
    "Przykładem obiektu klasy papuga może być:"
   ]
  },
  {
   "cell_type": "code",
   "execution_count": null,
   "metadata": {
    "slideshow": {
     "slide_type": "fragment"
    }
   },
   "outputs": [],
   "source": [
    "obj = Parrot()"
   ]
  },
  {
   "cell_type": "markdown",
   "metadata": {
    "slideshow": {
     "slide_type": "fragment"
    }
   },
   "source": [
    "Tutaj `obj` jest obiektem klasy `Parrot`.\n",
    "\n",
    "Załóżmy, że mamy szczegóły dotyczące papug. Teraz pokażemy, jak zbudować klasę i obiekty papug."
   ]
  },
  {
   "cell_type": "markdown",
   "metadata": {
    "slideshow": {
     "slide_type": "slide"
    }
   },
   "source": [
    "> ##### Przykład: Tworzenie klasy i obiektu w Pythonie"
   ]
  },
  {
   "cell_type": "code",
   "execution_count": null,
   "metadata": {
    "slideshow": {
     "slide_type": "fragment"
    }
   },
   "outputs": [],
   "source": [
    "class Parrot:\n",
    "\n",
    "    # atrybut klasy\n",
    "    species = \"papuga\"\n",
    "\n",
    "    # atrybut instancji\n",
    "    def __init__(self, name, age):\n",
    "        self.name = name\n",
    "        self.age = age"
   ]
  },
  {
   "cell_type": "code",
   "execution_count": null,
   "metadata": {
    "slideshow": {
     "slide_type": "fragment"
    }
   },
   "outputs": [],
   "source": [
    "# utworzenie instancji klasy Parrot\n",
    "blu = Parrot(\"Blu\", 10)\n",
    "woo = Parrot(\"Woo\", 15)"
   ]
  },
  {
   "cell_type": "markdown",
   "metadata": {
    "slideshow": {
     "slide_type": "fragment"
    }
   },
   "source": [
    "> Ile żyją papugi?"
   ]
  },
  {
   "cell_type": "markdown",
   "metadata": {
    "slideshow": {
     "slide_type": "slide"
    }
   },
   "source": [
    "> Ciekawostka: **Cookie (kakadu)** był najdłużej żyjącą znaną papugą na świecie. Zmarł 27 sierpnia 2016 w wieku 83 lat!\n",
    "![](https://upload.wikimedia.org/wikipedia/commons/b/be/Lophocroa_leadbeateri_-Brookfield_Zoo-6.jpg)"
   ]
  },
  {
   "cell_type": "markdown",
   "metadata": {
    "slideshow": {
     "slide_type": "slide"
    }
   },
   "source": [
    "> ##### Uwaga!\n",
    "> Funkcja `__init__()` jest wywoływana automatycznie za każdym razem, gdy klasa jest używana do tworzenia nowego obiektu."
   ]
  },
  {
   "cell_type": "code",
   "execution_count": null,
   "metadata": {
    "slideshow": {
     "slide_type": "fragment"
    }
   },
   "outputs": [],
   "source": [
    "# uzyskanie dostępu do atrybutów klasy\n",
    "print(\"Blu to\", blu.__class__.species)\n",
    "print(\"Woo to również\", woo.species)\n",
    "# za chwilę wytłumaczymy sobie dokładniej o co chodzi z __class__"
   ]
  },
  {
   "cell_type": "code",
   "execution_count": null,
   "metadata": {
    "slideshow": {
     "slide_type": "subslide"
    }
   },
   "outputs": [],
   "source": [
    "# uzyskanie dostępu do atrybutów instancji\n",
    "print(blu.name, \"ma\", blu.age, \"lat\")\n",
    "print(woo.name, \"ma\", woo.age, \"lat\")"
   ]
  },
  {
   "cell_type": "markdown",
   "metadata": {
    "slideshow": {
     "slide_type": "subslide"
    }
   },
   "source": [
    "W powyższym programie stworzyliśmy klasę o nazwie `Parrot`. Następnie definiujemy atrybuty. Atrybuty są charakterystyczne dla obiektu.\n",
    "\n",
    "Te atrybuty są zdefiniowane w metodzie `__init__` tej klasy. Jest to metoda inicjowania, która jest uruchamiana po raz pierwszy zaraz po utworzeniu obiektu.\n",
    "\n",
    "Następnie tworzymy instancje klasy `Parrot`. Tutaj `blu` i `woo` są odniesieniami (wartością) do naszych nowych obiektów.\n",
    "\n",
    "Możemy uzyskać dostęp do atrybutu klasy za pomocą `__class__.species`. Atrybuty klasy są takie same dla wszystkich instancji klasy. Podobnie uzyskujemy dostęp do atrybutów instancji za pomocą `blu.name` i `blu.age`. Jednak atrybuty instancji mogą być różne dla każdej instancji klasy."
   ]
  },
  {
   "cell_type": "markdown",
   "metadata": {
    "slideshow": {
     "slide_type": "slide"
    }
   },
   "source": [
    "### Metody\n",
    "\n",
    "Metody to funkcje zdefiniowane w treści klasy. Służą do definiowania zachowań obiektu."
   ]
  },
  {
   "cell_type": "markdown",
   "metadata": {
    "slideshow": {
     "slide_type": "slide"
    }
   },
   "source": [
    "> ##### Przykład: Tworzenie metod w Pythonie"
   ]
  },
  {
   "cell_type": "code",
   "execution_count": null,
   "metadata": {
    "slideshow": {
     "slide_type": "fragment"
    }
   },
   "outputs": [],
   "source": [
    "class Parrot:\n",
    "    \n",
    "    # atrybuty instancji\n",
    "    def __init__(self, name, age):\n",
    "        self.name = name\n",
    "        self.age = age\n",
    "    \n",
    "    # metoda instancji\n",
    "    def sing(self, song):\n",
    "        return self.name + \" śpiewa \" + song\n",
    "\n",
    "    def dance(self):\n",
    "        return self.name + \" teraz tańczy\""
   ]
  },
  {
   "cell_type": "code",
   "execution_count": null,
   "metadata": {
    "slideshow": {
     "slide_type": "subslide"
    }
   },
   "outputs": [],
   "source": [
    "# utworzenie wystąpienia obiektu\n",
    "blu = Parrot(\"Blu\", 10)"
   ]
  },
  {
   "cell_type": "code",
   "execution_count": null,
   "metadata": {
    "slideshow": {
     "slide_type": "fragment"
    }
   },
   "outputs": [],
   "source": [
    "# wywołanie naszych metod instancji\n",
    "print(blu.sing(\"'Happy'\"))\n",
    "print(blu.dance())"
   ]
  },
  {
   "cell_type": "markdown",
   "metadata": {
    "slideshow": {
     "slide_type": "fragment"
    }
   },
   "source": [
    "W powyższym programie definiujemy dwie metody, czyli `sing()` i `dance()`. Nazywa się je metodami instancji, ponieważ są wywoływane na obiekcie instancji, czyli `blu`."
   ]
  },
  {
   "cell_type": "markdown",
   "metadata": {
    "slideshow": {
     "slide_type": "slide"
    }
   },
   "source": [
    "## Przykład klasy - osoba"
   ]
  },
  {
   "cell_type": "markdown",
   "metadata": {
    "slideshow": {
     "slide_type": "slide"
    }
   },
   "source": [
    "> ##### Przykład\n",
    "> Utwórz klasę o nazwie `Person`, użyj funkcji `__init__()`, aby przypisać wartości do imienia (`name`) i wieku (`age`):"
   ]
  },
  {
   "cell_type": "code",
   "execution_count": null,
   "metadata": {
    "slideshow": {
     "slide_type": "fragment"
    }
   },
   "outputs": [],
   "source": [
    "class Person:\n",
    "    def __init__(self, name, age):\n",
    "        self.name = name\n",
    "        self.age = age"
   ]
  },
  {
   "cell_type": "code",
   "execution_count": null,
   "metadata": {
    "slideshow": {
     "slide_type": "fragment"
    }
   },
   "outputs": [],
   "source": [
    "p1 = Person(\"Jan\", 36)"
   ]
  },
  {
   "cell_type": "code",
   "execution_count": null,
   "metadata": {
    "slideshow": {
     "slide_type": "subslide"
    }
   },
   "outputs": [],
   "source": [
    "print(p1.name)"
   ]
  },
  {
   "cell_type": "code",
   "execution_count": null,
   "metadata": {
    "slideshow": {
     "slide_type": "fragment"
    }
   },
   "outputs": [],
   "source": [
    "print(p1.age)"
   ]
  },
  {
   "cell_type": "markdown",
   "metadata": {
    "slideshow": {
     "slide_type": "slide"
    }
   },
   "source": [
    "### Metody obiektowe\n",
    "\n",
    "Pamiętamy, że obiekty mogą również zawierać metody. I, że metody w obiektach to funkcje należące do obiektu.\n",
    "\n",
    "Stwórzmy więc metodę w klasie `Person`:"
   ]
  },
  {
   "cell_type": "markdown",
   "metadata": {
    "slideshow": {
     "slide_type": "slide"
    }
   },
   "source": [
    "> ##### Przykład\n",
    "> Wstaw funkcję, która wypisuje powitanie i wykonaj ją na obiekcie `p1`:"
   ]
  },
  {
   "cell_type": "code",
   "execution_count": null,
   "metadata": {
    "slideshow": {
     "slide_type": "fragment"
    }
   },
   "outputs": [],
   "source": [
    "class Person:\n",
    "    def __init__(self, name, age):\n",
    "        self.name = name\n",
    "        self.age = age\n",
    "        \n",
    "    def myfunc(self):\n",
    "        print(\"Cześć, mam na imię \" + self.name)"
   ]
  },
  {
   "cell_type": "code",
   "execution_count": null,
   "metadata": {
    "slideshow": {
     "slide_type": "fragment"
    }
   },
   "outputs": [],
   "source": [
    "p1 = Person(\"Jan\", 36)"
   ]
  },
  {
   "cell_type": "code",
   "execution_count": null,
   "metadata": {
    "slideshow": {
     "slide_type": "subslide"
    }
   },
   "outputs": [],
   "source": [
    "p1.myfunc()"
   ]
  },
  {
   "cell_type": "markdown",
   "metadata": {
    "slideshow": {
     "slide_type": "slide"
    }
   },
   "source": [
    "> ##### Uwaga!\n",
    "> Pamiętajcie, że parametr `self` jest odniesieniem do aktualnego wystąpienia klasy i służy do uzyskiwania dostępu do zmiennych należących do tej klasy."
   ]
  },
  {
   "cell_type": "markdown",
   "metadata": {
    "slideshow": {
     "slide_type": "slide"
    }
   },
   "source": [
    "### Parametr `self`\n",
    "\n",
    "Parametr `self` jest odniesieniem do bieżącego wystąpienia klasy i służy do uzyskiwania dostępu do zmiennych należących do tej klasy.\n",
    "\n",
    "Nie musi nazywać się `self`, możesz ją nazwać dowolnie, ale musi to być pierwszy parametr dowolnej funkcji w klasie:"
   ]
  },
  {
   "cell_type": "markdown",
   "metadata": {
    "slideshow": {
     "slide_type": "slide"
    }
   },
   "source": [
    "> ##### Przykład\n",
    "> Zamiast `self` użyj słów `mysillyobject` i `abc`:"
   ]
  },
  {
   "cell_type": "code",
   "execution_count": null,
   "metadata": {
    "slideshow": {
     "slide_type": "fragment"
    }
   },
   "outputs": [],
   "source": [
    "class Person:\n",
    "    def __init__(mysillyobject, name, age):\n",
    "        mysillyobject.name = name\n",
    "        mysillyobject.age = age\n",
    "\n",
    "    def myfunc(abc):\n",
    "        print(\"Cześć, mam na imię \" + abc.name)"
   ]
  },
  {
   "cell_type": "code",
   "execution_count": null,
   "metadata": {
    "slideshow": {
     "slide_type": "fragment"
    }
   },
   "outputs": [],
   "source": [
    "p1 = Person(\"Jan\", 36)"
   ]
  },
  {
   "cell_type": "code",
   "execution_count": null,
   "metadata": {
    "slideshow": {
     "slide_type": "subslide"
    }
   },
   "outputs": [],
   "source": [
    "p1.myfunc()"
   ]
  },
  {
   "cell_type": "markdown",
   "metadata": {
    "slideshow": {
     "slide_type": "slide"
    }
   },
   "source": [
    "### Zmień atrybuty obiektu\n",
    "\n",
    "Możesz modyfikować atrybuty obiektów w następujący sposób:"
   ]
  },
  {
   "cell_type": "markdown",
   "metadata": {
    "slideshow": {
     "slide_type": "slide"
    }
   },
   "source": [
    "> ##### Przykład\n",
    "> Ustaw wiek `p1` na `40`:"
   ]
  },
  {
   "cell_type": "code",
   "execution_count": null,
   "metadata": {
    "slideshow": {
     "slide_type": "fragment"
    }
   },
   "outputs": [],
   "source": [
    "p1.age = 40"
   ]
  },
  {
   "cell_type": "code",
   "execution_count": null,
   "metadata": {
    "slideshow": {
     "slide_type": "fragment"
    }
   },
   "outputs": [],
   "source": [
    "print(p1.age)"
   ]
  },
  {
   "cell_type": "markdown",
   "metadata": {
    "slideshow": {
     "slide_type": "slide"
    }
   },
   "source": [
    "### Usuń atrybuty obiektu\n",
    "\n",
    "Właściwości obiektów można usunąć za pomocą słowa kluczowego `del`:"
   ]
  },
  {
   "cell_type": "markdown",
   "metadata": {
    "slideshow": {
     "slide_type": "slide"
    }
   },
   "source": [
    "> ##### Przykład\n",
    "> Usuń atrybut `age` z obiektu `p1`:"
   ]
  },
  {
   "cell_type": "code",
   "execution_count": null,
   "metadata": {
    "slideshow": {
     "slide_type": "fragment"
    }
   },
   "outputs": [],
   "source": [
    "del p1.age"
   ]
  },
  {
   "cell_type": "code",
   "execution_count": null,
   "metadata": {
    "scrolled": true,
    "slideshow": {
     "slide_type": "fragment"
    }
   },
   "outputs": [],
   "source": [
    "print(p1.age)"
   ]
  },
  {
   "cell_type": "markdown",
   "metadata": {
    "slideshow": {
     "slide_type": "slide"
    }
   },
   "source": [
    "### Usuń obiekty\n",
    "\n",
    "Możesz usunąć obiekty za pomocą słowa kluczowego `del`:"
   ]
  },
  {
   "cell_type": "markdown",
   "metadata": {
    "slideshow": {
     "slide_type": "slide"
    }
   },
   "source": [
    "> ##### Przykład\n",
    "> Usuń obiekt `p1`:"
   ]
  },
  {
   "cell_type": "code",
   "execution_count": null,
   "metadata": {
    "slideshow": {
     "slide_type": "fragment"
    }
   },
   "outputs": [],
   "source": [
    "del p1"
   ]
  },
  {
   "cell_type": "code",
   "execution_count": null,
   "metadata": {
    "slideshow": {
     "slide_type": "fragment"
    }
   },
   "outputs": [],
   "source": [
    "p1.myfunc()"
   ]
  },
  {
   "cell_type": "markdown",
   "metadata": {
    "slideshow": {
     "slide_type": "fragment"
    }
   },
   "source": [
    "Do usuwania w OOP jeszcze powrócimy..."
   ]
  },
  {
   "cell_type": "markdown",
   "metadata": {
    "slideshow": {
     "slide_type": "slide"
    }
   },
   "source": [
    "### Instrukcja `pass`\n",
    "Pamiętajcie, że definicje `class` nie mogą być puste, ale jeśli z jakiegoś powodu masz definicję `class` bez zawartości, umieść instrukcję `pass`, aby uniknąć błędu."
   ]
  },
  {
   "cell_type": "markdown",
   "metadata": {
    "slideshow": {
     "slide_type": "slide"
    }
   },
   "source": [
    "> ##### Przykład"
   ]
  },
  {
   "cell_type": "code",
   "execution_count": null,
   "metadata": {
    "slideshow": {
     "slide_type": "fragment"
    }
   },
   "outputs": [],
   "source": [
    "class Person:\n",
    "    pass"
   ]
  },
  {
   "cell_type": "markdown",
   "metadata": {
    "slideshow": {
     "slide_type": "slide"
    }
   },
   "source": [
    "## Przykład klasy - konto bankowe"
   ]
  },
  {
   "cell_type": "markdown",
   "metadata": {
    "slideshow": {
     "slide_type": "fragment"
    }
   },
   "source": [
    "Dla pełnego przykładu projektowania i implementowania klasy, spróbujmy pomyśleć, jak chcielibyśmy zaimplementować konto bankowe jako klasę.\n",
    "\n",
    "W podstawowej wersji potrzebujemy znać:\n",
    "1. nazwisko właściciela konta,\n",
    "1. stan konta.\n",
    "\n",
    "W podstawowej wersji potrzebujemy też wykonywać następujące operacje:\n",
    "1. doładowanie konta (wpłata),\n",
    "1. wypłata."
   ]
  },
  {
   "cell_type": "markdown",
   "metadata": {
    "slideshow": {
     "slide_type": "subslide"
    }
   },
   "source": [
    "W nieco bardziej zaawansowanej wersji możemy chcieć np. znać numer konta i móc wykonywać przelewy na inne konta."
   ]
  },
  {
   "cell_type": "code",
   "execution_count": null,
   "metadata": {
    "slideshow": {
     "slide_type": "subslide"
    }
   },
   "outputs": [],
   "source": [
    "class KontoBankowe:\n",
    "    def __init__(self, nazwa, stan = 0):\n",
    "        self.nazwa = nazwa\n",
    "        self.stan = stan\n",
    "\n",
    "    def info(self):\n",
    "        print(\"nazwa:\", self.nazwa)\n",
    "        print(\"stan:\", self.stan)\n",
    "\n",
    "    def wyplac(self, ilosc):\n",
    "        self.stan -= ilosc\n",
    "\n",
    "    def wplac(self, ilosc):\n",
    "        self.stan += ilosc"
   ]
  },
  {
   "cell_type": "markdown",
   "metadata": {
    "slideshow": {
     "slide_type": "subslide"
    }
   },
   "source": [
    "Przykład użycia:"
   ]
  },
  {
   "cell_type": "code",
   "execution_count": null,
   "metadata": {
    "slideshow": {
     "slide_type": "fragment"
    }
   },
   "outputs": [],
   "source": [
    "jk = KontoBankowe(\"Jan Kowalski\", 1000)"
   ]
  },
  {
   "cell_type": "code",
   "execution_count": null,
   "metadata": {
    "slideshow": {
     "slide_type": "fragment"
    }
   },
   "outputs": [],
   "source": [
    "jk.info()"
   ]
  },
  {
   "cell_type": "code",
   "execution_count": null,
   "metadata": {
    "slideshow": {
     "slide_type": "fragment"
    }
   },
   "outputs": [],
   "source": [
    "jk.wplac(2000)"
   ]
  },
  {
   "cell_type": "code",
   "execution_count": null,
   "metadata": {
    "slideshow": {
     "slide_type": "fragment"
    }
   },
   "outputs": [],
   "source": [
    "jk.wyplac(2500)"
   ]
  },
  {
   "cell_type": "code",
   "execution_count": null,
   "metadata": {
    "slideshow": {
     "slide_type": "fragment"
    }
   },
   "outputs": [],
   "source": [
    "jk.info()"
   ]
  },
  {
   "cell_type": "code",
   "execution_count": null,
   "metadata": {
    "slideshow": {
     "slide_type": "subslide"
    }
   },
   "outputs": [],
   "source": [
    "jk.stan = 0  # Dostęp do składowej `stan`"
   ]
  },
  {
   "cell_type": "code",
   "execution_count": null,
   "metadata": {
    "slideshow": {
     "slide_type": "fragment"
    }
   },
   "outputs": [],
   "source": [
    "jk.info()"
   ]
  },
  {
   "cell_type": "markdown",
   "metadata": {
    "slideshow": {
     "slide_type": "slide"
    }
   },
   "source": [
    "## Ćwiczenia"
   ]
  },
  {
   "cell_type": "markdown",
   "metadata": {
    "slideshow": {
     "slide_type": "slide"
    }
   },
   "source": [
    "### Klasa `Vehicle` bez żadnych zmiennych i metod"
   ]
  },
  {
   "cell_type": "markdown",
   "metadata": {
    "slideshow": {
     "slide_type": "slide"
    }
   },
   "source": [
    "#### Ćwiczenie"
   ]
  },
  {
   "cell_type": "markdown",
   "metadata": {
    "slideshow": {
     "slide_type": "fragment"
    }
   },
   "source": [
    "Utwórz klasę `Vehicle` bez żadnych zmiennych i metod."
   ]
  },
  {
   "cell_type": "markdown",
   "metadata": {
    "slideshow": {
     "slide_type": "slide"
    }
   },
   "source": [
    "#### Rozwiązanie"
   ]
  },
  {
   "cell_type": "code",
   "execution_count": null,
   "metadata": {
    "slideshow": {
     "slide_type": "fragment"
    }
   },
   "outputs": [],
   "source": [
    "class Vehicle:\n",
    "    pass"
   ]
  },
  {
   "cell_type": "markdown",
   "metadata": {
    "slideshow": {
     "slide_type": "slide"
    }
   },
   "source": [
    "> ##### Ćwiczenie: Klasa o nazwie `MyClass` z atrybutem o nazwie `x`\n",
    "> No to jeszcze raz! Utwórz klasę o nazwie `MyClass` z atrybutem o nazwie `x = 5`.\n",
    ">\n",
    "> Teraz użyj klasy o nazwie `MyClass` do stworzenia obiektu.\n",
    ">\n",
    "> Utwórz obiekt o nazwie `p1` i wydrukuj wartość `x`."
   ]
  },
  {
   "cell_type": "markdown",
   "metadata": {
    "slideshow": {
     "slide_type": "slide"
    }
   },
   "source": [
    "> ##### Rozwiązanie"
   ]
  },
  {
   "cell_type": "code",
   "execution_count": null,
   "metadata": {
    "slideshow": {
     "slide_type": "fragment"
    }
   },
   "outputs": [],
   "source": [
    "class MyClass:\n",
    "    x = 5"
   ]
  },
  {
   "cell_type": "code",
   "execution_count": null,
   "metadata": {
    "slideshow": {
     "slide_type": "fragment"
    }
   },
   "outputs": [],
   "source": [
    "p1 = MyClass()"
   ]
  },
  {
   "cell_type": "code",
   "execution_count": null,
   "metadata": {
    "slideshow": {
     "slide_type": "fragment"
    }
   },
   "outputs": [],
   "source": [
    "print(p1.x)"
   ]
  },
  {
   "cell_type": "markdown",
   "metadata": {
    "slideshow": {
     "slide_type": "slide"
    }
   },
   "source": [
    "### Proste atrybuty klas (`name` i `origin`)"
   ]
  },
  {
   "cell_type": "markdown",
   "metadata": {
    "slideshow": {
     "slide_type": "slide"
    }
   },
   "source": [
    "#### Ćwiczenie"
   ]
  },
  {
   "cell_type": "markdown",
   "metadata": {
    "slideshow": {
     "slide_type": "fragment"
    }
   },
   "source": [
    "Klasa (`class`) dotycząca wyimaginowanego inwentarza odrzutowców jest już dla Was zdefiniowana. Również instancja tej klasy `Jets` jest stworzona i przypisana do zmiennej `first_item`. Wydrukuj `name` z `first_item`."
   ]
  },
  {
   "cell_type": "markdown",
   "metadata": {
    "slideshow": {
     "slide_type": "fragment"
    }
   },
   "source": [
    "```python\n",
    "class Jets:\n",
    "\n",
    "\n",
    "    def __init__(self, name, origin):\n",
    "        self.name = name\n",
    "        self.origin = origin\n",
    "        \n",
    "        \n",
    "        \n",
    "first_item = Jets(\"Boeing 747\", \"US\")\n",
    "\n",
    "\n",
    "a=\n",
    "print(a)\n",
    "\n",
    "\n",
    "```"
   ]
  },
  {
   "cell_type": "markdown",
   "metadata": {
    "slideshow": {
     "slide_type": "slide"
    }
   },
   "source": [
    "#### Wskazówka"
   ]
  },
  {
   "cell_type": "markdown",
   "metadata": {
    "slideshow": {
     "slide_type": "fragment"
    }
   },
   "source": [
    "Atrybut `name` można wywołać dodając go do instancji `class`, na przykład:"
   ]
  },
  {
   "cell_type": "markdown",
   "metadata": {
    "slideshow": {
     "slide_type": "fragment"
    }
   },
   "source": [
    "```python\n",
    "anyinstance.name\n",
    "```"
   ]
  },
  {
   "cell_type": "markdown",
   "metadata": {
    "slideshow": {
     "slide_type": "slide"
    }
   },
   "source": [
    "#### Rozwiązanie"
   ]
  },
  {
   "cell_type": "code",
   "execution_count": null,
   "metadata": {
    "slideshow": {
     "slide_type": "fragment"
    }
   },
   "outputs": [],
   "source": [
    "class Jets:\n",
    "\n",
    "    def __init__(self, name, origin):\n",
    "        self.name = name\n",
    "        self.origin = origin\n",
    "        \n",
    "                \n",
    "first_item = Jets(\"Boeing 747\", \"US\")\n",
    "\n",
    "a=first_item.name\n",
    "print(a)"
   ]
  },
  {
   "cell_type": "markdown",
   "metadata": {
    "slideshow": {
     "slide_type": "slide"
    }
   },
   "source": [
    "### Prosty atrybut (`origin`)"
   ]
  },
  {
   "cell_type": "markdown",
   "metadata": {
    "slideshow": {
     "slide_type": "slide"
    }
   },
   "source": [
    "#### Ćwiczenie"
   ]
  },
  {
   "cell_type": "markdown",
   "metadata": {
    "slideshow": {
     "slide_type": "fragment"
    }
   },
   "source": [
    "Tym razem wydrukuj `origin` z `first_item`."
   ]
  },
  {
   "cell_type": "markdown",
   "metadata": {
    "slideshow": {
     "slide_type": "fragment"
    }
   },
   "source": [
    "```python\n",
    "\n",
    "\n",
    "class Jets:\n",
    "\n",
    "    def __init__(self, name, origin):\n",
    "        self.name = name\n",
    "        self.origin = origin\n",
    "        \n",
    "        \n",
    "        \n",
    "first_item = Jets(\"Boeing 747\", \"US\")\n",
    "\n",
    "a=first_item.name\n",
    "b=\"Kod tutaj\"\n",
    "\n",
    "\n",
    "print(a, b)\n",
    "\n",
    "\n",
    "```"
   ]
  },
  {
   "cell_type": "markdown",
   "metadata": {
    "slideshow": {
     "slide_type": "slide"
    }
   },
   "source": [
    "#### Wskazówka"
   ]
  },
  {
   "cell_type": "markdown",
   "metadata": {
    "slideshow": {
     "slide_type": "fragment"
    }
   },
   "source": [
    "Atrybut `origin` można po prostu wyświetlić jako:"
   ]
  },
  {
   "cell_type": "markdown",
   "metadata": {
    "slideshow": {
     "slide_type": "fragment"
    }
   },
   "source": [
    "```python\n",
    "self.origin\n",
    "```"
   ]
  },
  {
   "cell_type": "markdown",
   "metadata": {
    "slideshow": {
     "slide_type": "slide"
    }
   },
   "source": [
    "#### Rozwiązanie"
   ]
  },
  {
   "cell_type": "code",
   "execution_count": null,
   "metadata": {
    "slideshow": {
     "slide_type": "fragment"
    }
   },
   "outputs": [],
   "source": [
    "class Jets:\n",
    "\n",
    "    def __init__(self, name, origin):\n",
    "        self.name = name\n",
    "        self.origin = origin\n",
    "                \n",
    "        \n",
    "first_item = Jets(\"Boeing 747\", \"US\")\n",
    "\n",
    "a=first_item.name\n",
    "b=first_item.origin\n",
    "\n",
    "print(a, b)"
   ]
  },
  {
   "cell_type": "markdown",
   "metadata": {
    "slideshow": {
     "slide_type": "slide"
    }
   },
   "source": [
    "### Klasa `Vehicle` z atrybutami instancji `max_speed` i `mileage`"
   ]
  },
  {
   "cell_type": "markdown",
   "metadata": {
    "slideshow": {
     "slide_type": "slide"
    }
   },
   "source": [
    "#### Ćwiczenie"
   ]
  },
  {
   "cell_type": "markdown",
   "metadata": {
    "slideshow": {
     "slide_type": "fragment"
    }
   },
   "source": [
    "Utwórz klasę `Vehicle` z atrybutami instancji `max_speed` i `mileage`.\n",
    "\n",
    "Stwórz obiekt i w trakcie inicjacji przypisz jego atrybutom (odpowiednio) wartości `240` i `18000`.\n",
    "\n",
    "Wydrukuj te atrybuty. "
   ]
  },
  {
   "cell_type": "markdown",
   "metadata": {
    "slideshow": {
     "slide_type": "slide"
    }
   },
   "source": [
    "#### Rozwiązanie"
   ]
  },
  {
   "cell_type": "code",
   "execution_count": null,
   "metadata": {
    "slideshow": {
     "slide_type": "fragment"
    }
   },
   "outputs": [],
   "source": [
    "class Vehicle:\n",
    "    def __init__(self, max_speed, mileage):\n",
    "        self.max_speed = max_speed\n",
    "        self.mileage = mileage"
   ]
  },
  {
   "cell_type": "code",
   "execution_count": null,
   "metadata": {
    "slideshow": {
     "slide_type": "fragment"
    }
   },
   "outputs": [],
   "source": [
    "modelX = Vehicle(240, 18000)"
   ]
  },
  {
   "cell_type": "code",
   "execution_count": null,
   "metadata": {
    "slideshow": {
     "slide_type": "fragment"
    }
   },
   "outputs": [],
   "source": [
    "print(modelX.max_speed, modelX.mileage)"
   ]
  },
  {
   "cell_type": "markdown",
   "metadata": {
    "slideshow": {
     "slide_type": "slide"
    }
   },
   "source": [
    "### Utwórz klasę `Car`"
   ]
  },
  {
   "cell_type": "markdown",
   "metadata": {
    "slideshow": {
     "slide_type": "slide"
    }
   },
   "source": [
    "#### Ćwiczenie"
   ]
  },
  {
   "cell_type": "markdown",
   "metadata": {
    "slideshow": {
     "slide_type": "fragment"
    }
   },
   "source": [
    "Utwórz klasę `Car` z dwoma atrybutami instancji:\n",
    "1. `.color`, który przechowuje nazwę koloru samochodu jako ciąg testowy (`str`)\n",
    "1. `.mileage`, który przechowuje liczbę kilometrów przejechanych przez samochód jako liczbę całkowitą (`int`)"
   ]
  },
  {
   "cell_type": "markdown",
   "metadata": {
    "slideshow": {
     "slide_type": "subslide"
    }
   },
   "source": [
    "Następnie utwórz instancję dwóch obiektów `Car` - niebieski samochód mający 20 000 kilometrów przebiegu i czerwony samochód mający 30 000 kilometrów przebiegu - i wydrukuj ich kolory oraz przebiegi. Twój wynik powinien wyglądać następująco:"
   ]
  },
  {
   "cell_type": "markdown",
   "metadata": {
    "slideshow": {
     "slide_type": "fragment"
    }
   },
   "source": [
    "```\n",
    "Niebieski samochód ma 20,000 kilometrów przebiegu.\n",
    "Czerwony samochód ma 30,000 kilometrów przebiegu.\n",
    "```"
   ]
  },
  {
   "cell_type": "markdown",
   "metadata": {
    "slideshow": {
     "slide_type": "slide"
    }
   },
   "source": [
    "#### Rozwiązanie"
   ]
  },
  {
   "cell_type": "markdown",
   "metadata": {
    "slideshow": {
     "slide_type": "fragment"
    }
   },
   "source": [
    "Najpierw utwórz klasę `Car` z atrybutami instancji `.color` i `.mileage`:"
   ]
  },
  {
   "cell_type": "code",
   "execution_count": null,
   "metadata": {
    "slideshow": {
     "slide_type": "fragment"
    }
   },
   "outputs": [],
   "source": [
    "class Car:\n",
    "    def __init__(self, color, mileage):\n",
    "        self.color = color\n",
    "        self.mileage = mileage"
   ]
  },
  {
   "cell_type": "markdown",
   "metadata": {
    "slideshow": {
     "slide_type": "fragment"
    }
   },
   "source": [
    "Parametry `color` i `mileage` metody `.__init__()` są przypisane do `self.color` i `self.mileage`, co tworzy dwa atrybuty instancji.\n",
    "\n",
    "Teraz możesz utworzyć dwie instancje `Car`:"
   ]
  },
  {
   "cell_type": "code",
   "execution_count": null,
   "metadata": {
    "slideshow": {
     "slide_type": "subslide"
    }
   },
   "outputs": [],
   "source": [
    "blue_car = Car(color=\"Niebieski\", mileage=20_000)  # grupowanie liczb dziesiętnych według tysięcy\n",
    "red_car = Car(color=\"Czerwony\", mileage=30_000)  # grupowanie liczb dziesiętnych według tysięcy"
   ]
  },
  {
   "cell_type": "markdown",
   "metadata": {
    "slideshow": {
     "slide_type": "subslide"
    }
   },
   "source": [
    "Instancja `blue_car` jest tworzona przez przekazanie wartości „`Niebieski`” do parametru `color` i `20_000` do parametru `mileage`. Podobnie, `red_car` jest tworzony z wartościami „`Czerwony`” i `30_000`.\n",
    "\n",
    "Aby wydrukować `color` i `mileage` każdego obiektu `Car`, możesz zapętlić krotkę zawierającą oba obiekty:"
   ]
  },
  {
   "cell_type": "code",
   "execution_count": null,
   "metadata": {
    "slideshow": {
     "slide_type": "fragment"
    }
   },
   "outputs": [],
   "source": [
    "for car in (blue_car, red_car):\n",
    "    print(f\"{car.color} samochód ma {car.mileage:,} kilometrów przebiegu.\")"
   ]
  },
  {
   "cell_type": "markdown",
   "metadata": {
    "slideshow": {
     "slide_type": "fragment"
    }
   },
   "source": [
    "[Ciąg f](https://realpython.com/python-f-strings/) w powyższej pętli for wstawia atrybuty `.color` i `.mileage` do ciągu i używa specyfikatora formatu: `,` do wydrukowania przebiegu pogrupowanego w tysiące i oddzielonego przecinkiem."
   ]
  },
  {
   "cell_type": "markdown",
   "metadata": {
    "slideshow": {
     "slide_type": "slide"
    }
   },
   "source": [
    "### Instancje odrzutowców"
   ]
  },
  {
   "cell_type": "markdown",
   "metadata": {
    "slideshow": {
     "slide_type": "slide"
    }
   },
   "source": [
    "#### Ćwiczenie"
   ]
  },
  {
   "cell_type": "markdown",
   "metadata": {
    "slideshow": {
     "slide_type": "fragment"
    }
   },
   "source": [
    "Stwórz nowe instancje od pierwszej do trzeciej pozycji w tej kolejności: **Boeing 747**, **Airbus A380**, **Embraer 195**. Możesz sprawdzić Podpowiedź 1, aby sprawdzić `origin`."
   ]
  },
  {
   "cell_type": "markdown",
   "metadata": {
    "slideshow": {
     "slide_type": "subslide"
    }
   },
   "source": [
    "```python\n",
    "class Jets:\n",
    "    def __init__(self, name, origin):\n",
    "        self.name = name\n",
    "        self.origin = origin\n",
    "\n",
    "\n",
    "first_item=\n",
    "second_item=\n",
    "third_item= \n",
    "\n",
    "fleet=[first_item.name, second_item.name, third_item.name]\n",
    "\n",
    "\n",
    "print(fleet)\n",
    "\n",
    "\n",
    "```"
   ]
  },
  {
   "cell_type": "markdown",
   "metadata": {
    "slideshow": {
     "slide_type": "slide"
    }
   },
   "source": [
    "#### Wskazówka 1"
   ]
  },
  {
   "cell_type": "markdown",
   "metadata": {
    "slideshow": {
     "slide_type": "fragment"
    }
   },
   "source": [
    "* Boeing 747: US\n",
    "* Airbus A380: EU\n",
    "* Embraer 195: BR"
   ]
  },
  {
   "cell_type": "markdown",
   "metadata": {
    "slideshow": {
     "slide_type": "slide"
    }
   },
   "source": [
    "#### Wskazówka 2"
   ]
  },
  {
   "cell_type": "markdown",
   "metadata": {
    "slideshow": {
     "slide_type": "fragment"
    }
   },
   "source": [
    "Możesz utworzyć instancje w następujący sposób:"
   ]
  },
  {
   "cell_type": "markdown",
   "metadata": {
    "slideshow": {
     "slide_type": "fragment"
    }
   },
   "source": [
    "```python\n",
    "first_item=Jets(name, origin)\n",
    "```"
   ]
  },
  {
   "cell_type": "markdown",
   "metadata": {
    "slideshow": {
     "slide_type": "slide"
    }
   },
   "source": [
    "#### Rozwiązanie"
   ]
  },
  {
   "cell_type": "code",
   "execution_count": null,
   "metadata": {
    "slideshow": {
     "slide_type": "subslide"
    }
   },
   "outputs": [],
   "source": [
    "class Jets:\n",
    "    def __init__(self, name, origin):\n",
    "        self.name = name\n",
    "        self.origin = origin\n",
    "\n",
    "    # Extra method:\n",
    "    def print_jet(self, other_jet):\n",
    "        print(self.name, self.origin)\n",
    "        print(other_jet.name, other_jet.origin)\n",
    "\n",
    "first_item = Jets(\"Boeing 747\", \"US\")\n",
    "second_item = Jets(\"Airbus A380\", \"EU\")\n",
    "third_item = Jets(\"Embraer 195\", \"BR\")\n",
    "\n",
    "fleet = [first_item.name, second_item.name, third_item.name]\n",
    "\n",
    "print(fleet)\n",
    "\n",
    "first_item.print_jet(second_item)  # Extra print"
   ]
  },
  {
   "cell_type": "markdown",
   "metadata": {
    "slideshow": {
     "slide_type": "slide"
    }
   },
   "source": [
    "### Wyposażenie w samoloty odrzutowe"
   ]
  },
  {
   "cell_type": "markdown",
   "metadata": {
    "slideshow": {
     "slide_type": "slide"
    }
   },
   "source": [
    "#### Ćwiczenie"
   ]
  },
  {
   "cell_type": "markdown",
   "metadata": {
    "slideshow": {
     "slide_type": "fragment"
    }
   },
   "source": [
    "Dodaj kolejny atrybut o nazwie „``quantity``” do metody inicjalizacji (zwykle nazywanej konstruktorem lub `__init__`). Następnie zdefiniuj przypisanie tego atrybutu do atrybutu `self.quantity` wewnątrz konstruktora.\n",
    "\n",
    "Następnie utwórz `2` instancje dla: `Boeing 747` i `Airbus A380` z ilościami `87` i `35`."
   ]
  },
  {
   "cell_type": "markdown",
   "metadata": {
    "slideshow": {
     "slide_type": "subslide"
    }
   },
   "source": [
    "```python\n",
    "class Jets:\n",
    "    def __init__(self, name, origin):\n",
    "        self.name = name\n",
    "        self.origin = origin\n",
    "\n",
    "\n",
    "first_item=\n",
    "second_item=\n",
    "\n",
    "total=\n",
    "print(total)\n",
    "```"
   ]
  },
  {
   "cell_type": "markdown",
   "metadata": {
    "slideshow": {
     "slide_type": "slide"
    }
   },
   "source": [
    "#### Wskazówka 1"
   ]
  },
  {
   "cell_type": "markdown",
   "metadata": {
    "slideshow": {
     "slide_type": "fragment"
    }
   },
   "source": [
    "Możesz dodać parametr `quantity` do konstruktora w następujący sposób:"
   ]
  },
  {
   "cell_type": "markdown",
   "metadata": {
    "slideshow": {
     "slide_type": "fragment"
    }
   },
   "source": [
    "```python\n",
    "def __init__(self, name, origin, quantity):\n",
    "```"
   ]
  },
  {
   "cell_type": "markdown",
   "metadata": {
    "slideshow": {
     "slide_type": "fragment"
    }
   },
   "source": [
    "Następnie musisz przypisać ten parametr do atrybutu `self`, aby istniało sensowne połączenie między parametrem a atrybutem."
   ]
  },
  {
   "cell_type": "markdown",
   "metadata": {
    "slideshow": {
     "slide_type": "slide"
    }
   },
   "source": [
    "#### Wskazówka 2"
   ]
  },
  {
   "cell_type": "markdown",
   "metadata": {
    "slideshow": {
     "slide_type": "fragment"
    }
   },
   "source": [
    "Możesz dodać parametr `quantity` do konstruktora w następujący sposób:"
   ]
  },
  {
   "cell_type": "markdown",
   "metadata": {
    "slideshow": {
     "slide_type": "fragment"
    }
   },
   "source": [
    "```python\n",
    "def __init__(self, name, origin, quantity):\n",
    "\n",
    "    self.name = name\n",
    "    self.origin = origin\n",
    "    self.quantity = quantity\n",
    "```"
   ]
  },
  {
   "cell_type": "markdown",
   "metadata": {
    "slideshow": {
     "slide_type": "fragment"
    }
   },
   "source": [
    "Następnie musisz przypisać ten parametr do atrybutu `self`, aby istniało sensowne połączenie między parametrem a atrybutem."
   ]
  },
  {
   "cell_type": "markdown",
   "metadata": {
    "slideshow": {
     "slide_type": "slide"
    }
   },
   "source": [
    "#### Wskazówka 3"
   ]
  },
  {
   "cell_type": "markdown",
   "metadata": {
    "slideshow": {
     "slide_type": "fragment"
    }
   },
   "source": [
    "Możesz tworzyć instancje klasy `Jets` jak poniżej:"
   ]
  },
  {
   "cell_type": "markdown",
   "metadata": {
    "slideshow": {
     "slide_type": "fragment"
    }
   },
   "source": [
    "```python\n",
    "first_item = Jets(\"Boeing 747\", \"US\", 87)\n",
    "second_item = Jets(\"Airbus A380\", \"EU\", 35)\n",
    "```"
   ]
  },
  {
   "cell_type": "markdown",
   "metadata": {
    "slideshow": {
     "slide_type": "slide"
    }
   },
   "source": [
    "#### Rozwiązanie"
   ]
  },
  {
   "cell_type": "markdown",
   "metadata": {
    "slideshow": {
     "slide_type": "fragment"
    }
   },
   "source": [
    "I na koniec wszystko, co musisz zrobić, to wykonać proste działanie algebraiczne z atrybutem `quantity` instancji."
   ]
  },
  {
   "cell_type": "code",
   "execution_count": null,
   "metadata": {
    "slideshow": {
     "slide_type": "subslide"
    }
   },
   "outputs": [],
   "source": [
    "class Jets:\n",
    "    def __init__(self, name, origin, quantity):\n",
    "        self.name = name\n",
    "        self.origin = origin\n",
    "        self.quantity = quantity        \n",
    "first_item = Jets(\"Boeing 747\", \"US\", 87)\n",
    "second_item = Jets(\"Airbus A380\", \"EU\", 35)\n",
    "total = first_item.quantity + second_item.quantity\n",
    "print(\"Suma samolotów:\", total)\n",
    "# Extra\n",
    "jets = [Jets(\"Boeing 747\", \"US\", 87), Jets(\"Airbus A380\", \"EU\", 35), Jets(\"Embraer 195\", \"BR\", 15)]\n",
    "total = 0\n",
    "for item in jets:\n",
    "    total += item.quantity\n",
    "print(\"Suma samolotów:\", total)\n",
    "\n",
    "numbers = [1, 2]\n",
    "total = 0\n",
    "for item in numbers:\n",
    "    total += item.real\n",
    "print(\"Suma części rzeczywistych:\", total)"
   ]
  },
  {
   "cell_type": "markdown",
   "metadata": {
    "slideshow": {
     "slide_type": "slide"
    }
   },
   "source": [
    "### Pokojowa nagroda Nobla trafia do Bangladeszu"
   ]
  },
  {
   "cell_type": "markdown",
   "metadata": {
    "slideshow": {
     "slide_type": "slide"
    }
   },
   "source": [
    "#### Ćwiczenie"
   ]
  },
  {
   "cell_type": "markdown",
   "metadata": {
    "slideshow": {
     "slide_type": "fragment"
    }
   },
   "source": [
    "Spróbujmy czegoś innego.\n",
    "\n",
    "Spróbuj zbudować prostą klasę od podstaw. Instancja została już utworzona, a atrybuty instancji są zawarte w wydruku. Weź te wskazówki i spróbuj odtworzyć klasę."
   ]
  },
  {
   "cell_type": "markdown",
   "metadata": {
    "slideshow": {
     "slide_type": "subslide"
    }
   },
   "source": [
    "```python\n",
    "#Wpisz tutaj swój kod.\n",
    "\n",
    "\n",
    "\n",
    "\n",
    "\n",
    "\n",
    "np2005=Nobel(\"Peace\", 2005, \"Muhammad Yunus\")\n",
    "print(np2005.category, np2005.year, np2005.winner)\n",
    "\n",
    "\n",
    "\n",
    "```"
   ]
  },
  {
   "cell_type": "markdown",
   "metadata": {
    "slideshow": {
     "slide_type": "slide"
    }
   },
   "source": [
    "#### Wskazówka 1"
   ]
  },
  {
   "cell_type": "markdown",
   "metadata": {
    "slideshow": {
     "slide_type": "fragment"
    }
   },
   "source": [
    "Muhammad Yunus i Grameen Bank otrzymali Pokojową Nagrodę Nobla w 2006 roku. Grameen Bank to społeczny bank rozwoju założony przez Muhammada Yunusa w 1983 roku w Bangladeszu. Grameen Bank, czasami nazywany „bankiem ubogich”, od początku swojego istnienia wniósł znaczący wkład na rzecz małych firm i indywidualnych przedsiębiorców. Ich stronę internetową można znaleźć [tutaj](http://www.grameen.com)."
   ]
  },
  {
   "cell_type": "markdown",
   "metadata": {
    "slideshow": {
     "slide_type": "subslide"
    }
   },
   "source": [
    "![](https://upload.wikimedia.org/wikipedia/commons/7/77/Muhammad_Yunus_%28cropped%29.jpg)"
   ]
  },
  {
   "cell_type": "markdown",
   "metadata": {
    "slideshow": {
     "slide_type": "subslide"
    }
   },
   "source": [
    "[Film](https://play.google.com/store/movies/details/Living_on_One_Dollar?id=F8F91B7F7617F047MV&hl=en) dokumentalny Living on One Dollar przedstawia operację mikrokredytową Grameen Bank w wiejskiej wiosce w Gwatemali. Ten film był również dostępny w serwisie Netflix, ale mogą obowiązywać ograniczenia krajowe."
   ]
  },
  {
   "cell_type": "markdown",
   "metadata": {
    "slideshow": {
     "slide_type": "subslide"
    }
   },
   "source": [
    "![](https://upload.wikimedia.org/wikipedia/commons/e/ea/Grameen.JPG)"
   ]
  },
  {
   "cell_type": "markdown",
   "metadata": {
    "slideshow": {
     "slide_type": "subslide"
    }
   },
   "source": [
    "Laureaci Nagrody Nobla są ogłaszani w październiku, zgodnie z tym ogłoszeniem [tutaj](https://www.nobelprize.org/prizes/about/prize-announcement-dates/)."
   ]
  },
  {
   "cell_type": "markdown",
   "metadata": {
    "slideshow": {
     "slide_type": "slide"
    }
   },
   "source": [
    "#### Rozwiązanie"
   ]
  },
  {
   "cell_type": "code",
   "execution_count": null,
   "metadata": {
    "slideshow": {
     "slide_type": "fragment"
    }
   },
   "outputs": [],
   "source": [
    "class Nobel:\n",
    "\n",
    "    def __init__(self, category, year, winner):\n",
    "        self.category = category\n",
    "        self.year = year\n",
    "        self.winner = winner\n",
    "\n",
    "        \n",
    "np2005 = Nobel(\"Peace\", 2005, \"Muhammad Yunus\")\n",
    "print(np2005.category, np2005.year, np2005.winner)"
   ]
  },
  {
   "cell_type": "markdown",
   "metadata": {
    "slideshow": {
     "slide_type": "slide"
    }
   },
   "source": [
    "### Odwróć ciąg słowo po słowie"
   ]
  },
  {
   "cell_type": "markdown",
   "metadata": {
    "slideshow": {
     "slide_type": "slide"
    }
   },
   "source": [
    "#### Ćwiczenie"
   ]
  },
  {
   "cell_type": "markdown",
   "metadata": {
    "slideshow": {
     "slide_type": "fragment"
    }
   },
   "source": [
    "Napisz program w Pythonie, który będzie odwracał łańcuch słowo po słowie.\n",
    "\n",
    "Ciąg wejściowy: `hello .py`\n",
    "\n",
    "Oczekiwany wynik: `.py hello`"
   ]
  },
  {
   "cell_type": "markdown",
   "metadata": {
    "slideshow": {
     "slide_type": "slide"
    }
   },
   "source": [
    "#### Rozwiązanie"
   ]
  },
  {
   "cell_type": "code",
   "execution_count": null,
   "metadata": {
    "slideshow": {
     "slide_type": "fragment"
    }
   },
   "outputs": [],
   "source": [
    "class PySolution:\n",
    "    def reverse_words(self, s):\n",
    "        return ' '.join(reversed(s.split()))"
   ]
  },
  {
   "cell_type": "code",
   "execution_count": null,
   "metadata": {
    "slideshow": {
     "slide_type": "fragment"
    }
   },
   "outputs": [],
   "source": [
    "print(PySolution().reverse_words('hello .py'))"
   ]
  },
  {
   "cell_type": "markdown",
   "metadata": {
    "slideshow": {
     "slide_type": "slide"
    }
   },
   "source": [
    "### Klasa ma dwie metody; pierwsza metoda przyjmuje ciąg znaków od użytkownika, druga metoda wypisuje ciąg wielkimi literami"
   ]
  },
  {
   "cell_type": "markdown",
   "metadata": {
    "slideshow": {
     "slide_type": "slide"
    }
   },
   "source": [
    "#### Ćwiczenie"
   ]
  },
  {
   "cell_type": "markdown",
   "metadata": {
    "slideshow": {
     "slide_type": "fragment"
    }
   },
   "source": [
    "Napisz klasę Pythona, która ma dwie metody `get_string` i `print_string`. Metoda `get_string` akceptuje ciąg znaków od użytkownika i metoda `print_string` wypisuje go wielkimi literami."
   ]
  },
  {
   "cell_type": "markdown",
   "metadata": {
    "slideshow": {
     "slide_type": "slide"
    }
   },
   "source": [
    "#### Rozwiązanie"
   ]
  },
  {
   "cell_type": "code",
   "execution_count": null,
   "metadata": {
    "slideshow": {
     "slide_type": "fragment"
    }
   },
   "outputs": [],
   "source": [
    "class IOString():\n",
    "    def __init__(self):\n",
    "        self.str1 = \"abc\"\n",
    "\n",
    "    def get_string(self):\n",
    "        self.str1 = input()\n",
    "\n",
    "    def print_string(self):\n",
    "        print(self.str1.upper())"
   ]
  },
  {
   "cell_type": "code",
   "execution_count": null,
   "metadata": {
    "slideshow": {
     "slide_type": "fragment"
    }
   },
   "outputs": [],
   "source": [
    "str1 = IOString()"
   ]
  },
  {
   "cell_type": "code",
   "execution_count": null,
   "metadata": {
    "slideshow": {
     "slide_type": "fragment"
    }
   },
   "outputs": [],
   "source": [
    "str1.get_string()"
   ]
  },
  {
   "cell_type": "code",
   "execution_count": null,
   "metadata": {
    "slideshow": {
     "slide_type": "fragment"
    }
   },
   "outputs": [],
   "source": [
    "str1.print_string()"
   ]
  },
  {
   "cell_type": "markdown",
   "metadata": {
    "slideshow": {
     "slide_type": "slide"
    }
   },
   "source": [
    "### Klasa zbudowana na podstawie długości i szerokości oraz metoda, która obliczy pole prostokąta"
   ]
  },
  {
   "cell_type": "markdown",
   "metadata": {
    "slideshow": {
     "slide_type": "slide"
    }
   },
   "source": [
    "#### Ćwiczenie"
   ]
  },
  {
   "cell_type": "markdown",
   "metadata": {
    "slideshow": {
     "slide_type": "fragment"
    }
   },
   "source": [
    "Napisz klasę Pythona o nazwie `Rectangle` skonstruowaną na podstawie długości i szerokości oraz metody, która obliczy pole powierzchni prostokąta."
   ]
  },
  {
   "cell_type": "markdown",
   "metadata": {
    "slideshow": {
     "slide_type": "slide"
    }
   },
   "source": [
    "#### Podpowiedź"
   ]
  },
  {
   "cell_type": "markdown",
   "metadata": {
    "slideshow": {
     "slide_type": "fragment"
    }
   },
   "source": [
    "Dla przypomnienia... W geometrii płaszczyzny euklidesowej prostokąt jest czworobokiem z czterema kątami prostymi. Aby znaleźć pole prostokąta, pomnóż długość przez szerokość."
   ]
  },
  {
   "cell_type": "markdown",
   "metadata": {
    "slideshow": {
     "slide_type": "slide"
    }
   },
   "source": [
    "#### Rozwiązanie"
   ]
  },
  {
   "cell_type": "code",
   "execution_count": null,
   "metadata": {
    "slideshow": {
     "slide_type": "fragment"
    }
   },
   "outputs": [],
   "source": [
    "class Rectangle():\n",
    "    def __init__(self, l, w):\n",
    "        self.length = l\n",
    "        self.width  = w\n",
    "\n",
    "    def rectangle_area(self):\n",
    "        return self.length*self.width"
   ]
  },
  {
   "cell_type": "code",
   "execution_count": null,
   "metadata": {
    "slideshow": {
     "slide_type": "fragment"
    }
   },
   "outputs": [],
   "source": [
    "newRectangle = Rectangle(12, 10)"
   ]
  },
  {
   "cell_type": "code",
   "execution_count": null,
   "metadata": {
    "slideshow": {
     "slide_type": "fragment"
    }
   },
   "outputs": [],
   "source": [
    "print(newRectangle.rectangle_area())"
   ]
  },
  {
   "cell_type": "markdown",
   "metadata": {
    "slideshow": {
     "slide_type": "slide"
    }
   },
   "source": [
    "### Klasa skonstruowana za pomocą promienia i dwóch metod, które obliczają pole i obwód koła"
   ]
  },
  {
   "cell_type": "markdown",
   "metadata": {
    "slideshow": {
     "slide_type": "slide"
    }
   },
   "source": [
    "#### Ćwiczenie"
   ]
  },
  {
   "cell_type": "markdown",
   "metadata": {
    "slideshow": {
     "slide_type": "fragment"
    }
   },
   "source": [
    "Napisz klasę Pythona o nazwie `Circle` zbudowaną na podstawie promienia i dwóch metod, które obliczą pole i obwód koła."
   ]
  },
  {
   "cell_type": "markdown",
   "metadata": {
    "slideshow": {
     "slide_type": "slide"
    }
   },
   "source": [
    "#### Rozwiązanie"
   ]
  },
  {
   "cell_type": "code",
   "execution_count": null,
   "metadata": {
    "slideshow": {
     "slide_type": "fragment"
    }
   },
   "outputs": [],
   "source": [
    "import math\n",
    "class Circle():\n",
    "    def __init__(self, r):\n",
    "        self.radius = r\n",
    "    def area(self):\n",
    "        return self.radius**2*math.pi\n",
    "    def perimeter(self):\n",
    "        return 2*self.radius*math.pi"
   ]
  },
  {
   "cell_type": "code",
   "execution_count": null,
   "metadata": {
    "slideshow": {
     "slide_type": "fragment"
    }
   },
   "outputs": [],
   "source": [
    "c = Circle(8)"
   ]
  },
  {
   "cell_type": "code",
   "execution_count": null,
   "metadata": {
    "slideshow": {
     "slide_type": "fragment"
    }
   },
   "outputs": [],
   "source": [
    "print(c.area())"
   ]
  },
  {
   "cell_type": "code",
   "execution_count": null,
   "metadata": {
    "slideshow": {
     "slide_type": "fragment"
    }
   },
   "outputs": [],
   "source": [
    "print(c.perimeter())"
   ]
  },
  {
   "cell_type": "markdown",
   "metadata": {
    "slideshow": {
     "slide_type": "slide"
    }
   },
   "source": [
    "### Klasa `Temperature`"
   ]
  },
  {
   "cell_type": "markdown",
   "metadata": {
    "slideshow": {
     "slide_type": "slide"
    }
   },
   "source": [
    "#### Ćwiczenie"
   ]
  },
  {
   "cell_type": "markdown",
   "metadata": {
    "slideshow": {
     "slide_type": "fragment"
    }
   },
   "source": [
    "Utwórz klasę `Temperature`. Wykonaj dwie metody:\n",
    "1. `convert_fahrenheit` - weźmie ona stopnie Celsjusza i wydrukuje je w Fahrenheitach.\n",
    "2. `convert_celsius` - weźmie ona stopnie Fahrenheita i zamieni je na stopnie Celsjusza."
   ]
  },
  {
   "cell_type": "markdown",
   "metadata": {
    "slideshow": {
     "slide_type": "slide"
    }
   },
   "source": [
    "#### Rozwiązanie"
   ]
  },
  {
   "cell_type": "code",
   "execution_count": null,
   "metadata": {
    "slideshow": {
     "slide_type": "fragment"
    }
   },
   "outputs": [],
   "source": [
    "class Temperature():\n",
    "    def  convert_fahrenhiet(self,celsius):\n",
    "        return (celsius*(9/5))+32\n",
    "    def convert_celsius(self,farenhiet):\n",
    "        return (farenhiet-32)*(5/9)"
   ]
  },
  {
   "cell_type": "markdown",
   "metadata": {
    "slideshow": {
     "slide_type": "slide"
    }
   },
   "source": [
    "### Klasa `Student`"
   ]
  },
  {
   "cell_type": "markdown",
   "metadata": {
    "slideshow": {
     "slide_type": "slide"
    }
   },
   "source": [
    "#### Ćwiczenie"
   ]
  },
  {
   "cell_type": "markdown",
   "metadata": {
    "slideshow": {
     "slide_type": "fragment"
    }
   },
   "source": [
    "Utwórz klasę `Student` i zainicjuj ją imieniem/nazwiskiem (`name`) i numerem indeksu (`roll`). Klasa powinna też mieć atrybuty: wiek (`age`) i oceny (`marks`). Utwórz metody:\n",
    "1. `display` - powinna wyświetlać wszystkie informacje o studencie.\n",
    "1. `set_age` - powinna przypisywać wiek (`age`) studentowi.\n",
    "1. `set_marks` - powinna wystawiać oceny (`marks`) studentowi (niech to będzie dla uproszczenia jedna ocena)."
   ]
  },
  {
   "cell_type": "markdown",
   "metadata": {
    "slideshow": {
     "slide_type": "slide"
    }
   },
   "source": [
    "#### Rozwiązanie"
   ]
  },
  {
   "cell_type": "code",
   "execution_count": null,
   "metadata": {
    "slideshow": {
     "slide_type": "fragment"
    }
   },
   "outputs": [],
   "source": [
    "class Student():\n",
    "    def __init__(self, name, roll):\n",
    "        self.name = name\n",
    "        self.roll = roll\n",
    "        self.age = \"undefined\"\n",
    "        self.marks = \"undefined\"\n",
    "    def display(self):\n",
    "        print(self.name)\n",
    "        print(self.roll)\n",
    "        print(self.age)\n",
    "        print(self.marks)\n",
    "    def set_age(self, age):\n",
    "        self.age = age\n",
    "    def set_marks(self, marks):\n",
    "        self.marks = marks"
   ]
  },
  {
   "cell_type": "markdown",
   "metadata": {
    "slideshow": {
     "slide_type": "slide"
    }
   },
   "source": [
    "### Klasa `Time`"
   ]
  },
  {
   "cell_type": "markdown",
   "metadata": {
    "slideshow": {
     "slide_type": "slide"
    }
   },
   "source": [
    "#### Ćwiczenie"
   ]
  },
  {
   "cell_type": "markdown",
   "metadata": {
    "slideshow": {
     "slide_type": "fragment"
    }
   },
   "source": [
    "Utwórz klasę `Time` i zainicjuj ją godzinami i minutami.\n",
    "1. Utwórz metodę `add_time`, która powinna wziąć dwa obiekt `Time` i dodać je. Np. - (`2` godz. i `50` min) + (`1` godz. i `20` min) to (`4` godz. i `10` min)\n",
    "1. Stwórz metodę `display_time`, która powinna wypisać czas.\n",
    "1. Utwórz metodę `display_minute`, która powinna wyświetlać łączną liczbę minut w `Time`. Np. - (`1` godz. `2` min) powinno wyświetlać `62` minuty."
   ]
  },
  {
   "cell_type": "markdown",
   "metadata": {
    "slideshow": {
     "slide_type": "slide"
    }
   },
   "source": [
    "#### Rozwiązanie"
   ]
  },
  {
   "cell_type": "code",
   "execution_count": null,
   "metadata": {
    "slideshow": {
     "slide_type": "subslide"
    }
   },
   "outputs": [],
   "source": [
    "class Time():\n",
    "\n",
    "    def __init__(self, hours, mins):\n",
    "        self.hours = hours\n",
    "        self.mins = mins\n",
    "\n",
    "    def add_time(t1, t2):\n",
    "        t3 = Time(0,0)\n",
    "        if t1.mins+t2.mins > 60:\n",
    "            t3.hours = (t1.mins+t2.mins)//60\n",
    "        t3.hours = t3.hours+t1.hours+t2.hours\n",
    "        t3.mins = (t1.mins+t2.mins)-(((t1.mins+t2.mins)//60)*60)\n",
    "        return t3\n",
    "\n",
    "    def display_time(self):\n",
    "        print(\"Czas to\",self.hours,\"godz. i\",self.mins,\"min.\")\n",
    "\n",
    "    def display_minute(self):\n",
    "        print((self.hours*60)+self.mins)\n",
    "\n",
    "a = Time(2,50)\n",
    "b = Time(1,20)\n",
    "c = Time.add_time(a,b)\n",
    "c.display_time()\n",
    "c.display_minute()"
   ]
  },
  {
   "cell_type": "markdown",
   "metadata": {
    "slideshow": {
     "slide_type": "slide"
    }
   },
   "source": [
    "### Definicja klasy `Point`"
   ]
  },
  {
   "cell_type": "markdown",
   "metadata": {
    "slideshow": {
     "slide_type": "slide"
    }
   },
   "source": [
    "#### Ćwiczenie"
   ]
  },
  {
   "cell_type": "markdown",
   "metadata": {
    "slideshow": {
     "slide_type": "subslide"
    }
   },
   "source": [
    "Napisz definicję klasy `Point`. Obiekty z tej klasy powinny mieć:\n",
    "* metodę `show`, aby wyświetlić współrzędne punktu,\n",
    "* metodę `move`, aby zmienić te współrzędne,\n",
    "* metodę `dist`, która oblicza odległość między 2 punktami.\n",
    "\n",
    "Zwróć uwagę, jak można obliczyć odległość między 2 punktami p(p1, p2) i q(q1, q2):\n",
    "![](https://upload.wikimedia.org/wikipedia/commons/5/55/Euclidean_distance_2d.svg)\n",
    "(http://www.mathwarehouse.com/algebra/distance_formula/index.php)"
   ]
  },
  {
   "cell_type": "markdown",
   "metadata": {
    "slideshow": {
     "slide_type": "slide"
    }
   },
   "source": [
    "#### Rozwiązanie"
   ]
  },
  {
   "cell_type": "code",
   "execution_count": null,
   "metadata": {
    "slideshow": {
     "slide_type": "fragment"
    }
   },
   "outputs": [],
   "source": [
    "import math\n",
    "\n",
    "\n",
    "class Point:\n",
    "\n",
    "    def __init__(self, x, y):\n",
    "        self.x = x\n",
    "        self.y = y\n",
    "\n",
    "\n",
    "    def show(self):\n",
    "        return self.x, self.y\n",
    "\n",
    "\n",
    "    def move(self, x, y):\n",
    "        self.x += x\n",
    "        self.y += y\n",
    "\n",
    "\n",
    "    def dist(self, pt):\n",
    "        dx = pt.x - self.x\n",
    "        dy = pt.y - self.y\n",
    "        return math.sqrt(dx ** 2 + dy ** 2)"
   ]
  },
  {
   "cell_type": "code",
   "execution_count": null,
   "metadata": {
    "slideshow": {
     "slide_type": "subslide"
    }
   },
   "outputs": [],
   "source": [
    "p1 = Point(2, 3)"
   ]
  },
  {
   "cell_type": "code",
   "execution_count": null,
   "metadata": {
    "slideshow": {
     "slide_type": "fragment"
    }
   },
   "outputs": [],
   "source": [
    "p2 = Point(3, 3)"
   ]
  },
  {
   "cell_type": "code",
   "execution_count": null,
   "metadata": {
    "slideshow": {
     "slide_type": "fragment"
    }
   },
   "outputs": [],
   "source": [
    "p1.show()"
   ]
  },
  {
   "cell_type": "code",
   "execution_count": null,
   "metadata": {
    "slideshow": {
     "slide_type": "fragment"
    }
   },
   "outputs": [],
   "source": [
    "p2.show()"
   ]
  },
  {
   "cell_type": "code",
   "execution_count": null,
   "metadata": {
    "slideshow": {
     "slide_type": "fragment"
    }
   },
   "outputs": [],
   "source": [
    "p1.move(10, -10)"
   ]
  },
  {
   "cell_type": "code",
   "execution_count": null,
   "metadata": {
    "slideshow": {
     "slide_type": "fragment"
    }
   },
   "outputs": [],
   "source": [
    "p1.show()"
   ]
  },
  {
   "cell_type": "code",
   "execution_count": null,
   "metadata": {
    "slideshow": {
     "slide_type": "fragment"
    }
   },
   "outputs": [],
   "source": [
    "p2.show()"
   ]
  },
  {
   "cell_type": "code",
   "execution_count": null,
   "metadata": {
    "slideshow": {
     "slide_type": "fragment"
    }
   },
   "outputs": [],
   "source": [
    "p1.dist(p2)"
   ]
  },
  {
   "cell_type": "markdown",
   "metadata": {
    "slideshow": {
     "slide_type": "slide"
    }
   },
   "source": [
    "## Zadania utrwalające"
   ]
  },
  {
   "cell_type": "markdown",
   "metadata": {
    "slideshow": {
     "slide_type": "slide"
    }
   },
   "source": [
    "### Zadanie 1"
   ]
  },
  {
   "cell_type": "markdown",
   "metadata": {
    "slideshow": {
     "slide_type": "fragment"
    }
   },
   "source": [
    "Tworzysz aplikację do gier karcianych. Potrzebujesz struktury danych, która fajnie będzie reprezentowała pojedynczą kartę z talii.\n",
    "\n",
    "Jakie atrybuty powinna mieć twoja klasa [kart](https://pl.wikipedia.org/wiki/Karty)?"
   ]
  },
  {
   "cell_type": "markdown",
   "metadata": {
    "slideshow": {
     "slide_type": "slide"
    }
   },
   "source": [
    "### Zadanie 2"
   ]
  },
  {
   "cell_type": "markdown",
   "metadata": {
    "slideshow": {
     "slide_type": "fragment"
    }
   },
   "source": [
    "Projektujesz aplikację naukową i potrzebujesz reprezentować **wektory**, bo wiesz, że będziesz na nich operować. Implementujesz zatem klasę `Vector`, która będzie zachowywała się tak, jak wektory w języku matematyki.\n",
    "\n",
    "Sprawdź definicję [wektora](https://pl.wikipedia.org/wiki/Wektor). Jakie operacje algebraiczne klasa `Vector` będzie musiała obsługiwać?"
   ]
  },
  {
   "cell_type": "markdown",
   "metadata": {
    "slideshow": {
     "slide_type": "slide"
    }
   },
   "source": [
    "### Zadanie 3"
   ]
  },
  {
   "cell_type": "markdown",
   "metadata": {
    "slideshow": {
     "slide_type": "fragment"
    }
   },
   "source": [
    "Zaimplementuj dwie klasy, `Product1` oraz `Product2`. Niech pierwsza z nich wykorzysta wariant 1 do stworzenia atrybutów `name` i `price`, a druga niech wykorzysta wariant 2 do stworzenia takich samych atrybutów."
   ]
  },
  {
   "cell_type": "markdown",
   "metadata": {
    "slideshow": {
     "slide_type": "slide"
    }
   },
   "source": [
    "### Zadanie 4"
   ]
  },
  {
   "cell_type": "markdown",
   "metadata": {
    "slideshow": {
     "slide_type": "fragment"
    }
   },
   "source": [
    "Istniejące klasy `Product1` i `Product2` rozszerz o metodę `details()`, która wypisze na ekranie nazwę produktu i jego cenę."
   ]
  },
  {
   "cell_type": "markdown",
   "metadata": {
    "slideshow": {
     "slide_type": "slide"
    }
   },
   "source": [
    "### Zadanie 5"
   ]
  },
  {
   "cell_type": "markdown",
   "metadata": {
    "slideshow": {
     "slide_type": "fragment"
    }
   },
   "source": [
    "Korzystając z implementacji konta bankowego, zaimplementuj w nim metodę `przelew()`, która jako argument pierwszy bierze konto docelowe, a jako argument drugi bierze wartość przelewu.\n",
    "\n",
    "Przetestuj działanie klasy `KontoBankowe`."
   ]
  },
  {
   "cell_type": "markdown",
   "metadata": {
    "slideshow": {
     "slide_type": "slide"
    }
   },
   "source": [
    "### Zadanie 6 - Znajdź parę elementów z podanej tablicy, których suma jest równa określonej liczbie docelowej"
   ]
  },
  {
   "cell_type": "markdown",
   "metadata": {
    "slideshow": {
     "slide_type": "slide"
    }
   },
   "source": [
    "#### Zadanie"
   ]
  },
  {
   "cell_type": "markdown",
   "metadata": {
    "slideshow": {
     "slide_type": "fragment"
    }
   },
   "source": [
    "Napisz program w Pythonie, aby znaleźć parę elementów (indeksów dwóch liczb) z podanej tablicy, których suma jest równa określonej liczbie docelowej."
   ]
  },
  {
   "cell_type": "markdown",
   "metadata": {
    "slideshow": {
     "slide_type": "slide"
    }
   },
   "source": [
    "#### Podpowiedź 1"
   ]
  },
  {
   "cell_type": "markdown",
   "metadata": {
    "slideshow": {
     "slide_type": "fragment"
    }
   },
   "source": [
    "Można skorzystać z funkcji `enumerate()`."
   ]
  },
  {
   "cell_type": "markdown",
   "metadata": {
    "slideshow": {
     "slide_type": "slide"
    }
   },
   "source": [
    "> ##### Funkcja wbudowana `enumerate()`\n",
    "```python\n",
    "enumerate()\n",
    "```\n",
    "> Wbudowana funkcja `enumerate()` sprawia, że niektóre pętle będą bardziej przejrzyste. `enumerate(thing)`, gdzie *thing* jest iteratorem lub sekwencją, zwraca iterator, który zwróci (`0`, *`thing`*`[0]`), (`1`, *`thing`*`[1]`), (`2`, *`thing`*`[2]`), i tak dalej."
   ]
  },
  {
   "cell_type": "markdown",
   "metadata": {
    "slideshow": {
     "slide_type": "subslide"
    }
   },
   "source": [
    "> Typowy idiom do zmiany każdego elementu listy wygląda następująco:"
   ]
  },
  {
   "cell_type": "code",
   "execution_count": null,
   "metadata": {
    "slideshow": {
     "slide_type": "fragment"
    }
   },
   "outputs": [],
   "source": [
    "thing = [\"a\", \"b\", \"c\"]"
   ]
  },
  {
   "cell_type": "code",
   "execution_count": null,
   "metadata": {
    "slideshow": {
     "slide_type": "fragment"
    }
   },
   "outputs": [],
   "source": [
    "for i in range(len(thing)):\n",
    "    item = thing[i]\n",
    "    result = str(i)+item\n",
    "    thing[i] = result\n",
    "print(thing)"
   ]
  },
  {
   "cell_type": "markdown",
   "metadata": {
    "slideshow": {
     "slide_type": "subslide"
    }
   },
   "source": [
    "> Można to przepisać za pomocą `enumerate()` jako:"
   ]
  },
  {
   "cell_type": "code",
   "execution_count": null,
   "metadata": {
    "slideshow": {
     "slide_type": "fragment"
    }
   },
   "outputs": [],
   "source": [
    "thing = [\"a\", \"b\", \"c\"]"
   ]
  },
  {
   "cell_type": "code",
   "execution_count": null,
   "metadata": {
    "slideshow": {
     "slide_type": "fragment"
    }
   },
   "outputs": [],
   "source": [
    "for i, item in enumerate(thing):\n",
    "    result = str(i)+item\n",
    "    thing[i] = result\n",
    "print(thing)"
   ]
  },
  {
   "cell_type": "markdown",
   "metadata": {
    "slideshow": {
     "slide_type": "subslide"
    }
   },
   "source": [
    "> A teraz przedźmy do właściwego ćwicznia..."
   ]
  },
  {
   "cell_type": "code",
   "execution_count": null,
   "metadata": {
    "slideshow": {
     "slide_type": "fragment"
    }
   },
   "outputs": [],
   "source": [
    "t = (10,20,10,40,50,60,70)"
   ]
  },
  {
   "cell_type": "code",
   "execution_count": null,
   "metadata": {
    "slideshow": {
     "slide_type": "fragment"
    }
   },
   "outputs": [],
   "source": [
    "v = 50"
   ]
  },
  {
   "cell_type": "markdown",
   "metadata": {
    "slideshow": {
     "slide_type": "fragment"
    }
   },
   "source": [
    "> Dalej już Wy!"
   ]
  },
  {
   "cell_type": "markdown",
   "metadata": {
    "slideshow": {
     "slide_type": "slide"
    }
   },
   "source": [
    "#### Rozwiązanie"
   ]
  },
  {
   "cell_type": "code",
   "execution_count": null,
   "metadata": {
    "slideshow": {
     "slide_type": "fragment"
    }
   },
   "outputs": [],
   "source": [
    "class PySolution:\n",
    "    def two_sum(self, nums, target):\n",
    "        lookup = {}\n",
    "        for i, num in enumerate(nums):\n",
    "            if target - num in lookup:\n",
    "                return (lookup[target - num], i)\n",
    "            lookup[num] = i"
   ]
  },
  {
   "cell_type": "code",
   "execution_count": null,
   "metadata": {
    "slideshow": {
     "slide_type": "fragment"
    }
   },
   "outputs": [],
   "source": [
    "p = PySolution()"
   ]
  },
  {
   "cell_type": "code",
   "execution_count": null,
   "metadata": {
    "slideshow": {
     "slide_type": "fragment"
    }
   },
   "outputs": [],
   "source": [
    "index1, index2 = p.two_sum(t, v)"
   ]
  },
  {
   "cell_type": "code",
   "execution_count": null,
   "metadata": {
    "slideshow": {
     "slide_type": "fragment"
    }
   },
   "outputs": [],
   "source": [
    "print(\"index1 =\", index1)"
   ]
  },
  {
   "cell_type": "code",
   "execution_count": null,
   "metadata": {
    "slideshow": {
     "slide_type": "fragment"
    }
   },
   "outputs": [],
   "source": [
    "print(\"index2 =\", index2)"
   ]
  },
  {
   "cell_type": "code",
   "execution_count": null,
   "metadata": {
    "slideshow": {
     "slide_type": "skip"
    }
   },
   "outputs": [],
   "source": []
  }
 ],
 "metadata": {
  "celltoolbar": "Slideshow",
  "kernelspec": {
   "display_name": "Python 3 (ipykernel)",
   "language": "python",
   "name": "python3"
  },
  "language_info": {
   "codemirror_mode": {
    "name": "ipython",
    "version": 3
   },
   "file_extension": ".py",
   "mimetype": "text/x-python",
   "name": "python",
   "nbconvert_exporter": "python",
   "pygments_lexer": "ipython3",
   "version": "3.11.3"
  }
 },
 "nbformat": 4,
 "nbformat_minor": 4
}
