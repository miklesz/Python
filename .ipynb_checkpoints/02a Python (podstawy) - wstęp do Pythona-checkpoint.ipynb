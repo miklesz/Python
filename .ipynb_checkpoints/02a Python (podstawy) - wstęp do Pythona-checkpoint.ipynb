{
 "cells": [
  {
   "cell_type": "markdown",
   "metadata": {
    "slideshow": {
     "slide_type": "slide"
    }
   },
   "source": [
    "# Python (podstawy) - wstęp do Pythona\n",
    "_Mikołaj Leszczuk_\n",
    "![](https://upload.wikimedia.org/wikipedia/commons/f/f8/Python_logo_and_wordmark.svg)\n",
    "![](https://i.creativecommons.org/l/by/4.0/88x31.png)"
   ]
  },
  {
   "cell_type": "markdown",
   "metadata": {
    "slideshow": {
     "slide_type": "slide"
    }
   },
   "source": [
    "## Python"
   ]
  },
  {
   "cell_type": "markdown",
   "metadata": {
    "slideshow": {
     "slide_type": "fragment"
    }
   },
   "source": [
    "* Jeden z najpopularniejszych języków programowania\n",
    "* Dynamicznie typowany językiem interpretowany wysokiego poziomu\n",
    "* Podstawowa idea przewodnia przy jego tworzeniu – składnia kodu jak najbardziej:\n",
    "  * Czytelna\n",
    "  * Klarowna (przejrzysta)\n",
    "  * Zwięzła\n",
    "* Stworzony w latach 90. przez Guido van Rossuma (NL)"
   ]
  },
  {
   "cell_type": "markdown",
   "metadata": {
    "slideshow": {
     "slide_type": "subslide"
    }
   },
   "source": [
    "* Nazwa pochodząca od tytułu serialu komediowego emitowanego w BBC pt. “Latający cyrk Monty Pythona”\n",
    "![](https://upload.wikimedia.org/wikipedia/en/c/cd/Monty_Python%27s_Flying_Circus_Title_Card.png)\n",
    "* Język programowania:\n",
    "  * **Ogólnego przeznaczenia**\n",
    "  * O rozbudowanym pakiecie bibliotek standardowych"
   ]
  },
  {
   "cell_type": "markdown",
   "metadata": {
    "slideshow": {
     "slide_type": "subslide"
    }
   },
   "source": [
    "* Cechy charakterystyczne Pythona:\n",
    "  * Prostota\n",
    "  * Przejrzystość\n",
    "  * Łatwość wykonywania złożonych operacji\n",
    "  * Wygodna diagnostyka błędów\n",
    "  * Ogromny ekosystem modułów dla najróżniejszych zastosowań\n",
    "  * Łatwość łączenia z kodem w innych językach\n",
    "  * Wielo-paradygmatowość\n",
    "  * Skalowalność\n",
    "  * Przenośność\n",
    "* Wsparcie różnych paradygmatów programowania:\n",
    "  * Obiektowego\n",
    "  * Imperatywnego\n",
    "  * Funkcyjnego (w mniejszym stopniu)"
   ]
  },
  {
   "cell_type": "markdown",
   "metadata": {
    "slideshow": {
     "slide_type": "subslide"
    }
   },
   "source": [
    "* W pełni dynamiczny system typów i automatyczne zarządzanie pamięcią, podobne do języków:\n",
    "  * Perl\n",
    "  * Ruby\n",
    "  * Scheme\n",
    "  * Tcl\n",
    "*  Podobnie jak inne języki dynamiczne często używany jako język skryptowy\n",
    "*  Interpretery Pythona dostępne na wiele systemów operacyjnych"
   ]
  },
  {
   "cell_type": "markdown",
   "metadata": {
    "slideshow": {
     "slide_type": "subslide"
    }
   },
   "source": [
    "Podstawowe zasady programowania w Pythonie zawiera tzw. Zen Pythona:"
   ]
  },
  {
   "cell_type": "markdown",
   "metadata": {
    "slideshow": {
     "slide_type": "subslide"
    }
   },
   "source": [
    "> #### Zen of Python by Tim Peters\n",
    "> Beautiful is better than ugly.\\\n",
    "> Explicit is better than implicit.\\\n",
    "> Simple is better than complex.\\\n",
    "> Complex is better than complicated.\\\n",
    "> Flat is better than nested.\\\n",
    "> Sparse is better than dense.\\\n",
    "> Readability counts.\\\n",
    "> Special cases aren't special enough to break the rules.\\\n",
    "> Although practicality beats purity.\\\n",
    "> Errors should never pass silently.\\\n",
    "> Unless explicitly silenced.\\\n",
    "> In the face of ambiguity, refuse the temptation to guess.\\\n",
    "> There should be one—and preferably only one—obvious way to do it.\\\n",
    "> Although that way may not be obvious at first unless you're Dutch.\\\n",
    "> Now is better than never.\\\n",
    "> Although never is often better than right now.\\\n",
    "> If the implementation is hard to explain, it's a bad idea.\\\n",
    "> If the implementation is easy to explain, it may be a good idea.\\\n",
    "> Namespaces are one honking great idea—let's do more of those!"
   ]
  },
  {
   "cell_type": "markdown",
   "metadata": {
    "slideshow": {
     "slide_type": "subslide"
    }
   },
   "source": [
    "> #### Zen Pythona\n",
    "> Piękne jest lepsze niż brzydkie.\\\n",
    "> Wyrażone wprost jest lepsze niż domniemane.\\\n",
    "> Proste jest lepsze niż złożone.\\\n",
    "> Złożone jest lepsze niż skomplikowane.\\\n",
    "> Płaskie jest lepsze niż wielopoziomowe.\\\n",
    "> Rzadkie jest lepsze niż gęste.\\\n",
    "> Czytelność się liczy.\\\n",
    "> Sytuacje wyjątkowe nie są na tyle wyjątkowe, aby łamać reguły.\\\n",
    "> Choć praktyczność przeważa nad konsekwencją.\\\n",
    "> Błędy zawsze powinny być sygnalizowane.\\\n",
    "> Chyba że zostaną celowo ukryte.\\\n",
    "> W razie niejasności powstrzymaj pokusę zgadywania.\\\n",
    "> Powinien być jeden -- i najlepiej tylko jeden -- oczywisty sposób na zrobienie danej rzeczy.\\\n",
    "> Choć ten sposób może nie być oczywisty jeśli nie jest się Holendrem.\\\n",
    "> Teraz jest lepsze niż nigdy.\\\n",
    "> Chociaż nigdy jest często lepsze niż natychmiast.\\\n",
    "> Jeśli rozwiązanie jest trudno wyjaśnić, to jest ono złym pomysłem.\\\n",
    "> Jeśli rozwiązanie jest łatwo wyjaśnić, to może ono być dobrym pomysłem.\\\n",
    "> Przestrzenie nazw to jeden z niesamowicie genialnych pomysłów -- miejmy ich więcej!"
   ]
  },
  {
   "cell_type": "markdown",
   "metadata": {
    "slideshow": {
     "slide_type": "slide"
    }
   },
   "source": [
    "## Interpreter"
   ]
  },
  {
   "cell_type": "markdown",
   "metadata": {
    "slideshow": {
     "slide_type": "fragment"
    }
   },
   "source": [
    "* Polecenie uruchamiające interpreter Pythona, z możliwością pracy w **_trybie interaktywnym_**:\n",
    "```\n",
    "python\n",
    "```\n",
    "* Wyrażenia można wprowadzać z terminala, otrzymując natychmiast wyniki\n",
    "* Zgodnie z założeniem twórców Pythona – ułatwienie nauki programowania, pozwalające wypróbowywać fragmenty kodu ze skutkiem natychmiastowym\n",
    "* Jednakże niezbyt wygodny i nieposiadający zbyt wielu funkcji (brak np. uzupełniania TAB-em)"
   ]
  },
  {
   "cell_type": "markdown",
   "metadata": {
    "slideshow": {
     "slide_type": "subslide"
    }
   },
   "source": [
    "* **IPython** to zaawansowany interaktywny interpreter Pythona:\n",
    "  * Kolorowanie składni\n",
    "  * Podpowiadanie możliwych:\n",
    "    * Komend\n",
    "    * Nazwy\n",
    "* Część pakietu **SciPy**"
   ]
  },
  {
   "cell_type": "markdown",
   "metadata": {
    "slideshow": {
     "slide_type": "subslide"
    }
   },
   "source": [
    "* Uruchomienie poleceniem:\n",
    "```\n",
    "ipython\n",
    "```\n",
    "* Interfejs notebook oparty na przeglądarce z obsługą:\n",
    "  * Tekstu\n",
    "  * Kodu\n",
    "  * Wykresów\n",
    "  * Wyrażeń matematycznych\n",
    "  * Innych"
   ]
  },
  {
   "cell_type": "markdown",
   "metadata": {
    "slideshow": {
     "slide_type": "subslide"
    }
   },
   "source": [
    "* Obsługa interaktywnej wizualizacji danych oraz dostęp do zestawu narzędzi GUI\n",
    "![](https://upload.wikimedia.org/wikipedia/commons/d/de/IPython-6.x-screenshot-osx.png)"
   ]
  },
  {
   "cell_type": "markdown",
   "metadata": {
    "slideshow": {
     "slide_type": "subslide"
    }
   },
   "source": [
    "* Narzędzia do obliczeń równoległych\n",
    "* Wbudowane interpretery do załadowania własnych projektów\n",
    "* IPython oparty na architekturze zapewniającej:\n",
    "  * Zarówno obliczenia równoległe,\n",
    "  * Jak i rozproszone\n",
    "* Dla aplikacji równoległych, możliwe:\n",
    "  * Tworzenia\n",
    "  * Monitorowanie\n",
    "  * Debugowanie\n",
    "  * Uruchamianie\n",
    "* Powłoka często stosowana wraz z pakietami SciPy, zawierającymi procedury matematyczne i numeryczne w postaci szybkich prekompilowanych funkcji"
   ]
  },
  {
   "cell_type": "code",
   "execution_count": null,
   "metadata": {
    "slideshow": {
     "slide_type": "skip"
    }
   },
   "outputs": [],
   "source": []
  }
 ],
 "metadata": {
  "celltoolbar": "Slideshow",
  "kernelspec": {
   "display_name": "Python 3 (ipykernel)",
   "language": "python",
   "name": "python3"
  },
  "language_info": {
   "codemirror_mode": {
    "name": "ipython",
    "version": 3
   },
   "file_extension": ".py",
   "mimetype": "text/x-python",
   "name": "python",
   "nbconvert_exporter": "python",
   "pygments_lexer": "ipython3",
   "version": "3.11.3"
  }
 },
 "nbformat": 4,
 "nbformat_minor": 4
}
