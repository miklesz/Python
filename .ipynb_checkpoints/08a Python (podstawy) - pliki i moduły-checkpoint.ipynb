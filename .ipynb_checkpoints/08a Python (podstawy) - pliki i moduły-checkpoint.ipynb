{
 "cells": [
  {
   "cell_type": "markdown",
   "metadata": {
    "slideshow": {
     "slide_type": "slide"
    }
   },
   "source": [
    "# Python (podstawy) - pliki i moduły\n",
    "_Mikołaj Leszczuk_\n",
    "![](https://inventyourshit.com/wp-content/uploads/2020/11/4lmoe3.jpg)\n",
    "![](https://i.creativecommons.org/l/by/4.0/88x31.png)"
   ]
  },
  {
   "cell_type": "markdown",
   "metadata": {
    "slideshow": {
     "slide_type": "slide"
    }
   },
   "source": [
    "## Konspekt"
   ]
  },
  {
   "cell_type": "markdown",
   "metadata": {
    "slideshow": {
     "slide_type": "fragment"
    }
   },
   "source": [
    "* Operacje na plikach\n",
    "  * Otwieranie i czytanie\n",
    "  * Zapis do pliku\n",
    "  * Zamykanie pliku\n",
    "  * Zautomatyzowany dostęp do pliku\n",
    "* Moduły\n",
    "  * Import modułu\n",
    "  * Wyszukiwanie modułów\n",
    "  * Używanie modułu jako skryptu"
   ]
  },
  {
   "cell_type": "markdown",
   "metadata": {
    "slideshow": {
     "slide_type": "slide"
    }
   },
   "source": [
    "## Operacje na plikach"
   ]
  },
  {
   "cell_type": "markdown",
   "metadata": {
    "slideshow": {
     "slide_type": "slide"
    }
   },
   "source": [
    "### Otwieranie i czytanie"
   ]
  },
  {
   "cell_type": "markdown",
   "metadata": {
    "slideshow": {
     "slide_type": "fragment"
    }
   },
   "source": [
    "```python\n",
    "f = open('write_file_name', 'w')\n",
    "f = open('append_file_name', 'a')\n",
    "f = open('read_file_name', 'r')\n",
    "\n",
    "f.read()\n",
    "\n",
    "f.readline()\n",
    "\n",
    "f.readlines()\n",
    "```"
   ]
  },
  {
   "cell_type": "markdown",
   "metadata": {
    "slideshow": {
     "slide_type": "slide"
    }
   },
   "source": [
    "### Zapis do pliku"
   ]
  },
  {
   "cell_type": "markdown",
   "metadata": {
    "slideshow": {
     "slide_type": "fragment"
    }
   },
   "source": [
    "```python\n",
    "f.write('Witaj\\n’) \n",
    "value = 42 \n",
    "f.write(value) \n",
    "\n",
    ">>>Traceback (most recent call last): \n",
    ">>> File \"<stdin>\", line 1, in <module> \n",
    ">>>TypeError: must be str, not int \n",
    "\n",
    "s = str(value) \n",
    "f.write(s)\n",
    "```"
   ]
  },
  {
   "cell_type": "markdown",
   "metadata": {
    "slideshow": {
     "slide_type": "slide"
    }
   },
   "source": [
    "### Zamykanie pliku"
   ]
  },
  {
   "cell_type": "markdown",
   "metadata": {
    "slideshow": {
     "slide_type": "fragment"
    }
   },
   "source": [
    "```python\n",
    "f.close()\n",
    "```"
   ]
  },
  {
   "cell_type": "markdown",
   "metadata": {
    "slideshow": {
     "slide_type": "slide"
    }
   },
   "source": [
    "### Poruszamy się po plikach – seek"
   ]
  },
  {
   "cell_type": "markdown",
   "metadata": {
    "slideshow": {
     "slide_type": "subslide"
    }
   },
   "source": [
    "* Metoda pliku Pythona\n",
    "```python\n",
    "f.seek(offset[, whence])\n",
    "```\n",
    "ustawia aktualną pozycję pliku na przesunięcie\n",
    "* Argument `whence` jest opcjonalny:\n",
    "  * `0` – oznacza bezwzględne pozycjonowanie pliku (taką przyjmuje wartość domyślną)\n",
    "  * `1` – oznacza szukanie względem bieżącej pozycji\n",
    "  * `2` – oznacza szukanie względem końca pliku\n",
    "```python\n",
    "f.seek(0) # na początek\n",
    "f.seek(0, 2) # na koniec\n",
    "```"
   ]
  },
  {
   "cell_type": "markdown",
   "metadata": {
    "slideshow": {
     "slide_type": "slide"
    }
   },
   "source": [
    "### Przykład"
   ]
  },
  {
   "cell_type": "markdown",
   "metadata": {
    "slideshow": {
     "slide_type": "subslide"
    }
   },
   "source": [
    "`text.txt`:\n",
    "```\n",
    "Co to jest język Python?\n",
    "Python jest szeroko stosowanym dynamicznym językiem programowania wysokiego poziomu, ogólnego przeznaczenia. Jego filozofia projektowania kładzie nacisk na czytelność kodu, a jego składnia pozwala programistom na wyrażanie koncepcji w mniejszej liczbie wierszy kodu niż jest to możliwe w językach takich jak C++ lub Java.\n",
    "Python obsługuje wiele paradygmatów programowania, w tym programowanie obiektowe, imperatywne i funkcjonalne oraz style proceduralne. Posiada dynamiczny system typów i automatyczne zarządzanie pamięcią oraz dużą i wszechstronną bibliotekę standardową.\n",
    "Najlepszym sposobem nauki języka Python są ćwiczenia i pytania z ćwiczeniami.\n",
    "```"
   ]
  },
  {
   "cell_type": "code",
   "execution_count": 3,
   "metadata": {
    "scrolled": false,
    "slideshow": {
     "slide_type": "subslide"
    }
   },
   "outputs": [
    {
     "name": "stdout",
     "output_type": "stream",
     "text": [
      "Nazwa pliku: text.txt\n",
      "Czytaj linię: >Co to jest język Python?\n",
      "<\n",
      "Czytaj linię: >Co to jest język Python?\n",
      "<\n"
     ]
    }
   ],
   "source": [
    "# Otwórz plik\n",
    "f = open(\"text.txt\", \"r\")\n",
    "print(\"Nazwa pliku:\", f.name)\n",
    "\n",
    "line = f.readline()\n",
    "print(\"Czytaj linię: >\" + line + \"<\")\n",
    "\n",
    "# Ponownie ustaw wskaźnik na początek\n",
    "f.seek(0, 0)  # f.seek(0)\n",
    "line = f.readline()\n",
    "print(\"Czytaj linię: >\" + line + \"<\")\n",
    "\n",
    "# Zamknij otwarty plik\n",
    "f.close()"
   ]
  },
  {
   "cell_type": "markdown",
   "metadata": {
    "slideshow": {
     "slide_type": "slide"
    }
   },
   "source": [
    "### Poruszamy się po plikach – tell"
   ]
  },
  {
   "cell_type": "markdown",
   "metadata": {
    "slideshow": {
     "slide_type": "fragment"
    }
   },
   "source": [
    "* Metoda pliku Pythona\n",
    "```python\n",
    "f.tell()\n",
    "```\n",
    "zwraca bieżącą pozycję wskaźnika odczytu / zapisu pliku w pliku\n",
    "* Argumentów – brak"
   ]
  },
  {
   "cell_type": "markdown",
   "metadata": {
    "slideshow": {
     "slide_type": "slide"
    }
   },
   "source": [
    "### Przykład"
   ]
  },
  {
   "cell_type": "code",
   "execution_count": 4,
   "metadata": {
    "scrolled": true,
    "slideshow": {
     "slide_type": "fragment"
    }
   },
   "outputs": [
    {
     "name": "stdout",
     "output_type": "stream",
     "text": [
      "Nazwa pliku:  text.txt\n",
      "Aktualna pozycja: 0\n",
      "Czytaj linię: >Co to jest język Python?\n",
      "<\n",
      "Aktualna pozycja: 26\n"
     ]
    }
   ],
   "source": [
    "# Otwórz plik\n",
    "f = open(\"text.txt\", \"r\")\n",
    "print(\"Nazwa pliku: \", f.name)\n",
    "\n",
    "# Uzyskaj aktualną pozycję pliku.\n",
    "pos = f.tell()\n",
    "print(\"Aktualna pozycja: \" + str(pos))\n",
    "\n",
    "line = f.readline()\n",
    "print(\"Czytaj linię: >\" + line + \"<\")\n",
    " \n",
    "# Uzyskaj aktualną pozycję pliku.\n",
    "pos = f.tell()\n",
    "print(\"Aktualna pozycja: \" + str(pos))\n",
    "\n",
    "# Zamknij otwarty plik\n",
    "f.close()"
   ]
  },
  {
   "cell_type": "markdown",
   "metadata": {
    "slideshow": {
     "slide_type": "slide"
    }
   },
   "source": [
    "## Moduły"
   ]
  },
  {
   "cell_type": "markdown",
   "metadata": {
    "slideshow": {
     "slide_type": "slide"
    }
   },
   "source": [
    "### Import modułów"
   ]
  },
  {
   "cell_type": "markdown",
   "metadata": {
    "slideshow": {
     "slide_type": "fragment"
    }
   },
   "source": [
    "* Moduł importujemy poleceniem\n",
    "```python\n",
    "import <nazwa-modułu>\n",
    "```\n",
    "* lub\n",
    "```python\n",
    "import <nazwa-modułu> as <alias>\n",
    "```\n",
    "* Dla Pythona dostępnych jest wiele różnych modułów."
   ]
  },
  {
   "cell_type": "markdown",
   "metadata": {
    "slideshow": {
     "slide_type": "slide"
    }
   },
   "source": [
    "### `os` - Różne interfejsy systemu operacyjnego"
   ]
  },
  {
   "cell_type": "markdown",
   "metadata": {
    "slideshow": {
     "slide_type": "fragment"
    }
   },
   "source": [
    "Ten moduł zapewnia przenośny sposób korzystania z funkcji zależnych od systemu operacyjnego. Przy czym, jeśli chcesz tylko odczytać lub zapisać plik, wystarczy funkcja `open()`, jeśli chcesz manipulować ścieżkami, potrzebny jest moduł `os.path` (omówiony później). Do obsługi plików i katalogów wysokiego poziomu należy użyć modułu `shutil` (omówiony później)."
   ]
  },
  {
   "cell_type": "markdown",
   "metadata": {
    "slideshow": {
     "slide_type": "subslide"
    }
   },
   "source": [
    "Uwagi dotyczące dostępności tych funkcji:\n",
    "* Konstrukcja wszystkich wbudowanych modułów Pythona zależnych od systemu operacyjnego jest taka, że dopóki dostępna jest ta sama funkcjonalność, używa tego samego interfejsu.\n",
    "* Rozszerzenia specyficzne dla konkretnego systemu operacyjnego są również dostępne za pośrednictwem modułu `os`, ale korzystanie z nich jest oczywiście zagrożeniem dla przenośności.\n",
    "* Wszystkie funkcje akceptujące ścieżki lub nazwy plików akceptują zarówno bajty, jak i ciągi."
   ]
  },
  {
   "cell_type": "markdown",
   "metadata": {
    "slideshow": {
     "slide_type": "subslide"
    }
   },
   "source": [
    "> **Uwaga:** Wszystkie funkcje w tym module wywołują wyjątek `OSError` (lub jego podklasy) w przypadku nieprawidłowych lub niedostępnych nazw plików i ścieżek lub innych argumentów, które mają poprawny typ, ale nie są akceptowane przez system operacyjny."
   ]
  },
  {
   "cell_type": "markdown",
   "metadata": {
    "slideshow": {
     "slide_type": "slide"
    }
   },
   "source": [
    "#### `os.system(command)`"
   ]
  },
  {
   "cell_type": "markdown",
   "metadata": {
    "slideshow": {
     "slide_type": "fragment"
    }
   },
   "source": [
    "Wykonuje polecenie (ciąg znaków) w podpowłoce. Jest to zaimplementowane przez wywołanie standardowej funkcji C `system()` i ma te same ograniczenia. Jeśli polecenie wygeneruje jakiekolwiek dane wyjściowe, zostanie ono wysłane do standardowego strumienia wyjściowego interpretera. Standard C nie określa znaczenia wartości zwracanej przez funkcję C, więc wartość zwracana przez funkcję Pythona jest zależna od systemu."
   ]
  },
  {
   "cell_type": "markdown",
   "metadata": {
    "slideshow": {
     "slide_type": "slide"
    }
   },
   "source": [
    "#### Import modułów – przykład"
   ]
  },
  {
   "cell_type": "markdown",
   "metadata": {
    "slideshow": {
     "slide_type": "fragment"
    }
   },
   "source": [
    "* W poniższym przykładzie ładujemy moduł os\n",
    "* To jest skrót od **Systemu Operacyjnego** (ang. **_Operating System_**), więc możesz wykonywać zadania systemowe\n",
    "```python\n",
    "import os\n",
    "os.system(\"dir\")    # Windows\n",
    "os.system(\"ls\")     # UNIX\n",
    "```\n",
    "* Korzystając z tego modułu, wywołujemy jedną z jego funkcji o nazwie `system` (uruchamia polecenie)"
   ]
  },
  {
   "cell_type": "markdown",
   "metadata": {
    "slideshow": {
     "slide_type": "subslide"
    }
   },
   "source": [
    "* W tym przypadku po prostu wyświetli listę plików w katalogu:\n",
    "  * Polecenie `dir` \t– Windows\n",
    "  * Polecenie `ls`\t– UNIX"
   ]
  },
  {
   "cell_type": "code",
   "execution_count": 5,
   "metadata": {
    "scrolled": true,
    "slideshow": {
     "slide_type": "fragment"
    }
   },
   "outputs": [
    {
     "name": "stdout",
     "output_type": "stream",
     "text": [
      "01a Python (podstawy) - wstęp do programowania.ipynb\n",
      "01b Python (podstawy) - wstęp do programowania.ipynb\n",
      "01c Python (podstawy) - wstęp do programowania.ipynb\n",
      "02a Python (podstawy) - wstęp do Pythona.ipynb\n",
      "02b Python (podstawy) - wstęp do Pythona.ipynb\n",
      "02c Python (podstawy) - wstęp do Pythona.ipynb\n",
      "03a Python (podstawy) - biblioteki i Project Jupyter.ipynb\n",
      "03b Python (podstawy) - środowiska programistyczne.ipynb\n",
      "03c Python (podstawy) - środowiska programistyczne.ipynb\n",
      "04a Python (podstawy) - typy danych.ipynb\n",
      "04b Python (podstawy) - typy danych.ipynb\n",
      "05a Python (podstawy) - elementy języka.ipynb\n",
      "05b Python (podstawy) - elementy języka.ipynb\n",
      "06a Python (podstawy) - funkcje.ipynb\n",
      "06b Python (podstawy) - funkcje.ipynb\n",
      "07a Python (podstawy) - wyjątki.ipynb\n",
      "07b Python (podstawy) - wyjątki.ipynb\n",
      "08a Python (podstawy) - pliki i moduły.ipynb\n",
      "08b Python (podstawy) - pliki i moduły.ipynb\n",
      "09a Python (programowanie funkcyjne) - funkcje.ipynb\n",
      "09b Python (programowanie funkcyjne) -"
     ]
    },
    {
     "data": {
      "text/plain": [
       "0"
      ]
     },
     "execution_count": 5,
     "metadata": {},
     "output_type": "execute_result"
    },
    {
     "name": "stdout",
     "output_type": "stream",
     "text": [
      " funkcje.ipynb\n",
      "10 Python (OOP) - obiekty.ipynb\n",
      "11 Python (OOP) - klasy.ipynb\n",
      "12 Python (OOP) - dziedziczenie.ipynb\n",
      "13 Python (OOP) - zaawansowana obiektowość.ipynb\n",
      "14 Python (OOP) - metody specjalne.ipynb\n",
      "15 Python (OOP) - iterowanie.ipynb\n",
      "16 Python (OOP) - modelowanie.ipynb\n",
      "NumPy_Overview.html\n",
      "PandasHomework.ipynb\n",
      "Python (programowanie funkcyjne) - prework.pptx\n",
      "Untitled.ipynb\n",
      "\u001b[34m__pycache__\u001b[m\u001b[m\n",
      "abc.txt\n",
      "bank.py\n",
      "demofile.txt\n",
      "eafe6064fb2222acdcdbf08d5408231c.jpg\n",
      "file_path\n",
      "fruit.py\n",
      "sonety.txt\n",
      "test\n",
      "test.txt\n",
      "text.txt\n",
      "text2.txt\n"
     ]
    }
   ],
   "source": [
    "import os\n",
    "# os.system(\"dir\")    # Windows\n",
    "os.system(\"ls\")     # UNIX"
   ]
  },
  {
   "cell_type": "markdown",
   "metadata": {
    "slideshow": {
     "slide_type": "slide"
    }
   },
   "source": [
    "#### `os.mkdir(path)`"
   ]
  },
  {
   "cell_type": "markdown",
   "metadata": {
    "slideshow": {
     "slide_type": "fragment"
    }
   },
   "source": [
    "Utworzy katalog o nazwie `path`."
   ]
  },
  {
   "cell_type": "code",
   "execution_count": 6,
   "metadata": {
    "scrolled": true,
    "slideshow": {
     "slide_type": "fragment"
    }
   },
   "outputs": [],
   "source": [
    "import os\n",
    "os.mkdir('00_abc')"
   ]
  },
  {
   "cell_type": "code",
   "execution_count": 7,
   "metadata": {
    "slideshow": {
     "slide_type": "subslide"
    }
   },
   "outputs": [
    {
     "name": "stdout",
     "output_type": "stream",
     "text": [
      "\u001b[34m00_abc\u001b[m\u001b[m\n",
      "01a Python (podstawy) - wstęp do programowania.ipynb\n",
      "01b Python (podstawy) - wstęp do programowania.ipynb\n",
      "01c Python (podstawy) - wstęp do programowania.ipynb\n",
      "02a Python (podstawy) - wstęp do Pythona.ipynb\n",
      "02b Python (podstawy) - wstęp do Pythona.ipynb\n",
      "02c Python (podstawy) - wstęp do Pythona.ipynb\n",
      "03a Python (podstawy) - biblioteki i Project Jupyter.ipynb\n",
      "03b Python (podstawy) - środowiska programistyczne.ipynb\n",
      "03c Python (podstawy) - środowiska programistyczne.ipynb\n",
      "04a Python (podstawy) - typy danych.ipynb\n",
      "04b Python (podstawy) - typy danych.ipynb\n",
      "05a Python (podstawy) - elementy języka.ipynb\n",
      "05b Python (podstawy) - elementy języka.ipynb\n",
      "06a Python (podstawy) - funkcje.ipynb\n",
      "06b Python (podstawy) - funkcje.ipynb\n",
      "07a Python (podstawy) - wyjątki.ipynb\n",
      "07b Python (podstawy) - wyjątki.ipynb\n",
      "08a Python (podstawy) - pliki i moduły.ipynb\n",
      "08b Python (podstawy) - pliki i moduły.ipynb\n",
      "09a Python (programowanie funkcyjne) - funkcje.ipynb\n",
      "09b Python (programowanie funkcyjne) - funkcje.ipynb\n",
      "10 Python (OOP) - obiekty.ipynb\n",
      "11 Python (OOP) - klasy.ipynb\n",
      "12 Python (OOP) - dziedziczenie.ipynb\n",
      "13 Python (OOP) - zaawansowana obiektowość.ipynb\n",
      "14 Python (OOP) - metody specjalne.ipynb\n",
      "15 Python (OOP) - iterowanie.ipynb\n",
      "16 Python (OOP) - modelowanie.ipynb\n",
      "NumPy_Overview.html\n",
      "PandasHomework.ipynb\n",
      "Python (programowanie funkcyjne) - prework.pptx\n",
      "Untitled.ipynb\n",
      "\u001b[34m__pycache__\u001b[m\u001b[m\n",
      "abc.txt\n",
      "bank.py\n",
      "demofile.txt\n",
      "eafe6064fb2222acdcdbf08d5408231c.jpg\n",
      "file_path\n",
      "fruit.py\n",
      "sonety.txt\n",
      "test\n",
      "test.txt\n",
      "text.txt\n",
      "text2.txt\n"
     ]
    },
    {
     "data": {
      "text/plain": [
       "0"
      ]
     },
     "execution_count": 7,
     "metadata": {},
     "output_type": "execute_result"
    }
   ],
   "source": [
    "os.system('ls')"
   ]
  },
  {
   "cell_type": "markdown",
   "metadata": {
    "slideshow": {
     "slide_type": "slide"
    }
   },
   "source": [
    "#### `os.stat(path)`"
   ]
  },
  {
   "cell_type": "markdown",
   "metadata": {
    "slideshow": {
     "slide_type": "fragment"
    }
   },
   "source": [
    "Uzyskuje status pliku lub deskryptor pliku. Wykonuje odpowiednik wywołania systemowego `stat()` na podanej ścieżce. ścieżka może być określona jako ciąg lub bajty."
   ]
  },
  {
   "cell_type": "code",
   "execution_count": 8,
   "metadata": {
    "slideshow": {
     "slide_type": "fragment"
    }
   },
   "outputs": [
    {
     "name": "stdout",
     "output_type": "stream",
     "text": [
      "os.stat_result(st_mode=33188, st_ino=2858811, st_dev=16777233, st_nlink=1, st_uid=501, st_gid=20, st_size=702, st_atime=1694346181, st_mtime=1597845073, st_ctime=1694346178)\n"
     ]
    }
   ],
   "source": [
    "import os\n",
    "statinfo = os.stat('text.txt')\n",
    "print(statinfo)"
   ]
  },
  {
   "cell_type": "markdown",
   "metadata": {
    "slideshow": {
     "slide_type": "slide"
    }
   },
   "source": [
    "### Uzyskiwanie określonych funkcji z modułu"
   ]
  },
  {
   "cell_type": "markdown",
   "metadata": {
    "slideshow": {
     "slide_type": "fragment"
    }
   },
   "source": [
    "* Możemy też zaimportować (uzyskać) niektóre (określone) obiekty (funkcje) z modułu\n",
    "```python\n",
    "from module import <obiekt1>, <obiekt2>, <obiekt3>\n",
    "```"
   ]
  },
  {
   "cell_type": "markdown",
   "metadata": {
    "slideshow": {
     "slide_type": "slide"
    }
   },
   "source": [
    "### Uzyskiwanie określonych funkcji z modułu – przykład"
   ]
  },
  {
   "cell_type": "markdown",
   "metadata": {
    "slideshow": {
     "slide_type": "fragment"
    }
   },
   "source": [
    "* Istnieje moduł o nazwie `time`, który ma wszelkiego rodzaju funkcje związane z czasem: pobierz datę, godzinę, minutę, sekundę i tak dalej\n",
    "* To całkiem sporo funkcji\n",
    "* Powiedzmy, że chcesz, aby program odczekał 2 sekundy\n",
    "* Jeśli chcesz, możesz zaimportować określoną funkcję zamiast całego modułu"
   ]
  },
  {
   "cell_type": "code",
   "execution_count": 10,
   "metadata": {
    "slideshow": {
     "slide_type": "subslide"
    }
   },
   "outputs": [
    {
     "name": "stdout",
     "output_type": "stream",
     "text": [
      "Dobranoc\n",
      "Dzień dobry\n"
     ]
    }
   ],
   "source": [
    "# import time\n",
    "# print(\"Dobranoc\")\n",
    "# time.sleep(2)\n",
    "# print(\"Dzień dobry\")\n",
    "\n",
    "from time import sleep\n",
    "print(\"Dobranoc\")\n",
    "sleep(2)\n",
    "print(\"Dzień dobry\")"
   ]
  },
  {
   "cell_type": "markdown",
   "metadata": {
    "slideshow": {
     "slide_type": "slide"
    }
   },
   "source": [
    "### Importowanie wszystkich funkcji z modułu (z przykładem)"
   ]
  },
  {
   "cell_type": "markdown",
   "metadata": {
    "slideshow": {
     "slide_type": "subslide"
    }
   },
   "source": [
    "* ***Możliwe jest importowanie wielu (wszystkich) funkcji z modułów***\n",
    "  * _Nie należy stosować polecenia – nie jest to zalecane_\n",
    "  ```python\n",
    "  from module import *\n",
    "  ```\n",
    "  * _ponieważ może ono spowodować kolizję nazw pomiędzy funkcjami z różnych modułów_\n",
    "* Poniższy przykład importuje cały moduł czasu (wszystkie funkcje), którego możesz następnie użyć"
   ]
  },
  {
   "cell_type": "code",
   "execution_count": 11,
   "metadata": {
    "slideshow": {
     "slide_type": "fragment"
    }
   },
   "outputs": [
    {
     "name": "stdout",
     "output_type": "stream",
     "text": [
      "Dobranoc\n",
      "Dzień dobry\n"
     ]
    }
   ],
   "source": [
    "from time import *\n",
    "print('Dobranoc')\n",
    "sleep(2)\n",
    "print('Dzień dobry')"
   ]
  },
  {
   "cell_type": "markdown",
   "metadata": {
    "slideshow": {
     "slide_type": "slide"
    }
   },
   "source": [
    "### Dostępność obiektów z załadowanych modułów"
   ]
  },
  {
   "cell_type": "markdown",
   "metadata": {
    "slideshow": {
     "slide_type": "fragment"
    }
   },
   "source": [
    "* Obiekty z załadowanych modułów dostępne są przez strukturę:\n",
    "  * `nazwa-modułu.obiekt`, lub\n",
    "  * `obiekt`, gdy importowaliśmy pojedyncze obiekty"
   ]
  },
  {
   "cell_type": "markdown",
   "metadata": {
    "slideshow": {
     "slide_type": "fragment"
    }
   },
   "source": [
    "* Lista funkcji w module:\n",
    "  * Aby wyświetlić i zobaczyć wszystkie funkcje i klasy w module, wpisz:"
   ]
  },
  {
   "cell_type": "code",
   "execution_count": 12,
   "metadata": {
    "slideshow": {
     "slide_type": "subslide"
    }
   },
   "outputs": [
    {
     "name": "stdout",
     "output_type": "stream",
     "text": [
      "['CLD_CONTINUED', 'CLD_DUMPED', 'CLD_EXITED', 'CLD_KILLED', 'CLD_STOPPED', 'CLD_TRAPPED', 'DirEntry', 'EX_CANTCREAT', 'EX_CONFIG', 'EX_DATAERR', 'EX_IOERR', 'EX_NOHOST', 'EX_NOINPUT', 'EX_NOPERM', 'EX_NOUSER', 'EX_OK', 'EX_OSERR', 'EX_OSFILE', 'EX_PROTOCOL', 'EX_SOFTWARE', 'EX_TEMPFAIL', 'EX_UNAVAILABLE', 'EX_USAGE', 'F_LOCK', 'F_OK', 'F_TEST', 'F_TLOCK', 'F_ULOCK', 'GenericAlias', 'Mapping', 'MutableMapping', 'NGROUPS_MAX', 'O_ACCMODE', 'O_APPEND', 'O_ASYNC', 'O_CLOEXEC', 'O_CREAT', 'O_DIRECTORY', 'O_DSYNC', 'O_EVTONLY', 'O_EXCL', 'O_EXLOCK', 'O_FSYNC', 'O_NDELAY', 'O_NOCTTY', 'O_NOFOLLOW', 'O_NOFOLLOW_ANY', 'O_NONBLOCK', 'O_RDONLY', 'O_RDWR', 'O_SHLOCK', 'O_SYMLINK', 'O_SYNC', 'O_TRUNC', 'O_WRONLY', 'POSIX_SPAWN_CLOSE', 'POSIX_SPAWN_DUP2', 'POSIX_SPAWN_OPEN', 'PRIO_PGRP', 'PRIO_PROCESS', 'PRIO_USER', 'P_ALL', 'P_NOWAIT', 'P_NOWAITO', 'P_PGID', 'P_PID', 'P_WAIT', 'PathLike', 'RTLD_GLOBAL', 'RTLD_LAZY', 'RTLD_LOCAL', 'RTLD_NODELETE', 'RTLD_NOLOAD', 'RTLD_NOW', 'R_OK', 'SCHED_FIFO', 'SCHED_OTHER', 'SCHED_RR', 'SEEK_CUR', 'SEEK_DATA', 'SEEK_END', 'SEEK_HOLE', 'SEEK_SET', 'ST_NOSUID', 'ST_RDONLY', 'TMP_MAX', 'WCONTINUED', 'WCOREDUMP', 'WEXITED', 'WEXITSTATUS', 'WIFCONTINUED', 'WIFEXITED', 'WIFSIGNALED', 'WIFSTOPPED', 'WNOHANG', 'WNOWAIT', 'WSTOPPED', 'WSTOPSIG', 'WTERMSIG', 'WUNTRACED', 'W_OK', 'X_OK', '_Environ', '__all__', '__builtins__', '__doc__', '__file__', '__loader__', '__name__', '__package__', '__spec__', '_check_methods', '_execvpe', '_exists', '_exit', '_fspath', '_fwalk', '_get_exports_list', '_spawnvef', '_walk', '_wrap_close', 'abc', 'abort', 'access', 'altsep', 'chdir', 'chflags', 'chmod', 'chown', 'chroot', 'close', 'closerange', 'confstr', 'confstr_names', 'cpu_count', 'ctermid', 'curdir', 'defpath', 'device_encoding', 'devnull', 'dup', 'dup2', 'environ', 'environb', 'error', 'execl', 'execle', 'execlp', 'execlpe', 'execv', 'execve', 'execvp', 'execvpe', 'extsep', 'fchdir', 'fchmod', 'fchown', 'fdopen', 'fork', 'forkpty', 'fpathconf', 'fsdecode', 'fsencode', 'fspath', 'fstat', 'fstatvfs', 'fsync', 'ftruncate', 'fwalk', 'get_blocking', 'get_exec_path', 'get_inheritable', 'get_terminal_size', 'getcwd', 'getcwdb', 'getegid', 'getenv', 'getenvb', 'geteuid', 'getgid', 'getgrouplist', 'getgroups', 'getloadavg', 'getlogin', 'getpgid', 'getpgrp', 'getpid', 'getppid', 'getpriority', 'getsid', 'getuid', 'initgroups', 'isatty', 'kill', 'killpg', 'lchflags', 'lchmod', 'lchown', 'linesep', 'link', 'listdir', 'lockf', 'login_tty', 'lseek', 'lstat', 'major', 'makedev', 'makedirs', 'minor', 'mkdir', 'mkfifo', 'mknod', 'name', 'nice', 'open', 'openpty', 'pardir', 'path', 'pathconf', 'pathconf_names', 'pathsep', 'pipe', 'popen', 'posix_spawn', 'posix_spawnp', 'pread', 'preadv', 'putenv', 'pwrite', 'pwritev', 'read', 'readlink', 'readv', 'register_at_fork', 'remove', 'removedirs', 'rename', 'renames', 'replace', 'rmdir', 'scandir', 'sched_get_priority_max', 'sched_get_priority_min', 'sched_yield', 'sendfile', 'sep', 'set_blocking', 'set_inheritable', 'setegid', 'seteuid', 'setgid', 'setgroups', 'setpgid', 'setpgrp', 'setpriority', 'setregid', 'setreuid', 'setsid', 'setuid', 'spawnl', 'spawnle', 'spawnlp', 'spawnlpe', 'spawnv', 'spawnve', 'spawnvp', 'spawnvpe', 'st', 'stat', 'stat_result', 'statvfs', 'statvfs_result', 'strerror', 'supports_bytes_environ', 'supports_dir_fd', 'supports_effective_ids', 'supports_fd', 'supports_follow_symlinks', 'symlink', 'sync', 'sys', 'sysconf', 'sysconf_names', 'system', 'tcgetpgrp', 'tcsetpgrp', 'terminal_size', 'times', 'times_result', 'truncate', 'ttyname', 'umask', 'uname', 'uname_result', 'unlink', 'unsetenv', 'urandom', 'utime', 'wait', 'wait3', 'wait4', 'waitpid', 'waitstatus_to_exitcode', 'walk', 'write', 'writev']\n"
     ]
    }
   ],
   "source": [
    "import os\n",
    "print(dir(os))"
   ]
  },
  {
   "cell_type": "markdown",
   "metadata": {
    "slideshow": {
     "slide_type": "slide"
    }
   },
   "source": [
    "### Tworzenie modułu (z przykładem)"
   ]
  },
  {
   "cell_type": "markdown",
   "metadata": {
    "slideshow": {
     "slide_type": "fragment"
    }
   },
   "source": [
    "* Aby utworzyć moduł, utwórz plik w języku Python\n",
    "* Następnie zaimportuj go jak każdy inny moduł\n",
    "* Stwórz swój moduł (`fruit.py`)"
   ]
  },
  {
   "cell_type": "code",
   "execution_count": null,
   "metadata": {
    "slideshow": {
     "slide_type": "fragment"
    }
   },
   "outputs": [],
   "source": [
    "def lemon(l):\n",
    "    print('Lemoniada nr', l)"
   ]
  },
  {
   "cell_type": "markdown",
   "metadata": {
    "slideshow": {
     "slide_type": "subslide"
    }
   },
   "source": [
    "* Następnie stwórz swój program (`example.py`) i wywołaj funkcję:"
   ]
  },
  {
   "cell_type": "code",
   "execution_count": 15,
   "metadata": {
    "slideshow": {
     "slide_type": "fragment"
    }
   },
   "outputs": [
    {
     "name": "stdout",
     "output_type": "stream",
     "text": [
      "Lemoniada nr 5\n"
     ]
    }
   ],
   "source": [
    "import fruit\n",
    "fruit.lemon(5)\n",
    "\n",
    "# from fruit import lemon\n",
    "# lemon(5)"
   ]
  },
  {
   "cell_type": "markdown",
   "metadata": {
    "slideshow": {
     "slide_type": "slide"
    }
   },
   "source": [
    "### Wyszukiwanie modułów"
   ]
  },
  {
   "cell_type": "markdown",
   "metadata": {
    "slideshow": {
     "slide_type": "subslide"
    }
   },
   "source": [
    "* Interpreter Pythona wyszukuje moduły w kolejności:\n",
    "  * Katalog, w którym jest uruchamiany skrypt (może być to katalog bieżący)\n",
    "  * Następnie w katalogach zawartych w zmiennej systemowej '`PYTHONPATH`’\n",
    "  * W katalogach systemowych `PATH`\n",
    "* Nie znaleziono modułu Pythona?\n",
    "  * Jeśli pojawi się błąd „`ImportError: No module named`”, oznacza to, że moduł nie jest zainstalowany\n",
    "  * Możesz zainstalować moduł zewnętrzny za pomocą menedżera pakietów"
   ]
  },
  {
   "cell_type": "markdown",
   "metadata": {
    "slideshow": {
     "slide_type": "slide"
    }
   },
   "source": [
    "### Używanie modułu jako skryptu"
   ]
  },
  {
   "cell_type": "markdown",
   "metadata": {
    "slideshow": {
     "slide_type": "fragment"
    }
   },
   "source": [
    "```sh\n",
    "python my.py <argumenty>\n",
    "```\n",
    "* Moduł `my` jest wykonywany tak jak przy wykonaniu `import my` przy czym nazwa modułu `__name__` jest ustawiana na `__main__`\n",
    "```python\n",
    "if __name__ == \"__main__\":\n",
    "    import sys\n",
    "    my_func(int(sys.argv[1]))\n",
    "```"
   ]
  },
  {
   "cell_type": "markdown",
   "metadata": {
    "slideshow": {
     "slide_type": "slide"
    }
   },
   "source": [
    "### Używanie modułu jako skryptu – przykład"
   ]
  },
  {
   "cell_type": "markdown",
   "metadata": {
    "slideshow": {
     "slide_type": "fragment"
    }
   },
   "source": [
    "```python\n",
    "def lemon(l):\n",
    "    print('Lemoniada nr', l)\n",
    "\n",
    "    \n",
    "if __name__ == \"__main__\":\n",
    "    import sys\n",
    "    lemon(int(sys.argv[1]))\n",
    "```"
   ]
  },
  {
   "cell_type": "markdown",
   "metadata": {
    "slideshow": {
     "slide_type": "slide"
    }
   },
   "source": [
    "### `glob` - Rozszerzanie wzorca ścieżki w stylu uniksowym"
   ]
  },
  {
   "cell_type": "markdown",
   "metadata": {
    "slideshow": {
     "slide_type": "fragment"
    }
   },
   "source": [
    "Moduł `glob` odnajduje wszystkie ścieżki pasujące do określonego wzorca zgodnie z regułami używanymi przez powłokę uniksową, chociaż wyniki są zwracane w dowolnej kolejności. Nie jest wykonywane żadne rozwinięcie tyldy, ale `*`, `?` i zakresy znaków wyrażone za pomocą `[]` zostaną poprawnie dopasowane.\n",
    "\n",
    "Zwróćcie uwagę, że pliki zaczynające się od kropki (`.`) można dopasować tylko do wzorców, które również zaczynają się od kropki.\n",
    "\n",
    "Aby uzyskać dosłowne dopasowanie, umieśćcie metaznaki w nawiasach. Na przykład `'[?]'` pasuje do znaku `'?'`."
   ]
  },
  {
   "cell_type": "markdown",
   "metadata": {
    "slideshow": {
     "slide_type": "slide"
    }
   },
   "source": [
    "#### `glob.glob(pathname)`"
   ]
  },
  {
   "cell_type": "markdown",
   "metadata": {
    "slideshow": {
     "slide_type": "fragment"
    }
   },
   "source": [
    "Zwraca prawdopodobnie pustą listę nazw ścieżek, które pasują do ścieżki _pathname_, która musi być ciągiem zawierającym specyfikację ścieżki. Ścieżka _pathname_ może być bezwzględna (jak `/usr/src/Python-1.5/Makefile`) lub względna (jak `../../Tools/*/*.gif`) i może zawierać symbole wieloznaczne w stylu powłoki. Zerwane dowiązania symboliczne są uwzględniane w wynikach (tak jak w powłoce). To, czy wyniki zostaną posortowane, zależy od systemu plików. Jeśli plik spełniający warunki zostanie usunięty lub dodany podczas wywoływania tej funkcji, nie jest określona nazwa ścieżki do tego pliku."
   ]
  },
  {
   "cell_type": "code",
   "execution_count": 18,
   "metadata": {
    "slideshow": {
     "slide_type": "subslide"
    }
   },
   "outputs": [
    {
     "name": "stdout",
     "output_type": "stream",
     "text": [
      "['06b Python (podstawy) - funkcje.ipynb', 'fruit.py', '13 Python (OOP) - zaawansowana obiektowość.ipynb', '05a Python (podstawy) - elementy języka.ipynb', 'eafe6064fb2222acdcdbf08d5408231c.jpg', 'Python (programowanie funkcyjne) - prework.pptx', '15 Python (OOP) - iterowanie.ipynb', '08a Python (podstawy) - pliki i moduły.ipynb', '02c Python (podstawy) - wstęp do Pythona.ipynb', 'test', 'abc.txt', '11 Python (OOP) - klasy.ipynb', '07a Python (podstawy) - wyjątki.ipynb', 'Untitled.ipynb', '10 Python (OOP) - obiekty.ipynb', '03a Python (podstawy) - biblioteki i Project Jupyter.ipynb', '09a Python (programowanie funkcyjne) - funkcje.ipynb', '14 Python (OOP) - metody specjalne.ipynb', '03b Python (podstawy) - środowiska programistyczne.ipynb', '16 Python (OOP) - modelowanie.ipynb', '05b Python (podstawy) - elementy języka.ipynb', 'bank.py', '__pycache__', 'PandasHomework.ipynb', '08b Python (podstawy) - pliki i moduły.ipynb', '06a Python (podstawy) - funkcje.ipynb', '07b Python (podstawy) - wyjątki.ipynb', 'demofile.txt', '03c Python (podstawy) - środowiska programistyczne.ipynb', '02b Python (podstawy) - wstęp do Pythona.ipynb', '04a Python (podstawy) - typy danych.ipynb', 'NumPy_Overview.html', '04b Python (podstawy) - typy danych.ipynb', 'text2.txt', 'text.txt', 'test.txt', 'sonety.txt', '01a Python (podstawy) - wstęp do programowania.ipynb', '00_abc', '09b Python (programowanie funkcyjne) - funkcje.ipynb', '12 Python (OOP) - dziedziczenie.ipynb', '01b Python (podstawy) - wstęp do programowania.ipynb', 'file_path', '02a Python (podstawy) - wstęp do Pythona.ipynb', '01c Python (podstawy) - wstęp do programowania.ipynb']\n"
     ]
    }
   ],
   "source": [
    "import glob\n",
    "print(glob.glob('*'))"
   ]
  },
  {
   "cell_type": "markdown",
   "metadata": {
    "slideshow": {
     "slide_type": "slide"
    }
   },
   "source": [
    "### `os.path` - Typowe manipulacje ścieżkami"
   ]
  },
  {
   "cell_type": "markdown",
   "metadata": {
    "slideshow": {
     "slide_type": "fragment"
    }
   },
   "source": [
    "Ten moduł implementuje kilka przydatnych funkcji dotyczących nazw ścieżek. Uzupełnia funkcjonalność czytania lub zapisywania plików (zobacz `open()`), a także funkcjonalnośc uzyskiwania dostępu do systemu plików (zobacz moduł `os`). Parametry ścieżki mogą być przekazywane jako ciągi lub bajty.\n",
    "\n",
    "W przeciwieństwie do powłoki uniksowej, Python nie wykonuje żadnych _automatycznych_ rozszerzeń ścieżek."
   ]
  },
  {
   "cell_type": "markdown",
   "metadata": {
    "slideshow": {
     "slide_type": "subslide"
    }
   },
   "source": [
    "> **Uwaga:** Ponieważ różne systemy operacyjne mają różne konwencje nazw ścieżek, w standardowej bibliotece znajduje się kilka wersji tego modułu. Moduł `os.path` jest zawsze modułem ścieżki odpowiednim dla systemu operacyjnego, na którym działa Python, i dlatego może być używany w ścieżkach lokalnych. Możecie jednak również importować i używać poszczególnych modułów, jeśli chcesz manipulować ścieżką, która zawsze jest w jednym z różnych formatów. Wszystkie mają ten sam interfejs:\n",
    "> * `posixpath` dla ścieżek w stylu UNIX\n",
    "> * `ntpath` dla ścieżek Windows"
   ]
  },
  {
   "cell_type": "markdown",
   "metadata": {
    "slideshow": {
     "slide_type": "slide"
    }
   },
   "source": [
    "#### `os.path.exists(path)`"
   ]
  },
  {
   "cell_type": "markdown",
   "metadata": {
    "slideshow": {
     "slide_type": "fragment"
    }
   },
   "source": [
    "Zwróci `True`, jeśli ścieżka `path` odnosi się do istniejącej ścieżki lub deskryptora otwartego pliku. Zwraca `False` dla uszkodzonych dowiązań symbolicznych. Na niektórych platformach ta funkcja może zwrócić wartość `False`, jeśli nie udzielono pozwolenia na wykonanie żądanego pliku, nawet jeśli ścieżka `path` fizycznie istnieje."
   ]
  },
  {
   "cell_type": "code",
   "execution_count": 19,
   "metadata": {
    "slideshow": {
     "slide_type": "fragment"
    }
   },
   "outputs": [
    {
     "name": "stdout",
     "output_type": "stream",
     "text": [
      "True\n"
     ]
    }
   ],
   "source": [
    "import os.path\n",
    "print(os.path.exists('text.txt'))"
   ]
  },
  {
   "cell_type": "markdown",
   "metadata": {
    "slideshow": {
     "slide_type": "slide"
    }
   },
   "source": [
    "### `shutil` - Operacje na plikach wysokiego poziomu"
   ]
  },
  {
   "cell_type": "markdown",
   "metadata": {
    "slideshow": {
     "slide_type": "fragment"
    }
   },
   "source": [
    "Moduł `shutil` oferuje szereg operacji wysokiego poziomu na plikach i kolekcjach plików. W szczególności udostępniane są funkcje wspomagające kopiowanie i usuwanie plików. Stanowi to rozszerzenie modułu `os` służącego do operacji na pojedynczych plikach.\n",
    "\n",
    "> **Ostrzeżenie:** Nawet funkcje kopiowania plików wyższego poziomu nie mogą skopiować wszystkich metadanych pliku.\n",
    "> Na platformach POSIX oznacza to utratę właściciela i grupy pliku oraz list ACL. W systemie macOS rozwidlenia zasobów i inne metadane nie są używane. Oznacza to, że zasoby zostaną utracone, a typ pliku i kody twórcy nie będą poprawne. W systemie Windows właściciele plików, listy ACL i alternatywne strumienie danych nie są kopiowane."
   ]
  },
  {
   "cell_type": "markdown",
   "metadata": {
    "slideshow": {
     "slide_type": "slide"
    }
   },
   "source": [
    "#### `shutil.rmtree(path)`"
   ]
  },
  {
   "cell_type": "markdown",
   "metadata": {
    "slideshow": {
     "slide_type": "fragment"
    }
   },
   "source": [
    "Usunie całe drzewo katalogów; `path` musi wskazywać na katalog (ale nie na dowiązanie symboliczne do katalogu)."
   ]
  },
  {
   "cell_type": "code",
   "execution_count": 20,
   "metadata": {
    "slideshow": {
     "slide_type": "fragment"
    }
   },
   "outputs": [],
   "source": [
    "import shutil\n",
    "shutil.rmtree('00_abc')"
   ]
  },
  {
   "cell_type": "markdown",
   "metadata": {
    "slideshow": {
     "slide_type": "slide"
    }
   },
   "source": [
    "#### `shutil.copyfile(src, dst)`"
   ]
  },
  {
   "cell_type": "markdown",
   "metadata": {
    "slideshow": {
     "slide_type": "fragment"
    }
   },
   "source": [
    "Skopiuje zawartość (bez metadanych) pliku o nazwie `src` do pliku o nazwie `dst` i zwróci `dst` w najbardziej efektywny sposób. `src` i `dst` są obiektami podobnymi do ścieżki lub nazwami ścieżek podanymi jako łańcuchy.\n",
    "\n",
    "`dst` musi być pełną nazwą pliku docelowego. Jeśli `src` i `dst` określają ten sam plik, zgłaszany jest wyjątek `SameFileError`.\n",
    "\n",
    "Lokalizacja docelowa musi być zapisywalna; w przeciwnym razie zostanie zgłoszony wyjątek `OSError`. Jeśli `dst` już istnieje, zostanie zastąpiony. Za pomocą tej funkcji nie można kopiować plików specjalnych, takich jak urządzenia znakowe lub blokowe oraz potoki."
   ]
  },
  {
   "cell_type": "code",
   "execution_count": 21,
   "metadata": {
    "slideshow": {
     "slide_type": "subslide"
    }
   },
   "outputs": [
    {
     "data": {
      "text/plain": [
       "'text2.txt'"
      ]
     },
     "execution_count": 21,
     "metadata": {},
     "output_type": "execute_result"
    }
   ],
   "source": [
    "import shutil\n",
    "shutil.copyfile('text.txt', 'text2.txt')"
   ]
  },
  {
   "cell_type": "code",
   "execution_count": null,
   "metadata": {
    "slideshow": {
     "slide_type": "skip"
    }
   },
   "outputs": [],
   "source": []
  }
 ],
 "metadata": {
  "celltoolbar": "Slideshow",
  "kernelspec": {
   "display_name": "Python 3 (ipykernel)",
   "language": "python",
   "name": "python3"
  },
  "language_info": {
   "codemirror_mode": {
    "name": "ipython",
    "version": 3
   },
   "file_extension": ".py",
   "mimetype": "text/x-python",
   "name": "python",
   "nbconvert_exporter": "python",
   "pygments_lexer": "ipython3",
   "version": "3.11.5"
  }
 },
 "nbformat": 4,
 "nbformat_minor": 4
}
