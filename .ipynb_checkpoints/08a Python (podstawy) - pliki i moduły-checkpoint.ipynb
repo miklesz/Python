{
 "cells": [
  {
   "cell_type": "markdown",
   "metadata": {
    "slideshow": {
     "slide_type": "slide"
    }
   },
   "source": [
    "# Python (podstawy) - pliki i moduły\n",
    "_Mikołaj Leszczuk_\n",
    "![](https://inventyourshit.com/wp-content/uploads/2020/11/4lmoe3.jpg)\n",
    "![](https://i.creativecommons.org/l/by/4.0/88x31.png)"
   ]
  },
  {
   "cell_type": "markdown",
   "metadata": {
    "slideshow": {
     "slide_type": "slide"
    }
   },
   "source": [
    "## Konspekt"
   ]
  },
  {
   "cell_type": "markdown",
   "metadata": {
    "slideshow": {
     "slide_type": "fragment"
    }
   },
   "source": [
    "* Operacje na plikach\n",
    "  * Otwieranie i czytanie\n",
    "  * Zapis do pliku\n",
    "  * Zamykanie pliku\n",
    "  * Instrukcja `with`\n",
    "* Moduły\n",
    "  * Import modułu\n",
    "  * Wyszukiwanie modułów\n",
    "  * Używanie modułu jako skryptu"
   ]
  },
  {
   "cell_type": "markdown",
   "metadata": {
    "slideshow": {
     "slide_type": "slide"
    }
   },
   "source": [
    "## Operacje na plikach"
   ]
  },
  {
   "cell_type": "markdown",
   "metadata": {
    "slideshow": {
     "slide_type": "slide"
    }
   },
   "source": [
    "### Otwieranie i czytanie"
   ]
  },
  {
   "cell_type": "markdown",
   "metadata": {
    "slideshow": {
     "slide_type": "fragment"
    }
   },
   "source": [
    "```python\n",
    "f = open('write_file_name', 'w')\n",
    "f = open('append_file_name', 'a')\n",
    "f = open('read_file_name', 'r')\n",
    "\n",
    "f.read()\n",
    "\n",
    "f.readline()\n",
    "\n",
    "f.readlines()\n",
    "```"
   ]
  },
  {
   "cell_type": "markdown",
   "metadata": {
    "slideshow": {
     "slide_type": "slide"
    }
   },
   "source": [
    "### Zapis do pliku"
   ]
  },
  {
   "cell_type": "markdown",
   "metadata": {
    "slideshow": {
     "slide_type": "fragment"
    }
   },
   "source": [
    "```python\n",
    "f.write('Witaj\\n’) \n",
    "value = 42 \n",
    "f.write(value) \n",
    "\n",
    ">>>Traceback (most recent call last): \n",
    ">>> File \"<stdin>\", line 1, in <module> \n",
    ">>>TypeError: must be str, not int \n",
    "\n",
    "s = str(value) \n",
    "f.write(s)\n",
    "```"
   ]
  },
  {
   "cell_type": "markdown",
   "metadata": {
    "slideshow": {
     "slide_type": "slide"
    }
   },
   "source": [
    "### Zamykanie pliku"
   ]
  },
  {
   "cell_type": "markdown",
   "metadata": {
    "slideshow": {
     "slide_type": "fragment"
    }
   },
   "source": [
    "```python\n",
    "f.close()\n",
    "```"
   ]
  },
  {
   "cell_type": "markdown",
   "metadata": {
    "slideshow": {
     "slide_type": "slide"
    }
   },
   "source": [
    "### Poruszamy się po plikach – seek"
   ]
  },
  {
   "cell_type": "markdown",
   "metadata": {
    "slideshow": {
     "slide_type": "subslide"
    }
   },
   "source": [
    "* Metoda pliku Pythona\n",
    "```python\n",
    "f.seek(offset[, whence])\n",
    "```\n",
    "ustawia aktualną pozycję pliku na przesunięcie\n",
    "* Argument `whence` jest opcjonalny:\n",
    "  * `0` – oznacza bezwzględne pozycjonowanie pliku (taką przyjmuje wartość domyślną)\n",
    "  * `1` – oznacza szukanie względem bieżącej pozycji\n",
    "  * `2` – oznacza szukanie względem końca pliku\n",
    "```python\n",
    "f.seek(0) # na początek\n",
    "f.seek(0, 2) # na koniec\n",
    "```"
   ]
  },
  {
   "cell_type": "markdown",
   "metadata": {
    "slideshow": {
     "slide_type": "slide"
    }
   },
   "source": [
    "### Przykład"
   ]
  },
  {
   "cell_type": "markdown",
   "metadata": {
    "slideshow": {
     "slide_type": "subslide"
    }
   },
   "source": [
    "`text.txt`:\n",
    "```\n",
    "Co to jest język Python?\n",
    "Python jest szeroko stosowanym dynamicznym językiem programowania wysokiego poziomu, ogólnego przeznaczenia. Jego filozofia projektowania kładzie nacisk na czytelność kodu, a jego składnia pozwala programistom na wyrażanie koncepcji w mniejszej liczbie wierszy kodu niż jest to możliwe w językach takich jak C++ lub Java.\n",
    "Python obsługuje wiele paradygmatów programowania, w tym programowanie obiektowe, imperatywne i funkcjonalne oraz style proceduralne. Posiada dynamiczny system typów i automatyczne zarządzanie pamięcią oraz dużą i wszechstronną bibliotekę standardową.\n",
    "Najlepszym sposobem nauki języka Python są ćwiczenia i pytania z ćwiczeniami.\n",
    "```"
   ]
  },
  {
   "cell_type": "code",
   "execution_count": null,
   "metadata": {
    "slideshow": {
     "slide_type": "subslide"
    }
   },
   "outputs": [],
   "source": [
    "# Otwórz plik\n",
    "f = open(\"text.txt\", \"r\")\n",
    "print(\"Nazwa pliku:\", f.name)\n",
    "\n",
    "line = f.readline()\n",
    "print(\"Czytaj linię: >\" + line + \"<\")\n",
    "\n",
    "# Ponownie ustaw wskaźnik na początek\n",
    "f.seek(0, 0)  # f.seek(0)\n",
    "line = f.readline()\n",
    "print(\"Czytaj linię: >\" + line + \"<\")\n",
    "\n",
    "# Zamknij otwarty plik\n",
    "f.close()"
   ]
  },
  {
   "cell_type": "markdown",
   "metadata": {
    "slideshow": {
     "slide_type": "slide"
    }
   },
   "source": [
    "### Poruszamy się po plikach – tell"
   ]
  },
  {
   "cell_type": "markdown",
   "metadata": {
    "slideshow": {
     "slide_type": "fragment"
    }
   },
   "source": [
    "* Metoda pliku Pythona\n",
    "```python\n",
    "f.tell()\n",
    "```\n",
    "zwraca bieżącą pozycję wskaźnika odczytu / zapisu pliku w pliku\n",
    "* Argumentów – brak"
   ]
  },
  {
   "cell_type": "markdown",
   "metadata": {
    "slideshow": {
     "slide_type": "slide"
    }
   },
   "source": [
    "### Przykład"
   ]
  },
  {
   "cell_type": "code",
   "execution_count": null,
   "metadata": {
    "scrolled": true,
    "slideshow": {
     "slide_type": "fragment"
    }
   },
   "outputs": [],
   "source": [
    "# Otwórz plik\n",
    "f = open(\"text.txt\", \"r\")\n",
    "print(\"Nazwa pliku: \", f.name)\n",
    "\n",
    "# Uzyskaj aktualną pozycję pliku.\n",
    "pos = f.tell()\n",
    "print(\"Aktualna pozycja: \" + str(pos))\n",
    "\n",
    "line = f.readline()\n",
    "print(\"Czytaj linię: >\" + line + \"<\")\n",
    " \n",
    "# Uzyskaj aktualną pozycję pliku.\n",
    "pos = f.tell()\n",
    "print(\"Aktualna pozycja: \" + str(pos))\n",
    "\n",
    "# Zamknij otwarty plik\n",
    "f.close()"
   ]
  },
  {
   "cell_type": "markdown",
   "metadata": {
    "slideshow": {
     "slide_type": "slide"
    }
   },
   "source": [
    "### Instrukcja `with`"
   ]
  },
  {
   "cell_type": "markdown",
   "metadata": {
    "slideshow": {
     "slide_type": "fragment"
    }
   },
   "source": [
    "Instrukcja `with` w Pythonie jest używana w obsłudze wyjątków, aby kod był czystszy i bardziej czytelny. Upraszcza zarządzanie wspólnymi zasobami, takimi jak strumienie plików. Zwróć uwagę na następujący przykład kodu, w jaki sposób użycie instrukcji `with` sprawia, że kod jest czystszy."
   ]
  },
  {
   "cell_type": "markdown",
   "metadata": {
    "slideshow": {
     "slide_type": "subslide"
    }
   },
   "source": [
    "**Obsługa plików:**"
   ]
  },
  {
   "cell_type": "code",
   "execution_count": null,
   "metadata": {
    "slideshow": {
     "slide_type": "fragment"
    }
   },
   "outputs": [],
   "source": [
    "# 1) bez użycia instrukcji with\n",
    "file = open('file_path', 'w')\n",
    "file.write('hello world !')\n",
    "file.close()"
   ]
  },
  {
   "cell_type": "code",
   "execution_count": null,
   "metadata": {
    "slideshow": {
     "slide_type": "fragment"
    }
   },
   "outputs": [],
   "source": [
    "# 2) bez użycia instrukcji with\n",
    "file = open('file_path', 'w')\n",
    "try:\n",
    "    file.write('hello world')\n",
    "finally:\n",
    "    file.close()"
   ]
  },
  {
   "cell_type": "code",
   "execution_count": null,
   "metadata": {
    "slideshow": {
     "slide_type": "fragment"
    }
   },
   "outputs": [],
   "source": [
    "# 3) używanie instrukcji with\n",
    "with open('file_path', 'w') as file:\n",
    "    file.write('hello world !')"
   ]
  },
  {
   "cell_type": "markdown",
   "metadata": {
    "slideshow": {
     "slide_type": "subslide"
    }
   },
   "source": [
    "Zauważ, że w przeciwieństwie do pierwszych dwóch implementacji, nie ma potrzeby wywoływania `file.close()` podczas używania instrukcji `with`. Sama instrukcja `with` zapewnia właściwe pozyskiwanie i uwalnianie zasobów. Wyjątek podczas wywołania `file` w pierwszej implementacji może uniemożliwić poprawne zamknięcie pliku, co może wprowadzić kilka błędów w kodzie, np. wiele zmian w plikach nie będzie obowiązywać, dopóki plik nie zostanie poprawnie zamknięty."
   ]
  },
  {
   "cell_type": "markdown",
   "metadata": {
    "slideshow": {
     "slide_type": "subslide"
    }
   },
   "source": [
    "Drugie podejście w powyższym przykładzie zajmuje się wszystkimi wyjątkami, ale użycie instrukcji `with` sprawia, że kod jest zwarty i znacznie bardziej czytelny. W ten sposób instrukcja `with` pomaga uniknąć błędów i wycieków, zapewniając, że zasób zostanie prawidłowo wydany, gdy kod korzystający z zasobu zostanie całkowicie wykonany. Instrukcja `with` jest powszechnie używana ze strumieniami plików, jak pokazano powyżej oraz z blokadami, gniazdami, podprocesami i telnetami itp."
   ]
  },
  {
   "cell_type": "markdown",
   "metadata": {
    "slideshow": {
     "slide_type": "slide"
    }
   },
   "source": [
    "## Moduły"
   ]
  },
  {
   "cell_type": "markdown",
   "metadata": {
    "slideshow": {
     "slide_type": "slide"
    }
   },
   "source": [
    "### Import modułów"
   ]
  },
  {
   "cell_type": "markdown",
   "metadata": {
    "slideshow": {
     "slide_type": "fragment"
    }
   },
   "source": [
    "* Moduł importujemy poleceniem\n",
    "```python\n",
    "import <nazwa-modułu>\n",
    "```\n",
    "* lub\n",
    "```python\n",
    "import <nazwa-modułu> as <alias>\n",
    "```\n",
    "* Dla Pythona dostępnych jest wiele różnych modułów."
   ]
  },
  {
   "cell_type": "markdown",
   "metadata": {
    "slideshow": {
     "slide_type": "slide"
    }
   },
   "source": [
    "### `os` - Różne interfejsy systemu operacyjnego"
   ]
  },
  {
   "cell_type": "markdown",
   "metadata": {
    "slideshow": {
     "slide_type": "fragment"
    }
   },
   "source": [
    "Ten moduł zapewnia przenośny sposób korzystania z funkcji zależnych od systemu operacyjnego. Przy czym, jeśli chcesz tylko odczytać lub zapisać plik, wystarczy funkcja `open()`, jeśli chcesz manipulować ścieżkami, potrzebny jest moduł `os.path` (omówiony później). Do obsługi plików i katalogów wysokiego poziomu należy użyć modułu `shutil` (omówiony później)."
   ]
  },
  {
   "cell_type": "markdown",
   "metadata": {
    "slideshow": {
     "slide_type": "subslide"
    }
   },
   "source": [
    "Uwagi dotyczące dostępności tych funkcji:\n",
    "* Konstrukcja wszystkich wbudowanych modułów Pythona zależnych od systemu operacyjnego jest taka, że dopóki dostępna jest ta sama funkcjonalność, używa tego samego interfejsu.\n",
    "* Rozszerzenia specyficzne dla konkretnego systemu operacyjnego są również dostępne za pośrednictwem modułu `os`, ale korzystanie z nich jest oczywiście zagrożeniem dla przenośności.\n",
    "* Wszystkie funkcje akceptujące ścieżki lub nazwy plików akceptują zarówno bajty, jak i ciągi."
   ]
  },
  {
   "cell_type": "markdown",
   "metadata": {
    "slideshow": {
     "slide_type": "subslide"
    }
   },
   "source": [
    "> **Uwaga:** Wszystkie funkcje w tym module wywołują wyjątek `OSError` (lub jego podklasy) w przypadku nieprawidłowych lub niedostępnych nazw plików i ścieżek lub innych argumentów, które mają poprawny typ, ale nie są akceptowane przez system operacyjny."
   ]
  },
  {
   "cell_type": "markdown",
   "metadata": {
    "slideshow": {
     "slide_type": "slide"
    }
   },
   "source": [
    "#### `os.system(command)`"
   ]
  },
  {
   "cell_type": "markdown",
   "metadata": {
    "slideshow": {
     "slide_type": "fragment"
    }
   },
   "source": [
    "Wykonuje polecenie (ciąg znaków) w podpowłoce. Jest to zaimplementowane przez wywołanie standardowej funkcji C `system()` i ma te same ograniczenia. Jeśli polecenie wygeneruje jakiekolwiek dane wyjściowe, zostanie ono wysłane do standardowego strumienia wyjściowego interpretera. Standard C nie określa znaczenia wartości zwracanej przez funkcję C, więc wartość zwracana przez funkcję Pythona jest zależna od systemu."
   ]
  },
  {
   "cell_type": "markdown",
   "metadata": {
    "slideshow": {
     "slide_type": "slide"
    }
   },
   "source": [
    "#### Import modułów – przykład"
   ]
  },
  {
   "cell_type": "markdown",
   "metadata": {
    "slideshow": {
     "slide_type": "fragment"
    }
   },
   "source": [
    "* W poniższym przykładzie ładujemy moduł os\n",
    "* To jest skrót od **Systemu Operacyjnego** (ang. **_Operating System_**), więc możesz wykonywać zadania systemowe\n",
    "```python\n",
    "import os\n",
    "os.system(\"dir\")    # Windows\n",
    "os.system(\"ls\")     # UNIX\n",
    "```\n",
    "* Korzystając z tego modułu, wywołujemy jedną z jego funkcji o nazwie `system` (uruchamia polecenie)"
   ]
  },
  {
   "cell_type": "markdown",
   "metadata": {
    "slideshow": {
     "slide_type": "subslide"
    }
   },
   "source": [
    "* W tym przypadku po prostu wyświetli listę plików w katalogu:\n",
    "  * Polecenie `dir` \t– Windows\n",
    "  * Polecenie `ls`\t– UNIX"
   ]
  },
  {
   "cell_type": "code",
   "execution_count": null,
   "metadata": {
    "scrolled": true,
    "slideshow": {
     "slide_type": "fragment"
    }
   },
   "outputs": [],
   "source": [
    "import os\n",
    "# os.system(\"dir\")    # Windows\n",
    "os.system(\"ls\")     # UNIX"
   ]
  },
  {
   "cell_type": "markdown",
   "metadata": {
    "slideshow": {
     "slide_type": "slide"
    }
   },
   "source": [
    "#### `os.mkdir(path)`"
   ]
  },
  {
   "cell_type": "markdown",
   "metadata": {
    "slideshow": {
     "slide_type": "fragment"
    }
   },
   "source": [
    "Utworzy katalog o nazwie `path`."
   ]
  },
  {
   "cell_type": "code",
   "execution_count": null,
   "metadata": {
    "scrolled": true,
    "slideshow": {
     "slide_type": "fragment"
    }
   },
   "outputs": [],
   "source": [
    "import os\n",
    "os.mkdir('00_abc')"
   ]
  },
  {
   "cell_type": "code",
   "execution_count": null,
   "metadata": {
    "scrolled": true,
    "slideshow": {
     "slide_type": "subslide"
    }
   },
   "outputs": [],
   "source": [
    "import os\n",
    "# os.system(\"dir\")    # Windows\n",
    "os.system(\"ls\")     # UNIX"
   ]
  },
  {
   "cell_type": "markdown",
   "metadata": {
    "slideshow": {
     "slide_type": "slide"
    }
   },
   "source": [
    "#### `os.stat(path)`"
   ]
  },
  {
   "cell_type": "markdown",
   "metadata": {
    "slideshow": {
     "slide_type": "fragment"
    }
   },
   "source": [
    "Uzyskuje status pliku lub deskryptor pliku. Wykonuje odpowiednik wywołania systemowego `stat()` na podanej ścieżce. ścieżka może być określona jako ciąg lub bajty."
   ]
  },
  {
   "cell_type": "code",
   "execution_count": null,
   "metadata": {
    "slideshow": {
     "slide_type": "fragment"
    }
   },
   "outputs": [],
   "source": [
    "import os\n",
    "statinfo = os.stat('text.txt')\n",
    "print(statinfo)"
   ]
  },
  {
   "cell_type": "markdown",
   "metadata": {
    "slideshow": {
     "slide_type": "slide"
    }
   },
   "source": [
    "### Uzyskiwanie określonych funkcji z modułu"
   ]
  },
  {
   "cell_type": "markdown",
   "metadata": {
    "slideshow": {
     "slide_type": "fragment"
    }
   },
   "source": [
    "* Możemy też zaimportować (uzyskać) niektóre (określone) obiekty (funkcje) z modułu\n",
    "```python\n",
    "from module import <obiekt1>, <obiekt2>, <obiekt3>\n",
    "```"
   ]
  },
  {
   "cell_type": "markdown",
   "metadata": {
    "slideshow": {
     "slide_type": "slide"
    }
   },
   "source": [
    "### Uzyskiwanie określonych funkcji z modułu – przykład"
   ]
  },
  {
   "cell_type": "markdown",
   "metadata": {
    "slideshow": {
     "slide_type": "fragment"
    }
   },
   "source": [
    "* Istnieje moduł o nazwie `time`, który ma wszelkiego rodzaju funkcje związane z czasem: pobierz datę, godzinę, minutę, sekundę i tak dalej\n",
    "* To całkiem sporo funkcji\n",
    "* Powiedzmy, że chcesz, aby program odczekał 2 sekundy\n",
    "* Jeśli chcesz, możesz zaimportować określoną funkcję zamiast całego modułu"
   ]
  },
  {
   "cell_type": "code",
   "execution_count": null,
   "metadata": {
    "slideshow": {
     "slide_type": "subslide"
    }
   },
   "outputs": [],
   "source": [
    "# import time\n",
    "# print(\"Dobranoc\")\n",
    "# time.sleep(2)\n",
    "# print(\"Dzień dobry\")\n",
    "\n",
    "from time import sleep\n",
    "print(\"Dobranoc\")\n",
    "sleep(2)\n",
    "print(\"Dzień dobry\")"
   ]
  },
  {
   "cell_type": "markdown",
   "metadata": {
    "slideshow": {
     "slide_type": "slide"
    }
   },
   "source": [
    "### Importowanie wszystkich funkcji z modułu (z przykładem)"
   ]
  },
  {
   "cell_type": "markdown",
   "metadata": {
    "slideshow": {
     "slide_type": "subslide"
    }
   },
   "source": [
    "* ***Możliwe jest importowanie wielu (wszystkich) funkcji z modułów***\n",
    "  * _Nie należy stosować polecenia – nie jest to zalecane_\n",
    "  ```python\n",
    "  from module import *\n",
    "  ```\n",
    "  * _ponieważ może ono spowodować kolizję nazw pomiędzy funkcjami z różnych modułów_\n",
    "* Poniższy przykład importuje cały moduł czasu (wszystkie funkcje), którego możesz następnie użyć"
   ]
  },
  {
   "cell_type": "code",
   "execution_count": null,
   "metadata": {
    "slideshow": {
     "slide_type": "fragment"
    }
   },
   "outputs": [],
   "source": [
    "from time import *\n",
    "print('Dobranoc')\n",
    "sleep(2)\n",
    "print('Dzień dobry')"
   ]
  },
  {
   "cell_type": "markdown",
   "metadata": {
    "slideshow": {
     "slide_type": "slide"
    }
   },
   "source": [
    "### Dostępność obiektów z załadowanych modułów"
   ]
  },
  {
   "cell_type": "markdown",
   "metadata": {
    "slideshow": {
     "slide_type": "fragment"
    }
   },
   "source": [
    "* Obiekty z załadowanych modułów dostępne są przez strukturę:\n",
    "  * `nazwa-modułu.obiekt`, lub\n",
    "  * `obiekt`, gdy importowaliśmy pojedyncze obiekty"
   ]
  },
  {
   "cell_type": "markdown",
   "metadata": {
    "slideshow": {
     "slide_type": "fragment"
    }
   },
   "source": [
    "* Lista funkcji w module:\n",
    "  * Aby wyświetlić i zobaczyć wszystkie funkcje i klasy w module, wpisz:"
   ]
  },
  {
   "cell_type": "code",
   "execution_count": null,
   "metadata": {
    "slideshow": {
     "slide_type": "subslide"
    }
   },
   "outputs": [],
   "source": [
    "import os\n",
    "print(dir(os))"
   ]
  },
  {
   "cell_type": "markdown",
   "metadata": {
    "slideshow": {
     "slide_type": "slide"
    }
   },
   "source": [
    "### Tworzenie modułu (z przykładem)"
   ]
  },
  {
   "cell_type": "markdown",
   "metadata": {
    "slideshow": {
     "slide_type": "fragment"
    }
   },
   "source": [
    "* Aby utworzyć moduł, utwórz plik w języku Python\n",
    "* Następnie zaimportuj go jak każdy inny moduł\n",
    "* Stwórz swój moduł (`fruit.py`)"
   ]
  },
  {
   "cell_type": "code",
   "execution_count": null,
   "metadata": {
    "slideshow": {
     "slide_type": "fragment"
    }
   },
   "outputs": [],
   "source": [
    "def lemon(l):\n",
    "    print('Lemoniada nr', l)"
   ]
  },
  {
   "cell_type": "markdown",
   "metadata": {
    "slideshow": {
     "slide_type": "subslide"
    }
   },
   "source": [
    "* Następnie stwórz swój program (`example.py`) i wywołaj funkcję:"
   ]
  },
  {
   "cell_type": "code",
   "execution_count": null,
   "metadata": {
    "slideshow": {
     "slide_type": "fragment"
    }
   },
   "outputs": [],
   "source": [
    "import fruit\n",
    "fruit.lemon(5)\n",
    "\n",
    "# from fruit import lemon\n",
    "# lemon(5)"
   ]
  },
  {
   "cell_type": "markdown",
   "metadata": {
    "slideshow": {
     "slide_type": "slide"
    }
   },
   "source": [
    "### Wyszukiwanie modułów po ścieżkach systemu plików"
   ]
  },
  {
   "cell_type": "markdown",
   "metadata": {
    "slideshow": {
     "slide_type": "subslide"
    }
   },
   "source": [
    "* Interpreter Pythona wyszukuje moduły w kolejności:\n",
    "  * Katalog, w którym jest uruchamiany skrypt (może być to katalog bieżący)\n",
    "  * Następnie w katalogach zawartych w zmiennej systemowej '`PYTHONPATH`’\n",
    "  * W katalogach systemowych `PATH`\n",
    "* Nie znaleziono modułu Pythona?\n",
    "  * Jeśli pojawi się błąd „`ImportError: No module named`”, oznacza to, że moduł nie jest zainstalowany\n",
    "  * Możesz zainstalować moduł zewnętrzny za pomocą menedżera pakietów"
   ]
  },
  {
   "cell_type": "markdown",
   "metadata": {
    "slideshow": {
     "slide_type": "slide"
    }
   },
   "source": [
    "### Używanie modułu jako skryptu"
   ]
  },
  {
   "cell_type": "markdown",
   "metadata": {
    "slideshow": {
     "slide_type": "fragment"
    }
   },
   "source": [
    "```sh\n",
    "python my.py <argumenty>\n",
    "```\n",
    "* Moduł `my` jest wykonywany tak jak przy wykonaniu `import my` przy czym nazwa modułu `__name__` jest ustawiana na `__main__`\n",
    "```python\n",
    "if __name__ == \"__main__\":\n",
    "    import sys\n",
    "    my_func(int(sys.argv[1]))\n",
    "```"
   ]
  },
  {
   "cell_type": "markdown",
   "metadata": {
    "slideshow": {
     "slide_type": "slide"
    }
   },
   "source": [
    "### Używanie modułu jako skryptu – przykład"
   ]
  },
  {
   "cell_type": "markdown",
   "metadata": {
    "slideshow": {
     "slide_type": "fragment"
    }
   },
   "source": [
    "```python\n",
    "def lemon(l):\n",
    "    print('Lemoniada nr', l)\n",
    "\n",
    "    \n",
    "if __name__ == \"__main__\":\n",
    "    import sys\n",
    "    lemon(int(sys.argv[1]))\n",
    "```"
   ]
  },
  {
   "cell_type": "markdown",
   "metadata": {
    "slideshow": {
     "slide_type": "slide"
    }
   },
   "source": [
    "### `glob` - Rozszerzanie wzorca ścieżki w stylu uniksowym"
   ]
  },
  {
   "cell_type": "markdown",
   "metadata": {
    "slideshow": {
     "slide_type": "fragment"
    }
   },
   "source": [
    "Moduł `glob` odnajduje wszystkie ścieżki pasujące do określonego wzorca zgodnie z regułami używanymi przez powłokę uniksową, chociaż wyniki są zwracane w dowolnej kolejności. Nie jest wykonywane żadne rozwinięcie tyldy, ale `*`, `?` i zakresy znaków wyrażone za pomocą `[]` zostaną poprawnie dopasowane.\n",
    "\n",
    "Zwróćcie uwagę, że pliki zaczynające się od kropki (`.`) można dopasować tylko do wzorców, które również zaczynają się od kropki.\n",
    "\n",
    "Aby uzyskać dosłowne dopasowanie, umieśćcie metaznaki w nawiasach. Na przykład `'[?]'` pasuje do znaku `'?'`."
   ]
  },
  {
   "cell_type": "markdown",
   "metadata": {
    "slideshow": {
     "slide_type": "slide"
    }
   },
   "source": [
    "#### `glob.glob(pathname)`"
   ]
  },
  {
   "cell_type": "markdown",
   "metadata": {
    "slideshow": {
     "slide_type": "fragment"
    }
   },
   "source": [
    "Zwraca prawdopodobnie pustą listę nazw ścieżek, które pasują do ścieżki _pathname_, która musi być ciągiem zawierającym specyfikację ścieżki. Ścieżka _pathname_ może być bezwzględna (jak `/usr/src/Python-1.5/Makefile`) lub względna (jak `../../Tools/*/*.gif`) i może zawierać symbole wieloznaczne w stylu powłoki. Zerwane dowiązania symboliczne są uwzględniane w wynikach (tak jak w powłoce). To, czy wyniki zostaną posortowane, zależy od systemu plików. Jeśli plik spełniający warunki zostanie usunięty lub dodany podczas wywoływania tej funkcji, nie jest określona nazwa ścieżki do tego pliku."
   ]
  },
  {
   "cell_type": "code",
   "execution_count": null,
   "metadata": {
    "slideshow": {
     "slide_type": "subslide"
    }
   },
   "outputs": [],
   "source": [
    "import glob\n",
    "print(glob.glob('*'))"
   ]
  },
  {
   "cell_type": "markdown",
   "metadata": {
    "slideshow": {
     "slide_type": "slide"
    }
   },
   "source": [
    "### `os.path` - Typowe manipulacje ścieżkami"
   ]
  },
  {
   "cell_type": "markdown",
   "metadata": {
    "slideshow": {
     "slide_type": "fragment"
    }
   },
   "source": [
    "Ten moduł implementuje kilka przydatnych funkcji dotyczących nazw ścieżek. Uzupełnia funkcjonalność czytania lub zapisywania plików (zobacz `open()`), a także funkcjonalność uzyskiwania dostępu do systemu plików (zobacz moduł `os`). Parametry ścieżki mogą być przekazywane jako ciągi lub bajty.\n",
    "\n",
    "W przeciwieństwie do powłoki uniksowej, Python nie wykonuje żadnych _automatycznych_ rozszerzeń ścieżek."
   ]
  },
  {
   "cell_type": "markdown",
   "metadata": {
    "slideshow": {
     "slide_type": "subslide"
    }
   },
   "source": [
    "> **Uwaga:** Ponieważ różne systemy operacyjne mają różne konwencje nazw ścieżek, w standardowej bibliotece znajduje się kilka wersji tego modułu. Moduł `os.path` jest zawsze modułem ścieżki odpowiednim dla systemu operacyjnego, na którym działa Python, i dlatego może być używany w ścieżkach lokalnych. Możecie jednak również importować i używać poszczególnych modułów, jeśli chcesz manipulować ścieżką, która zawsze jest w jednym z różnych formatów. Wszystkie mają ten sam interfejs:\n",
    "> * `posixpath` dla ścieżek w stylu UNIX\n",
    "> * `ntpath` dla ścieżek Windows"
   ]
  },
  {
   "cell_type": "markdown",
   "metadata": {
    "slideshow": {
     "slide_type": "slide"
    }
   },
   "source": [
    "#### `os.path.exists(path)`"
   ]
  },
  {
   "cell_type": "markdown",
   "metadata": {
    "slideshow": {
     "slide_type": "fragment"
    }
   },
   "source": [
    "Zwróci `True`, jeśli ścieżka `path` odnosi się do istniejącej ścieżki lub deskryptora otwartego pliku. Zwraca `False` dla uszkodzonych dowiązań symbolicznych. Na niektórych platformach ta funkcja może zwrócić wartość `False`, jeśli nie udzielono pozwolenia na wykonanie żądanego pliku, nawet jeśli ścieżka `path` fizycznie istnieje."
   ]
  },
  {
   "cell_type": "code",
   "execution_count": null,
   "metadata": {
    "slideshow": {
     "slide_type": "fragment"
    }
   },
   "outputs": [],
   "source": [
    "import os.path\n",
    "print(os.path.exists('text.txt'))"
   ]
  },
  {
   "cell_type": "markdown",
   "metadata": {
    "slideshow": {
     "slide_type": "slide"
    }
   },
   "source": [
    "### `shutil` - Operacje na plikach wysokiego poziomu"
   ]
  },
  {
   "cell_type": "markdown",
   "metadata": {
    "slideshow": {
     "slide_type": "fragment"
    }
   },
   "source": [
    "Moduł `shutil` oferuje szereg operacji wysokiego poziomu na plikach i kolekcjach plików. W szczególności udostępniane są funkcje wspomagające kopiowanie i usuwanie plików. Stanowi to rozszerzenie modułu `os` służącego do operacji na pojedynczych plikach.\n",
    "\n",
    "> **Ostrzeżenie:** Nawet funkcje kopiowania plików wyższego poziomu nie mogą skopiować wszystkich metadanych pliku.\n",
    "> Na platformach POSIX oznacza to utratę właściciela i grupy pliku oraz list ACL. W systemie macOS rozwidlenia zasobów i inne metadane nie są używane. Oznacza to, że zasoby zostaną utracone, a typ pliku i kody twórcy nie będą poprawne. W systemie Windows właściciele plików, listy ACL i alternatywne strumienie danych nie są kopiowane."
   ]
  },
  {
   "cell_type": "markdown",
   "metadata": {
    "slideshow": {
     "slide_type": "slide"
    }
   },
   "source": [
    "#### `shutil.rmtree(path)`"
   ]
  },
  {
   "cell_type": "markdown",
   "metadata": {
    "slideshow": {
     "slide_type": "fragment"
    }
   },
   "source": [
    "Usunie całe drzewo katalogów; `path` musi wskazywać na katalog (ale nie na dowiązanie symboliczne do katalogu)."
   ]
  },
  {
   "cell_type": "code",
   "execution_count": null,
   "metadata": {
    "slideshow": {
     "slide_type": "fragment"
    }
   },
   "outputs": [],
   "source": [
    "import shutil\n",
    "shutil.rmtree('00_abc')"
   ]
  },
  {
   "cell_type": "markdown",
   "metadata": {
    "slideshow": {
     "slide_type": "slide"
    }
   },
   "source": [
    "#### `shutil.copyfile(src, dst)`"
   ]
  },
  {
   "cell_type": "markdown",
   "metadata": {
    "slideshow": {
     "slide_type": "fragment"
    }
   },
   "source": [
    "Skopiuje zawartość (bez metadanych) pliku o nazwie `src` do pliku o nazwie `dst` i zwróci `dst` w najbardziej efektywny sposób. `src` i `dst` są obiektami podobnymi do ścieżki lub nazwami ścieżek podanymi jako łańcuchy.\n",
    "\n",
    "`dst` musi być pełną nazwą pliku docelowego. Jeśli `src` i `dst` określają ten sam plik, zgłaszany jest wyjątek `SameFileError`.\n",
    "\n",
    "Lokalizacja docelowa musi być zapisywalna; w przeciwnym razie zostanie zgłoszony wyjątek `OSError`. Jeśli `dst` już istnieje, zostanie zastąpiony. Za pomocą tej funkcji nie można kopiować plików specjalnych, takich jak urządzenia znakowe lub blokowe oraz potoki."
   ]
  },
  {
   "cell_type": "code",
   "execution_count": null,
   "metadata": {
    "slideshow": {
     "slide_type": "subslide"
    }
   },
   "outputs": [],
   "source": [
    "import shutil\n",
    "shutil.copyfile('text.txt', 'text2.txt')"
   ]
  },
  {
   "cell_type": "code",
   "execution_count": null,
   "metadata": {
    "slideshow": {
     "slide_type": "skip"
    }
   },
   "outputs": [],
   "source": []
  }
 ],
 "metadata": {
  "celltoolbar": "Slideshow",
  "kernelspec": {
   "display_name": "Python 3 (ipykernel)",
   "language": "python",
   "name": "python3"
  },
  "language_info": {
   "codemirror_mode": {
    "name": "ipython",
    "version": 3
   },
   "file_extension": ".py",
   "mimetype": "text/x-python",
   "name": "python",
   "nbconvert_exporter": "python",
   "pygments_lexer": "ipython3",
   "version": "3.13.0"
  }
 },
 "nbformat": 4,
 "nbformat_minor": 4
}
