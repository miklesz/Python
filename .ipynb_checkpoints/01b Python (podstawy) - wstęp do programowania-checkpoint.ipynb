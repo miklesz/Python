{
 "cells": [
  {
   "cell_type": "markdown",
   "metadata": {
    "slideshow": {
     "slide_type": "slide"
    }
   },
   "source": [
    "# Python (podstawy) - wstęp do programowania\n",
    "_Mikołaj Leszczuk_\n",
    "![](https://www.ikaria.pl/wp-content/uploads/2020/05/039_full.jpg)\n",
    "![](https://i.creativecommons.org/l/by/4.0/88x31.png)"
   ]
  },
  {
   "cell_type": "markdown",
   "metadata": {
    "slideshow": {
     "slide_type": "slide"
    }
   },
   "source": [
    "* Algorytmy\n",
    "* Ćwiczenia (pierwsze programy)"
   ]
  },
  {
   "cell_type": "markdown",
   "metadata": {
    "slideshow": {
     "slide_type": "slide"
    }
   },
   "source": [
    "## Algorytmy"
   ]
  },
  {
   "cell_type": "markdown",
   "metadata": {
    "slideshow": {
     "slide_type": "slide"
    }
   },
   "source": [
    "### Algorytm\n",
    "* Od **łacińskiego** słowa **_algorithmus_** (a to znów od nazwiska perskiego matematyka: **Muhammad ibn Musa al-Chuwarizmi**, IX w.)\n",
    "* Skończony ciąg jasno zdefiniowanych czynności koniecznych do wykonania pewnego rodzaju zadań\n",
    "* Sposób postępowania prowadzący do rozwiązania problemu\n",
    "* Można go przedstawić na **schemacie blokowym**\n",
    "\n",
    "Diagram **Ady Lovelace**, XIX w., z „notatki G”, pierwszego opublikowanego algorytmu komputerowego:"
   ]
  },
  {
   "cell_type": "markdown",
   "metadata": {
    "slideshow": {
     "slide_type": "subslide"
    }
   },
   "source": [
    "![Diagram Ady Lovelace z „notatki G”, pierwszego opublikowanego algorytmu komputerowego](https://upload.wikimedia.org/wikipedia/commons/c/cf/Diagram_for_the_computation_of_Bernoulli_numbers.jpg \"Diagram Ady Lovelace z „notatki G”, pierwszego opublikowanego algorytmu komputerowego\")"
   ]
  },
  {
   "cell_type": "markdown",
   "metadata": {
    "slideshow": {
     "slide_type": "slide"
    }
   },
   "source": [
    "### Pseudokod i jego implementacja\n",
    "* Sposób zapisu algorytmu:\n",
    "  * Zachowujący strukturę charakterystyczną dla kodu zapisanego w języku programowania\n",
    "  * Rezygnujący ze ścisłych reguł składniowych na rzecz prostoty i czytelności\n",
    "* Brak szczegółów implementacyjnych (inicjalizacja zmiennych, alokacja pamięci)\n",
    "* Często też opuszczanie w nim opisu działania pod-procedur (gdy oczywiste)\n",
    "* Nietrywialne kroki opisywane z pomocą matematyki lub języka naturalnego"
   ]
  },
  {
   "cell_type": "markdown",
   "metadata": {
    "slideshow": {
     "slide_type": "subslide"
    }
   },
   "source": [
    "**`jeżeli`** `numer karty kredytowej jest ważny` **`to`**\n",
    "\n",
    "  `wykonaj transakcję w oparciu o numer karty i zamówienie`\n",
    "\n",
    "**`w przeciwnym razie`**\n",
    "  \n",
    "  `wyświetl wiadomości o niepowodzeniu`\n",
    "\n",
    "**`koniec warunku`**\n",
    "![](https://www.ikaria.pl/wp-content/uploads/2020/05/025_full.jpg)"
   ]
  },
  {
   "cell_type": "markdown",
   "metadata": {
    "slideshow": {
     "slide_type": "slide"
    }
   },
   "source": [
    "### Algorytm (schemat) blokowy\n",
    "* Narzędzie służące do przedstawienia kolejnych czynności w projektowanym **algorytmie**\n",
    "* Diagram, na którym procedura, system lub program komputerowy - reprezentowane przez opisane figury geometryczne połączone strzałkami (niekiedy tylko liniami) zgodnie z kolejnością wykonywania czynności wynikających z przyjętego algorytmu rozwiązania zadania"
   ]
  },
  {
   "cell_type": "markdown",
   "metadata": {
    "slideshow": {
     "slide_type": "subslide"
    }
   },
   "source": [
    "![](https://upload.wikimedia.org/wikipedia/commons/6/68/LampFlowchart-pl.svg)"
   ]
  },
  {
   "cell_type": "markdown",
   "metadata": {
    "slideshow": {
     "slide_type": "subslide"
    }
   },
   "source": [
    "![](https://www.ikaria.pl/wp-content/uploads/2020/05/002_full.jpg)"
   ]
  },
  {
   "cell_type": "markdown",
   "metadata": {
    "slideshow": {
     "slide_type": "slide"
    }
   },
   "source": [
    "### Podstawowe elementy budowy\n",
    "* **Strzałka** - wskazywanie:\n",
    "  * Powiązania,\n",
    "  * I ich kierunku (zwrotu)\n",
    "* **Operator** - prostokąt, z wpisanymi wszystkimi operacjami z wyjątkiem instrukcji wyboru\n",
    "* **Predykat** - romb, z wpisanymi wyłącznie instrukcjami wyboru\n",
    "* **Etykieta** - owal służący do oznaczania początku albo końca sekwencji schematu:\n",
    "  * Kończenie schematu\n",
    "  * Zaczynanie schematu\n",
    "  * Przerywanie schematu\n",
    "  * Przenoszenie schematu"
   ]
  },
  {
   "cell_type": "markdown",
   "metadata": {
    "slideshow": {
     "slide_type": "slide"
    }
   },
   "source": [
    "### Szczegóły budowy schematu"
   ]
  },
  {
   "cell_type": "markdown",
   "metadata": {
    "slideshow": {
     "slide_type": "subslide"
    }
   },
   "source": [
    "* a) **blok graniczny**\n",
    "* b) **blok wejścia-wyjścia (I / O)**\n",
    "* c) **blok operacyjny (PROCES)**\n",
    "![](https://upload.wikimedia.org/wikipedia/commons/a/a5/Block_diagram_flowchart.png)"
   ]
  },
  {
   "cell_type": "markdown",
   "metadata": {
    "slideshow": {
     "slide_type": "subslide"
    }
   },
   "source": [
    "* d) **blok decyzyjny, warunkowy (DECYZJA)**\n",
    "* e) **blok wywołania podprogramu** \n",
    "* f) **blok fragmentu**\n",
    "![](https://upload.wikimedia.org/wikipedia/commons/a/a5/Block_diagram_flowchart.png)"
   ]
  },
  {
   "cell_type": "markdown",
   "metadata": {
    "slideshow": {
     "slide_type": "subslide"
    }
   },
   "source": [
    "* g) **blok komentarza**\n",
    "* h) **łącznik wewnętrzny**\n",
    "* i) **łącznik zewnętrzny**\n",
    "![](https://upload.wikimedia.org/wikipedia/commons/a/a5/Block_diagram_flowchart.png)"
   ]
  },
  {
   "cell_type": "code",
   "execution_count": null,
   "metadata": {
    "slideshow": {
     "slide_type": "skip"
    }
   },
   "outputs": [],
   "source": []
  }
 ],
 "metadata": {
  "celltoolbar": "Slideshow",
  "kernelspec": {
   "display_name": "Python 3 (ipykernel)",
   "language": "python",
   "name": "python3"
  },
  "language_info": {
   "codemirror_mode": {
    "name": "ipython",
    "version": 3
   },
   "file_extension": ".py",
   "mimetype": "text/x-python",
   "name": "python",
   "nbconvert_exporter": "python",
   "pygments_lexer": "ipython3",
   "version": "3.11.5"
  }
 },
 "nbformat": 4,
 "nbformat_minor": 4
}
