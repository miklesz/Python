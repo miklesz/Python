{
 "cells": [
  {
   "cell_type": "markdown",
   "metadata": {
    "slideshow": {
     "slide_type": "slide"
    }
   },
   "source": [
    "# Python (OOP) - iterowanie\n",
    "\n",
    "_Mikołaj Leszczuk_\n",
    "\n",
    "![](https://miro.medium.com/max/1000/0*39LNqv6m-1YIKB4w.jpg)\n",
    "![](https://i.creativecommons.org/l/by/4.0/88x31.png)"
   ]
  },
  {
   "cell_type": "markdown",
   "metadata": {
    "slideshow": {
     "slide_type": "slide"
    }
   },
   "source": [
    "## Iteratory"
   ]
  },
  {
   "cell_type": "markdown",
   "metadata": {
    "slideshow": {
     "slide_type": "slide"
    }
   },
   "source": [
    "### Iteracja"
   ]
  },
  {
   "cell_type": "markdown",
   "metadata": {
    "slideshow": {
     "slide_type": "fragment"
    }
   },
   "source": [
    "Iterować, iteracja - to wszystko powinno Ci się kojarzyć z... pętlami. W szczególności pętlami `for`."
   ]
  },
  {
   "cell_type": "markdown",
   "metadata": {
    "slideshow": {
     "slide_type": "slide"
    }
   },
   "source": [
    "### Protokół iteracji"
   ]
  },
  {
   "cell_type": "markdown",
   "metadata": {
    "slideshow": {
     "slide_type": "fragment"
    }
   },
   "source": [
    "Wbudowana funkcja `iter` pobiera iterowalny obiekt i zwraca iterator."
   ]
  },
  {
   "cell_type": "code",
   "execution_count": 94,
   "metadata": {
    "slideshow": {
     "slide_type": "fragment"
    }
   },
   "outputs": [],
   "source": [
    "l = [1, 2, 3]"
   ]
  },
  {
   "cell_type": "code",
   "execution_count": 95,
   "metadata": {
    "slideshow": {
     "slide_type": "fragment"
    }
   },
   "outputs": [
    {
     "name": "stdout",
     "output_type": "stream",
     "text": [
      "[1, 2, 3]\n"
     ]
    }
   ],
   "source": [
    "print(l)"
   ]
  },
  {
   "cell_type": "code",
   "execution_count": 96,
   "metadata": {
    "slideshow": {
     "slide_type": "fragment"
    }
   },
   "outputs": [],
   "source": [
    "x = iter(l)"
   ]
  },
  {
   "cell_type": "code",
   "execution_count": 97,
   "metadata": {
    "slideshow": {
     "slide_type": "fragment"
    }
   },
   "outputs": [
    {
     "name": "stdout",
     "output_type": "stream",
     "text": [
      "<list_iterator object at 0x10407f6d0>\n"
     ]
    }
   ],
   "source": [
    "print(x)"
   ]
  },
  {
   "cell_type": "markdown",
   "metadata": {
    "slideshow": {
     "slide_type": "subslide"
    }
   },
   "source": [
    "Za każdym razem, gdy wywołujemy funkcję `next()` z iteratorem, jako argumentem (lub metodę specjalną `__next__()` na iteratorze - taki przykład będzie później), otrzymujemy kolejny element."
   ]
  },
  {
   "cell_type": "code",
   "execution_count": 98,
   "metadata": {
    "slideshow": {
     "slide_type": "fragment"
    }
   },
   "outputs": [
    {
     "name": "stdout",
     "output_type": "stream",
     "text": [
      "1\n"
     ]
    }
   ],
   "source": [
    "print(next(x))"
   ]
  },
  {
   "cell_type": "code",
   "execution_count": 99,
   "metadata": {
    "slideshow": {
     "slide_type": "fragment"
    }
   },
   "outputs": [
    {
     "name": "stdout",
     "output_type": "stream",
     "text": [
      "2\n"
     ]
    }
   ],
   "source": [
    "print(next(x))"
   ]
  },
  {
   "cell_type": "code",
   "execution_count": 100,
   "metadata": {
    "slideshow": {
     "slide_type": "fragment"
    }
   },
   "outputs": [
    {
     "name": "stdout",
     "output_type": "stream",
     "text": [
      "3\n"
     ]
    }
   ],
   "source": [
    "print(next(x))"
   ]
  },
  {
   "cell_type": "markdown",
   "metadata": {
    "slideshow": {
     "slide_type": "subslide"
    }
   },
   "source": [
    "Jeśli nie ma więcej elementów, wywołuje wyjątek `StopIteration`."
   ]
  },
  {
   "cell_type": "code",
   "execution_count": 101,
   "metadata": {
    "slideshow": {
     "slide_type": "fragment"
    }
   },
   "outputs": [
    {
     "ename": "StopIteration",
     "evalue": "",
     "output_type": "error",
     "traceback": [
      "\u001b[0;31m---------------------------------------------------------------------------\u001b[0m",
      "\u001b[0;31mStopIteration\u001b[0m                             Traceback (most recent call last)",
      "Cell \u001b[0;32mIn[101], line 1\u001b[0m\n\u001b[0;32m----> 1\u001b[0m \u001b[38;5;28mprint\u001b[39m(\u001b[38;5;28;43mnext\u001b[39;49m\u001b[43m(\u001b[49m\u001b[43mx\u001b[49m\u001b[43m)\u001b[49m)\n",
      "\u001b[0;31mStopIteration\u001b[0m: "
     ]
    }
   ],
   "source": [
    "print(next(x))"
   ]
  },
  {
   "cell_type": "markdown",
   "metadata": {
    "slideshow": {
     "slide_type": "slide"
    }
   },
   "source": [
    "### Iteratory"
   ]
  },
  {
   "cell_type": "markdown",
   "metadata": {
    "slideshow": {
     "slide_type": "fragment"
    }
   },
   "source": [
    "Iteratory są implementowane jako klasy."
   ]
  },
  {
   "cell_type": "markdown",
   "metadata": {
    "slideshow": {
     "slide_type": "subslide"
    }
   },
   "source": [
    "Po obiektach, które implementują metodę specjalną `__next__()`, można iterować w taki sam sposób, jak po liście: \n",
    "\n",
    "```python\n",
    "for element in instancja:\n",
    "```\n",
    "\n",
    "Klasy, które implementują metodę `__next__()` nazywamy **iteratorami**. Przy wywołaniu tej metody, ma ona zwrócić następny element z kolekcji. Jeżeli nie ma więcej elementów w kolekcji, `__next__()` ma rzucić wyjątek `StopIteration`.\n",
    "\n",
    "Klasy, które pozwalają po sobie iterować, posiadają metodę specjalną `__iter__()`, która zwraca obiekt iteratora. Nic nie stoi na przeszkodzie, żeby obiekt iterowalny był jednocześnie iteratorem."
   ]
  },
  {
   "cell_type": "markdown",
   "metadata": {
    "slideshow": {
     "slide_type": "subslide"
    }
   },
   "source": [
    "Podsumowując:\n",
    "\n",
    "* Iterator posiada metodę `__next__()`, która zwraca kolejny element z iterowanej sekwencji\n",
    "* Jeśli iteracja dobiegła końca (brak kolejnych elementów) zgłaszany jest wyjątek `StopIteration`\n",
    "* Iterator jest zwracany przez funkcję `iter()`"
   ]
  },
  {
   "cell_type": "markdown",
   "metadata": {
    "slideshow": {
     "slide_type": "subslide"
    }
   },
   "source": [
    "Przykład typu iterowalnego (`str`ing) i jego iteratora (`it`):"
   ]
  },
  {
   "cell_type": "code",
   "execution_count": 102,
   "metadata": {
    "slideshow": {
     "slide_type": "fragment"
    }
   },
   "outputs": [],
   "source": [
    "s = 'abc'"
   ]
  },
  {
   "cell_type": "code",
   "execution_count": 103,
   "metadata": {
    "slideshow": {
     "slide_type": "fragment"
    }
   },
   "outputs": [],
   "source": [
    "it = iter(s)"
   ]
  },
  {
   "cell_type": "code",
   "execution_count": 104,
   "metadata": {
    "slideshow": {
     "slide_type": "subslide"
    }
   },
   "outputs": [
    {
     "name": "stdout",
     "output_type": "stream",
     "text": [
      "a\n"
     ]
    }
   ],
   "source": [
    "print(it.__next__())"
   ]
  },
  {
   "cell_type": "code",
   "execution_count": 105,
   "metadata": {
    "slideshow": {
     "slide_type": "fragment"
    }
   },
   "outputs": [
    {
     "name": "stdout",
     "output_type": "stream",
     "text": [
      "b\n"
     ]
    }
   ],
   "source": [
    "print(next(it))"
   ]
  },
  {
   "cell_type": "code",
   "execution_count": 106,
   "metadata": {
    "slideshow": {
     "slide_type": "fragment"
    }
   },
   "outputs": [
    {
     "name": "stdout",
     "output_type": "stream",
     "text": [
      "c\n"
     ]
    }
   ],
   "source": [
    "print(it.__next__())"
   ]
  },
  {
   "cell_type": "code",
   "execution_count": 107,
   "metadata": {
    "slideshow": {
     "slide_type": "fragment"
    }
   },
   "outputs": [
    {
     "ename": "StopIteration",
     "evalue": "",
     "output_type": "error",
     "traceback": [
      "\u001b[0;31m---------------------------------------------------------------------------\u001b[0m",
      "\u001b[0;31mStopIteration\u001b[0m                             Traceback (most recent call last)",
      "Cell \u001b[0;32mIn[107], line 1\u001b[0m\n\u001b[0;32m----> 1\u001b[0m \u001b[38;5;28mprint\u001b[39m(\u001b[38;5;28;43mnext\u001b[39;49m\u001b[43m(\u001b[49m\u001b[43mit\u001b[49m\u001b[43m)\u001b[49m)\n",
      "\u001b[0;31mStopIteration\u001b[0m: "
     ]
    }
   ],
   "source": [
    "print(next(it))"
   ]
  },
  {
   "cell_type": "markdown",
   "metadata": {
    "slideshow": {
     "slide_type": "subslide"
    }
   },
   "source": [
    "Oto iterator, który działa jak wbudowana funkcja `range`."
   ]
  },
  {
   "cell_type": "code",
   "execution_count": 108,
   "metadata": {
    "slideshow": {
     "slide_type": "fragment"
    }
   },
   "outputs": [],
   "source": [
    "class yrange:\n",
    "    def __init__(self, n):\n",
    "        self.i = 0\n",
    "        self.n = n\n",
    "\n",
    "    def __iter__(self):\n",
    "        return self\n",
    "\n",
    "    def __next__(self):\n",
    "        if self.i < self.n:\n",
    "            i = self.i\n",
    "            self.i += 1\n",
    "            return i\n",
    "        else:\n",
    "            raise StopIteration()"
   ]
  },
  {
   "cell_type": "code",
   "execution_count": 109,
   "metadata": {
    "scrolled": true,
    "slideshow": {
     "slide_type": "subslide"
    }
   },
   "outputs": [
    {
     "name": "stdout",
     "output_type": "stream",
     "text": [
      "0\n",
      "1\n",
      "2\n",
      "3\n",
      "4\n",
      "5\n",
      "6\n",
      "7\n",
      "8\n",
      "9\n"
     ]
    }
   ],
   "source": [
    "for i in range(10):\n",
    "    print(i)"
   ]
  },
  {
   "cell_type": "code",
   "execution_count": 110,
   "metadata": {
    "scrolled": true,
    "slideshow": {
     "slide_type": "fragment"
    }
   },
   "outputs": [
    {
     "name": "stdout",
     "output_type": "stream",
     "text": [
      "0\n",
      "1\n",
      "2\n",
      "3\n",
      "4\n",
      "5\n",
      "6\n",
      "7\n",
      "8\n",
      "9\n"
     ]
    }
   ],
   "source": [
    "for i in yrange(10):\n",
    "    print(i)"
   ]
  },
  {
   "cell_type": "markdown",
   "metadata": {
    "slideshow": {
     "slide_type": "subslide"
    }
   },
   "source": [
    "Wypróbujmy to z `next`:"
   ]
  },
  {
   "cell_type": "code",
   "execution_count": 111,
   "metadata": {
    "slideshow": {
     "slide_type": "fragment"
    }
   },
   "outputs": [],
   "source": [
    "y = yrange(3)"
   ]
  },
  {
   "cell_type": "code",
   "execution_count": 112,
   "metadata": {
    "slideshow": {
     "slide_type": "fragment"
    }
   },
   "outputs": [
    {
     "name": "stdout",
     "output_type": "stream",
     "text": [
      "<__main__.yrange object at 0x1044a9290>\n"
     ]
    }
   ],
   "source": [
    "print(y)"
   ]
  },
  {
   "cell_type": "code",
   "execution_count": 113,
   "metadata": {
    "slideshow": {
     "slide_type": "subslide"
    }
   },
   "outputs": [
    {
     "name": "stdout",
     "output_type": "stream",
     "text": [
      "0\n"
     ]
    }
   ],
   "source": [
    "print(next(y))"
   ]
  },
  {
   "cell_type": "code",
   "execution_count": 114,
   "metadata": {
    "slideshow": {
     "slide_type": "fragment"
    }
   },
   "outputs": [
    {
     "name": "stdout",
     "output_type": "stream",
     "text": [
      "1\n"
     ]
    }
   ],
   "source": [
    "print(next(y))"
   ]
  },
  {
   "cell_type": "code",
   "execution_count": 115,
   "metadata": {
    "slideshow": {
     "slide_type": "fragment"
    }
   },
   "outputs": [
    {
     "name": "stdout",
     "output_type": "stream",
     "text": [
      "2\n"
     ]
    }
   ],
   "source": [
    "print(next(y))"
   ]
  },
  {
   "cell_type": "code",
   "execution_count": 116,
   "metadata": {
    "slideshow": {
     "slide_type": "fragment"
    }
   },
   "outputs": [
    {
     "ename": "StopIteration",
     "evalue": "",
     "output_type": "error",
     "traceback": [
      "\u001b[0;31m---------------------------------------------------------------------------\u001b[0m",
      "\u001b[0;31mStopIteration\u001b[0m                             Traceback (most recent call last)",
      "Cell \u001b[0;32mIn[116], line 1\u001b[0m\n\u001b[0;32m----> 1\u001b[0m \u001b[38;5;28mprint\u001b[39m(\u001b[38;5;28;43mnext\u001b[39;49m\u001b[43m(\u001b[49m\u001b[43my\u001b[49m\u001b[43m)\u001b[49m)\n",
      "Cell \u001b[0;32mIn[108], line 15\u001b[0m, in \u001b[0;36myrange.__next__\u001b[0;34m(self)\u001b[0m\n\u001b[1;32m     13\u001b[0m     \u001b[38;5;28;01mreturn\u001b[39;00m i\n\u001b[1;32m     14\u001b[0m \u001b[38;5;28;01melse\u001b[39;00m:\n\u001b[0;32m---> 15\u001b[0m     \u001b[38;5;28;01mraise\u001b[39;00m \u001b[38;5;167;01mStopIteration\u001b[39;00m()\n",
      "\u001b[0;31mStopIteration\u001b[0m: "
     ]
    }
   ],
   "source": [
    "print(next(y))"
   ]
  },
  {
   "cell_type": "markdown",
   "metadata": {
    "slideshow": {
     "slide_type": "subslide"
    }
   },
   "source": [
    "Wiele funkcji wbudowanych akceptuje iteratory jako argumenty."
   ]
  },
  {
   "cell_type": "code",
   "execution_count": 117,
   "metadata": {
    "slideshow": {
     "slide_type": "fragment"
    }
   },
   "outputs": [
    {
     "name": "stdout",
     "output_type": "stream",
     "text": [
      "[0, 1, 2, 3, 4]\n"
     ]
    }
   ],
   "source": [
    "print(list(range(5)))"
   ]
  },
  {
   "cell_type": "code",
   "execution_count": 118,
   "metadata": {
    "slideshow": {
     "slide_type": "fragment"
    }
   },
   "outputs": [
    {
     "name": "stdout",
     "output_type": "stream",
     "text": [
      "[0, 1, 2, 3, 4]\n"
     ]
    }
   ],
   "source": [
    "print(list(yrange(5)))"
   ]
  },
  {
   "cell_type": "code",
   "execution_count": 119,
   "metadata": {
    "scrolled": true,
    "slideshow": {
     "slide_type": "fragment"
    }
   },
   "outputs": [
    {
     "name": "stdout",
     "output_type": "stream",
     "text": [
      "10\n"
     ]
    }
   ],
   "source": [
    "print(sum(range(5)))"
   ]
  },
  {
   "cell_type": "code",
   "execution_count": 120,
   "metadata": {
    "slideshow": {
     "slide_type": "fragment"
    }
   },
   "outputs": [
    {
     "name": "stdout",
     "output_type": "stream",
     "text": [
      "10\n"
     ]
    }
   ],
   "source": [
    "print(sum(yrange(5)))"
   ]
  },
  {
   "cell_type": "markdown",
   "metadata": {
    "slideshow": {
     "slide_type": "slide"
    }
   },
   "source": [
    "### Przykład generowania ciągu Fibonacciego i iteratorów"
   ]
  },
  {
   "cell_type": "code",
   "execution_count": 123,
   "metadata": {
    "slideshow": {
     "slide_type": "fragment"
    }
   },
   "outputs": [],
   "source": [
    "class Fibs:\n",
    "    def __init__(self, limit):\n",
    "        self.a = 0\n",
    "        self.b = 1\n",
    "        # nie chcemy tego w nieskończoność\n",
    "        self.limit = limit\n",
    "    \n",
    "    def __iter__(self):\n",
    "        return self\n",
    "\n",
    "    def __next__(self):\n",
    "        self.a, self.b = self.b, self.a + self.b\n",
    "        if self.a > self.limit:\n",
    "            raise StopIteration\n",
    "        return self.a"
   ]
  },
  {
   "cell_type": "markdown",
   "metadata": {
    "slideshow": {
     "slide_type": "fragment"
    }
   },
   "source": [
    "Wywołanie:"
   ]
  },
  {
   "cell_type": "code",
   "execution_count": 124,
   "metadata": {
    "slideshow": {
     "slide_type": "fragment"
    }
   },
   "outputs": [
    {
     "name": "stdout",
     "output_type": "stream",
     "text": [
      "[1, 1, 2, 3, 5, 8, 13, 21, 34, 55, 89]\n"
     ]
    }
   ],
   "source": [
    "print(list(Fibs(100)))"
   ]
  },
  {
   "cell_type": "markdown",
   "metadata": {
    "slideshow": {
     "slide_type": "slide"
    }
   },
   "source": [
    "## Ćwiczenia"
   ]
  },
  {
   "cell_type": "markdown",
   "metadata": {
    "slideshow": {
     "slide_type": "slide"
    }
   },
   "source": [
    "### Iteruj wartości krotki"
   ]
  },
  {
   "cell_type": "markdown",
   "metadata": {
    "slideshow": {
     "slide_type": "slide"
    }
   },
   "source": [
    "#### Ćwiczenie"
   ]
  },
  {
   "cell_type": "markdown",
   "metadata": {
    "slideshow": {
     "slide_type": "fragment"
    }
   },
   "source": [
    "Iteruj wartości krotki:"
   ]
  },
  {
   "cell_type": "code",
   "execution_count": 125,
   "metadata": {
    "slideshow": {
     "slide_type": "fragment"
    }
   },
   "outputs": [],
   "source": [
    "mytuple = (\"jabłko\", \"banan\", \"wiśnia\")"
   ]
  },
  {
   "cell_type": "markdown",
   "metadata": {
    "slideshow": {
     "slide_type": "fragment"
    }
   },
   "source": [
    "Podpowiedź: możemy również użyć pętli `for` do iteracji po iterowalnym obiekcie."
   ]
  },
  {
   "cell_type": "markdown",
   "metadata": {
    "slideshow": {
     "slide_type": "slide"
    }
   },
   "source": [
    "#### Rozwiązanie"
   ]
  },
  {
   "cell_type": "code",
   "execution_count": 126,
   "metadata": {
    "slideshow": {
     "slide_type": "fragment"
    }
   },
   "outputs": [
    {
     "name": "stdout",
     "output_type": "stream",
     "text": [
      "jabłko\n",
      "banan\n",
      "wiśnia\n"
     ]
    }
   ],
   "source": [
    "mytuple = (\"jabłko\", \"banan\", \"wiśnia\")\n",
    "\n",
    "for x in mytuple:\n",
    "    print(x)"
   ]
  },
  {
   "cell_type": "markdown",
   "metadata": {
    "slideshow": {
     "slide_type": "slide"
    }
   },
   "source": [
    "### Wykonaj iterację znaków łańcucha"
   ]
  },
  {
   "cell_type": "markdown",
   "metadata": {
    "slideshow": {
     "slide_type": "slide"
    }
   },
   "source": [
    "#### Ćwiczenie"
   ]
  },
  {
   "cell_type": "markdown",
   "metadata": {
    "slideshow": {
     "slide_type": "fragment"
    }
   },
   "source": [
    "Wykonaj iterację znaków łańcucha:"
   ]
  },
  {
   "cell_type": "code",
   "execution_count": 127,
   "metadata": {
    "slideshow": {
     "slide_type": "fragment"
    }
   },
   "outputs": [],
   "source": [
    "mystr = \"banan\""
   ]
  },
  {
   "cell_type": "markdown",
   "metadata": {
    "slideshow": {
     "slide_type": "slide"
    }
   },
   "source": [
    "#### Rozwiązanie"
   ]
  },
  {
   "cell_type": "code",
   "execution_count": 128,
   "metadata": {
    "slideshow": {
     "slide_type": "fragment"
    }
   },
   "outputs": [
    {
     "name": "stdout",
     "output_type": "stream",
     "text": [
      "b\n",
      "a\n",
      "n\n",
      "a\n",
      "n\n"
     ]
    }
   ],
   "source": [
    "mystr = \"banan\"\n",
    "\n",
    "for x in mystr:\n",
    "    print(x)"
   ]
  },
  {
   "cell_type": "markdown",
   "metadata": {
    "slideshow": {
     "slide_type": "fragment"
    }
   },
   "source": [
    "Pętla `for` faktycznie tworzy obiekt iteratora i wykonuje metodę `next()` dla każdej pętli."
   ]
  },
  {
   "cell_type": "markdown",
   "metadata": {
    "slideshow": {
     "slide_type": "slide"
    }
   },
   "source": [
    "### Zwróć iterator z krotki i wydrukuj każdą wartość"
   ]
  },
  {
   "cell_type": "markdown",
   "metadata": {
    "slideshow": {
     "slide_type": "slide"
    }
   },
   "source": [
    "#### Ćwiczenie"
   ]
  },
  {
   "cell_type": "markdown",
   "metadata": {
    "slideshow": {
     "slide_type": "fragment"
    }
   },
   "source": [
    "Zwróć iterator z krotki i wydrukuj każdą wartość:"
   ]
  },
  {
   "cell_type": "code",
   "execution_count": 129,
   "metadata": {
    "slideshow": {
     "slide_type": "fragment"
    }
   },
   "outputs": [],
   "source": [
    "mytuple = (\"jabłko\", \"banan\", \"wiśnia\")"
   ]
  },
  {
   "cell_type": "code",
   "execution_count": 130,
   "metadata": {
    "slideshow": {
     "slide_type": "fragment"
    }
   },
   "outputs": [
    {
     "name": "stdout",
     "output_type": "stream",
     "text": [
      "('jabłko', 'banan', 'wiśnia')\n"
     ]
    }
   ],
   "source": [
    "print(mytuple)"
   ]
  },
  {
   "cell_type": "markdown",
   "metadata": {
    "slideshow": {
     "slide_type": "fragment"
    }
   },
   "source": [
    "Podpowiedź: listy, krotki, słowniki i zbiory są obiektami iterowalnymi. Są to iterowalne kontenery, z których można uzyskać iterator. Wszystkie te obiekty mają metodę `iter()`, która jest używana do uzyskania iteratora, jak w naszym ćwiczeniu..."
   ]
  },
  {
   "cell_type": "markdown",
   "metadata": {
    "slideshow": {
     "slide_type": "slide"
    }
   },
   "source": [
    "#### Rozwiązanie"
   ]
  },
  {
   "cell_type": "code",
   "execution_count": 131,
   "metadata": {
    "slideshow": {
     "slide_type": "fragment"
    }
   },
   "outputs": [
    {
     "name": "stdout",
     "output_type": "stream",
     "text": [
      "jabłko\n",
      "banan\n",
      "wiśnia\n"
     ]
    }
   ],
   "source": [
    "mytuple = (\"jabłko\", \"banan\", \"wiśnia\")\n",
    "myit = iter(mytuple)\n",
    "\n",
    "print(next(myit))\n",
    "print(next(myit))\n",
    "print(next(myit))"
   ]
  },
  {
   "cell_type": "markdown",
   "metadata": {
    "slideshow": {
     "slide_type": "slide"
    }
   },
   "source": [
    "### Zwróć iterator ze `str`inga (łańcucha, ciągu znaków) i wydrukuj każdą wartość"
   ]
  },
  {
   "cell_type": "markdown",
   "metadata": {
    "slideshow": {
     "slide_type": "slide"
    }
   },
   "source": [
    "#### Ćwiczenie"
   ]
  },
  {
   "cell_type": "markdown",
   "metadata": {
    "slideshow": {
     "slide_type": "fragment"
    }
   },
   "source": [
    "Zwróć iterator ze `str`inga (łańcucha, ciągu znaków) i wydrukuj każdą wartość:"
   ]
  },
  {
   "cell_type": "code",
   "execution_count": 132,
   "metadata": {
    "slideshow": {
     "slide_type": "fragment"
    }
   },
   "outputs": [],
   "source": [
    "mystr = \"banan\""
   ]
  },
  {
   "cell_type": "markdown",
   "metadata": {
    "slideshow": {
     "slide_type": "fragment"
    }
   },
   "source": [
    "Podpowiedź: nawet ciągi znaków są obiektami iterowalnymi i mogą zwracać iterator. Łańcuchy są również obiektami iterowalnymi, zawierającymi sekwencję znaków."
   ]
  },
  {
   "cell_type": "markdown",
   "metadata": {
    "slideshow": {
     "slide_type": "slide"
    }
   },
   "source": [
    "#### Rozwiązanie"
   ]
  },
  {
   "cell_type": "code",
   "execution_count": 133,
   "metadata": {
    "slideshow": {
     "slide_type": "fragment"
    }
   },
   "outputs": [
    {
     "name": "stdout",
     "output_type": "stream",
     "text": [
      "b\n",
      "a\n",
      "n\n",
      "a\n",
      "n\n"
     ]
    }
   ],
   "source": [
    "mystr = \"banan\"\n",
    "myit = iter(mystr)\n",
    "\n",
    "print(next(myit))\n",
    "print(next(myit))\n",
    "print(next(myit))\n",
    "print(next(myit))\n",
    "print(next(myit))"
   ]
  },
  {
   "cell_type": "markdown",
   "metadata": {
    "slideshow": {
     "slide_type": "slide"
    }
   },
   "source": [
    "### Utwórz iterator"
   ]
  },
  {
   "cell_type": "markdown",
   "metadata": {
    "slideshow": {
     "slide_type": "slide"
    }
   },
   "source": [
    "#### Ćwiczenie"
   ]
  },
  {
   "cell_type": "markdown",
   "metadata": {
    "slideshow": {
     "slide_type": "fragment"
    }
   },
   "source": [
    "Utwórz iterator, który zwraca liczby, zaczynając od `1`, a każda sekwencja wzrośnie o jeden (zwracając `1`, `2`, `3`, `4`, `5` itd.)."
   ]
  },
  {
   "cell_type": "markdown",
   "metadata": {
    "slideshow": {
     "slide_type": "fragment"
    }
   },
   "source": [
    "Podpowiedź: aby stworzyć obiekt/klasę jako iterator, musisz zaimplementować metody `__iter__()` i `__next__()` do swojego obiektu. Jak dowiedziałeś się z części kursu o klasach/obiektach Pythona, wszystkie klasy mają funkcję o nazwie `__init__()`, która pozwala na wykonanie inicjalizacji podczas tworzenia obiektu. Metoda `__iter__()` działa podobnie, możesz wykonywać operacje (inicjowanie itp.), ale zawsze musi zwrócić sam obiekt iteratora. Metoda `__next__()` również umożliwia wykonywanie operacji i musi zwrócić następny element w sekwencji."
   ]
  },
  {
   "cell_type": "markdown",
   "metadata": {
    "slideshow": {
     "slide_type": "slide"
    }
   },
   "source": [
    "#### Rozwiązanie"
   ]
  },
  {
   "cell_type": "code",
   "execution_count": 134,
   "metadata": {
    "slideshow": {
     "slide_type": "fragment"
    }
   },
   "outputs": [
    {
     "name": "stdout",
     "output_type": "stream",
     "text": [
      "1\n",
      "2\n",
      "3\n",
      "4\n",
      "5\n"
     ]
    }
   ],
   "source": [
    "class MyNumbers:\n",
    "    def __iter__(self):\n",
    "        self.a = 1\n",
    "        return self\n",
    "\n",
    "    def __next__(self):\n",
    "        x = self.a\n",
    "        self.a += 1 \n",
    "        return x\n",
    "\n",
    "myclass = MyNumbers()\n",
    "myiter = iter(myclass)\n",
    "\n",
    "print(next(myiter))\n",
    "print(next(myiter))\n",
    "print(next(myiter))\n",
    "print(next(myiter))\n",
    "print(next(myiter))"
   ]
  },
  {
   "cell_type": "markdown",
   "metadata": {
    "slideshow": {
     "slide_type": "slide"
    }
   },
   "source": [
    "### `StopIteration`"
   ]
  },
  {
   "cell_type": "markdown",
   "metadata": {
    "slideshow": {
     "slide_type": "slide"
    }
   },
   "source": [
    "#### Ćwiczenie"
   ]
  },
  {
   "cell_type": "markdown",
   "metadata": {
    "slideshow": {
     "slide_type": "fragment"
    }
   },
   "source": [
    "Powyższy przykład trwałby wiecznie, gdybyś miał wystarczająco dużo instrukcji `next()` lub gdyby został użyty w pętli `for`.\n",
    "\n",
    "Aby zapobiec wiecznej iteracji, możemy użyć instrukcji `raise StopIteration`.\n",
    "\n",
    "Zatrzymaj po `20` iteracjach."
   ]
  },
  {
   "cell_type": "markdown",
   "metadata": {
    "slideshow": {
     "slide_type": "fragment"
    }
   },
   "source": [
    "Podpowiedź: w metodzie `__next__()` możemy dodać warunek kończący, aby zgłosić błąd, jeśli iteracja zostanie wykonana określoną liczbę razy."
   ]
  },
  {
   "cell_type": "markdown",
   "metadata": {
    "slideshow": {
     "slide_type": "slide"
    }
   },
   "source": [
    "#### Rozwiązanie"
   ]
  },
  {
   "cell_type": "code",
   "execution_count": 135,
   "metadata": {
    "slideshow": {
     "slide_type": "subslide"
    }
   },
   "outputs": [
    {
     "name": "stdout",
     "output_type": "stream",
     "text": [
      "1 2 3 4 5 6 7 8 9 10 11 12 13 14 15 16 17 18 19 20 "
     ]
    }
   ],
   "source": [
    "class MyNumbers:\n",
    "    def __iter__(self):\n",
    "        self.a = 1\n",
    "        return self\n",
    "\n",
    "    def __next__(self):\n",
    "        if self.a <= 20:\n",
    "            x = self.a\n",
    "            self.a += 1\n",
    "            return x\n",
    "        else:\n",
    "            raise StopIteration\n",
    "\n",
    "myclass = MyNumbers()\n",
    "myiter = iter(myclass)\n",
    "\n",
    "for x in myiter:\n",
    "    print(x, end=\" \")"
   ]
  },
  {
   "cell_type": "markdown",
   "metadata": {
    "slideshow": {
     "slide_type": "slide"
    }
   },
   "source": [
    "### Tasowanie kart"
   ]
  },
  {
   "cell_type": "markdown",
   "metadata": {
    "slideshow": {
     "slide_type": "slide"
    }
   },
   "source": [
    "#### Ćwiczenie"
   ]
  },
  {
   "cell_type": "markdown",
   "metadata": {
    "slideshow": {
     "slide_type": "fragment"
    }
   },
   "source": [
    "**Część 1**: stwórz klasę kart (`Card`). Pamiętaj, karty mają dwa atrybuty: wartość (2, 3, 4, 5, 6, 7, 8, 9, 10, J, Q, K, A) i kolor (pik, kier, trefl, karo). Stwórz metodę `__str__` zwracającą string karty typu \"2 karo\", jako \"Karta 2♦\", ale już karty typu \"2 dzwonek\", jako \"Karta 2 dzwonek\". Stwórz metodę `__repr__` zwracającą reprezentację, jako string w otoczeniu znaków \"<>\".\n",
    "\n",
    "**Część 2**: stwórz klasę stosu kart (`Deck`), która w metodzie `__init__` będzie generowała listę (na razie posortowaną) całego stosu kart (52 karty).\n",
    "\n",
    "**Część 3**: Dodaj tasowanie stosu kart. Stwórz metodę `shuffle_cards`, która tasowała będzie w miejscu cały stos kart (możesz użyć funkcji `random.shuffle(x)`, która tasuje sekwencję `x` na miejscu).\n",
    "\n",
    "**Część 4**: napisz metodę `__iter__`, która zwróci iterator. Czy musisz tworzyć sam klasę iteratora? Czy możesz użyć iterator dla innego typu danych?"
   ]
  },
  {
   "cell_type": "code",
   "execution_count": null,
   "metadata": {
    "slideshow": {
     "slide_type": "subslide"
    }
   },
   "outputs": [],
   "source": [
    "znaki = {\n",
    "    \"karo\": \"♦\",\n",
    "    \"kier\": \"♥\",\n",
    "    \"pik\": \"♠\",\n",
    "    \"trefl\": \"♣\",\n",
    "}"
   ]
  },
  {
   "cell_type": "markdown",
   "metadata": {
    "slideshow": {
     "slide_type": "slide"
    }
   },
   "source": [
    "#### Rozwiązanie (część 1)"
   ]
  },
  {
   "cell_type": "code",
   "execution_count": 136,
   "metadata": {
    "slideshow": {
     "slide_type": "fragment"
    }
   },
   "outputs": [],
   "source": [
    "class Card:\n",
    "    def __init__(self, wartosc, kolor):\n",
    "        self.wartosc = wartosc\n",
    "        self.kolor = kolor\n",
    "\n",
    "    def __str__(self):\n",
    "        znaki = {\n",
    "            \"karo\": \"♦\",\n",
    "            \"kier\": \"♥\",\n",
    "            \"pik\": \"♠\",\n",
    "            \"trefl\": \"♣\",\n",
    "        }\n",
    "        if self.kolor in znaki:\n",
    "            return f\"Karta {self.wartosc}{znaki[self.kolor]}\"\n",
    "        else:\n",
    "            return f\"Karta {self.wartosc} {self.kolor}\"\n",
    "\n",
    "    def __repr__(self):\n",
    "        return f\"<{str(self)}>\""
   ]
  },
  {
   "cell_type": "markdown",
   "metadata": {
    "slideshow": {
     "slide_type": "subslide"
    }
   },
   "source": [
    "Testowanie:"
   ]
  },
  {
   "cell_type": "code",
   "execution_count": 137,
   "metadata": {
    "slideshow": {
     "slide_type": "fragment"
    }
   },
   "outputs": [],
   "source": [
    "c1 = Card(2, \"karo\")"
   ]
  },
  {
   "cell_type": "code",
   "execution_count": 138,
   "metadata": {
    "slideshow": {
     "slide_type": "fragment"
    }
   },
   "outputs": [
    {
     "name": "stdout",
     "output_type": "stream",
     "text": [
      "Karta 2♦\n"
     ]
    }
   ],
   "source": [
    "print(c1)  # __str__"
   ]
  },
  {
   "cell_type": "code",
   "execution_count": 139,
   "metadata": {
    "slideshow": {
     "slide_type": "fragment"
    }
   },
   "outputs": [
    {
     "name": "stdout",
     "output_type": "stream",
     "text": [
      "<Karta 2♦>\n"
     ]
    }
   ],
   "source": [
    "print(repr(c1))  # __repr__"
   ]
  },
  {
   "cell_type": "code",
   "execution_count": 140,
   "metadata": {
    "slideshow": {
     "slide_type": "fragment"
    }
   },
   "outputs": [],
   "source": [
    "c2 = Card(3, \"dzwonek\")"
   ]
  },
  {
   "cell_type": "code",
   "execution_count": 141,
   "metadata": {
    "slideshow": {
     "slide_type": "fragment"
    }
   },
   "outputs": [
    {
     "name": "stdout",
     "output_type": "stream",
     "text": [
      "Karta 3 dzwonek\n"
     ]
    }
   ],
   "source": [
    "print(c2)  # __str__"
   ]
  },
  {
   "cell_type": "code",
   "execution_count": 142,
   "metadata": {
    "slideshow": {
     "slide_type": "fragment"
    }
   },
   "outputs": [
    {
     "name": "stdout",
     "output_type": "stream",
     "text": [
      "<Karta 3 dzwonek>\n"
     ]
    }
   ],
   "source": [
    "print(repr(c2))  # __repr__"
   ]
  },
  {
   "cell_type": "markdown",
   "metadata": {
    "slideshow": {
     "slide_type": "slide"
    }
   },
   "source": [
    "#### Rozwiązanie (część 2)"
   ]
  },
  {
   "cell_type": "code",
   "execution_count": 143,
   "metadata": {
    "slideshow": {
     "slide_type": "fragment"
    }
   },
   "outputs": [],
   "source": [
    "class Deck:\n",
    "    def __init__(self):\n",
    "        wartosci = [\"2\", \"3\", \"4\", \"5\", \"6\", \"7\", \"8\", \"9\", \"10\",\n",
    "                    \"J\", \"Q\", \"K\", \"A\"]\n",
    "        kolory = [\"karo\", \"kier\", \"pik\", \"trefl\"]\n",
    "\n",
    "        # wygenerowana talia kart: 2♦, 3♦, 4♦, ..., K♣, A♣\n",
    "        self.stos = [\n",
    "            Card(wartosc, kolor)\n",
    "            for kolor in kolory\n",
    "            for wartosc in wartosci\n",
    "        ]"
   ]
  },
  {
   "cell_type": "markdown",
   "metadata": {
    "slideshow": {
     "slide_type": "subslide"
    }
   },
   "source": [
    "Testowanie:"
   ]
  },
  {
   "cell_type": "code",
   "execution_count": 144,
   "metadata": {
    "slideshow": {
     "slide_type": "fragment"
    }
   },
   "outputs": [],
   "source": [
    "talia = Deck()"
   ]
  },
  {
   "cell_type": "code",
   "execution_count": 145,
   "metadata": {
    "slideshow": {
     "slide_type": "fragment"
    }
   },
   "outputs": [
    {
     "name": "stdout",
     "output_type": "stream",
     "text": [
      "[<Karta 2♦>, <Karta 3♦>, <Karta 4♦>, <Karta 5♦>, <Karta 6♦>, <Karta 7♦>, <Karta 8♦>, <Karta 9♦>, <Karta 10♦>, <Karta J♦>, <Karta Q♦>, <Karta K♦>, <Karta A♦>, <Karta 2♥>, <Karta 3♥>, <Karta 4♥>, <Karta 5♥>, <Karta 6♥>, <Karta 7♥>, <Karta 8♥>, <Karta 9♥>, <Karta 10♥>, <Karta J♥>, <Karta Q♥>, <Karta K♥>, <Karta A♥>, <Karta 2♠>, <Karta 3♠>, <Karta 4♠>, <Karta 5♠>, <Karta 6♠>, <Karta 7♠>, <Karta 8♠>, <Karta 9♠>, <Karta 10♠>, <Karta J♠>, <Karta Q♠>, <Karta K♠>, <Karta A♠>, <Karta 2♣>, <Karta 3♣>, <Karta 4♣>, <Karta 5♣>, <Karta 6♣>, <Karta 7♣>, <Karta 8♣>, <Karta 9♣>, <Karta 10♣>, <Karta J♣>, <Karta Q♣>, <Karta K♣>, <Karta A♣>]\n"
     ]
    }
   ],
   "source": [
    "print(talia.stos)"
   ]
  },
  {
   "cell_type": "markdown",
   "metadata": {
    "slideshow": {
     "slide_type": "slide"
    }
   },
   "source": [
    "#### Rozwiązanie (część 3)"
   ]
  },
  {
   "cell_type": "code",
   "execution_count": 146,
   "metadata": {
    "slideshow": {
     "slide_type": "fragment"
    }
   },
   "outputs": [],
   "source": [
    "import random\n",
    "\n",
    "class Deck:\n",
    "    def __init__(self):\n",
    "        wartosci = [\"2\", \"3\", \"4\", \"5\", \"6\", \"7\", \"8\", \"9\", \"10\",\n",
    "                    \"J\", \"Q\", \"K\", \"A\"]\n",
    "        kolory = [\"karo\", \"kier\", \"pik\", \"trefl\"]\n",
    "\n",
    "        # wygenerowana talia kart: 2♦, 3♦, 4♦, ..., K♣, A♣\n",
    "        self.stos = [\n",
    "            Card(wartosc, kolor)\n",
    "            for kolor in kolory\n",
    "            for wartosc in wartosci\n",
    "        ]\n",
    "\n",
    "        # tasowanie kart odbywa się w miejscu, tzn. random.shuffle\n",
    "        # zmienia listę podaną jako argument, ale jej nie musi zwracać\n",
    "        # random.shuffle(self.stos)\n",
    "    def shuffle_cards(self):\n",
    "        random.shuffle(self.stos)"
   ]
  },
  {
   "cell_type": "markdown",
   "metadata": {
    "slideshow": {
     "slide_type": "subslide"
    }
   },
   "source": [
    "Testowanie (**uwaga - kolejność kart będzie każdorazowo losowa**):"
   ]
  },
  {
   "cell_type": "code",
   "execution_count": 147,
   "metadata": {
    "slideshow": {
     "slide_type": "fragment"
    }
   },
   "outputs": [],
   "source": [
    "talia = Deck()"
   ]
  },
  {
   "cell_type": "code",
   "execution_count": 148,
   "metadata": {
    "slideshow": {
     "slide_type": "fragment"
    }
   },
   "outputs": [
    {
     "name": "stdout",
     "output_type": "stream",
     "text": [
      "[<Karta 2♦>, <Karta 3♦>, <Karta 4♦>, <Karta 5♦>, <Karta 6♦>, <Karta 7♦>, <Karta 8♦>, <Karta 9♦>, <Karta 10♦>, <Karta J♦>, <Karta Q♦>, <Karta K♦>, <Karta A♦>, <Karta 2♥>, <Karta 3♥>, <Karta 4♥>, <Karta 5♥>, <Karta 6♥>, <Karta 7♥>, <Karta 8♥>, <Karta 9♥>, <Karta 10♥>, <Karta J♥>, <Karta Q♥>, <Karta K♥>, <Karta A♥>, <Karta 2♠>, <Karta 3♠>, <Karta 4♠>, <Karta 5♠>, <Karta 6♠>, <Karta 7♠>, <Karta 8♠>, <Karta 9♠>, <Karta 10♠>, <Karta J♠>, <Karta Q♠>, <Karta K♠>, <Karta A♠>, <Karta 2♣>, <Karta 3♣>, <Karta 4♣>, <Karta 5♣>, <Karta 6♣>, <Karta 7♣>, <Karta 8♣>, <Karta 9♣>, <Karta 10♣>, <Karta J♣>, <Karta Q♣>, <Karta K♣>, <Karta A♣>]\n"
     ]
    }
   ],
   "source": [
    "print(talia.stos)"
   ]
  },
  {
   "cell_type": "code",
   "execution_count": 153,
   "metadata": {
    "slideshow": {
     "slide_type": "fragment"
    }
   },
   "outputs": [],
   "source": [
    "talia.shuffle_cards()"
   ]
  },
  {
   "cell_type": "code",
   "execution_count": 154,
   "metadata": {
    "slideshow": {
     "slide_type": "fragment"
    }
   },
   "outputs": [
    {
     "name": "stdout",
     "output_type": "stream",
     "text": [
      "[<Karta K♦>, <Karta 6♣>, <Karta 7♥>, <Karta A♣>, <Karta 3♥>, <Karta 8♥>, <Karta 4♣>, <Karta 3♠>, <Karta 9♥>, <Karta 5♠>, <Karta J♠>, <Karta Q♥>, <Karta 9♠>, <Karta K♠>, <Karta A♥>, <Karta 6♦>, <Karta 5♦>, <Karta Q♠>, <Karta 5♥>, <Karta 8♣>, <Karta K♣>, <Karta 2♥>, <Karta J♣>, <Karta 3♣>, <Karta 6♠>, <Karta A♦>, <Karta 9♣>, <Karta 8♦>, <Karta 10♠>, <Karta J♥>, <Karta 9♦>, <Karta 10♦>, <Karta 10♣>, <Karta K♥>, <Karta 7♠>, <Karta 3♦>, <Karta 2♠>, <Karta A♠>, <Karta 4♠>, <Karta Q♣>, <Karta 6♥>, <Karta 8♠>, <Karta 10♥>, <Karta 4♥>, <Karta Q♦>, <Karta 5♣>, <Karta 7♣>, <Karta 4♦>, <Karta 7♦>, <Karta 2♦>, <Karta 2♣>, <Karta J♦>]\n"
     ]
    }
   ],
   "source": [
    "print(talia.stos)"
   ]
  },
  {
   "cell_type": "markdown",
   "metadata": {
    "slideshow": {
     "slide_type": "slide"
    }
   },
   "source": [
    "#### Rozwiązanie (część 4)"
   ]
  },
  {
   "cell_type": "code",
   "execution_count": 155,
   "metadata": {
    "slideshow": {
     "slide_type": "fragment"
    }
   },
   "outputs": [],
   "source": [
    "import random\n",
    "\n",
    "class Deck:\n",
    "    def __init__(self):\n",
    "        wartosci = [\"2\", \"3\", \"4\", \"5\", \"6\", \"7\", \"8\", \"9\", \"10\",\n",
    "                    \"J\", \"Q\", \"K\", \"A\"]\n",
    "        kolory = [\"karo\", \"kier\", \"pik\", \"trefl\"]\n",
    "\n",
    "        # wygenerowana talia kart: 2♦, 3♦, 4♦, ..., K♣, A♣\n",
    "        self.stos = [\n",
    "            Card(wartosc, kolor)\n",
    "            for kolor in kolory\n",
    "            for wartosc in wartosci\n",
    "        ]\n",
    "\n",
    "        # tasowanie kart odbywa się w miejscu, tzn. random.shuffle\n",
    "        # zmienia listę podaną jako argument, ale jej nie musi zwracać\n",
    "        # random.shuffle(self.stos)\n",
    "    def shuffle_cards(self):\n",
    "        random.shuffle(self.stos)\n",
    "\n",
    "    def __iter__(self):\n",
    "        # zamiast męczyć się z pisaniem własnego iteratora, zastosujmy\n",
    "        # iterator wbudowany w Pythona: iterator po liście, która zawiera\n",
    "        # naszą talię kart\n",
    "        return iter(self.stos)"
   ]
  },
  {
   "cell_type": "markdown",
   "metadata": {
    "slideshow": {
     "slide_type": "subslide"
    }
   },
   "source": [
    "Testowanie:"
   ]
  },
  {
   "cell_type": "code",
   "execution_count": 156,
   "metadata": {
    "slideshow": {
     "slide_type": "subslide"
    }
   },
   "outputs": [],
   "source": [
    "talia = Deck()"
   ]
  },
  {
   "cell_type": "code",
   "execution_count": 157,
   "metadata": {
    "slideshow": {
     "slide_type": "fragment"
    }
   },
   "outputs": [
    {
     "name": "stdout",
     "output_type": "stream",
     "text": [
      "Karta 2♦\n",
      "Karta 3♦\n",
      "Karta 4♦\n",
      "Karta 5♦\n",
      "Karta 6♦\n",
      "Karta 7♦\n",
      "Karta 8♦\n",
      "Karta 9♦\n",
      "Karta 10♦\n",
      "Karta J♦\n",
      "Karta Q♦\n",
      "Karta K♦\n",
      "Karta A♦\n",
      "Karta 2♥\n",
      "Karta 3♥\n",
      "Karta 4♥\n",
      "Karta 5♥\n",
      "Karta 6♥\n",
      "Karta 7♥\n",
      "Karta 8♥\n",
      "Karta 9♥\n",
      "Karta 10♥\n",
      "Karta J♥\n",
      "Karta Q♥\n",
      "Karta K♥\n",
      "Karta A♥\n",
      "Karta 2♠\n",
      "Karta 3♠\n",
      "Karta 4♠\n",
      "Karta 5♠\n",
      "Karta 6♠\n",
      "Karta 7♠\n",
      "Karta 8♠\n",
      "Karta 9♠\n",
      "Karta 10♠\n",
      "Karta J♠\n",
      "Karta Q♠\n",
      "Karta K♠\n",
      "Karta A♠\n",
      "Karta 2♣\n",
      "Karta 3♣\n",
      "Karta 4♣\n",
      "Karta 5♣\n",
      "Karta 6♣\n",
      "Karta 7♣\n",
      "Karta 8♣\n",
      "Karta 9♣\n",
      "Karta 10♣\n",
      "Karta J♣\n",
      "Karta Q♣\n",
      "Karta K♣\n",
      "Karta A♣\n"
     ]
    }
   ],
   "source": [
    "for karta in talia:\n",
    "    print(karta)"
   ]
  },
  {
   "cell_type": "code",
   "execution_count": 160,
   "metadata": {
    "slideshow": {
     "slide_type": "subslide"
    }
   },
   "outputs": [],
   "source": [
    "talia.shuffle_cards()"
   ]
  },
  {
   "cell_type": "code",
   "execution_count": 161,
   "metadata": {
    "scrolled": true,
    "slideshow": {
     "slide_type": "fragment"
    }
   },
   "outputs": [
    {
     "name": "stdout",
     "output_type": "stream",
     "text": [
      "Karta Q♣\n",
      "Karta 9♦\n",
      "Karta 8♦\n",
      "Karta 9♥\n",
      "Karta 4♣\n",
      "Karta 6♣\n",
      "Karta 7♠\n",
      "Karta J♠\n",
      "Karta 7♥\n",
      "Karta A♥\n",
      "Karta A♦\n",
      "Karta 10♦\n",
      "Karta K♣\n",
      "Karta 7♦\n",
      "Karta K♦\n",
      "Karta 4♠\n",
      "Karta 3♦\n",
      "Karta 2♥\n",
      "Karta K♥\n",
      "Karta 9♠\n",
      "Karta 5♥\n",
      "Karta Q♠\n",
      "Karta 2♠\n",
      "Karta 2♦\n",
      "Karta Q♥\n",
      "Karta 8♥\n",
      "Karta 3♥\n",
      "Karta 10♥\n",
      "Karta K♠\n",
      "Karta 7♣\n",
      "Karta 10♠\n",
      "Karta 8♠\n",
      "Karta 3♣\n",
      "Karta 8♣\n",
      "Karta 5♦\n",
      "Karta 5♣\n",
      "Karta Q♦\n",
      "Karta A♠\n",
      "Karta 6♥\n",
      "Karta 6♦\n",
      "Karta 2♣\n",
      "Karta J♦\n",
      "Karta J♣\n",
      "Karta A♣\n",
      "Karta J♥\n",
      "Karta 9♣\n",
      "Karta 10♣\n",
      "Karta 4♦\n",
      "Karta 3♠\n",
      "Karta 5♠\n",
      "Karta 4♥\n",
      "Karta 6♠\n"
     ]
    }
   ],
   "source": [
    "for karta in talia:\n",
    "    print(karta)"
   ]
  },
  {
   "cell_type": "code",
   "execution_count": null,
   "metadata": {
    "slideshow": {
     "slide_type": "skip"
    }
   },
   "outputs": [],
   "source": []
  }
 ],
 "metadata": {
  "celltoolbar": "Slideshow",
  "kernelspec": {
   "display_name": "Python 3 (ipykernel)",
   "language": "python",
   "name": "python3"
  },
  "language_info": {
   "codemirror_mode": {
    "name": "ipython",
    "version": 3
   },
   "file_extension": ".py",
   "mimetype": "text/x-python",
   "name": "python",
   "nbconvert_exporter": "python",
   "pygments_lexer": "ipython3",
   "version": "3.11.5"
  }
 },
 "nbformat": 4,
 "nbformat_minor": 4
}
